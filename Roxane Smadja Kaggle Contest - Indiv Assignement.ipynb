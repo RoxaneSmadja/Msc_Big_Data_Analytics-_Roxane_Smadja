{
 "cells": [
  {
   "cell_type": "markdown",
   "metadata": {},
   "source": [
    "### Kaggle competition - Roxane Smadja"
   ]
  },
  {
   "cell_type": "markdown",
   "metadata": {},
   "source": [
    "# Install packages"
   ]
  },
  {
   "cell_type": "code",
   "execution_count": 2,
   "metadata": {},
   "outputs": [
    {
     "name": "stderr",
     "output_type": "stream",
     "text": [
      "Warning message:\n",
      "\"package 'caret' was built under R version 3.6.3\"Loading required package: lattice\n",
      "Warning message:\n",
      "\"package 'lattice' was built under R version 3.6.3\"Loading required package: ggplot2\n",
      "Warning message:\n",
      "\"package 'ggplot2' was built under R version 3.6.3\"Warning message:\n",
      "\"package 'cattonum' was built under R version 3.6.3\"cattonum is seeking a new maintainer; please respond if interested: https://github.com/bfgray3/cattonum/issues/40\n"
     ]
    },
    {
     "name": "stdout",
     "output_type": "stream",
     "text": [
      "package 'tidyverse' successfully unpacked and MD5 sums checked\n",
      "\n",
      "The downloaded binary packages are in\n",
      "\tC:\\Users\\rsmadja\\AppData\\Local\\Temp\\RtmpKuq4Y7\\downloaded_packages\n"
     ]
    },
    {
     "name": "stderr",
     "output_type": "stream",
     "text": [
      "Warning message:\n",
      "\"package 'tidyverse' was built under R version 3.6.3\"-- Attaching packages --------------------------------------- tidyverse 1.3.0 --\n",
      "v tibble  3.0.3     v dplyr   1.0.5\n",
      "v tidyr   1.1.3     v stringr 1.4.0\n",
      "v readr   1.4.0     v forcats 0.5.0\n",
      "v purrr   0.3.4     \n",
      "Warning message:\n",
      "\"package 'tibble' was built under R version 3.6.3\"Warning message:\n",
      "\"package 'tidyr' was built under R version 3.6.3\"Warning message:\n",
      "\"package 'readr' was built under R version 3.6.3\"Warning message:\n",
      "\"package 'purrr' was built under R version 3.6.3\"Warning message:\n",
      "\"package 'dplyr' was built under R version 3.6.3\"Warning message:\n",
      "\"package 'stringr' was built under R version 3.6.3\"Warning message:\n",
      "\"package 'forcats' was built under R version 3.6.3\"-- Conflicts ------------------------------------------ tidyverse_conflicts() --\n",
      "x dplyr::filter() masks stats::filter()\n",
      "x dplyr::lag()    masks stats::lag()\n",
      "x purrr::lift()   masks caret::lift()\n",
      "Warning message:\n",
      "\"package 'leaps' was built under R version 3.6.3\"Warning message:\n",
      "\"package 'MASS' was built under R version 3.6.3\"\n",
      "Attaching package: 'MASS'\n",
      "\n",
      "The following object is masked from 'package:dplyr':\n",
      "\n",
      "    select\n",
      "\n",
      "Warning message:\n",
      "\"package 'pROC' was built under R version 3.6.3\"Type 'citation(\"pROC\")' for a citation.\n",
      "\n",
      "Attaching package: 'pROC'\n",
      "\n",
      "The following objects are masked from 'package:stats':\n",
      "\n",
      "    cov, smooth, var\n",
      "\n",
      "Warning message:\n",
      "\"package 'e1071' was built under R version 3.6.3\"Warning message:\n",
      "\"package 'rpart.plot' was built under R version 3.6.3\"Loading required package: rpart\n",
      "Warning message:\n",
      "\"package 'rpart' was built under R version 3.6.3\""
     ]
    }
   ],
   "source": [
    "library(caret)\n",
    "library(cattonum)\n",
    "install.packages(\"tidyverse\")\n",
    "library(tidyverse)\n",
    "library(leaps)\n",
    "library(MASS)\n",
    "library(pROC)\n",
    "library(e1071)\n",
    "library(rpart.plot)"
   ]
  },
  {
   "cell_type": "code",
   "execution_count": 144,
   "metadata": {},
   "outputs": [],
   "source": [
    "\n",
    "library(ROCR)"
   ]
  },
  {
   "cell_type": "code",
   "execution_count": 3,
   "metadata": {},
   "outputs": [
    {
     "name": "stderr",
     "output_type": "stream",
     "text": [
      "Warning message:\n",
      "\"package 'dplyr' is in use and will not be installed\""
     ]
    }
   ],
   "source": [
    "install.packages(\"dplyr\")\n",
    "library(dplyr)"
   ]
  },
  {
   "cell_type": "code",
   "execution_count": 4,
   "metadata": {},
   "outputs": [
    {
     "name": "stderr",
     "output_type": "stream",
     "text": [
      "Warning message:\n",
      "\"package 'caret' is in use and will not be installed\""
     ]
    }
   ],
   "source": [
    "install.packages(\"caret\")\n",
    "library(caret)"
   ]
  },
  {
   "cell_type": "markdown",
   "metadata": {},
   "source": [
    "# Load the data"
   ]
  },
  {
   "cell_type": "code",
   "execution_count": 5,
   "metadata": {},
   "outputs": [],
   "source": [
    "test_file <- read.csv(\"orange_churn_test.csv\",na.strings=c(\"\"))\n",
    "data_train <- read.csv(\"orange_churn_train.csv\",na.strings=c(\"\"))"
   ]
  },
  {
   "cell_type": "code",
   "execution_count": 6,
   "metadata": {},
   "outputs": [],
   "source": [
    "#Afficher un graph avec les valeurs manquantes vs les valeurs observées\n",
    "missmap(data_train, main = \"Missing values vs observed\")"
   ]
  },
  {
   "cell_type": "code",
   "execution_count": 7,
   "metadata": {},
   "outputs": [
    {
     "name": "stderr",
     "output_type": "stream",
     "text": [
      "Warning message:\n",
      "\"package 'cattonum' is in use and will not be installed\""
     ]
    }
   ],
   "source": [
    "install.packages(\"cattonum\")"
   ]
  },
  {
   "cell_type": "code",
   "execution_count": 8,
   "metadata": {},
   "outputs": [],
   "source": [
    "library(cattonum)"
   ]
  },
  {
   "cell_type": "markdown",
   "metadata": {},
   "source": [
    "## Processing Pipeline"
   ]
  },
  {
   "cell_type": "code",
   "execution_count": 9,
   "metadata": {},
   "outputs": [],
   "source": [
    "processing_pipeline <- function(dataframe){\n",
    "    #remove columns that are 90% empty\n",
    "    p_data<- dataframe[,colSums(is.na(dataframe))<9000]\n",
    "    \n",
    "    #replace NA by mean for integers and doubles\n",
    "    for(col in names(p_data)){\n",
    "        if( typeof(p_data[[col]]) == \"integer\" | typeof(p_data[[col]]) == \"double\"){\n",
    "            p_data[[col]]= ifelse(is.na(p_data[[col]]), ave(p_data[[col]], FUN = function(x) mean(x, na.rm = 'TRUE')), p_data[[col]])\n",
    "        }\n",
    "    }\n",
    "    \n",
    "    #replace NA in string cols by \"Missing\" in order for them to be ahdnle by the following function that will replace \n",
    "                                                            #categorical variables by their frequency of occurence\n",
    "    p_data[is.na(p_data)] <- \"Missing\"\n",
    "    \n",
    "    #frequency encoding\n",
    "    p_data = catto_freq(p_data, verbose=TRUE)\n",
    "                                                                      \n",
    "    #remove columns with no variance\n",
    "    p_data<-p_data[c(TRUE, lapply(p_data[-1], var, na.rm = TRUE) != 0)]\n",
    "\n",
    "    return(p_data)\n",
    "}"
   ]
  },
  {
   "cell_type": "code",
   "execution_count": 10,
   "metadata": {},
   "outputs": [
    {
     "name": "stderr",
     "output_type": "stream",
     "text": [
      "Warning message in mean.default(x, na.rm = \"TRUE\"):\n",
      "\"argument is not numeric or logical: returning NA\"Warning message in mean.default(x, na.rm = \"TRUE\"):\n",
      "\"argument is not numeric or logical: returning NA\"Warning message in mean.default(x, na.rm = \"TRUE\"):\n",
      "\"argument is not numeric or logical: returning NA\"Warning message in mean.default(x, na.rm = \"TRUE\"):\n",
      "\"argument is not numeric or logical: returning NA\"Warning message in mean.default(x, na.rm = \"TRUE\"):\n",
      "\"argument is not numeric or logical: returning NA\"Warning message in mean.default(x, na.rm = \"TRUE\"):\n",
      "\"argument is not numeric or logical: returning NA\"Warning message in mean.default(x, na.rm = \"TRUE\"):\n",
      "\"argument is not numeric or logical: returning NA\"Warning message in mean.default(x, na.rm = \"TRUE\"):\n",
      "\"argument is not numeric or logical: returning NA\"Warning message in mean.default(x, na.rm = \"TRUE\"):\n",
      "\"argument is not numeric or logical: returning NA\"Warning message in mean.default(x, na.rm = \"TRUE\"):\n",
      "\"argument is not numeric or logical: returning NA\"Warning message in mean.default(x, na.rm = \"TRUE\"):\n",
      "\"argument is not numeric or logical: returning NA\"Warning message in mean.default(x, na.rm = \"TRUE\"):\n",
      "\"argument is not numeric or logical: returning NA\"Warning message in mean.default(x, na.rm = \"TRUE\"):\n",
      "\"argument is not numeric or logical: returning NA\"Warning message in mean.default(x, na.rm = \"TRUE\"):\n",
      "\"argument is not numeric or logical: returning NA\"Warning message in mean.default(x, na.rm = \"TRUE\"):\n",
      "\"argument is not numeric or logical: returning NA\"Warning message in mean.default(x, na.rm = \"TRUE\"):\n",
      "\"argument is not numeric or logical: returning NA\"Warning message in mean.default(x, na.rm = \"TRUE\"):\n",
      "\"argument is not numeric or logical: returning NA\""
     ]
    }
   ],
   "source": [
    "#apply the preprocessing function to the train set. \n",
    "p_data_train <- processing_pipeline(data_train)\n",
    "p_data_train$churn <- ifelse(p_data_train$churn==1,'yes','no')\n",
    "labels <- as.factor(p_data_train$churn)\n",
    "p_data_train$churn <- NULL"
   ]
  },
  {
   "cell_type": "code",
   "execution_count": 11,
   "metadata": {},
   "outputs": [
    {
     "name": "stderr",
     "output_type": "stream",
     "text": [
      "Warning message in mean.default(x, na.rm = \"TRUE\"):\n",
      "\"argument is not numeric or logical: returning NA\"Warning message in mean.default(x, na.rm = \"TRUE\"):\n",
      "\"argument is not numeric or logical: returning NA\"Warning message in mean.default(x, na.rm = \"TRUE\"):\n",
      "\"argument is not numeric or logical: returning NA\"Warning message in mean.default(x, na.rm = \"TRUE\"):\n",
      "\"argument is not numeric or logical: returning NA\"Warning message in mean.default(x, na.rm = \"TRUE\"):\n",
      "\"argument is not numeric or logical: returning NA\"Warning message in mean.default(x, na.rm = \"TRUE\"):\n",
      "\"argument is not numeric or logical: returning NA\"Warning message in mean.default(x, na.rm = \"TRUE\"):\n",
      "\"argument is not numeric or logical: returning NA\"Warning message in mean.default(x, na.rm = \"TRUE\"):\n",
      "\"argument is not numeric or logical: returning NA\"Warning message in mean.default(x, na.rm = \"TRUE\"):\n",
      "\"argument is not numeric or logical: returning NA\"Warning message in mean.default(x, na.rm = \"TRUE\"):\n",
      "\"argument is not numeric or logical: returning NA\"Warning message in mean.default(x, na.rm = \"TRUE\"):\n",
      "\"argument is not numeric or logical: returning NA\"Warning message in mean.default(x, na.rm = \"TRUE\"):\n",
      "\"argument is not numeric or logical: returning NA\"Warning message in mean.default(x, na.rm = \"TRUE\"):\n",
      "\"argument is not numeric or logical: returning NA\"Warning message in mean.default(x, na.rm = \"TRUE\"):\n",
      "\"argument is not numeric or logical: returning NA\"Warning message in mean.default(x, na.rm = \"TRUE\"):\n",
      "\"argument is not numeric or logical: returning NA\"Warning message in mean.default(x, na.rm = \"TRUE\"):\n",
      "\"argument is not numeric or logical: returning NA\"Warning message in mean.default(x, na.rm = \"TRUE\"):\n",
      "\"argument is not numeric or logical: returning NA\""
     ]
    }
   ],
   "source": [
    "#apply the preprocessing function to the test set (dile to be uploaded in kaggle)\n",
    "p_data_validation <- processing_pipeline(test_file)\n",
    "p_data_validation <- p_data_validation %>% \n",
    "      mutate(\n",
    "            churn = 0\n",
    "      )   "
   ]
  },
  {
   "cell_type": "markdown",
   "metadata": {},
   "source": [
    "## Removing highly correlated features"
   ]
  },
  {
   "cell_type": "code",
   "execution_count": 12,
   "metadata": {},
   "outputs": [],
   "source": [
    "cor <- cor(p_data_train)\n",
    "hc <- findCorrelation(cor, cutoff=0.9)\n",
    "# paste(hc,collapse=\", \")"
   ]
  },
  {
   "cell_type": "raw",
   "metadata": {},
   "source": [
    "#Code to find correlated variables, code was working well but I don't know it cannot run right now. i froze it, but the crrelated variables are in the next cell \n",
    "\n",
    "# cor <- cor(p_data_validation)\n",
    "hc <- findCorrelation(cor, cutoff=0.9)\n",
    "# paste(hc,collapse=\", \")"
   ]
  },
  {
   "cell_type": "code",
   "execution_count": 18,
   "metadata": {},
   "outputs": [],
   "source": [
    "remove_cor <- function(dataset){\n",
    "    hc <- c(2, 3, 4, 5, 6, 7, 9, 10, 12, 14, 15, 16, 17, 18, 20, 21, 24, 25, 27, 28, 30, 32, 33, 34, 35, 36, 37, 40, 41, 42, 43, 45, 46, 47, 49, 50, 51, 52, 53, 54, 57, 58, 59, 60, 61, 62, 66, 68, 70, 71, 72, 74, 75, 76, 77, 78, 80, 82, 83, 85, 86, 87, 89, 90, 91, 93, 94, 96, 97, 98, 100, 101, 104, 105, 106, 107, 109, 110, 111, 112, 114, 117, 119, 120, 121, 123, 125, 126, 127, 129, 131, 134, 135, 137, 139, 140, 141, 142, 143, 144, 146, 147, 148, 150, 151, 153, 155, 156, 157, 158, 159, 160, 161, 162, 163, 164, 165, 166, 168, 169, 170, 171, 172, 173, 182, 184, 185, 191, 196, 201, 207)\n",
    "    reduced_data_train = dataset[,-c(hc)]\n",
    "    return(reduced_data_train)\n",
    "}"
   ]
  },
  {
   "cell_type": "code",
   "execution_count": 19,
   "metadata": {},
   "outputs": [],
   "source": [
    "#remove correlation variables of the train set on the test set \n",
    "                      #to avoid any difference between the two files, as seen in class,\n",
    "                         #did exactly the same steps for the train and test set, with a decision made on the train set.\n",
    "reduced_validation_set <- remove_cor(p_data_validation)"
   ]
  },
  {
   "cell_type": "code",
   "execution_count": 20,
   "metadata": {},
   "outputs": [],
   "source": [
    "reduced_data_train <- remove_cor(p_data_train)\n"
   ]
  },
  {
   "cell_type": "markdown",
   "metadata": {},
   "source": [
    "## Models"
   ]
  },
  {
   "cell_type": "code",
   "execution_count": 21,
   "metadata": {},
   "outputs": [],
   "source": [
    "#before applying my first model, i splitted the train set into \n",
    "                #two part in order to be able to build a confusion matrix and test our model \n",
    "                    #and compare to reality 'which is not possible on the test set provided by kaggle \n",
    "                            #s the target is not present in it (i splitted by 50%/50%)\n",
    "reduced_data_train$churn = labels\n",
    "splitIndex <- createDataPartition(reduced_data_train$churn, p = .5, list = FALSE, times = 1)\n",
    "trainDF <- reduced_data_train[ splitIndex,]\n",
    "testDF  <- reduced_data_train[-splitIndex,]\n",
    "\n",
    "outcomeName <- 'churn'\n",
    "predictorsNames <- names(trainDF)[names(trainDF) != outcomeName]\n"
   ]
  },
  {
   "cell_type": "code",
   "execution_count": 228,
   "metadata": {},
   "outputs": [],
   "source": [
    "write.csv(reduced_data_train, \"Basetable_Roxane_Smadja.csv\")"
   ]
  },
  {
   "cell_type": "markdown",
   "metadata": {},
   "source": [
    "# 1. SVM : AUC arround 0.5"
   ]
  },
  {
   "cell_type": "code",
   "execution_count": 22,
   "metadata": {},
   "outputs": [],
   "source": [
    "#apply a first SVM model linear with cost 0.1\n",
    "SVMclassifier = svm(formula = churn ~ .,\n",
    "                 data = trainDF,\n",
    "                 type = 'C-classification',\n",
    "                 kernel = 'linear', probability=TRUE, cost=0.1) #can be tweaked : https://www.rdocumentation.org/packages/e1071/versions/1.7-4/topics/svm"
   ]
  },
  {
   "cell_type": "code",
   "execution_count": 199,
   "metadata": {},
   "outputs": [],
   "source": [
    "pred = predict(SVMclassifier, newdata = testDF, probability=TRUE)\n",
    "train_pred = predict(SVMclassifier, newdata = trainDF)"
   ]
  },
  {
   "cell_type": "code",
   "execution_count": 200,
   "metadata": {},
   "outputs": [],
   "source": [
    "Prediction <- prediction(as.numeric(pred), as.numeric(testDF$churn))"
   ]
  },
  {
   "cell_type": "code",
   "execution_count": 209,
   "metadata": {},
   "outputs": [
    {
     "data": {
      "image/png": "[encoded data removed]",
      "text/plain": [
       "Plot with title \"ROC Curve\""
      ]
     },
     "metadata": {},
     "output_type": "display_data"
    }
   ],
   "source": [
    "Performance <- performance(Prediction, \"tpr\",\"fpr\")\n",
    "# plotting ROC curve\n",
    "plot(Performance,main = \"ROC Curve\",col = 2,lwd = 2,  print.auc = TRUE)\n",
    "abline(a=0, b= 1)\n"
   ]
  },
  {
   "cell_type": "code",
   "execution_count": 24,
   "metadata": {},
   "outputs": [
    {
     "data": {
      "text/plain": [
       "     train_pred\n",
       "        no  yes\n",
       "  no  4632    0\n",
       "  yes  368    0"
      ]
     },
     "metadata": {},
     "output_type": "display_data"
    }
   ],
   "source": [
    "cm = table(testDF$churn, pred)\n",
    "cm2=table(trainDF$churn, train_pred)\n",
    "cm2"
   ]
  },
  {
   "cell_type": "markdown",
   "metadata": {},
   "source": [
    "We can see here that the model performs badly as all predictions has been predicted as not churn. the speicifity is not enough. "
   ]
  },
  {
   "cell_type": "code",
   "execution_count": 25,
   "metadata": {},
   "outputs": [
    {
     "data": {
      "text/plain": [
       "\n",
       "  no  yes \n",
       "4632  368 "
      ]
     },
     "metadata": {},
     "output_type": "display_data"
    }
   ],
   "source": [
    "table(trainDF$churn)"
   ]
  },
  {
   "cell_type": "code",
   "execution_count": 26,
   "metadata": {},
   "outputs": [
    {
     "data": {
      "text/html": [
       "<table>\n",
       "<thead><tr><th></th><th scope=col>no</th><th scope=col>yes</th></tr></thead>\n",
       "<tbody>\n",
       "\t<tr><th scope=row>3</th><td>0.9244529 </td><td>0.07554706</td></tr>\n",
       "\t<tr><th scope=row>4</th><td>0.9265355 </td><td>0.07346449</td></tr>\n",
       "\t<tr><th scope=row>5</th><td>0.9269424 </td><td>0.07305763</td></tr>\n",
       "\t<tr><th scope=row>8</th><td>0.9265645 </td><td>0.07343552</td></tr>\n",
       "\t<tr><th scope=row>11</th><td>0.9253878 </td><td>0.07461217</td></tr>\n",
       "\t<tr><th scope=row>13</th><td>0.9251051 </td><td>0.07489493</td></tr>\n",
       "</tbody>\n",
       "</table>\n"
      ],
      "text/latex": [
       "\\begin{tabular}{r|ll}\n",
       "  & no & yes\\\\\n",
       "\\hline\n",
       "\t3 & 0.9244529  & 0.07554706\\\\\n",
       "\t4 & 0.9265355  & 0.07346449\\\\\n",
       "\t5 & 0.9269424  & 0.07305763\\\\\n",
       "\t8 & 0.9265645  & 0.07343552\\\\\n",
       "\t11 & 0.9253878  & 0.07461217\\\\\n",
       "\t13 & 0.9251051  & 0.07489493\\\\\n",
       "\\end{tabular}\n"
      ],
      "text/markdown": [
       "\n",
       "| <!--/--> | no | yes |\n",
       "|---|---|---|\n",
       "| 3 | 0.9244529  | 0.07554706 |\n",
       "| 4 | 0.9265355  | 0.07346449 |\n",
       "| 5 | 0.9269424  | 0.07305763 |\n",
       "| 8 | 0.9265645  | 0.07343552 |\n",
       "| 11 | 0.9253878  | 0.07461217 |\n",
       "| 13 | 0.9251051  | 0.07489493 |\n",
       "\n"
      ],
      "text/plain": [
       "   no        yes       \n",
       "3  0.9244529 0.07554706\n",
       "4  0.9265355 0.07346449\n",
       "5  0.9269424 0.07305763\n",
       "8  0.9265645 0.07343552\n",
       "11 0.9253878 0.07461217\n",
       "13 0.9251051 0.07489493"
      ]
     },
     "metadata": {},
     "output_type": "display_data"
    }
   ],
   "source": [
    "head(attr(pred, \"probabilities\"))"
   ]
  },
  {
   "cell_type": "code",
   "execution_count": 27,
   "metadata": {},
   "outputs": [],
   "source": [
    "pred = predict(SVMclassifier, newdata = reduced_validation_set, probability=TRUE)"
   ]
  },
  {
   "cell_type": "code",
   "execution_count": 28,
   "metadata": {},
   "outputs": [],
   "source": [
    "pred_svm <- attr(pred, \"probabilities\")"
   ]
  },
  {
   "cell_type": "code",
   "execution_count": 29,
   "metadata": {},
   "outputs": [],
   "source": [
    "table <- cbind(reduced_validation_set,pred_svm)"
   ]
  },
  {
   "cell_type": "code",
   "execution_count": 30,
   "metadata": {},
   "outputs": [],
   "source": [
    "table <- table %>% dplyr::select(cust_id, yes)"
   ]
  },
  {
   "cell_type": "code",
   "execution_count": 31,
   "metadata": {},
   "outputs": [],
   "source": [
    "write.csv(table , \"C:/Users/rsmadja/Desktop/Master Big Data/S2/Statistical and ML techniques/Individual Project/mbd2020-sml-customer-churn-prediction/predictions3.csv\")"
   ]
  },
  {
   "cell_type": "code",
   "execution_count": 32,
   "metadata": {},
   "outputs": [],
   "source": [
    "SVMclassifier_radial = svm(formula = churn ~ .,\n",
    "                 data = trainDF,\n",
    "                 type = 'C-classification',\n",
    "                 kernel = 'radial', probability=TRUE, gamma=1) #can be tweaked : https://www.rdocumentation.org/packages/e1071/versions/1.7-4/topics/svm"
   ]
  },
  {
   "cell_type": "code",
   "execution_count": 197,
   "metadata": {},
   "outputs": [],
   "source": [
    "pred_radial = predict(SVMclassifier_radial, newdata = reduced_validation_set, probability=TRUE)"
   ]
  },
  {
   "cell_type": "code",
   "execution_count": 34,
   "metadata": {},
   "outputs": [],
   "source": [
    "pred_radial <- attr(pred_radial, \"probabilities\")"
   ]
  },
  {
   "cell_type": "code",
   "execution_count": 35,
   "metadata": {},
   "outputs": [],
   "source": [
    "table <- cbind(reduced_validation_set,pred_radial)"
   ]
  },
  {
   "cell_type": "code",
   "execution_count": 36,
   "metadata": {},
   "outputs": [],
   "source": [
    "table <- table %>% dplyr::select(cust_id, yes)"
   ]
  },
  {
   "cell_type": "code",
   "execution_count": 37,
   "metadata": {},
   "outputs": [],
   "source": [
    "write.csv(table , \"C:/Users/rsmadja/Desktop/Master Big Data/S2/Statistical and ML techniques/Individual Project/mbd2020-sml-customer-churn-prediction/predictions6.csv\")"
   ]
  },
  {
   "cell_type": "code",
   "execution_count": 38,
   "metadata": {},
   "outputs": [],
   "source": [
    "library(e1071)"
   ]
  },
  {
   "cell_type": "code",
   "execution_count": 39,
   "metadata": {},
   "outputs": [],
   "source": [
    "#perform cross validation to find the best gamma and best cost for a radial kernel SVM\n",
    "tune.svm = tune(svm, churn ~ ., \n",
    "                        data = trainDF, \n",
    "                                kernel=\"radial\", \n",
    "                                        ranges=list(cost=c(0.1,1,10,100,1000), gamma=c(0.5,1,2,3,4)), \n",
    "                                                      tunecontrol = tune.control(sampling = \"fix\"))"
   ]
  },
  {
   "cell_type": "code",
   "execution_count": 40,
   "metadata": {},
   "outputs": [
    {
     "data": {
      "text/plain": [
       "\n",
       "Parameter tuning of 'svm':\n",
       "\n",
       "- sampling method: fixed training/validation set \n",
       "\n",
       "- best parameters:\n",
       " cost gamma\n",
       "  0.1   0.5\n",
       "\n",
       "- best performance: 0.08158368 \n",
       "\n",
       "- Detailed performance results:\n",
       "    cost gamma      error dispersion\n",
       "1  1e-01   0.5 0.08158368         NA\n",
       "2  1e+00   0.5 0.08158368         NA\n",
       "3  1e+01   0.5 0.08158368         NA\n",
       "4  1e+02   0.5 0.08158368         NA\n",
       "5  1e+03   0.5 0.08158368         NA\n",
       "6  1e-01   1.0 0.08158368         NA\n",
       "7  1e+00   1.0 0.08158368         NA\n",
       "8  1e+01   1.0 0.08158368         NA\n",
       "9  1e+02   1.0 0.08158368         NA\n",
       "10 1e+03   1.0 0.08158368         NA\n",
       "11 1e-01   2.0 0.08158368         NA\n",
       "12 1e+00   2.0 0.08158368         NA\n",
       "13 1e+01   2.0 0.08158368         NA\n",
       "14 1e+02   2.0 0.08158368         NA\n",
       "15 1e+03   2.0 0.08158368         NA\n",
       "16 1e-01   3.0 0.08158368         NA\n",
       "17 1e+00   3.0 0.08158368         NA\n",
       "18 1e+01   3.0 0.08158368         NA\n",
       "19 1e+02   3.0 0.08158368         NA\n",
       "20 1e+03   3.0 0.08158368         NA\n",
       "21 1e-01   4.0 0.08158368         NA\n",
       "22 1e+00   4.0 0.08158368         NA\n",
       "23 1e+01   4.0 0.08158368         NA\n",
       "24 1e+02   4.0 0.08158368         NA\n",
       "25 1e+03   4.0 0.08158368         NA\n"
      ]
     },
     "metadata": {},
     "output_type": "display_data"
    }
   ],
   "source": [
    "summary(tune.svm)\n",
    "#the best parameters are indeed 0.1 and 0.5 on the train set"
   ]
  },
  {
   "cell_type": "code",
   "execution_count": 41,
   "metadata": {},
   "outputs": [],
   "source": [
    "SVMclassifier_radial = svm(formula = churn ~ .,\n",
    "                 data = trainDF,\n",
    "                 type = 'C-classification',\n",
    "                 kernel = 'radial', probability=TRUE, gamma=0.1, cost=0.5) #can be tweaked : https://www.rdocumentation.org/packages/e1071/versions/1.7-4/topics/svm"
   ]
  },
  {
   "cell_type": "code",
   "execution_count": 192,
   "metadata": {},
   "outputs": [],
   "source": [
    "pred = predict(SVMclassifier_radial, newdata = testDF, probability=TRUE)\n",
    "train_pred = predict(SVMclassifier_radial, newdata = trainDF)"
   ]
  },
  {
   "cell_type": "code",
   "execution_count": 193,
   "metadata": {},
   "outputs": [
    {
     "data": {
      "text/plain": [
       "     train_pred\n",
       "        no  yes\n",
       "  no  4632    0\n",
       "  yes  368    0"
      ]
     },
     "metadata": {},
     "output_type": "display_data"
    }
   ],
   "source": [
    "cm = table(testDF$churn, pred)\n",
    "cm2=table(trainDF$churn, train_pred)\n",
    "cm2"
   ]
  },
  {
   "cell_type": "markdown",
   "metadata": {},
   "source": [
    "The results are still poor because the algorithm is not able to detect any churner. "
   ]
  },
  {
   "cell_type": "code",
   "execution_count": 194,
   "metadata": {},
   "outputs": [],
   "source": [
    "Prediction <- prediction(as.numeric(pred), as.numeric(testDF$churn))"
   ]
  },
  {
   "cell_type": "code",
   "execution_count": 195,
   "metadata": {},
   "outputs": [
    {
     "data": {
      "image/png": "[encoded data removed]",
      "text/plain": [
       "Plot with title \"ROC Curve\""
      ]
     },
     "metadata": {},
     "output_type": "display_data"
    }
   ],
   "source": [
    "performance <- performance(Prediction, \"tpr\",\"fpr\")\n",
    "# plotting ROC curve\n",
    "plot(performance,main = \"ROC Curve\",col = 2,lwd = 2,  print.auc = TRUE)\n",
    "abline(a=0, b= 1)"
   ]
  },
  {
   "cell_type": "markdown",
   "metadata": {},
   "source": [
    "# 2. Decision Trees: AUC arround 0.5"
   ]
  },
  {
   "cell_type": "code",
   "execution_count": 135,
   "metadata": {},
   "outputs": [],
   "source": [
    "objControl <- trainControl(method = \"repeatedcv\", number = 10, repeats = 3)\n",
    "set.seed(3333)\n",
    "dtree_fit <- train(churn ~., data = trainDF, method = \"rpart\",\n",
    "                   parms = list(split = \"information\"),\n",
    "                   trControl=objControl,\n",
    "                   tuneLength = 10)"
   ]
  },
  {
   "cell_type": "code",
   "execution_count": 136,
   "metadata": {},
   "outputs": [
    {
     "data": {
      "text/plain": [
       "CART \n",
       "\n",
       "5000 samples\n",
       "  78 predictor\n",
       "   2 classes: 'no', 'yes' \n",
       "\n",
       "No pre-processing\n",
       "Resampling: Cross-Validated (10 fold, repeated 3 times) \n",
       "Summary of sample sizes: 4501, 4500, 4500, 4500, 4500, 4500, ... \n",
       "Resampling results across tuning parameters:\n",
       "\n",
       "  cp            Accuracy   Kappa     \n",
       "  0.0004528986  0.8942678  0.08795237\n",
       "  0.0005434783  0.8942678  0.08708062\n",
       "  0.0009057971  0.8978680  0.08975542\n",
       "  0.0009881423  0.8978680  0.08975542\n",
       "  0.0013586957  0.9018676  0.09426904\n",
       "  0.0027173913  0.9098668  0.08900630\n",
       "  0.0031702899  0.9145327  0.07596184\n",
       "  0.0072463768  0.9256013  0.02298453\n",
       "  0.0076086957  0.9256015  0.01760885\n",
       "  0.0081521739  0.9256682  0.01629763\n",
       "\n",
       "Accuracy was used to select the optimal model using the largest value.\n",
       "The final value used for the model was cp = 0.008152174."
      ]
     },
     "metadata": {},
     "output_type": "display_data"
    }
   ],
   "source": [
    "dtree_fit"
   ]
  },
  {
   "cell_type": "code",
   "execution_count": 175,
   "metadata": {},
   "outputs": [],
   "source": [
    "pred2 = predict(dtree_fit, newdata = testDF)"
   ]
  },
  {
   "cell_type": "code",
   "execution_count": 176,
   "metadata": {},
   "outputs": [
    {
     "data": {
      "text/plain": [
       "     train_pred2\n",
       "        no  yes\n",
       "  no  4632    0\n",
       "  yes  368    0"
      ]
     },
     "metadata": {},
     "output_type": "display_data"
    }
   ],
   "source": [
    "cm = table(testDF$churn, pred2)\n",
    "cm2 = table(trainDF$churn, train_pred2)\n",
    "cm2"
   ]
  },
  {
   "cell_type": "markdown",
   "metadata": {},
   "source": [
    "The decision tree provides interesting result with an accuracy of 0.931; but it could be overfitting as this is quite high: lets test on unseen data"
   ]
  },
  {
   "cell_type": "code",
   "execution_count": 183,
   "metadata": {},
   "outputs": [],
   "source": [
    "Prediction <- prediction(as.numeric(pred2), as.numeric(testDF$churn))"
   ]
  },
  {
   "cell_type": "code",
   "execution_count": 191,
   "metadata": {},
   "outputs": [
    {
     "data": {
      "image/png": "[encoded data removed]",
      "text/plain": [
       "Plot with title \"ROC Curve\""
      ]
     },
     "metadata": {},
     "output_type": "display_data"
    }
   ],
   "source": [
    "performance <- performance(Prediction, \"tpr\",\"fpr\")\n",
    "# plotting ROC curve\n",
    "plot(performance,main = \"ROC Curve\",col = 2,lwd = 2,  print.auc = TRUE)\n",
    "abline(a=0, b= 1)\n",
    "\n"
   ]
  },
  {
   "cell_type": "code",
   "execution_count": 49,
   "metadata": {},
   "outputs": [],
   "source": [
    "prob_decision_trees <- predict(dtree_fit, newdata = reduced_validation_set, type=\"prob\")"
   ]
  },
  {
   "cell_type": "code",
   "execution_count": 50,
   "metadata": {},
   "outputs": [],
   "source": [
    "table_DT <- cbind(reduced_validation_set,prob_decision_trees)"
   ]
  },
  {
   "cell_type": "code",
   "execution_count": 51,
   "metadata": {},
   "outputs": [],
   "source": [
    "table_DT <- table_DT %>% dplyr::select(cust_id, yes)"
   ]
  },
  {
   "cell_type": "code",
   "execution_count": 52,
   "metadata": {},
   "outputs": [],
   "source": [
    "write.csv(table_DT , \"C:/Users/rsmadja/Desktop/Master Big Data/S2/Statistical and ML techniques/Individual Project/mbd2020-sml-customer-churn-prediction/predictions4.csv\")"
   ]
  },
  {
   "cell_type": "markdown",
   "metadata": {},
   "source": [
    "# 3. Gradient Boosting: AUC 0.7092"
   ]
  },
  {
   "cell_type": "code",
   "execution_count": 53,
   "metadata": {
    "jupyter": {
     "outputs_hidden": true
    }
   },
   "outputs": [
    {
     "name": "stdout",
     "output_type": "stream",
     "text": [
      "Iter   TrainDeviance   ValidDeviance   StepSize   Improve\n",
      "     1        0.5213             nan     0.1000    0.0019\n",
      "     2        0.5189             nan     0.1000    0.0010\n",
      "     3        0.5177             nan     0.1000    0.0004\n",
      "     4        0.5143             nan     0.1000    0.0009\n",
      "     5        0.5127             nan     0.1000    0.0003\n",
      "     6        0.5106             nan     0.1000    0.0007\n",
      "     7        0.5081             nan     0.1000    0.0006\n",
      "     8        0.5070             nan     0.1000    0.0004\n",
      "     9        0.5055             nan     0.1000    0.0003\n",
      "    10        0.5030             nan     0.1000    0.0006\n",
      "    20        0.4903             nan     0.1000    0.0001\n",
      "    40        0.4736             nan     0.1000   -0.0001\n",
      "    60        0.4619             nan     0.1000   -0.0005\n",
      "    80        0.4539             nan     0.1000   -0.0003\n",
      "   100        0.4488             nan     0.1000   -0.0001\n",
      "   120        0.4437             nan     0.1000   -0.0003\n",
      "   140        0.4389             nan     0.1000   -0.0001\n",
      "   150        0.4357             nan     0.1000   -0.0002\n",
      "\n",
      "Iter   TrainDeviance   ValidDeviance   StepSize   Improve\n",
      "     1        0.5209             nan     0.1000    0.0016\n",
      "     2        0.5144             nan     0.1000    0.0029\n",
      "     3        0.5093             nan     0.1000    0.0009\n",
      "     4        0.5056             nan     0.1000    0.0007\n",
      "     5        0.5024             nan     0.1000    0.0013\n",
      "     6        0.4999             nan     0.1000    0.0006\n",
      "     7        0.4971             nan     0.1000    0.0006\n",
      "     8        0.4940             nan     0.1000    0.0005\n",
      "     9        0.4918             nan     0.1000    0.0005\n",
      "    10        0.4903             nan     0.1000   -0.0006\n",
      "    20        0.4701             nan     0.1000   -0.0005\n",
      "    40        0.4473             nan     0.1000   -0.0001\n",
      "    60        0.4326             nan     0.1000   -0.0001\n",
      "    80        0.4200             nan     0.1000   -0.0006\n",
      "   100        0.4096             nan     0.1000   -0.0002\n",
      "   120        0.3988             nan     0.1000   -0.0008\n",
      "   140        0.3868             nan     0.1000   -0.0002\n",
      "   150        0.3807             nan     0.1000   -0.0007\n",
      "\n",
      "Iter   TrainDeviance   ValidDeviance   StepSize   Improve\n",
      "     1        0.5162             nan     0.1000    0.0023\n",
      "     2        0.5071             nan     0.1000    0.0028\n",
      "     3        0.5024             nan     0.1000    0.0012\n",
      "     4        0.4992             nan     0.1000    0.0003\n",
      "     5        0.4934             nan     0.1000    0.0017\n",
      "     6        0.4874             nan     0.1000    0.0018\n",
      "     7        0.4842             nan     0.1000    0.0005\n",
      "     8        0.4809             nan     0.1000    0.0008\n",
      "     9        0.4772             nan     0.1000    0.0006\n",
      "    10        0.4745             nan     0.1000    0.0004\n",
      "    20        0.4560             nan     0.1000   -0.0001\n",
      "    40        0.4241             nan     0.1000   -0.0004\n",
      "    60        0.4011             nan     0.1000   -0.0003\n",
      "    80        0.3815             nan     0.1000   -0.0000\n",
      "   100        0.3620             nan     0.1000    0.0001\n",
      "   120        0.3433             nan     0.1000   -0.0004\n",
      "   140        0.3285             nan     0.1000   -0.0001\n",
      "   150        0.3225             nan     0.1000   -0.0004\n",
      "\n",
      "Iter   TrainDeviance   ValidDeviance   StepSize   Improve\n",
      "     1        0.5224             nan     0.1000    0.0016\n",
      "     2        0.5202             nan     0.1000    0.0003\n",
      "     3        0.5175             nan     0.1000    0.0008\n",
      "     4        0.5156             nan     0.1000    0.0004\n",
      "     5        0.5142             nan     0.1000    0.0004\n",
      "     6        0.5128             nan     0.1000    0.0006\n",
      "     7        0.5119             nan     0.1000    0.0003\n",
      "     8        0.5099             nan     0.1000    0.0009\n",
      "     9        0.5079             nan     0.1000    0.0006\n",
      "    10        0.5060             nan     0.1000    0.0008\n",
      "    20        0.4920             nan     0.1000    0.0002\n",
      "    40        0.4775             nan     0.1000   -0.0001\n",
      "    60        0.4654             nan     0.1000    0.0000\n",
      "    80        0.4581             nan     0.1000   -0.0002\n",
      "   100        0.4538             nan     0.1000   -0.0003\n",
      "   120        0.4501             nan     0.1000   -0.0003\n",
      "   140        0.4462             nan     0.1000   -0.0003\n",
      "   150        0.4448             nan     0.1000   -0.0002\n",
      "\n",
      "Iter   TrainDeviance   ValidDeviance   StepSize   Improve\n",
      "     1        0.5210             nan     0.1000    0.0018\n",
      "     2        0.5168             nan     0.1000    0.0017\n",
      "     3        0.5129             nan     0.1000    0.0009\n",
      "     4        0.5093             nan     0.1000    0.0000\n",
      "     5        0.5065             nan     0.1000    0.0007\n",
      "     6        0.5051             nan     0.1000    0.0006\n",
      "     7        0.5021             nan     0.1000    0.0004\n",
      "     8        0.4993             nan     0.1000    0.0007\n",
      "     9        0.4962             nan     0.1000    0.0014\n",
      "    10        0.4937             nan     0.1000    0.0001\n",
      "    20        0.4710             nan     0.1000   -0.0001\n",
      "    40        0.4490             nan     0.1000   -0.0003\n",
      "    60        0.4345             nan     0.1000    0.0002\n",
      "    80        0.4216             nan     0.1000   -0.0006\n",
      "   100        0.4100             nan     0.1000   -0.0000\n",
      "   120        0.4001             nan     0.1000   -0.0001\n",
      "   140        0.3915             nan     0.1000   -0.0002\n",
      "   150        0.3872             nan     0.1000   -0.0006\n",
      "\n",
      "Iter   TrainDeviance   ValidDeviance   StepSize   Improve\n",
      "     1        0.5207             nan     0.1000    0.0005\n",
      "     2        0.5151             nan     0.1000    0.0020\n",
      "     3        0.5086             nan     0.1000    0.0018\n",
      "     4        0.5044             nan     0.1000    0.0008\n",
      "     5        0.5002             nan     0.1000    0.0010\n",
      "     6        0.4975             nan     0.1000    0.0005\n",
      "     7        0.4955             nan     0.1000    0.0003\n",
      "     8        0.4914             nan     0.1000    0.0003\n",
      "     9        0.4875             nan     0.1000    0.0010\n",
      "    10        0.4853             nan     0.1000    0.0000\n",
      "    20        0.4607             nan     0.1000    0.0001\n",
      "    40        0.4284             nan     0.1000   -0.0003\n",
      "    60        0.4053             nan     0.1000   -0.0007\n",
      "    80        0.3865             nan     0.1000   -0.0002\n",
      "   100        0.3713             nan     0.1000   -0.0005\n",
      "   120        0.3548             nan     0.1000   -0.0004\n",
      "   140        0.3375             nan     0.1000   -0.0003\n",
      "   150        0.3294             nan     0.1000   -0.0001\n",
      "\n",
      "Iter   TrainDeviance   ValidDeviance   StepSize   Improve\n",
      "     1        0.5222             nan     0.1000    0.0014\n",
      "     2        0.5181             nan     0.1000    0.0021\n",
      "     3        0.5152             nan     0.1000    0.0012\n",
      "     4        0.5130             nan     0.1000    0.0009\n",
      "     5        0.5113             nan     0.1000    0.0010\n",
      "     6        0.5095             nan     0.1000    0.0000\n",
      "     7        0.5073             nan     0.1000    0.0002\n",
      "     8        0.5049             nan     0.1000    0.0009\n",
      "     9        0.5039             nan     0.1000    0.0004\n",
      "    10        0.5021             nan     0.1000    0.0007\n",
      "    20        0.4914             nan     0.1000    0.0003\n",
      "    40        0.4783             nan     0.1000   -0.0000\n",
      "    60        0.4662             nan     0.1000    0.0001\n",
      "    80        0.4584             nan     0.1000   -0.0000\n",
      "   100        0.4502             nan     0.1000    0.0002\n",
      "   120        0.4449             nan     0.1000    0.0000\n",
      "   140        0.4405             nan     0.1000   -0.0001\n",
      "   150        0.4384             nan     0.1000   -0.0002\n",
      "\n",
      "Iter   TrainDeviance   ValidDeviance   StepSize   Improve\n",
      "     1        0.5191             nan     0.1000    0.0015\n",
      "     2        0.5129             nan     0.1000    0.0029\n",
      "     3        0.5106             nan     0.1000    0.0006\n",
      "     4        0.5074             nan     0.1000    0.0004\n",
      "     5        0.5045             nan     0.1000    0.0009\n",
      "     6        0.5033             nan     0.1000    0.0002\n",
      "     7        0.4995             nan     0.1000    0.0007\n",
      "     8        0.4958             nan     0.1000    0.0016\n",
      "     9        0.4935             nan     0.1000    0.0003\n",
      "    10        0.4925             nan     0.1000    0.0001\n",
      "    20        0.4730             nan     0.1000    0.0001\n",
      "    40        0.4477             nan     0.1000   -0.0002\n",
      "    60        0.4295             nan     0.1000   -0.0001\n",
      "    80        0.4170             nan     0.1000   -0.0004\n",
      "   100        0.4045             nan     0.1000   -0.0002\n",
      "   120        0.3945             nan     0.1000   -0.0002\n",
      "   140        0.3842             nan     0.1000   -0.0001\n",
      "   150        0.3801             nan     0.1000   -0.0002\n",
      "\n",
      "Iter   TrainDeviance   ValidDeviance   StepSize   Improve\n",
      "     1        0.5164             nan     0.1000    0.0034\n",
      "     2        0.5122             nan     0.1000    0.0004\n",
      "     3        0.5071             nan     0.1000    0.0011\n",
      "     4        0.5032             nan     0.1000    0.0006\n",
      "     5        0.4990             nan     0.1000    0.0010\n",
      "     6        0.4926             nan     0.1000    0.0025\n",
      "     7        0.4901             nan     0.1000    0.0005\n",
      "     8        0.4873             nan     0.1000    0.0007\n",
      "     9        0.4833             nan     0.1000    0.0017\n",
      "    10        0.4804             nan     0.1000    0.0002\n",
      "    20        0.4580             nan     0.1000   -0.0006\n",
      "    40        0.4244             nan     0.1000   -0.0009\n",
      "    60        0.4007             nan     0.1000   -0.0002\n",
      "    80        0.3828             nan     0.1000   -0.0007\n",
      "   100        0.3699             nan     0.1000   -0.0004\n",
      "   120        0.3540             nan     0.1000   -0.0003\n",
      "   140        0.3394             nan     0.1000   -0.0003\n",
      "   150        0.3334             nan     0.1000    0.0003\n",
      "\n",
      "Iter   TrainDeviance   ValidDeviance   StepSize   Improve\n",
      "     1        0.5217             nan     0.1000    0.0015\n",
      "     2        0.5153             nan     0.1000    0.0019\n",
      "     3        0.5131             nan     0.1000    0.0001\n",
      "     4        0.5108             nan     0.1000    0.0002\n",
      "     5        0.5072             nan     0.1000    0.0006\n",
      "     6        0.5048             nan     0.1000    0.0001\n",
      "     7        0.5027             nan     0.1000    0.0004\n",
      "     8        0.5007             nan     0.1000    0.0002\n",
      "     9        0.4985             nan     0.1000    0.0005\n",
      "    10        0.4970             nan     0.1000    0.0005\n",
      "    20        0.4801             nan     0.1000   -0.0001\n",
      "    40        0.4596             nan     0.1000    0.0002\n",
      "    50        0.4533             nan     0.1000   -0.0002\n",
      "\n"
     ]
    }
   ],
   "source": [
    "objControl <- trainControl(method='cv', number=3, returnResamp='none', summaryFunction = twoClassSummary, classProbs = TRUE)\n",
    "gbm <- train(trainDF[,predictorsNames], trainDF[,outcomeName], \n",
    "                  method='gbm', \n",
    "                  trControl=objControl,  \n",
    "                  metric = \"ROC\",\n",
    "                  preProc = c(\"center\", \"scale\"))"
   ]
  },
  {
   "cell_type": "code",
   "execution_count": 54,
   "metadata": {},
   "outputs": [],
   "source": [
    "predictions_raw <- predict(object=gbm, testDF[,predictorsNames], type='prob')\n",
    "#confusionMatrix(predictions_raw,testDF$churn)"
   ]
  },
  {
   "cell_type": "code",
   "execution_count": 133,
   "metadata": {},
   "outputs": [
    {
     "name": "stderr",
     "output_type": "stream",
     "text": [
      "Setting levels: control = 0, case = 1\n",
      "Setting direction: controls < cases\n"
     ]
    },
    {
     "data": {
      "text/html": [
       "0.709181051475558"
      ],
      "text/latex": [
       "0.709181051475558"
      ],
      "text/markdown": [
       "0.709181051475558"
      ],
      "text/plain": [
       "Area under the curve: 0.7092"
      ]
     },
     "metadata": {},
     "output_type": "display_data"
    }
   ],
   "source": [
    "predictions_prob <- predict(object=gbm, testDF[,predictorsNames], type='prob')\n",
    "auc <- roc(ifelse(testDF[,outcomeName]==\"yes\",1,0), predictions_prob[[2]])\n",
    "auc$auc"
   ]
  },
  {
   "cell_type": "code",
   "execution_count": 56,
   "metadata": {},
   "outputs": [],
   "source": [
    "predictions1 <- predict(object=gbm, reduced_validation_set[,predictorsNames], type='prob')"
   ]
  },
  {
   "cell_type": "code",
   "execution_count": 57,
   "metadata": {},
   "outputs": [],
   "source": [
    "table <- cbind(reduced_validation_set,predictions1)"
   ]
  },
  {
   "cell_type": "code",
   "execution_count": 58,
   "metadata": {},
   "outputs": [
    {
     "name": "stdout",
     "output_type": "stream",
     "text": [
      "package 'Lahman' successfully unpacked and MD5 sums checked\n",
      "\n",
      "The downloaded binary packages are in\n",
      "\tC:\\Users\\rsmadja\\AppData\\Local\\Temp\\RtmpKuq4Y7\\downloaded_packages\n"
     ]
    },
    {
     "name": "stderr",
     "output_type": "stream",
     "text": [
      "Warning message:\n",
      "\"package 'Lahman' was built under R version 3.6.3\""
     ]
    }
   ],
   "source": [
    "install.packages(\"Lahman\")\n",
    "library(Lahman)"
   ]
  },
  {
   "cell_type": "code",
   "execution_count": 59,
   "metadata": {},
   "outputs": [],
   "source": [
    "table1 <- table %>% dplyr::select(cust_id, yes)"
   ]
  },
  {
   "cell_type": "code",
   "execution_count": 60,
   "metadata": {},
   "outputs": [],
   "source": [
    "write.csv(table1 , \"C:/Users/rsmadja/Desktop/Master Big Data/S2/Statistical and ML techniques/Individual Project/mbd2020-sml-customer-churn-prediction/predictions1.csv\")"
   ]
  },
  {
   "cell_type": "markdown",
   "metadata": {},
   "source": [
    "# 4. Logistic regression and Stepwise analysis to reduce the number of features : AUC : 0.673"
   ]
  },
  {
   "cell_type": "code",
   "execution_count": 61,
   "metadata": {
    "jupyter": {
     "outputs_hidden": true
    }
   },
   "outputs": [
    {
     "data": {
      "text/plain": [
       "\n",
       "Call:\n",
       "glm(formula = churn ~ ., family = binomial, data = trainDF)\n",
       "\n",
       "Deviance Residuals: \n",
       "    Min       1Q   Median       3Q      Max  \n",
       "-1.7141  -0.4229  -0.3103  -0.2106   3.0612  \n",
       "\n",
       "Coefficients:\n",
       "              Estimate Std. Error z value Pr(>|z|)    \n",
       "(Intercept) -3.025e+01  4.881e+02  -0.062 0.950581    \n",
       "cust_id     -1.256e-06  9.816e-06  -0.128 0.898194    \n",
       "Var7        -4.025e-02  3.808e-02  -1.057 0.290539    \n",
       "Var11       -2.837e-01  6.786e-01  -0.418 0.675942    \n",
       "Var13       -1.938e-04  1.500e-04  -1.292 0.196266    \n",
       "Var21        1.822e-04  5.872e-04   0.310 0.756359    \n",
       "Var24        3.975e-03  4.321e-03   0.920 0.357546    \n",
       "Var25        1.621e-03  1.268e-03   1.278 0.201076    \n",
       "Var28       -1.176e-04  1.586e-04  -0.741 0.458542    \n",
       "Var33       -4.094e-03  1.235e-02  -0.332 0.740209    \n",
       "Var35        4.955e-02  4.096e-02   1.210 0.226368    \n",
       "Var44       -8.514e-02  1.500e-01  -0.568 0.570271    \n",
       "Var45        1.217e-01  1.486e-01   0.819 0.412829    \n",
       "Var51        1.438e-04  6.096e-04   0.236 0.813544    \n",
       "Var57       -6.218e-02  2.846e-02  -2.185 0.028878 *  \n",
       "Var64        3.160e-02  4.589e-02   0.689 0.491028    \n",
       "Var65        7.221e-02  2.180e-02   3.312 0.000926 ***\n",
       "Var72        3.578e-02  5.628e-02   0.636 0.524967    \n",
       "Var73       -6.206e-03  2.723e-03  -2.279 0.022668 *  \n",
       "Var74       -1.796e-03  9.262e-04  -1.939 0.052486 .  \n",
       "Var76       -4.484e-05  3.405e-05  -1.317 0.187869    \n",
       "Var78        5.478e-02  3.020e-02   1.814 0.069683 .  \n",
       "Var83       -4.883e-03  2.080e-03  -2.348 0.018894 *  \n",
       "Var89       -1.763e-01  1.132e-01  -1.557 0.119379    \n",
       "Var91        9.018e-03  1.199e-02   0.752 0.451828    \n",
       "Var94       -2.678e-05  4.886e-05  -0.548 0.583623    \n",
       "Var98       -4.792e-02  4.958e-02  -0.967 0.333779    \n",
       "Var102      -3.083e-02  1.411e-02  -2.185 0.028886 *  \n",
       "Var105       2.064e-02  4.142e-02   0.498 0.618275    \n",
       "Var109       6.230e-04  1.984e-03   0.314 0.753479    \n",
       "Var112       2.255e-03  1.751e-03   1.287 0.197985    \n",
       "Var113       3.595e-07  8.846e-08   4.065 4.81e-05 ***\n",
       "Var118       1.276e+01  2.439e+02   0.052 0.958290    \n",
       "Var123       1.213e-04  1.227e-03   0.099 0.921283    \n",
       "Var125       8.412e-05  5.338e-05   1.576 0.115068    \n",
       "Var126       3.360e-02  4.641e-03   7.240 4.49e-13 ***\n",
       "Var128      -1.523e-02  2.195e-02  -0.694 0.487671    \n",
       "Var132      -5.267e-02  2.709e-02  -1.944 0.051840 .  \n",
       "Var134      -2.938e-05  2.843e-05  -1.033 0.301458    \n",
       "Var138       4.673e-02  6.195e-01   0.075 0.939870    \n",
       "Var140       4.330e-05  1.734e-04   0.250 0.802834    \n",
       "Var143      -2.943e-01  2.493e-01  -1.181 0.237785    \n",
       "Var144       1.572e-02  1.731e-02   0.908 0.363666    \n",
       "Var147      -3.234e-01  2.099e-01  -1.541 0.123318    \n",
       "Var149      -4.696e-05  5.083e-05  -0.924 0.355588    \n",
       "Var156      -3.029e-03  3.103e-02  -0.098 0.922225    \n",
       "Var160       4.996e-04  9.756e-04   0.512 0.608570    \n",
       "Var163       6.185e-06  3.750e-05   0.165 0.868988    \n",
       "Var165       1.157e-02  2.349e-02   0.493 0.622338    \n",
       "Var181       1.428e-01  6.050e-02   2.360 0.018286 *  \n",
       "Var189      -5.412e-03  2.024e-03  -2.674 0.007497 ** \n",
       "Var190       1.968e-02  2.939e-02   0.670 0.503175    \n",
       "Var192      -3.772e-03  3.353e-03  -1.125 0.260635    \n",
       "Var193       1.759e-03  7.306e-03   0.241 0.809749    \n",
       "Var194       1.297e-05  4.003e-05   0.324 0.745844    \n",
       "Var195       1.226e-01  8.037e-02   1.525 0.127252    \n",
       "Var196      -6.335e-01  3.131e-01  -2.023 0.043085 *  \n",
       "Var197       4.754e-04  1.728e-04   2.752 0.005931 ** \n",
       "Var199      -7.281e-04  1.296e-03  -0.562 0.574185    \n",
       "Var202      -5.293e-06  5.269e-05  -0.100 0.919986    \n",
       "Var203      -1.704e-05  3.189e-05  -0.534 0.593123    \n",
       "Var204      -9.438e-04  2.047e-03  -0.461 0.644720    \n",
       "Var205      -5.081e-05  2.584e-05  -1.966 0.049245 *  \n",
       "Var206       2.261e-06  5.898e-05   0.038 0.969419    \n",
       "Var208       1.703e-05  3.448e-05   0.494 0.621247    \n",
       "Var210      -2.342e-01  8.452e-02  -2.771 0.005588 ** \n",
       "Var211       5.605e-01  2.224e-01   2.521 0.011706 *  \n",
       "Var212       5.334e-04  4.839e-03   0.110 0.912220    \n",
       "Var216      -3.439e-04  2.610e-04  -1.317 0.187694    \n",
       "Var217       2.760e-03  7.084e-03   0.390 0.696818    \n",
       "Var218      -3.999e-04  2.011e-04  -1.989 0.046742 *  \n",
       "Var219       2.608e-05  2.338e-05   1.116 0.264599    \n",
       "Var221      -1.001e-01  5.032e-02  -1.989 0.046689 *  \n",
       "Var222      -9.945e-05  9.878e-05  -1.007 0.314000    \n",
       "Var223       1.716e-06  2.558e-05   0.067 0.946499    \n",
       "Var225       3.085e-07  6.965e-05   0.004 0.996466    \n",
       "Var226      -1.358e-02  9.549e-03  -1.422 0.155041    \n",
       "Var228       1.110e-02  1.344e-02   0.826 0.408632    \n",
       "Var229      -4.527e-05  5.315e-05  -0.852 0.394321    \n",
       "---\n",
       "Signif. codes:  0 '***' 0.001 '**' 0.01 '*' 0.05 '.' 0.1 ' ' 1\n",
       "\n",
       "(Dispersion parameter for binomial family taken to be 1)\n",
       "\n",
       "    Null deviance: 2628.5  on 4999  degrees of freedom\n",
       "Residual deviance: 2327.0  on 4921  degrees of freedom\n",
       "AIC: 2485\n",
       "\n",
       "Number of Fisher Scoring iterations: 14\n"
      ]
     },
     "metadata": {},
     "output_type": "display_data"
    }
   ],
   "source": [
    "# full log model\n",
    "full.model <- glm(churn ~., data = trainDF, family = binomial)\n",
    "summary(full.model)"
   ]
  },
  {
   "cell_type": "code",
   "execution_count": 62,
   "metadata": {},
   "outputs": [
    {
     "data": {
      "text/html": [
       "0"
      ],
      "text/latex": [
       "0"
      ],
      "text/markdown": [
       "0"
      ],
      "text/plain": [
       "[1] 0"
      ]
     },
     "metadata": {},
     "output_type": "display_data"
    }
   ],
   "source": [
    "# Make predictions\n",
    "probabilities <- full.model %>% predict(testDF, type = \"response\")\n",
    "predicted.classes <- ifelse(probabilities > 0.5, \"pos\", \"neg\")\n",
    "# Prediction accuracy\n",
    "observed.classes <- testDF$churn\n",
    "mean(predicted.classes == observed.classes)"
   ]
  },
  {
   "cell_type": "code",
   "execution_count": 63,
   "metadata": {},
   "outputs": [
    {
     "data": {
      "text/plain": [
       "\n",
       "Call:\n",
       "glm(formula = churn ~ Var13 + Var45 + Var57 + Var65 + Var73 + \n",
       "    Var74 + Var78 + Var83 + Var89 + Var102 + Var113 + Var118 + \n",
       "    Var126 + Var132 + Var147 + Var181 + Var189 + Var195 + Var196 + \n",
       "    Var197 + Var205 + Var210 + Var211 + Var218 + Var219 + Var221, \n",
       "    family = binomial, data = trainDF)\n",
       "\n",
       "Deviance Residuals: \n",
       "    Min       1Q   Median       3Q      Max  \n",
       "-1.6510  -0.4222  -0.3172  -0.2203   3.1151  \n",
       "\n",
       "Coefficients:\n",
       "              Estimate Std. Error z value Pr(>|z|)    \n",
       "(Intercept) -3.108e+01  4.955e+02  -0.063 0.949989    \n",
       "Var13       -2.008e-04  1.336e-04  -1.502 0.132978    \n",
       "Var45        1.152e-01  1.428e-01   0.806 0.420003    \n",
       "Var57       -5.860e-02  2.804e-02  -2.090 0.036644 *  \n",
       "Var65        6.216e-02  1.956e-02   3.179 0.001480 ** \n",
       "Var73       -5.074e-03  1.554e-03  -3.265 0.001096 ** \n",
       "Var74       -1.987e-03  8.472e-04  -2.345 0.019023 *  \n",
       "Var78        4.314e-02  2.930e-02   1.473 0.140864    \n",
       "Var83       -5.248e-03  1.913e-03  -2.743 0.006087 ** \n",
       "Var89       -1.373e-01  7.500e-02  -1.831 0.067160 .  \n",
       "Var102      -2.204e-02  1.109e-02  -1.987 0.046929 *  \n",
       "Var113       3.595e-07  8.294e-08   4.334 1.46e-05 ***\n",
       "Var118       1.270e+01  2.477e+02   0.051 0.959105    \n",
       "Var126       3.366e-02  4.552e-03   7.393 1.44e-13 ***\n",
       "Var132      -4.296e-02  2.309e-02  -1.861 0.062781 .  \n",
       "Var147      -1.668e-01  9.449e-02  -1.765 0.077552 .  \n",
       "Var181       1.027e-01  5.803e-02   1.770 0.076747 .  \n",
       "Var189      -5.212e-03  1.949e-03  -2.674 0.007498 ** \n",
       "Var195       1.159e-01  7.750e-02   1.495 0.134885    \n",
       "Var196      -6.623e-01  3.122e-01  -2.121 0.033908 *  \n",
       "Var197       4.989e-04  1.502e-04   3.322 0.000893 ***\n",
       "Var205      -5.896e-05  2.394e-05  -2.463 0.013791 *  \n",
       "Var210      -2.467e-01  7.751e-02  -3.184 0.001455 ** \n",
       "Var211       5.551e-01  2.143e-01   2.590 0.009589 ** \n",
       "Var218      -4.741e-04  5.548e-05  -8.545  < 2e-16 ***\n",
       "Var219       2.928e-05  1.996e-05   1.467 0.142387    \n",
       "Var221      -8.266e-02  4.866e-02  -1.699 0.089410 .  \n",
       "---\n",
       "Signif. codes:  0 '***' 0.001 '**' 0.01 '*' 0.05 '.' 0.1 ' ' 1\n",
       "\n",
       "(Dispersion parameter for binomial family taken to be 1)\n",
       "\n",
       "    Null deviance: 2628.5  on 4999  degrees of freedom\n",
       "Residual deviance: 2353.2  on 4973  degrees of freedom\n",
       "AIC: 2407.2\n",
       "\n",
       "Number of Fisher Scoring iterations: 14\n"
      ]
     },
     "metadata": {},
     "output_type": "display_data"
    }
   ],
   "source": [
    "# stepwise model\n",
    "step.model <- full.model %>% stepAIC(trace = FALSE)\n",
    "summary(step.model)"
   ]
  },
  {
   "cell_type": "code",
   "execution_count": 130,
   "metadata": {},
   "outputs": [
    {
     "data": {
      "text/html": [
       "0"
      ],
      "text/latex": [
       "0"
      ],
      "text/markdown": [
       "0"
      ],
      "text/plain": [
       "[1] 0"
      ]
     },
     "metadata": {},
     "output_type": "display_data"
    }
   ],
   "source": [
    "# Make predictions\n",
    "probabilities <- predict(step.model, testDF, type = \"response\")\n",
    "predicted.classes <- ifelse(probabilities > 0.5, \"pos\", \"neg\")\n",
    "# Prediction accuracy\n",
    "observed.classes <- testDF$churn\n",
    "mean(predicted.classes == observed.classes)\n"
   ]
  },
  {
   "cell_type": "code",
   "execution_count": 131,
   "metadata": {},
   "outputs": [
    {
     "name": "stderr",
     "output_type": "stream",
     "text": [
      "Setting levels: control = no, case = yes\n",
      "Setting direction: controls < cases\n"
     ]
    },
    {
     "data": {
      "image/png": "[encoded data removed]",
      "text/plain": [
       "plot without title"
      ]
     },
     "metadata": {},
     "output_type": "display_data"
    }
   ],
   "source": [
    "test_roc = roc(testDF$churn ~ probabilities, plot = TRUE, print.auc = TRUE)"
   ]
  },
  {
   "cell_type": "code",
   "execution_count": 65,
   "metadata": {},
   "outputs": [],
   "source": [
    "cm = table(observed.classes, predicted.classes)"
   ]
  },
  {
   "cell_type": "code",
   "execution_count": 66,
   "metadata": {},
   "outputs": [
    {
     "data": {
      "text/plain": [
       "                predicted.classes\n",
       "observed.classes  neg  pos\n",
       "             no  4622   10\n",
       "             yes  360    8"
      ]
     },
     "metadata": {},
     "output_type": "display_data"
    }
   ],
   "source": [
    "cm"
   ]
  },
  {
   "cell_type": "code",
   "execution_count": 127,
   "metadata": {},
   "outputs": [],
   "source": [
    "probabilities <- predict(step.model, reduced_validation_set, type = \"response\")\n",
    "#predicted.classes <- ifelse(probabilities > 0.5, \"pos\", \"neg\")"
   ]
  },
  {
   "cell_type": "code",
   "execution_count": 68,
   "metadata": {},
   "outputs": [],
   "source": [
    "table2 <- cbind(reduced_validation_set,probabilities)"
   ]
  },
  {
   "cell_type": "code",
   "execution_count": 69,
   "metadata": {},
   "outputs": [],
   "source": [
    "table2 <- table2 %>% dplyr::select(cust_id, probabilities)"
   ]
  },
  {
   "cell_type": "code",
   "execution_count": 70,
   "metadata": {},
   "outputs": [],
   "source": [
    "write.csv(table2 , \"C:/Users/rsmadja/Desktop/Master Big Data/S2/Statistical and ML techniques/Individual Project/mbd2020-sml-customer-churn-prediction/predictions2.csv\")"
   ]
  },
  {
   "cell_type": "markdown",
   "metadata": {},
   "source": [
    "# 5. Linear Discriminant Analysis : AUC 0.675"
   ]
  },
  {
   "cell_type": "code",
   "execution_count": 216,
   "metadata": {},
   "outputs": [],
   "source": [
    "lda.fit <- lda(churn ~., data = trainDF, family = binomial)"
   ]
  },
  {
   "cell_type": "code",
   "execution_count": 217,
   "metadata": {},
   "outputs": [],
   "source": [
    "probabilities <- predict(lda.fit, testDF)"
   ]
  },
  {
   "cell_type": "code",
   "execution_count": 218,
   "metadata": {},
   "outputs": [],
   "source": [
    "posterior <- as.data.frame(probabilities$posterior)"
   ]
  },
  {
   "cell_type": "code",
   "execution_count": 219,
   "metadata": {},
   "outputs": [],
   "source": [
    "library(ROCR)"
   ]
  },
  {
   "cell_type": "code",
   "execution_count": 220,
   "metadata": {},
   "outputs": [],
   "source": [
    "pred <- prediction(posterior[,2], testDF$churn)"
   ]
  },
  {
   "cell_type": "code",
   "execution_count": 223,
   "metadata": {},
   "outputs": [
    {
     "data": {
      "image/png": "[encoded data removed]",
      "text/plain": [
       "plot without title"
      ]
     },
     "metadata": {},
     "output_type": "display_data"
    }
   ],
   "source": [
    "roc = performance(pred, measure = \"tpr\", x.measure = \"fpr\")\n",
    "auc.test <- performance(pred, measure = \"auc\")\n",
    "auc.test <- auc.test@y.values\n",
    "\n",
    "\n",
    "plot(roc)\n",
    "abline(a=0, b= 1)\n",
    "text(x = .25, y = .65 ,paste(\"AUC = \", round(auc.test[[1]],3), sep = \"\"))"
   ]
  },
  {
   "cell_type": "code",
   "execution_count": 121,
   "metadata": {},
   "outputs": [],
   "source": [
    "probabilities <- predict(lda.fit, reduced_validation_set, type = \"response\")"
   ]
  },
  {
   "cell_type": "code",
   "execution_count": 122,
   "metadata": {},
   "outputs": [],
   "source": [
    "probs <- probabilities$posterior"
   ]
  },
  {
   "cell_type": "code",
   "execution_count": 123,
   "metadata": {},
   "outputs": [
    {
     "data": {
      "text/html": [
       "10000"
      ],
      "text/latex": [
       "10000"
      ],
      "text/markdown": [
       "10000"
      ],
      "text/plain": [
       "[1] 10000"
      ]
     },
     "metadata": {},
     "output_type": "display_data"
    }
   ],
   "source": [
    "nrow(probs )"
   ]
  },
  {
   "cell_type": "code",
   "execution_count": 124,
   "metadata": {},
   "outputs": [],
   "source": [
    "table_LDA <- cbind(reduced_validation_set,probs)"
   ]
  },
  {
   "cell_type": "code",
   "execution_count": 125,
   "metadata": {},
   "outputs": [],
   "source": [
    "table_LDA <- table_LDA %>% dplyr::select(cust_id, yes)"
   ]
  },
  {
   "cell_type": "code",
   "execution_count": 126,
   "metadata": {},
   "outputs": [],
   "source": [
    "write.csv(table_LDA , \"C:/Users/rsmadja/Desktop/Master Big Data/S2/Statistical and ML techniques/Individual Project/mbd2020-sml-customer-churn-prediction/predictions5.csv\")"
   ]
  },
  {
   "cell_type": "markdown",
   "metadata": {},
   "source": [
    "## The model who performs the best is the Gradient Boosting"
   ]
  }
 ],
 "metadata": {
  "kernelspec": {
   "display_name": "R",
   "language": "R",
   "name": "ir"
  },
  "language_info": {
   "codemirror_mode": "r",
   "file_extension": ".r",
   "mimetype": "text/x-r-source",
   "name": "R",
   "pygments_lexer": "r",
   "version": "3.6.1"
  }
 },
 "nbformat": 4,
 "nbformat_minor": 4
}
