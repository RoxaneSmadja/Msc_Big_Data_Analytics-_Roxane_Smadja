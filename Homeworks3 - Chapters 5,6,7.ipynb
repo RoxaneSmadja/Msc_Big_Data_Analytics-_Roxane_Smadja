{
 "cells": [
  {
   "cell_type": "markdown",
   "metadata": {},
   "source": [
    "# exercice 3 page 198"
   ]
  },
  {
   "cell_type": "markdown",
   "metadata": {},
   "source": [
    "We now review k-fold cross-validation"
   ]
  },
  {
   "cell_type": "markdown",
   "metadata": {},
   "source": [
    "(a) Explain how k-fold cross-validation is implemented."
   ]
  },
  {
   "cell_type": "raw",
   "metadata": {},
   "source": [
    "On a dataset composed of n observations, we split the observations into k groups/folds. \n",
    "One group will be the validation set.\n",
    "All te other groups (k-1) will be the train set.\n",
    "We will compute it k times, each time the validation set will change, and we will compute the mean of the error on the validation set to approximate the test error.\n"
   ]
  },
  {
   "cell_type": "markdown",
   "metadata": {},
   "source": [
    "(b) What are the advantages and disadvantages of k-fold crossvalidation relative to:"
   ]
  },
  {
   "cell_type": "markdown",
   "metadata": {},
   "source": [
    "i. The validation set approach?"
   ]
  },
  {
   "cell_type": "raw",
   "metadata": {},
   "source": [
    "In the validation set approach, we split into 2 equal groups, and we fit the model only one time. \n",
    "In the k-fold cross validation, we fit the model k times, to avoid biais. \n",
    "The k-fold cross validation permitts less variation, and we have more chance to approximate to true test error, because this is a mean of k errors.\n",
    "The valdiation set approach tends to overestimate the test error."
   ]
  },
  {
   "cell_type": "markdown",
   "metadata": {},
   "source": [
    "ii. LOOCV?"
   ]
  },
  {
   "cell_type": "raw",
   "metadata": {},
   "source": [
    "The LOOCV is a special case of the k-fold cross validation where k=n.\n",
    "K-fold has a computational advantage on LOOCV when k<n.\n",
    "\n",
    "LOOCV has a higher variance than k-fold CV with k < n.\n",
    "With LOOCV the outputs of n fitted models are highly positively correlated.\n",
    "Since with k-fold each training set contains (k – 1)n/k observations, the outputs are less correlated with each other.\n",
    "Variance of the test error rate from LOOCV > Variance of the test error rate from k-fold."
   ]
  },
  {
   "cell_type": "markdown",
   "metadata": {},
   "source": [
    "# exercice 8 page 200"
   ]
  },
  {
   "cell_type": "markdown",
   "metadata": {},
   "source": [
    "We will now perform cross-validation on a simulated data set."
   ]
  },
  {
   "cell_type": "markdown",
   "metadata": {},
   "source": [
    "(a) Generate a simulated data set as follows:"
   ]
  },
  {
   "cell_type": "code",
   "execution_count": 1,
   "metadata": {},
   "outputs": [],
   "source": [
    "set.seed(1)\n",
    "x=rnorm(100)\n",
    "y=x-2*x^2+rnorm(100)"
   ]
  },
  {
   "cell_type": "markdown",
   "metadata": {},
   "source": [
    "In this data set, what is n and what is p? Write out the model\n",
    "used to generate the data in equation form."
   ]
  },
  {
   "cell_type": "raw",
   "metadata": {},
   "source": [
    "n=100\n",
    "p=2\n",
    "The model used is :  Y=X−2X2+ε."
   ]
  },
  {
   "cell_type": "markdown",
   "metadata": {},
   "source": [
    "(b) Create a scatterplot of X against Y . Comment on what you find."
   ]
  },
  {
   "cell_type": "code",
   "execution_count": 2,
   "metadata": {},
   "outputs": [
    {
     "data": {
      "image/png": "[encoded data removed]",
      "text/plain": [
       "plot without title"
      ]
     },
     "metadata": {},
     "output_type": "display_data"
    }
   ],
   "source": [
    "plot(x, y)"
   ]
  },
  {
   "cell_type": "raw",
   "metadata": {},
   "source": [
    "We can see a relationship between X and Y in the form of a curve"
   ]
  },
  {
   "cell_type": "code",
   "execution_count": null,
   "metadata": {},
   "outputs": [],
   "source": [
    "(c) Set a random seed, and then compute the LOOCV errors that\n",
    "result from fitting the following four models using least squares:\n",
    "i. Y = β0 + β1X +\n",
    "ii. Y = β0 + β1X + β2X2 +\n",
    "iii. Y = β0 + β1X + β2X2 + β3X3 +\n",
    "iv. Y = β0 + β1X + β2X2 + β3X3 + β4X4 + .\n",
    "Note you may find it helpful to use the data.frame() function to create a single data set containing both X and Y ."
   ]
  },
  {
   "cell_type": "markdown",
   "metadata": {},
   "source": [
    "i. Y = β0 + β1X + ε"
   ]
  },
  {
   "cell_type": "code",
   "execution_count": 5,
   "metadata": {},
   "outputs": [
    {
     "name": "stdout",
     "output_type": "stream",
     "text": [
      "package 'boot' successfully unpacked and MD5 sums checked\n",
      "\n",
      "The downloaded binary packages are in\n",
      "\tC:\\Users\\rsmadja\\AppData\\Local\\Temp\\RtmpcP7ZYl\\downloaded_packages\n"
     ]
    },
    {
     "name": "stderr",
     "output_type": "stream",
     "text": [
      "Warning message:\n",
      "\"package 'boot' was built under R version 3.6.3\""
     ]
    },
    {
     "data": {
      "text/html": [
       "7.28816160667281"
      ],
      "text/latex": [
       "7.28816160667281"
      ],
      "text/markdown": [
       "7.28816160667281"
      ],
      "text/plain": [
       "[1] 7.288162"
      ]
     },
     "metadata": {},
     "output_type": "display_data"
    }
   ],
   "source": [
    "install.packages('boot')\n",
    "library(boot)\n",
    "set.seed(1)\n",
    "Data <- data.frame(x, y)\n",
    "fit.glm.1 <- glm(y ~ x)\n",
    "cv.glm(Data, fit.glm.1)$delta[1]"
   ]
  },
  {
   "cell_type": "markdown",
   "metadata": {},
   "source": [
    "ii. Y = β0 + β1X + β2X2 + ε"
   ]
  },
  {
   "cell_type": "code",
   "execution_count": 6,
   "metadata": {},
   "outputs": [
    {
     "data": {
      "text/html": [
       "0.937423637615551"
      ],
      "text/latex": [
       "0.937423637615551"
      ],
      "text/markdown": [
       "0.937423637615551"
      ],
      "text/plain": [
       "[1] 0.9374236"
      ]
     },
     "metadata": {},
     "output_type": "display_data"
    }
   ],
   "source": [
    "fit.glm.2 <- glm(y ~ poly(x, 2))\n",
    "cv.glm(Data, fit.glm.2)$delta[1]"
   ]
  },
  {
   "cell_type": "markdown",
   "metadata": {},
   "source": [
    "iii. Y = β0 + β1X + β2X2 + β3X3 + ε"
   ]
  },
  {
   "cell_type": "code",
   "execution_count": null,
   "metadata": {},
   "outputs": [],
   "source": [
    "fit.glm.3 <- glm(y ~ poly(x, 3))\n",
    "cv.glm(Data, fit.glm.3)$delta[1]"
   ]
  },
  {
   "cell_type": "markdown",
   "metadata": {},
   "source": [
    "iv. Y = β0 + β1X + β2X2 + β3X3 + β4X4 + ε"
   ]
  },
  {
   "cell_type": "code",
   "execution_count": 15,
   "metadata": {},
   "outputs": [
    {
     "data": {
      "text/html": [
       "0.953904892744804"
      ],
      "text/latex": [
       "0.953904892744804"
      ],
      "text/markdown": [
       "0.953904892744804"
      ],
      "text/plain": [
       "[1] 0.9539049"
      ]
     },
     "metadata": {},
     "output_type": "display_data"
    }
   ],
   "source": [
    "fit.glm.4 <- glm(y ~ poly(x, 4))\n",
    "cv.glm(Data, fit.glm.3)$delta[1]"
   ]
  },
  {
   "cell_type": "markdown",
   "metadata": {},
   "source": [
    "(d) Repeat (c) using another random seed, and report your results.\n",
    "Are your results the same as what you got in (c)? Why?"
   ]
  },
  {
   "cell_type": "markdown",
   "metadata": {},
   "source": [
    "i. Y = β0 + β1X + ε"
   ]
  },
  {
   "cell_type": "code",
   "execution_count": 16,
   "metadata": {},
   "outputs": [
    {
     "data": {
      "text/html": [
       "7.28816160667281"
      ],
      "text/latex": [
       "7.28816160667281"
      ],
      "text/markdown": [
       "7.28816160667281"
      ],
      "text/plain": [
       "[1] 7.288162"
      ]
     },
     "metadata": {},
     "output_type": "display_data"
    }
   ],
   "source": [
    "set.seed(2)\n",
    "Data <- data.frame(x, y)\n",
    "fit.glm.1 <- glm(y ~ x)\n",
    "cv.glm(Data, fit.glm.1)$delta[1]"
   ]
  },
  {
   "cell_type": "markdown",
   "metadata": {},
   "source": [
    "ii. Y = β0 + β1X + β2X2 + ε"
   ]
  },
  {
   "cell_type": "code",
   "execution_count": 17,
   "metadata": {},
   "outputs": [
    {
     "data": {
      "text/html": [
       "0.937423637615552"
      ],
      "text/latex": [
       "0.937423637615552"
      ],
      "text/markdown": [
       "0.937423637615552"
      ],
      "text/plain": [
       "[1] 0.9374236"
      ]
     },
     "metadata": {},
     "output_type": "display_data"
    }
   ],
   "source": [
    "fit.glm.2 <- glm(y ~ poly(x, 2))\n",
    "cv.glm(Data, fit.glm.2)$delta[1]"
   ]
  },
  {
   "cell_type": "markdown",
   "metadata": {},
   "source": [
    "iii. Y = β0 + β1X + β2X2 + β3X3 + ε"
   ]
  },
  {
   "cell_type": "code",
   "execution_count": 18,
   "metadata": {},
   "outputs": [
    {
     "data": {
      "text/html": [
       "0.95662183010894"
      ],
      "text/latex": [
       "0.95662183010894"
      ],
      "text/markdown": [
       "0.95662183010894"
      ],
      "text/plain": [
       "[1] 0.9566218"
      ]
     },
     "metadata": {},
     "output_type": "display_data"
    }
   ],
   "source": [
    "fit.glm.3 <- glm(y ~ poly(x, 3))\n",
    "cv.glm(Data, fit.glm.3)$delta[1]"
   ]
  },
  {
   "cell_type": "markdown",
   "metadata": {},
   "source": [
    "iv. Y = β0 + β1X + β2X2 + β3X3 + β4X4 + ε"
   ]
  },
  {
   "cell_type": "code",
   "execution_count": 19,
   "metadata": {},
   "outputs": [
    {
     "data": {
      "text/html": [
       "0.95662183010894"
      ],
      "text/latex": [
       "0.95662183010894"
      ],
      "text/markdown": [
       "0.95662183010894"
      ],
      "text/plain": [
       "[1] 0.9566218"
      ]
     },
     "metadata": {},
     "output_type": "display_data"
    }
   ],
   "source": [
    "fit.glm.4 <- glm(y ~ poly(x, 4))\n",
    "cv.glm(Data, fit.glm.3)$delta[1]"
   ]
  },
  {
   "cell_type": "raw",
   "metadata": {},
   "source": [
    "The results are exactly the same because the LOOCV will calculte the test error on n observations."
   ]
  },
  {
   "cell_type": "markdown",
   "metadata": {},
   "source": [
    "(e) Which of the models in (c) had the smallest LOOCV error ? Is this what you expected ? Explain your answer."
   ]
  },
  {
   "cell_type": "raw",
   "metadata": {},
   "source": [
    "The lowest LOOCV error is on the 2 predictors. We already notices here in question b where the graphic were quadratic."
   ]
  },
  {
   "cell_type": "markdown",
   "metadata": {},
   "source": [
    "(f) Comment on the statistical significance of the coefficient estimates that results from fitting each of the models in (c) using\n",
    "least squares. Do these results agree with the conclusions drawn\n",
    "based on the cross-validation results?"
   ]
  },
  {
   "cell_type": "code",
   "execution_count": 20,
   "metadata": {},
   "outputs": [
    {
     "data": {
      "text/plain": [
       "\n",
       "Call:\n",
       "glm(formula = y ~ poly(x, 4))\n",
       "\n",
       "Deviance Residuals: \n",
       "    Min       1Q   Median       3Q      Max  \n",
       "-2.0550  -0.6212  -0.1567   0.5952   2.2267  \n",
       "\n",
       "Coefficients:\n",
       "             Estimate Std. Error t value Pr(>|t|)    \n",
       "(Intercept)  -1.55002    0.09591 -16.162  < 2e-16 ***\n",
       "poly(x, 4)1   6.18883    0.95905   6.453 4.59e-09 ***\n",
       "poly(x, 4)2 -23.94830    0.95905 -24.971  < 2e-16 ***\n",
       "poly(x, 4)3   0.26411    0.95905   0.275    0.784    \n",
       "poly(x, 4)4   1.25710    0.95905   1.311    0.193    \n",
       "---\n",
       "Signif. codes:  0 '***' 0.001 '**' 0.01 '*' 0.05 '.' 0.1 ' ' 1\n",
       "\n",
       "(Dispersion parameter for gaussian family taken to be 0.9197797)\n",
       "\n",
       "    Null deviance: 700.852  on 99  degrees of freedom\n",
       "Residual deviance:  87.379  on 95  degrees of freedom\n",
       "AIC: 282.3\n",
       "\n",
       "Number of Fisher Scoring iterations: 2\n"
      ]
     },
     "metadata": {},
     "output_type": "display_data"
    }
   ],
   "source": [
    "summary(fit.glm.4)"
   ]
  },
  {
   "cell_type": "raw",
   "metadata": {},
   "source": [
    "2 predictors are significant, so it confirms the conclusion we drawn in the previous question.\n",
    "The error is minimum for the quadratic model"
   ]
  },
  {
   "cell_type": "markdown",
   "metadata": {},
   "source": [
    "# exercice 1 page 259"
   ]
  },
  {
   "cell_type": "markdown",
   "metadata": {},
   "source": [
    "We perform best subset, forward stepwise, and backward stepwise\n",
    "selection on a single data set. For each approach, we obtain p + 1\n",
    "models, containing 0, 1, 2,...,p predictors. Explain your answers:"
   ]
  },
  {
   "cell_type": "markdown",
   "metadata": {},
   "source": [
    "(a) Which of the three models with k predictors has the smallest\n",
    "training RSS?"
   ]
  },
  {
   "cell_type": "raw",
   "metadata": {},
   "source": [
    "The model with the smallest training RSS is the best subset selection. \n",
    "The best selection model will be chosen including all possible models from 0 to the maximum number of predictors."
   ]
  },
  {
   "cell_type": "markdown",
   "metadata": {},
   "source": [
    "(b) Which of the three models with k predictors has the smallest\n",
    "test RSS?"
   ]
  },
  {
   "cell_type": "code",
   "execution_count": null,
   "metadata": {},
   "outputs": [],
   "source": [
    "The best subset selection will tend to overfitt on the test set. \n",
    "So, it really depends on the dataset: the forwars and backward methods may also have the smallest RSS"
   ]
  },
  {
   "cell_type": "markdown",
   "metadata": {},
   "source": [
    "(c) True or False:\n",
    "i. The predictors in the k-variable model identified by forward\n",
    "stepwise are a subset of the predictors in the (k+1)-variable\n",
    "model identified by forward stepwise selection.\n"
   ]
  },
  {
   "cell_type": "raw",
   "metadata": {},
   "source": [
    "True\n",
    "The model with k+1 variables is one step after the model with k variables because te goal of this model is to find the best model possible by consecutively adding one predictor in the model"
   ]
  },
  {
   "cell_type": "markdown",
   "metadata": {},
   "source": [
    "\n",
    "ii. The predictors in the k-variable model identified by backward stepwise are a subset of the predictors in the (k + 1)-\n",
    "variable model identified by backward stepwise selection.\n"
   ]
  },
  {
   "cell_type": "raw",
   "metadata": {},
   "source": [
    "True. \n",
    "The model with k predictors is one step before the model with k+1 variables because th goal of this model is to soustract at each step one predictor in order to get the best model possible"
   ]
  },
  {
   "cell_type": "markdown",
   "metadata": {},
   "source": [
    "iii. The predictors in the k-variable model identified by backward stepwise are a subset of the predictors in the (k + 1)-\n",
    "variable model identified by forward stepwise selection.\n"
   ]
  },
  {
   "cell_type": "raw",
   "metadata": {},
   "source": [
    "False, those 2 models are different in process. There is no link between the two models."
   ]
  },
  {
   "cell_type": "markdown",
   "metadata": {},
   "source": [
    "iv. The predictors in the k-variable model identified by forward\n",
    "stepwise are a subset of the predictors in the (k+1)-variable\n",
    "model identified by backward stepwise selection.\n"
   ]
  },
  {
   "cell_type": "raw",
   "metadata": {},
   "source": [
    "False, there is no link between the two models. "
   ]
  },
  {
   "cell_type": "markdown",
   "metadata": {},
   "source": [
    "v. The predictors in the k-variable model identified by best\n",
    "subset are a subset of the predictors in the (k + 1)-variable\n",
    "model identified by best subset selection."
   ]
  },
  {
   "cell_type": "raw",
   "metadata": {},
   "source": [
    "False. \n",
    "The best variable subset with k+1 predictors is not necessarily the best vairbale subset with k predictors with one additionnal predictor"
   ]
  },
  {
   "cell_type": "markdown",
   "metadata": {},
   "source": [
    "# exercice 9 page 263"
   ]
  },
  {
   "cell_type": "markdown",
   "metadata": {},
   "source": [
    "In this exercise, we will predict the number of applications received\n",
    "using the other variables in the College data set."
   ]
  },
  {
   "cell_type": "markdown",
   "metadata": {},
   "source": [
    "a) Split the data set into a training set and a test set."
   ]
  },
  {
   "cell_type": "code",
   "execution_count": 4,
   "metadata": {},
   "outputs": [
    {
     "name": "stderr",
     "output_type": "stream",
     "text": [
      "Warning message:\n",
      "\"package 'ISLR' was built under R version 3.6.3\""
     ]
    },
    {
     "data": {
      "text/html": [
       "543"
      ],
      "text/latex": [
       "543"
      ],
      "text/markdown": [
       "543"
      ],
      "text/plain": [
       "[1] 543"
      ]
     },
     "metadata": {},
     "output_type": "display_data"
    },
    {
     "data": {
      "text/html": [
       "234"
      ],
      "text/latex": [
       "234"
      ],
      "text/markdown": [
       "234"
      ],
      "text/plain": [
       "[1] 234"
      ]
     },
     "metadata": {},
     "output_type": "display_data"
    },
    {
     "data": {
      "text/html": [
       "<table>\n",
       "<thead><tr><th></th><th scope=col>Private</th><th scope=col>Apps</th><th scope=col>Accept</th><th scope=col>Enroll</th><th scope=col>Top10perc</th><th scope=col>Top25perc</th><th scope=col>F.Undergrad</th><th scope=col>P.Undergrad</th><th scope=col>Outstate</th><th scope=col>Room.Board</th><th scope=col>Books</th><th scope=col>Personal</th><th scope=col>PhD</th><th scope=col>Terminal</th><th scope=col>S.F.Ratio</th><th scope=col>perc.alumni</th><th scope=col>Expend</th><th scope=col>Grad.Rate</th></tr></thead>\n",
       "<tbody>\n",
       "\t<tr><th scope=row>Abilene Christian University</th><td>Yes  </td><td>1660 </td><td>1232 </td><td>721  </td><td>23   </td><td>52   </td><td>2885 </td><td> 537 </td><td> 7440</td><td>3300 </td><td>450  </td><td>2200 </td><td>70   </td><td>78   </td><td>18.1 </td><td>12   </td><td> 7041</td><td>60   </td></tr>\n",
       "\t<tr><th scope=row>Adelphi University</th><td>Yes  </td><td>2186 </td><td>1924 </td><td>512  </td><td>16   </td><td>29   </td><td>2683 </td><td>1227 </td><td>12280</td><td>6450 </td><td>750  </td><td>1500 </td><td>29   </td><td>30   </td><td>12.2 </td><td>16   </td><td>10527</td><td>56   </td></tr>\n",
       "\t<tr><th scope=row>Adrian College</th><td>Yes  </td><td>1428 </td><td>1097 </td><td>336  </td><td>22   </td><td>50   </td><td>1036 </td><td>  99 </td><td>11250</td><td>3750 </td><td>400  </td><td>1165 </td><td>53   </td><td>66   </td><td>12.9 </td><td>30   </td><td> 8735</td><td>54   </td></tr>\n",
       "\t<tr><th scope=row>Agnes Scott College</th><td>Yes  </td><td> 417 </td><td> 349 </td><td>137  </td><td>60   </td><td>89   </td><td> 510 </td><td>  63 </td><td>12960</td><td>5450 </td><td>450  </td><td> 875 </td><td>92   </td><td>97   </td><td> 7.7 </td><td>37   </td><td>19016</td><td>59   </td></tr>\n",
       "\t<tr><th scope=row>Alaska Pacific University</th><td>Yes  </td><td> 193 </td><td> 146 </td><td> 55  </td><td>16   </td><td>44   </td><td> 249 </td><td> 869 </td><td> 7560</td><td>4120 </td><td>800  </td><td>1500 </td><td>76   </td><td>72   </td><td>11.9 </td><td> 2   </td><td>10922</td><td>15   </td></tr>\n",
       "\t<tr><th scope=row>Albertson College</th><td>Yes  </td><td> 587 </td><td> 479 </td><td>158  </td><td>38   </td><td>62   </td><td> 678 </td><td>  41 </td><td>13500</td><td>3335 </td><td>500  </td><td> 675 </td><td>67   </td><td>73   </td><td> 9.4 </td><td>11   </td><td> 9727</td><td>55   </td></tr>\n",
       "</tbody>\n",
       "</table>\n"
      ],
      "text/latex": [
       "\\begin{tabular}{r|llllllllllllllllll}\n",
       "  & Private & Apps & Accept & Enroll & Top10perc & Top25perc & F.Undergrad & P.Undergrad & Outstate & Room.Board & Books & Personal & PhD & Terminal & S.F.Ratio & perc.alumni & Expend & Grad.Rate\\\\\n",
       "\\hline\n",
       "\tAbilene Christian University & Yes   & 1660  & 1232  & 721   & 23    & 52    & 2885  &  537  &  7440 & 3300  & 450   & 2200  & 70    & 78    & 18.1  & 12    &  7041 & 60   \\\\\n",
       "\tAdelphi University & Yes   & 2186  & 1924  & 512   & 16    & 29    & 2683  & 1227  & 12280 & 6450  & 750   & 1500  & 29    & 30    & 12.2  & 16    & 10527 & 56   \\\\\n",
       "\tAdrian College & Yes   & 1428  & 1097  & 336   & 22    & 50    & 1036  &   99  & 11250 & 3750  & 400   & 1165  & 53    & 66    & 12.9  & 30    &  8735 & 54   \\\\\n",
       "\tAgnes Scott College & Yes   &  417  &  349  & 137   & 60    & 89    &  510  &   63  & 12960 & 5450  & 450   &  875  & 92    & 97    &  7.7  & 37    & 19016 & 59   \\\\\n",
       "\tAlaska Pacific University & Yes   &  193  &  146  &  55   & 16    & 44    &  249  &  869  &  7560 & 4120  & 800   & 1500  & 76    & 72    & 11.9  &  2    & 10922 & 15   \\\\\n",
       "\tAlbertson College & Yes   &  587  &  479  & 158   & 38    & 62    &  678  &   41  & 13500 & 3335  & 500   &  675  & 67    & 73    &  9.4  & 11    &  9727 & 55   \\\\\n",
       "\\end{tabular}\n"
      ],
      "text/markdown": [
       "\n",
       "| <!--/--> | Private | Apps | Accept | Enroll | Top10perc | Top25perc | F.Undergrad | P.Undergrad | Outstate | Room.Board | Books | Personal | PhD | Terminal | S.F.Ratio | perc.alumni | Expend | Grad.Rate |\n",
       "|---|---|---|---|---|---|---|---|---|---|---|---|---|---|---|---|---|---|---|\n",
       "| Abilene Christian University | Yes   | 1660  | 1232  | 721   | 23    | 52    | 2885  |  537  |  7440 | 3300  | 450   | 2200  | 70    | 78    | 18.1  | 12    |  7041 | 60    |\n",
       "| Adelphi University | Yes   | 2186  | 1924  | 512   | 16    | 29    | 2683  | 1227  | 12280 | 6450  | 750   | 1500  | 29    | 30    | 12.2  | 16    | 10527 | 56    |\n",
       "| Adrian College | Yes   | 1428  | 1097  | 336   | 22    | 50    | 1036  |   99  | 11250 | 3750  | 400   | 1165  | 53    | 66    | 12.9  | 30    |  8735 | 54    |\n",
       "| Agnes Scott College | Yes   |  417  |  349  | 137   | 60    | 89    |  510  |   63  | 12960 | 5450  | 450   |  875  | 92    | 97    |  7.7  | 37    | 19016 | 59    |\n",
       "| Alaska Pacific University | Yes   |  193  |  146  |  55   | 16    | 44    |  249  |  869  |  7560 | 4120  | 800   | 1500  | 76    | 72    | 11.9  |  2    | 10922 | 15    |\n",
       "| Albertson College | Yes   |  587  |  479  | 158   | 38    | 62    |  678  |   41  | 13500 | 3335  | 500   |  675  | 67    | 73    |  9.4  | 11    |  9727 | 55    |\n",
       "\n"
      ],
      "text/plain": [
       "                             Private Apps Accept Enroll Top10perc Top25perc\n",
       "Abilene Christian University Yes     1660 1232   721    23        52       \n",
       "Adelphi University           Yes     2186 1924   512    16        29       \n",
       "Adrian College               Yes     1428 1097   336    22        50       \n",
       "Agnes Scott College          Yes      417  349   137    60        89       \n",
       "Alaska Pacific University    Yes      193  146    55    16        44       \n",
       "Albertson College            Yes      587  479   158    38        62       \n",
       "                             F.Undergrad P.Undergrad Outstate Room.Board Books\n",
       "Abilene Christian University 2885         537         7440    3300       450  \n",
       "Adelphi University           2683        1227        12280    6450       750  \n",
       "Adrian College               1036          99        11250    3750       400  \n",
       "Agnes Scott College           510          63        12960    5450       450  \n",
       "Alaska Pacific University     249         869         7560    4120       800  \n",
       "Albertson College             678          41        13500    3335       500  \n",
       "                             Personal PhD Terminal S.F.Ratio perc.alumni Expend\n",
       "Abilene Christian University 2200     70  78       18.1      12           7041 \n",
       "Adelphi University           1500     29  30       12.2      16          10527 \n",
       "Adrian College               1165     53  66       12.9      30           8735 \n",
       "Agnes Scott College           875     92  97        7.7      37          19016 \n",
       "Alaska Pacific University    1500     76  72       11.9       2          10922 \n",
       "Albertson College             675     67  73        9.4      11           9727 \n",
       "                             Grad.Rate\n",
       "Abilene Christian University 60       \n",
       "Adelphi University           56       \n",
       "Adrian College               54       \n",
       "Agnes Scott College          59       \n",
       "Alaska Pacific University    15       \n",
       "Albertson College            55       "
      ]
     },
     "metadata": {},
     "output_type": "display_data"
    }
   ],
   "source": [
    "library(ISLR)\n",
    "attach(College)\n",
    "set.seed(11)\n",
    "subset<-sample(nrow(College),nrow(College)*0.7)\n",
    "train_set<-College[subset,]\n",
    "test_set<-College[-subset,]\n",
    "nrow(train_set)\n",
    "nrow(test_set)\n",
    "head(College)\n",
    "help(College)"
   ]
  },
  {
   "cell_type": "markdown",
   "metadata": {},
   "source": [
    "b) Fit a linear model using least squares on the training set, and report the test error obtained."
   ]
  },
  {
   "cell_type": "code",
   "execution_count": 5,
   "metadata": {},
   "outputs": [
    {
     "ename": "ERROR",
     "evalue": "Error in predict(ls.full, test_set): object 'ls.full' not found\n",
     "output_type": "error",
     "traceback": [
      "Error in predict(ls.full, test_set): object 'ls.full' not found\nTraceback:\n",
      "1. predict(ls.full, test_set)"
     ]
    }
   ],
   "source": [
    "#fit the model on the train set\n",
    "fit.lm <- lm(Apps~.,data=train_set)\n",
    "#fit the model on the test set\n",
    "pred.lm <- predict(ls.full,test_set)\n",
    "#calculate the test error\n",
    "testerror <- mean((test_set$Apps)^2)\n",
    "testerror"
   ]
  },
  {
   "cell_type": "raw",
   "metadata": {},
   "source": [
    "The test error is 18458617.24"
   ]
  },
  {
   "cell_type": "markdown",
   "metadata": {},
   "source": [
    "c) Fit a ridge regression model on the training set, with λ chosenby cross-validation. Report the test error obtained."
   ]
  },
  {
   "cell_type": "code",
   "execution_count": 6,
   "metadata": {},
   "outputs": [
    {
     "name": "stdout",
     "output_type": "stream",
     "text": [
      "\n",
      "  There is a binary version available but the source version is later:\n",
      "       binary source needs_compilation\n",
      "glmnet    4.1  4.1-1              TRUE\n",
      "\n",
      "  Binaries will be installed\n"
     ]
    },
    {
     "name": "stderr",
     "output_type": "stream",
     "text": [
      "Warning message:\n",
      "\"package 'glmnet' is in use and will not be installed\""
     ]
    },
    {
     "data": {
      "text/html": [
       "0.01"
      ],
      "text/latex": [
       "0.01"
      ],
      "text/markdown": [
       "0.01"
      ],
      "text/plain": [
       "[1] 0.01"
      ]
     },
     "metadata": {},
     "output_type": "display_data"
    },
    {
     "data": {
      "text/html": [
       "680303.984827689"
      ],
      "text/latex": [
       "680303.984827689"
      ],
      "text/markdown": [
       "680303.984827689"
      ],
      "text/plain": [
       "[1] 680304"
      ]
     },
     "metadata": {},
     "output_type": "display_data"
    }
   ],
   "source": [
    "install.packages(\"glmnet\")\n",
    "library(glmnet)\n",
    "train.mat <- model.matrix(Apps ~ ., data = train_set)\n",
    "test.mat <- model.matrix(Apps ~ ., data = test_set)\n",
    "grid <- 10 ^ seq(4, -2, length = 100)\n",
    "fit.ridge <- glmnet(train.mat, train_set$Apps, alpha = 0, lambda = grid, thresh = 1e-12)\n",
    "cv.ridge <- cv.glmnet(train.mat, train_set$Apps, alpha = 0, lambda = grid, thresh = 1e-12)\n",
    "bestlambda.ridge <- cv.ridge$lambda.min\n",
    "bestlambda.ridge\n",
    "\n",
    "pred.ridge <- predict(fit.ridge, s = bestlambda.ridge, newx = test.mat)\n",
    "mean((pred.ridge - test_set$Apps)^2)"
   ]
  },
  {
   "cell_type": "raw",
   "metadata": {},
   "source": [
    "The test error is 680303.98\n",
    "\n",
    "The test MSE is lower for least squared method than for the ridge."
   ]
  },
  {
   "cell_type": "markdown",
   "metadata": {},
   "source": [
    "d) Fit a lasso model on the training set, with λ chosen by cross-validation. Report the test error obtained, along with the number of non-zero coefficient estimates."
   ]
  },
  {
   "cell_type": "code",
   "execution_count": 7,
   "metadata": {},
   "outputs": [
    {
     "data": {
      "text/html": [
       "0.01"
      ],
      "text/latex": [
       "0.01"
      ],
      "text/markdown": [
       "0.01"
      ],
      "text/plain": [
       "[1] 0.01"
      ]
     },
     "metadata": {},
     "output_type": "display_data"
    }
   ],
   "source": [
    "fit.lasso <- glmnet(train.mat, train_set$Apps, alpha = 1, lambda = grid, thresh = 1e-12)\n",
    "cv.lasso <- cv.glmnet(train.mat, train_set$Apps, alpha = 1, lambda = grid, thresh = 1e-12)\n",
    "bestlambda.lasso <- cv.lasso$lambda.min\n",
    "bestlambda.lasso"
   ]
  },
  {
   "cell_type": "code",
   "execution_count": 8,
   "metadata": {},
   "outputs": [
    {
     "data": {
      "text/html": [
       "680231.606830961"
      ],
      "text/latex": [
       "680231.606830961"
      ],
      "text/markdown": [
       "680231.606830961"
      ],
      "text/plain": [
       "[1] 680231.6"
      ]
     },
     "metadata": {},
     "output_type": "display_data"
    }
   ],
   "source": [
    "pred.lasso <- predict(fit.lasso, s = bestlambda.lasso, newx = test.mat)\n",
    "mean((pred.lasso - test_set$Apps)^2)"
   ]
  },
  {
   "cell_type": "raw",
   "metadata": {},
   "source": [
    "The test error is 680231.60. \n",
    "\n",
    "The test with the lasso model is lower than the Least squared method and the ridge regression"
   ]
  },
  {
   "cell_type": "code",
   "execution_count": 9,
   "metadata": {},
   "outputs": [
    {
     "data": {
      "text/plain": [
       "19 x 1 sparse Matrix of class \"dgCMatrix\"\n",
       "                        1\n",
       "(Intercept) -3.119599e+02\n",
       "(Intercept)  .           \n",
       "PrivateYes  -5.306365e+02\n",
       "Accept       1.677124e+00\n",
       "Enroll      -1.344497e+00\n",
       "Top10perc    6.341209e+01\n",
       "Top25perc   -2.214441e+01\n",
       "F.Undergrad  1.064107e-01\n",
       "P.Undergrad  7.114242e-03\n",
       "Outstate    -9.782167e-02\n",
       "Room.Board   1.356616e-01\n",
       "Books       -2.033689e-01\n",
       "Personal     1.461040e-01\n",
       "PhD         -9.597043e+00\n",
       "Terminal    -7.472047e-01\n",
       "S.F.Ratio    1.391879e+01\n",
       "perc.alumni -1.081542e+00\n",
       "Expend       7.558538e-02\n",
       "Grad.Rate    1.038614e+01"
      ]
     },
     "metadata": {},
     "output_type": "display_data"
    }
   ],
   "source": [
    "predict(fit.lasso, s = bestlambda.lasso, type = \"coefficients\")"
   ]
  },
  {
   "cell_type": "markdown",
   "metadata": {},
   "source": [
    "e) Fit a PCR model on the training set, with M chosen by cross-validation. Report the test error obtained, along with the value of M selected by cross-validation."
   ]
  },
  {
   "cell_type": "code",
   "execution_count": 10,
   "metadata": {},
   "outputs": [
    {
     "name": "stdout",
     "output_type": "stream",
     "text": [
      "package 'pcr' successfully unpacked and MD5 sums checked\n",
      "\n",
      "The downloaded binary packages are in\n",
      "\tC:\\Users\\rsmadja\\AppData\\Local\\Temp\\Rtmp2r4i1t\\downloaded_packages\n"
     ]
    },
    {
     "name": "stderr",
     "output_type": "stream",
     "text": [
      "Warning message:\n",
      "\"package 'pcr' was built under R version 3.6.3\""
     ]
    }
   ],
   "source": [
    "install.packages(\"pcr\")\n",
    "library(pcr)"
   ]
  },
  {
   "cell_type": "code",
   "execution_count": 11,
   "metadata": {},
   "outputs": [
    {
     "ename": "ERROR",
     "evalue": "Error in pcr(Apps ~ ., data = train_set, scale = TRUE, validation = \"CV\"): could not find function \"pcr\"\n",
     "output_type": "error",
     "traceback": [
      "Error in pcr(Apps ~ ., data = train_set, scale = TRUE, validation = \"CV\"): could not find function \"pcr\"\nTraceback:\n"
     ]
    }
   ],
   "source": [
    "fit.pcr <- pcr(Apps ~ ., data = train_set, scale = TRUE, validation = \"CV\")\n",
    "validationplot(fit.pcr, val.type = \"MSEP\")"
   ]
  },
  {
   "cell_type": "code",
   "execution_count": null,
   "metadata": {},
   "outputs": [],
   "source": [
    "pred.pcr <- predict(fit.pcr, test_set, ncomp = 10)\n",
    "mean((pred.pcr - test_set$Apps)^2)"
   ]
  },
  {
   "cell_type": "raw",
   "metadata": {},
   "source": [
    "The test error is higher than all other methods except the least squared."
   ]
  },
  {
   "cell_type": "markdown",
   "metadata": {},
   "source": [
    "f) Fit a PLS model on the training set, with M chosen by cross-validation. Report the test error obtained, along with the value of M selected by cross-validation."
   ]
  },
  {
   "cell_type": "code",
   "execution_count": null,
   "metadata": {},
   "outputs": [],
   "source": [
    "install.packages(\"pls\")\n",
    "library(pls)"
   ]
  },
  {
   "cell_type": "code",
   "execution_count": null,
   "metadata": {},
   "outputs": [],
   "source": [
    "fit.pls <- plsr(Apps ~ ., data = train_set, scale = TRUE, validation = \"CV\")\n",
    "validationplot(fit.pls, val.type = \"MSEP\")"
   ]
  },
  {
   "cell_type": "code",
   "execution_count": null,
   "metadata": {},
   "outputs": [],
   "source": [
    "pred.pls <- predict(fit.pls, test_set, ncomp = 10)\n",
    "mean((pred.pls - test_set$Apps)^2)"
   ]
  },
  {
   "cell_type": "raw",
   "metadata": {},
   "source": [
    "The test error is 661659.17927847. This is the lowest test error compared to all other methods."
   ]
  },
  {
   "cell_type": "markdown",
   "metadata": {},
   "source": [
    "g. Comment on the results obtained. How accurately can we predict the number of college applications received ? Is there much difference among the test errors resulting from these five approaches ?"
   ]
  },
  {
   "cell_type": "raw",
   "metadata": {},
   "source": [
    "The lowest test error is for the pls method. The biggest is the MSE. In order to get more precisions about the models, we can compute the R squared for each of the method."
   ]
  },
  {
   "cell_type": "code",
   "execution_count": null,
   "metadata": {},
   "outputs": [],
   "source": [
    "test.avg <- mean(test_set$Apps)\n",
    "lm.r2 <- 1 - mean((pred.lm - test_set$Apps)^2) / mean((test.avg - test_set$Apps)^2)\n",
    "lm.r2\n",
    "ridge.r2 <- 1 - mean((pred.ridge - test_set$Apps)^2) / mean((test.avg - test_set$Apps)^2)\n",
    "ridge.r2\n",
    "lasso.r2 <- 1 - mean((pred.lasso - test_set$Apps)^2) / mean((test.avg - test_set$Apps)^2)\n",
    "lasso.r2\n",
    "pcr.r2 <- 1 - mean((pred.pcr - test_set$Apps)^2) / mean((test.avg - test_set$Apps)^2)\n",
    "pcr.r2\n",
    "pls.r2 <- 1 - mean((pred.pls - test_set$Apps)^2) / mean((test.avg - test_set$Apps)^2)\n",
    "pls.r2 "
   ]
  },
  {
   "cell_type": "raw",
   "metadata": {},
   "source": [
    "All models except the one with the pcr method have high accuracy."
   ]
  },
  {
   "cell_type": "markdown",
   "metadata": {},
   "source": [
    "# exercice 9 page 299"
   ]
  },
  {
   "cell_type": "markdown",
   "metadata": {},
   "source": [
    "This question uses the variables dis (the weighted mean of distances\n",
    "to five Boston employment centers) and nox (nitrogen oxides concentration in parts per 10 million) from the Boston data. We will treat\n",
    "dis as the predictor and nox as the response."
   ]
  },
  {
   "cell_type": "markdown",
   "metadata": {},
   "source": [
    "(a) Use the poly() function to fit a cubic polynomial regression to\n",
    "predict nox using dis. Report the regression output, and plot\n",
    "the resulting data and polynomial fits."
   ]
  },
  {
   "cell_type": "code",
   "execution_count": 1,
   "metadata": {},
   "outputs": [
    {
     "name": "stderr",
     "output_type": "stream",
     "text": [
      "Loading required package: MASS\n",
      "Warning message:\n",
      "\"package 'MASS' was built under R version 3.6.3\"Loading required package: tidyverse\n",
      "Warning message in library(package, lib.loc = lib.loc, character.only = TRUE, logical.return = TRUE, :\n",
      "\"there is no package called 'tidyverse'\"Loading required package: ggplot2\n",
      "Warning message:\n",
      "\"package 'ggplot2' was built under R version 3.6.3\"Loading required package: ggthemes\n",
      "Warning message in library(package, lib.loc = lib.loc, character.only = TRUE, logical.return = TRUE, :\n",
      "\"there is no package called 'ggthemes'\"Loading required package: broom\n",
      "Warning message in library(package, lib.loc = lib.loc, character.only = TRUE, logical.return = TRUE, :\n",
      "\"there is no package called 'broom'\"Loading required package: knitr\n",
      "Warning message:\n",
      "\"package 'knitr' was built under R version 3.6.3\"Loading required package: caret\n",
      "Warning message:\n",
      "\"package 'caret' was built under R version 3.6.3\"Loading required package: lattice\n",
      "Warning message:\n",
      "\"package 'lattice' was built under R version 3.6.3\"Loading required package: dplyr\n",
      "Warning message:\n",
      "\"package 'dplyr' was built under R version 3.6.3\"\n",
      "Attaching package: 'dplyr'\n",
      "\n",
      "The following object is masked from 'package:MASS':\n",
      "\n",
      "    select\n",
      "\n",
      "The following objects are masked from 'package:stats':\n",
      "\n",
      "    filter, lag\n",
      "\n",
      "The following objects are masked from 'package:base':\n",
      "\n",
      "    intersect, setdiff, setequal, union\n",
      "\n"
     ]
    }
   ],
   "source": [
    "set.seed(1)\n",
    "require(MASS); require(tidyverse); require(ggplot2); require(ggthemes)\n",
    "require(broom); require(knitr); require(caret); require(dplyr)\n",
    "\n",
    "\n",
    "model <- lm(nox ~ poly(dis, 3), data = Boston)\n"
   ]
  },
  {
   "cell_type": "code",
   "execution_count": 2,
   "metadata": {},
   "outputs": [
    {
     "data": {
      "image/png": "[encoded data removed]",
      "text/plain": [
       "plot without title"
      ]
     },
     "metadata": {},
     "output_type": "display_data"
    }
   ],
   "source": [
    "plot(nox ~ dis, data = Boston, col = \"green\")\n",
    "points(Boston$dis, model$fitted.values, col = 'red')"
   ]
  },
  {
   "cell_type": "markdown",
   "metadata": {},
   "source": [
    "b) Plot the polynomial fits for a range of different polynomial degrees (say, from 1 to 10), and report the associated residual sum of squares."
   ]
  },
  {
   "cell_type": "code",
   "execution_count": 3,
   "metadata": {},
   "outputs": [
    {
     "data": {
      "image/png": "[encoded data removed]",
      "text/plain": [
       "plot without title"
      ]
     },
     "metadata": {},
     "output_type": "display_data"
    }
   ],
   "source": [
    "rss <- rep(NA, 10)\n",
    "for (i in 1:10) {\n",
    "  fit <- lm(nox ~ poly(dis, i), data = Boston)\n",
    "  rss[i] <- sum(fit$residuals ^ 2)\n",
    "}\n",
    "plot(1:10, rss, type = 'l', xlab = \"Degree\", ylab = \"RSS\")"
   ]
  },
  {
   "cell_type": "markdown",
   "metadata": {},
   "source": [
    "c) Perform cross-validation or another approach to select the optimal degree for the polynomial, and explain your results"
   ]
  },
  {
   "cell_type": "code",
   "execution_count": 4,
   "metadata": {},
   "outputs": [
    {
     "name": "stdout",
     "output_type": "stream",
     "text": [
      "package 'boot' successfully unpacked and MD5 sums checked\n",
      "\n",
      "The downloaded binary packages are in\n",
      "\tC:\\Users\\rsmadja\\AppData\\Local\\Temp\\RtmpKoizxJ\\downloaded_packages\n"
     ]
    },
    {
     "name": "stderr",
     "output_type": "stream",
     "text": [
      "Warning message:\n",
      "\"package 'boot' was built under R version 3.6.3\"\n",
      "Attaching package: 'boot'\n",
      "\n",
      "The following object is masked from 'package:lattice':\n",
      "\n",
      "    melanoma\n",
      "\n"
     ]
    }
   ],
   "source": [
    "install.packages(\"boot\")\n",
    "library(boot)\n"
   ]
  },
  {
   "cell_type": "code",
   "execution_count": 5,
   "metadata": {},
   "outputs": [
    {
     "data": {
      "image/png": "[encoded data removed]",
      "text/plain": [
       "plot without title"
      ]
     },
     "metadata": {},
     "output_type": "display_data"
    }
   ],
   "source": [
    "\n",
    "testMSE <- rep(NA, 10)\n",
    "for (i in 1:10) {\n",
    "  fit <- glm(nox ~ poly(dis, i), data = Boston)\n",
    "  testMSE[i] <- cv.glm(Boston, fit, K = 10)$delta[1]\n",
    "}\n",
    "plot(1:10, testMSE, type = 'l', xlab = \"Degree\", ylab = \"Test MSE\")\n",
    "points(which.min(testMSE), testMSE[which.min(testMSE)], col = 'red')"
   ]
  },
  {
   "cell_type": "raw",
   "metadata": {},
   "source": [
    "The best model will be with 4 degree according to cross validation"
   ]
  },
  {
   "cell_type": "markdown",
   "metadata": {},
   "source": [
    "d) Use the bs() function to fit a regression spline to predict nox using dis. Report the output for the fit using four degrees of freedom. How did you choose the knots? Plot the resulting fit."
   ]
  },
  {
   "cell_type": "code",
   "execution_count": 6,
   "metadata": {},
   "outputs": [
    {
     "name": "stderr",
     "output_type": "stream",
     "text": [
      "Warning message:\n",
      "\"package 'stats' is not available (for R version 3.6.1)\"Warning message:\n",
      "\"package 'stats' is a base package, and should not be updated\"Warning message:\n",
      "\"package 'graphics' is not available (for R version 3.6.1)\"Warning message:\n",
      "\"package 'graphics' is a base package, and should not be updated\"Warning message:\n",
      "\"package 'splines' is not available (for R version 3.6.1)\"Warning message:\n",
      "\"package 'splines' is a base package, and should not be updated\""
     ]
    }
   ],
   "source": [
    "install.packages(\"stats\")\n",
    "install.packages(\"graphics\")\n",
    "library(\"stats\")\n",
    "library(\"graphics\")\n",
    "install.packages(\"splines\")\n",
    "library(\"splines\")"
   ]
  },
  {
   "cell_type": "code",
   "execution_count": 7,
   "metadata": {},
   "outputs": [
    {
     "data": {
      "text/plain": [
       "   Min. 1st Qu.  Median    Mean 3rd Qu.    Max. \n",
       "  1.130   2.100   3.207   3.795   5.188  12.127 "
      ]
     },
     "metadata": {},
     "output_type": "display_data"
    }
   ],
   "source": [
    "summary(Boston$dis)"
   ]
  },
  {
   "cell_type": "raw",
   "metadata": {},
   "source": [
    "We chose knots equal to min, median and max."
   ]
  },
  {
   "cell_type": "code",
   "execution_count": 8,
   "metadata": {},
   "outputs": [
    {
     "data": {
      "text/plain": [
       "\n",
       "Call:\n",
       "lm(formula = nox ~ bs(dis, df = 4, knots = c(1, 3, 12)), data = Boston)\n",
       "\n",
       "Residuals:\n",
       "      Min        1Q    Median        3Q       Max \n",
       "-0.127192 -0.038720 -0.007968  0.025192  0.192060 \n",
       "\n",
       "Coefficients: (1 not defined because of singularities)\n",
       "                                      Estimate Std. Error t value Pr(>|t|)    \n",
       "(Intercept)                            0.41000    0.06177   6.637 8.35e-11 ***\n",
       "bs(dis, df = 4, knots = c(1, 3, 12))1  0.31512    0.06368   4.948 1.02e-06 ***\n",
       "bs(dis, df = 4, knots = c(1, 3, 12))2  0.28215    0.06255   4.511 8.06e-06 ***\n",
       "bs(dis, df = 4, knots = c(1, 3, 12))3 -0.16311    0.06762  -2.412   0.0162 *  \n",
       "bs(dis, df = 4, knots = c(1, 3, 12))4  0.17078    0.07598   2.248   0.0250 *  \n",
       "bs(dis, df = 4, knots = c(1, 3, 12))5 -0.13649    0.08811  -1.549   0.1220    \n",
       "bs(dis, df = 4, knots = c(1, 3, 12))6       NA         NA      NA       NA    \n",
       "---\n",
       "Signif. codes:  0 '***' 0.001 '**' 0.01 '*' 0.05 '.' 0.1 ' ' 1\n",
       "\n",
       "Residual standard error: 0.06177 on 500 degrees of freedom\n",
       "Multiple R-squared:  0.7186,\tAdjusted R-squared:  0.7158 \n",
       "F-statistic: 255.4 on 5 and 500 DF,  p-value: < 2.2e-16\n"
      ]
     },
     "metadata": {},
     "output_type": "display_data"
    }
   ],
   "source": [
    "sp.fit <- lm(nox ~ bs(dis, df = 4, knots = c(1, 3, 12)), data = Boston)\n",
    "summary(sp.fit)"
   ]
  },
  {
   "cell_type": "code",
   "execution_count": 9,
   "metadata": {},
   "outputs": [
    {
     "name": "stderr",
     "output_type": "stream",
     "text": [
      "Warning message in predict.lm(sp.fit, data.frame(dis = Boston$dis)):\n",
      "\"prediction from a rank-deficient fit may be misleading\""
     ]
    },
    {
     "data": {
      "image/png": "[encoded data removed]",
      "text/plain": [
       "plot without title"
      ]
     },
     "metadata": {},
     "output_type": "display_data"
    }
   ],
   "source": [
    "sp.pred <- predict(sp.fit, data.frame(dis = Boston$dis))\n",
    "plot(nox ~ dis, data = Boston, col = \"green\")\n",
    "points(Boston$dis, sp.fit$fitted.values, col = 'red')"
   ]
  },
  {
   "cell_type": "markdown",
   "metadata": {},
   "source": [
    "e) Now fit a regression spline for a range of degrees of freedom, and plot the resulting fits and report the resulting RSS. Describe the results obtained."
   ]
  },
  {
   "cell_type": "code",
   "execution_count": 27,
   "metadata": {},
   "outputs": [
    {
     "data": {
      "image/png": "[encoded data removed]",
      "text/plain": [
       "plot without title"
      ]
     },
     "metadata": {},
     "output_type": "display_data"
    }
   ],
   "source": [
    "res <- c()\n",
    "range <- 3:16\n",
    "\n",
    "for (freedom in range) {\n",
    "  fit <- lm(nox ~ bs(dis, df = freedom), data = Boston)\n",
    "  res <- c(res, sum(fit$residuals ^ 2))\n",
    "}\n",
    "\n",
    "plot(range, res, type = 'l', xlab = 'degree of freedom', ylab = 'RSS')"
   ]
  },
  {
   "cell_type": "raw",
   "metadata": {},
   "source": [
    "The best degree of freedom seems to be 14."
   ]
  },
  {
   "cell_type": "markdown",
   "metadata": {},
   "source": [
    "f) Perform cross-validation or another approach in order to select the best degrees of freedom for a regression spline on this data. Describe your results."
   ]
  },
  {
   "cell_type": "code",
   "execution_count": 40,
   "metadata": {},
   "outputs": [
    {
     "name": "stderr",
     "output_type": "stream",
     "text": [
      "Warning message in bs(dis, degree = 3L, knots = c(`7.142857%` = 1.54201428571429, :\n",
      "\"some 'x' values beyond boundary knots may cause ill-conditioned bases\"Warning message in bs(dis, degree = 3L, knots = c(`7.142857%` = 1.54201428571429, :\n",
      "\"some 'x' values beyond boundary knots may cause ill-conditioned bases\"Warning message in bs(dis, degree = 3L, knots = c(`7.142857%` = 1.5284, `14.28571%` = 1.78037142857143, :\n",
      "\"some 'x' values beyond boundary knots may cause ill-conditioned bases\"Warning message in bs(dis, degree = 3L, knots = c(`7.142857%` = 1.5284, `14.28571%` = 1.78037142857143, :\n",
      "\"some 'x' values beyond boundary knots may cause ill-conditioned bases\"Warning message in bs(dis, degree = 3L, knots = c(`7.142857%` = 1.5316, `14.28571%` = 1.7916, :\n",
      "\"some 'x' values beyond boundary knots may cause ill-conditioned bases\"Warning message in bs(dis, degree = 3L, knots = c(`7.142857%` = 1.5316, `14.28571%` = 1.7916, :\n",
      "\"some 'x' values beyond boundary knots may cause ill-conditioned bases\"Warning message in bs(dis, degree = 3L, knots = c(`7.142857%` = 1.5284, `14.28571%` = 1.78037142857143, :\n",
      "\"some 'x' values beyond boundary knots may cause ill-conditioned bases\"Warning message in bs(dis, degree = 3L, knots = c(`7.142857%` = 1.5284, `14.28571%` = 1.78037142857143, :\n",
      "\"some 'x' values beyond boundary knots may cause ill-conditioned bases\"Warning message in bs(dis, degree = 3L, knots = c(`7.142857%` = 1.56255714285714, :\n",
      "\"some 'x' values beyond boundary knots may cause ill-conditioned bases\"Warning message in bs(dis, degree = 3L, knots = c(`7.142857%` = 1.56255714285714, :\n",
      "\"some 'x' values beyond boundary knots may cause ill-conditioned bases\"Warning message in bs(dis, degree = 3L, knots = c(`7.142857%` = 1.5311, `14.28571%` = 1.80237142857143, :\n",
      "\"some 'x' values beyond boundary knots may cause ill-conditioned bases\"Warning message in bs(dis, degree = 3L, knots = c(`7.142857%` = 1.5311, `14.28571%` = 1.80237142857143, :\n",
      "\"some 'x' values beyond boundary knots may cause ill-conditioned bases\"Warning message in bs(dis, degree = 3L, knots = c(`7.142857%` = 1.52647142857143, :\n",
      "\"some 'x' values beyond boundary knots may cause ill-conditioned bases\"Warning message in bs(dis, degree = 3L, knots = c(`7.142857%` = 1.52647142857143, :\n",
      "\"some 'x' values beyond boundary knots may cause ill-conditioned bases\"Warning message in bs(dis, degree = 3L, knots = c(`7.142857%` = 1.564, `14.28571%` = 1.7984, :\n",
      "\"some 'x' values beyond boundary knots may cause ill-conditioned bases\"Warning message in bs(dis, degree = 3L, knots = c(`7.142857%` = 1.564, `14.28571%` = 1.7984, :\n",
      "\"some 'x' values beyond boundary knots may cause ill-conditioned bases\"Warning message in bs(dis, degree = 3L, knots = c(`7.142857%` = 1.52647142857143, :\n",
      "\"some 'x' values beyond boundary knots may cause ill-conditioned bases\"Warning message in bs(dis, degree = 3L, knots = c(`7.142857%` = 1.52647142857143, :\n",
      "\"some 'x' values beyond boundary knots may cause ill-conditioned bases\"Warning message in bs(dis, degree = 3L, knots = c(`7.142857%` = 1.52855, `14.28571%` = 1.794, :\n",
      "\"some 'x' values beyond boundary knots may cause ill-conditioned bases\"Warning message in bs(dis, degree = 3L, knots = c(`7.142857%` = 1.52855, `14.28571%` = 1.794, :\n",
      "\"some 'x' values beyond boundary knots may cause ill-conditioned bases\"Warning message in bs(dis, degree = 3L, knots = c(`7.142857%` = 1.54348571428571, :\n",
      "\"some 'x' values beyond boundary knots may cause ill-conditioned bases\"Warning message in bs(dis, degree = 3L, knots = c(`7.142857%` = 1.54348571428571, :\n",
      "\"some 'x' values beyond boundary knots may cause ill-conditioned bases\"Warning message in bs(dis, degree = 3L, knots = c(`7.142857%` = 1.5284, `14.28571%` = 1.79078571428571, :\n",
      "\"some 'x' values beyond boundary knots may cause ill-conditioned bases\"Warning message in bs(dis, degree = 3L, knots = c(`7.142857%` = 1.5284, `14.28571%` = 1.79078571428571, :\n",
      "\"some 'x' values beyond boundary knots may cause ill-conditioned bases\"Warning message in bs(dis, degree = 3L, knots = c(`7.142857%` = 1.54201428571429, :\n",
      "\"some 'x' values beyond boundary knots may cause ill-conditioned bases\"Warning message in bs(dis, degree = 3L, knots = c(`7.142857%` = 1.54201428571429, :\n",
      "\"some 'x' values beyond boundary knots may cause ill-conditioned bases\"Warning message in bs(dis, degree = 3L, knots = c(`7.142857%` = 1.5266, `14.28571%` = 1.7659, :\n",
      "\"some 'x' values beyond boundary knots may cause ill-conditioned bases\"Warning message in bs(dis, degree = 3L, knots = c(`7.142857%` = 1.5266, `14.28571%` = 1.7659, :\n",
      "\"some 'x' values beyond boundary knots may cause ill-conditioned bases\"Warning message in bs(dis, degree = 3L, knots = c(`7.142857%` = 1.53135, `14.28571%` = 1.7883, :\n",
      "\"some 'x' values beyond boundary knots may cause ill-conditioned bases\"Warning message in bs(dis, degree = 3L, knots = c(`7.142857%` = 1.53135, `14.28571%` = 1.7883, :\n",
      "\"some 'x' values beyond boundary knots may cause ill-conditioned bases\"Warning message in bs(dis, degree = 3L, knots = c(`7.142857%` = 1.54348571428571, :\n",
      "\"some 'x' values beyond boundary knots may cause ill-conditioned bases\"Warning message in bs(dis, degree = 3L, knots = c(`7.142857%` = 1.54348571428571, :\n",
      "\"some 'x' values beyond boundary knots may cause ill-conditioned bases\"Warning message in bs(dis, degree = 3L, knots = c(`7.142857%` = 1.53135, `14.28571%` = 1.8026, :\n",
      "\"some 'x' values beyond boundary knots may cause ill-conditioned bases\"Warning message in bs(dis, degree = 3L, knots = c(`7.142857%` = 1.53135, `14.28571%` = 1.8026, :\n",
      "\"some 'x' values beyond boundary knots may cause ill-conditioned bases\"Warning message in bs(dis, degree = 3L, knots = c(`7.142857%` = 1.5311, `14.28571%` = 1.7899, :\n",
      "\"some 'x' values beyond boundary knots may cause ill-conditioned bases\"Warning message in bs(dis, degree = 3L, knots = c(`7.142857%` = 1.5311, `14.28571%` = 1.7899, :\n",
      "\"some 'x' values beyond boundary knots may cause ill-conditioned bases\"Warning message in bs(dis, degree = 3L, knots = c(`7.142857%` = 1.54498571428571, :\n",
      "\"some 'x' values beyond boundary knots may cause ill-conditioned bases\"Warning message in bs(dis, degree = 3L, knots = c(`7.142857%` = 1.54498571428571, :\n",
      "\"some 'x' values beyond boundary knots may cause ill-conditioned bases\"Warning message in bs(dis, degree = 3L, knots = c(`7.142857%` = 1.5284, `14.28571%` = 1.7936, :\n",
      "\"some 'x' values beyond boundary knots may cause ill-conditioned bases\"Warning message in bs(dis, degree = 3L, knots = c(`7.142857%` = 1.5284, `14.28571%` = 1.7936, :\n",
      "\"some 'x' values beyond boundary knots may cause ill-conditioned bases\"Warning message in bs(dis, degree = 3L, knots = c(`7.142857%` = 1.54201428571429, :\n",
      "\"some 'x' values beyond boundary knots may cause ill-conditioned bases\"Warning message in bs(dis, degree = 3L, knots = c(`7.142857%` = 1.54201428571429, :\n",
      "\"some 'x' values beyond boundary knots may cause ill-conditioned bases\"Warning message in bs(dis, degree = 3L, knots = c(`7.142857%` = 1.584, `14.28571%` = 1.80237142857143, :\n",
      "\"some 'x' values beyond boundary knots may cause ill-conditioned bases\"Warning message in bs(dis, degree = 3L, knots = c(`7.142857%` = 1.584, `14.28571%` = 1.80237142857143, :\n",
      "\"some 'x' values beyond boundary knots may cause ill-conditioned bases\"Warning message in bs(dis, degree = 3L, knots = c(`7.142857%` = 1.5284, `14.28571%` = 1.78037142857143, :\n",
      "\"some 'x' values beyond boundary knots may cause ill-conditioned bases\"Warning message in bs(dis, degree = 3L, knots = c(`7.142857%` = 1.5284, `14.28571%` = 1.78037142857143, :\n",
      "\"some 'x' values beyond boundary knots may cause ill-conditioned bases\"Warning message in bs(dis, degree = 3L, knots = c(`7.142857%` = 1.56255714285714, :\n",
      "\"some 'x' values beyond boundary knots may cause ill-conditioned bases\"Warning message in bs(dis, degree = 3L, knots = c(`7.142857%` = 1.56255714285714, :\n",
      "\"some 'x' values beyond boundary knots may cause ill-conditioned bases\"Warning message in bs(dis, degree = 3L, knots = c(`7.142857%` = 1.52198571428571, :\n",
      "\"some 'x' values beyond boundary knots may cause ill-conditioned bases\"Warning message in bs(dis, degree = 3L, knots = c(`7.142857%` = 1.52198571428571, :\n",
      "\"some 'x' values beyond boundary knots may cause ill-conditioned bases\"Warning message in bs(dis, degree = 3L, knots = c(`7.142857%` = 1.5768, `14.28571%` = 1.80062857142857, :\n",
      "\"some 'x' values beyond boundary knots may cause ill-conditioned bases\"Warning message in bs(dis, degree = 3L, knots = c(`7.142857%` = 1.5768, `14.28571%` = 1.80062857142857, :\n",
      "\"some 'x' values beyond boundary knots may cause ill-conditioned bases\"Warning message in bs(dis, degree = 3L, knots = c(`7.142857%` = 1.564, `14.28571%` = 1.7912, :\n",
      "\"some 'x' values beyond boundary knots may cause ill-conditioned bases\"Warning message in bs(dis, degree = 3L, knots = c(`7.142857%` = 1.564, `14.28571%` = 1.7912, :\n",
      "\"some 'x' values beyond boundary knots may cause ill-conditioned bases\"Warning message in bs(dis, degree = 3L, knots = c(`7.142857%` = 1.58905714285714, :\n",
      "\"some 'x' values beyond boundary knots may cause ill-conditioned bases\"Warning message in bs(dis, degree = 3L, knots = c(`7.142857%` = 1.58905714285714, :\n",
      "\"some 'x' values beyond boundary knots may cause ill-conditioned bases\""
     ]
    },
    {
     "data": {
      "image/png": "[encoded data removed]",
      "text/plain": [
       "plot without title"
      ]
     },
     "metadata": {},
     "output_type": "display_data"
    }
   ],
   "source": [
    "res <- c()\n",
    "range <- 3:16\n",
    "\n",
    "for (freedom in range) {\n",
    "   lm.fit <- glm(nox ~ bs(dis, df = freedom), data=Boston)\n",
    "      testMSE <- cv.glm(Boston, fit, K = 10)$delta[1]\n",
    "    res <- c(res, testMSE)\n",
    "}\n",
    "\n",
    "\n",
    "plot(range, res,type = \"l\")"
   ]
  },
  {
   "cell_type": "raw",
   "metadata": {},
   "source": [
    "The best degree of freedom seems to be 13"
   ]
  },
  {
   "cell_type": "markdown",
   "metadata": {},
   "source": [
    "# exercice 10 page 300"
   ]
  },
  {
   "cell_type": "markdown",
   "metadata": {},
   "source": [
    "a) Split the data into a training set and a test set. Using out-of-state tuition as the response and the other variables as the predictors, perform forward stepwise selection on the training set in order to identify a satisfactory model that uses just a subset of the predictors."
   ]
  },
  {
   "cell_type": "code",
   "execution_count": 48,
   "metadata": {},
   "outputs": [
    {
     "name": "stderr",
     "output_type": "stream",
     "text": [
      "The following objects are masked from College (pos = 3):\n",
      "\n",
      "    Accept, Apps, Books, Enroll, Expend, F.Undergrad, Grad.Rate,\n",
      "    Outstate, P.Undergrad, perc.alumni, Personal, PhD, Private,\n",
      "    Room.Board, S.F.Ratio, Terminal, Top10perc, Top25perc\n",
      "\n"
     ]
    }
   ],
   "source": [
    "library(ISLR)\n",
    "attach(College)\n",
    "set.seed(11)\n"
   ]
  },
  {
   "cell_type": "code",
   "execution_count": 83,
   "metadata": {},
   "outputs": [
    {
     "data": {
      "text/html": [
       "543"
      ],
      "text/latex": [
       "543"
      ],
      "text/markdown": [
       "543"
      ],
      "text/plain": [
       "[1] 543"
      ]
     },
     "metadata": {},
     "output_type": "display_data"
    },
    {
     "data": {
      "text/html": [
       "234"
      ],
      "text/latex": [
       "234"
      ],
      "text/markdown": [
       "234"
      ],
      "text/plain": [
       "[1] 234"
      ]
     },
     "metadata": {},
     "output_type": "display_data"
    }
   ],
   "source": [
    "train <- sample(nrow(College) * 0.7)\n",
    "train_set <- College[train, ]\n",
    "test_set <- College[-train, ]\n",
    "nrow(train_set)\n",
    "nrow(test_set)"
   ]
  },
  {
   "cell_type": "code",
   "execution_count": 53,
   "metadata": {},
   "outputs": [
    {
     "name": "stdout",
     "output_type": "stream",
     "text": [
      "package 'leaps' successfully unpacked and MD5 sums checked\n",
      "\n",
      "The downloaded binary packages are in\n",
      "\tC:\\Users\\rsmadja\\AppData\\Local\\Temp\\RtmpKoizxJ\\downloaded_packages\n"
     ]
    },
    {
     "name": "stderr",
     "output_type": "stream",
     "text": [
      "Warning message:\n",
      "\"package 'leaps' was built under R version 3.6.3\""
     ]
    }
   ],
   "source": [
    "install.packages(\"leaps\")\n",
    "library(leaps)"
   ]
  },
  {
   "cell_type": "code",
   "execution_count": 60,
   "metadata": {},
   "outputs": [
    {
     "data": {
      "text/plain": [
       "Subset selection object\n",
       "Call: regsubsets.formula(Outstate ~ ., data = College, subset = train, \n",
       "    method = \"forward\")\n",
       "17 Variables  (and intercept)\n",
       "            Forced in Forced out\n",
       "PrivateYes      FALSE      FALSE\n",
       "Apps            FALSE      FALSE\n",
       "Accept          FALSE      FALSE\n",
       "Enroll          FALSE      FALSE\n",
       "Top10perc       FALSE      FALSE\n",
       "Top25perc       FALSE      FALSE\n",
       "F.Undergrad     FALSE      FALSE\n",
       "P.Undergrad     FALSE      FALSE\n",
       "Room.Board      FALSE      FALSE\n",
       "Books           FALSE      FALSE\n",
       "Personal        FALSE      FALSE\n",
       "PhD             FALSE      FALSE\n",
       "Terminal        FALSE      FALSE\n",
       "S.F.Ratio       FALSE      FALSE\n",
       "perc.alumni     FALSE      FALSE\n",
       "Expend          FALSE      FALSE\n",
       "Grad.Rate       FALSE      FALSE\n",
       "1 subsets of each size up to 8\n",
       "Selection Algorithm: forward\n",
       "         PrivateYes Apps Accept Enroll Top10perc Top25perc F.Undergrad\n",
       "1  ( 1 ) \" \"        \" \"  \" \"    \" \"    \" \"       \" \"       \" \"        \n",
       "2  ( 1 ) \" \"        \" \"  \" \"    \" \"    \" \"       \" \"       \" \"        \n",
       "3  ( 1 ) \"*\"        \" \"  \" \"    \" \"    \" \"       \" \"       \" \"        \n",
       "4  ( 1 ) \"*\"        \" \"  \" \"    \" \"    \" \"       \" \"       \" \"        \n",
       "5  ( 1 ) \"*\"        \" \"  \" \"    \" \"    \" \"       \" \"       \" \"        \n",
       "6  ( 1 ) \"*\"        \" \"  \" \"    \" \"    \" \"       \" \"       \" \"        \n",
       "7  ( 1 ) \"*\"        \" \"  \" \"    \" \"    \" \"       \" \"       \" \"        \n",
       "8  ( 1 ) \"*\"        \" \"  \" \"    \" \"    \" \"       \" \"       \" \"        \n",
       "         P.Undergrad Room.Board Books Personal PhD Terminal S.F.Ratio\n",
       "1  ( 1 ) \" \"         \" \"        \" \"   \" \"      \" \" \" \"      \" \"      \n",
       "2  ( 1 ) \" \"         \"*\"        \" \"   \" \"      \" \" \" \"      \" \"      \n",
       "3  ( 1 ) \" \"         \"*\"        \" \"   \" \"      \" \" \" \"      \" \"      \n",
       "4  ( 1 ) \" \"         \"*\"        \" \"   \" \"      \" \" \" \"      \" \"      \n",
       "5  ( 1 ) \" \"         \"*\"        \" \"   \" \"      \"*\" \" \"      \" \"      \n",
       "6  ( 1 ) \" \"         \"*\"        \" \"   \" \"      \"*\" \" \"      \" \"      \n",
       "7  ( 1 ) \" \"         \"*\"        \" \"   \"*\"      \"*\" \" \"      \" \"      \n",
       "8  ( 1 ) \" \"         \"*\"        \" \"   \"*\"      \"*\" \"*\"      \" \"      \n",
       "         perc.alumni Expend Grad.Rate\n",
       "1  ( 1 ) \" \"         \"*\"    \" \"      \n",
       "2  ( 1 ) \" \"         \"*\"    \" \"      \n",
       "3  ( 1 ) \" \"         \"*\"    \" \"      \n",
       "4  ( 1 ) \"*\"         \"*\"    \" \"      \n",
       "5  ( 1 ) \"*\"         \"*\"    \" \"      \n",
       "6  ( 1 ) \"*\"         \"*\"    \"*\"      \n",
       "7  ( 1 ) \"*\"         \"*\"    \"*\"      \n",
       "8  ( 1 ) \"*\"         \"*\"    \"*\"      "
      ]
     },
     "metadata": {},
     "output_type": "display_data"
    }
   ],
   "source": [
    "regfit.fwd <- regsubsets(Outstate ~ ., data = College, subset = train, method = 'forward')\n",
    "regfit.fwd.summary <- summary(regfit.fwd)\n",
    "regfit.fwd.summary"
   ]
  },
  {
   "cell_type": "code",
   "execution_count": 75,
   "metadata": {},
   "outputs": [
    {
     "data": {
      "text/html": [
       "<dl class=dl-horizontal>\n",
       "\t<dt>(Intercept)</dt>\n",
       "\t\t<dd>-3769.05877882155</dd>\n",
       "\t<dt>PrivateYes</dt>\n",
       "\t\t<dd>2748.69440104709</dd>\n",
       "\t<dt>Room.Board</dt>\n",
       "\t\t<dd>0.899963399062717</dd>\n",
       "\t<dt>PhD</dt>\n",
       "\t\t<dd>38.5143460489031</dd>\n",
       "\t<dt>perc.alumni</dt>\n",
       "\t\t<dd>44.4889713210198</dd>\n",
       "\t<dt>Expend</dt>\n",
       "\t\t<dd>0.254389987943338</dd>\n",
       "\t<dt>Grad.Rate</dt>\n",
       "\t\t<dd>31.2043096078982</dd>\n",
       "</dl>\n"
      ],
      "text/latex": [
       "\\begin{description*}\n",
       "\\item[(Intercept)] -3769.05877882155\n",
       "\\item[PrivateYes] 2748.69440104709\n",
       "\\item[Room.Board] 0.899963399062717\n",
       "\\item[PhD] 38.5143460489031\n",
       "\\item[perc.alumni] 44.4889713210198\n",
       "\\item[Expend] 0.254389987943338\n",
       "\\item[Grad.Rate] 31.2043096078982\n",
       "\\end{description*}\n"
      ],
      "text/markdown": [
       "(Intercept)\n",
       ":   -3769.05877882155PrivateYes\n",
       ":   2748.69440104709Room.Board\n",
       ":   0.899963399062717PhD\n",
       ":   38.5143460489031perc.alumni\n",
       ":   44.4889713210198Expend\n",
       ":   0.254389987943338Grad.Rate\n",
       ":   31.2043096078982\n",
       "\n"
      ],
      "text/plain": [
       "  (Intercept)    PrivateYes    Room.Board           PhD   perc.alumni \n",
       "-3769.0587788  2748.6944010     0.8999634    38.5143460    44.4889713 \n",
       "       Expend     Grad.Rate \n",
       "    0.2543900    31.2043096 "
      ]
     },
     "metadata": {},
     "output_type": "display_data"
    }
   ],
   "source": [
    "coef(regfit.fwd, id = 6)"
   ]
  },
  {
   "cell_type": "markdown",
   "metadata": {},
   "source": [
    "b) Fit a GAM on the training data, using out-of-state tuition as the response and the features selected in the previous step as the predictors. Plot the results, and explain your findings."
   ]
  },
  {
   "cell_type": "code",
   "execution_count": 72,
   "metadata": {},
   "outputs": [
    {
     "name": "stderr",
     "output_type": "stream",
     "text": [
      "Warning message:\n",
      "\"package 'mgcv' is in use and will not be installed\""
     ]
    }
   ],
   "source": [
    "install.packages(\"mgcv\")\n",
    "library(mgcv)\n"
   ]
  },
  {
   "cell_type": "code",
   "execution_count": 77,
   "metadata": {},
   "outputs": [
    {
     "data": {
      "text/html": [
       "<table>\n",
       "<thead><tr><th></th><th scope=col>Private</th><th scope=col>Apps</th><th scope=col>Accept</th><th scope=col>Enroll</th><th scope=col>Top10perc</th><th scope=col>Top25perc</th><th scope=col>F.Undergrad</th><th scope=col>P.Undergrad</th><th scope=col>Outstate</th><th scope=col>Room.Board</th><th scope=col>Books</th><th scope=col>Personal</th><th scope=col>PhD</th><th scope=col>Terminal</th><th scope=col>S.F.Ratio</th><th scope=col>perc.alumni</th><th scope=col>Expend</th><th scope=col>Grad.Rate</th></tr></thead>\n",
       "<tbody>\n",
       "\t<tr><th scope=row>Abilene Christian University</th><td>Yes  </td><td> 1660</td><td> 1232</td><td> 721 </td><td>23   </td><td>52   </td><td> 2885</td><td> 537 </td><td> 7440</td><td>3300 </td><td>450  </td><td>2200 </td><td>70   </td><td> 78  </td><td>18.1 </td><td>12   </td><td> 7041</td><td> 60  </td></tr>\n",
       "\t<tr><th scope=row>Adelphi University</th><td>Yes  </td><td> 2186</td><td> 1924</td><td> 512 </td><td>16   </td><td>29   </td><td> 2683</td><td>1227 </td><td>12280</td><td>6450 </td><td>750  </td><td>1500 </td><td>29   </td><td> 30  </td><td>12.2 </td><td>16   </td><td>10527</td><td> 56  </td></tr>\n",
       "\t<tr><th scope=row>Adrian College</th><td>Yes  </td><td> 1428</td><td> 1097</td><td> 336 </td><td>22   </td><td>50   </td><td> 1036</td><td>  99 </td><td>11250</td><td>3750 </td><td>400  </td><td>1165 </td><td>53   </td><td> 66  </td><td>12.9 </td><td>30   </td><td> 8735</td><td> 54  </td></tr>\n",
       "\t<tr><th scope=row>Agnes Scott College</th><td>Yes  </td><td>  417</td><td>  349</td><td> 137 </td><td>60   </td><td>89   </td><td>  510</td><td>  63 </td><td>12960</td><td>5450 </td><td>450  </td><td> 875 </td><td>92   </td><td> 97  </td><td> 7.7 </td><td>37   </td><td>19016</td><td> 59  </td></tr>\n",
       "\t<tr><th scope=row>Alaska Pacific University</th><td>Yes  </td><td>  193</td><td>  146</td><td>  55 </td><td>16   </td><td>44   </td><td>  249</td><td> 869 </td><td> 7560</td><td>4120 </td><td>800  </td><td>1500 </td><td>76   </td><td> 72  </td><td>11.9 </td><td> 2   </td><td>10922</td><td> 15  </td></tr>\n",
       "\t<tr><th scope=row>Albertson College</th><td>Yes  </td><td>  587</td><td>  479</td><td> 158 </td><td>38   </td><td>62   </td><td>  678</td><td>  41 </td><td>13500</td><td>3335 </td><td>500  </td><td> 675 </td><td>67   </td><td> 73  </td><td> 9.4 </td><td>11   </td><td> 9727</td><td> 55  </td></tr>\n",
       "\t<tr><th scope=row>Albertus Magnus College</th><td>Yes  </td><td>  353</td><td>  340</td><td> 103 </td><td>17   </td><td>45   </td><td>  416</td><td> 230 </td><td>13290</td><td>5720 </td><td>500  </td><td>1500 </td><td>90   </td><td> 93  </td><td>11.5 </td><td>26   </td><td> 8861</td><td> 63  </td></tr>\n",
       "\t<tr><th scope=row>Albion College</th><td>Yes  </td><td> 1899</td><td> 1720</td><td> 489 </td><td>37   </td><td>68   </td><td> 1594</td><td>  32 </td><td>13868</td><td>4826 </td><td>450  </td><td> 850 </td><td>89   </td><td>100  </td><td>13.7 </td><td>37   </td><td>11487</td><td> 73  </td></tr>\n",
       "\t<tr><th scope=row>Albright College</th><td>Yes  </td><td> 1038</td><td>  839</td><td> 227 </td><td>30   </td><td>63   </td><td>  973</td><td> 306 </td><td>15595</td><td>4400 </td><td>300  </td><td> 500 </td><td>79   </td><td> 84  </td><td>11.3 </td><td>23   </td><td>11644</td><td> 80  </td></tr>\n",
       "\t<tr><th scope=row>Alderson-Broaddus College</th><td>Yes  </td><td>  582</td><td>  498</td><td> 172 </td><td>21   </td><td>44   </td><td>  799</td><td>  78 </td><td>10468</td><td>3380 </td><td>660  </td><td>1800 </td><td>40   </td><td> 41  </td><td>11.5 </td><td>15   </td><td> 8991</td><td> 52  </td></tr>\n",
       "\t<tr><th scope=row>Alfred University</th><td>Yes  </td><td> 1732</td><td> 1425</td><td> 472 </td><td>37   </td><td>75   </td><td> 1830</td><td> 110 </td><td>16548</td><td>5406 </td><td>500  </td><td> 600 </td><td>82   </td><td> 88  </td><td>11.3 </td><td>31   </td><td>10932</td><td> 73  </td></tr>\n",
       "\t<tr><th scope=row>Allegheny College</th><td>Yes  </td><td> 2652</td><td> 1900</td><td> 484 </td><td>44   </td><td>77   </td><td> 1707</td><td>  44 </td><td>17080</td><td>4440 </td><td>400  </td><td> 600 </td><td>73   </td><td> 91  </td><td> 9.9 </td><td>41   </td><td>11711</td><td> 76  </td></tr>\n",
       "\t<tr><th scope=row>Allentown Coll. of St. Francis de Sales</th><td>Yes  </td><td> 1179</td><td>  780</td><td> 290 </td><td>38   </td><td>64   </td><td> 1130</td><td> 638 </td><td> 9690</td><td>4785 </td><td>600  </td><td>1000 </td><td>60   </td><td> 84  </td><td>13.3 </td><td>21   </td><td> 7940</td><td> 74  </td></tr>\n",
       "\t<tr><th scope=row>Alma College</th><td>Yes  </td><td> 1267</td><td> 1080</td><td> 385 </td><td>44   </td><td>73   </td><td> 1306</td><td>  28 </td><td>12572</td><td>4552 </td><td>400  </td><td> 400 </td><td>79   </td><td> 87  </td><td>15.3 </td><td>32   </td><td> 9305</td><td> 68  </td></tr>\n",
       "\t<tr><th scope=row>Alverno College</th><td>Yes  </td><td>  494</td><td>  313</td><td> 157 </td><td>23   </td><td>46   </td><td> 1317</td><td>1235 </td><td> 8352</td><td>3640 </td><td>650  </td><td>2449 </td><td>36   </td><td> 69  </td><td>11.1 </td><td>26   </td><td> 8127</td><td> 55  </td></tr>\n",
       "\t<tr><th scope=row>American International College</th><td>Yes  </td><td> 1420</td><td> 1093</td><td> 220 </td><td> 9   </td><td>22   </td><td> 1018</td><td> 287 </td><td> 8700</td><td>4780 </td><td>450  </td><td>1400 </td><td>78   </td><td> 84  </td><td>14.7 </td><td>19   </td><td> 7355</td><td> 69  </td></tr>\n",
       "\t<tr><th scope=row>Amherst College</th><td>Yes  </td><td> 4302</td><td>  992</td><td> 418 </td><td>83   </td><td>96   </td><td> 1593</td><td>   5 </td><td>19760</td><td>5300 </td><td>660  </td><td>1598 </td><td>93   </td><td> 98  </td><td> 8.4 </td><td>63   </td><td>21424</td><td>100  </td></tr>\n",
       "\t<tr><th scope=row>Anderson University</th><td>Yes  </td><td> 1216</td><td>  908</td><td> 423 </td><td>19   </td><td>40   </td><td> 1819</td><td> 281 </td><td>10100</td><td>3520 </td><td>550  </td><td>1100 </td><td>48   </td><td> 61  </td><td>12.1 </td><td>14   </td><td> 7994</td><td> 59  </td></tr>\n",
       "\t<tr><th scope=row>Andrews University</th><td>Yes  </td><td> 1130</td><td>  704</td><td> 322 </td><td>14   </td><td>23   </td><td> 1586</td><td> 326 </td><td> 9996</td><td>3090 </td><td>900  </td><td>1320 </td><td>62   </td><td> 66  </td><td>11.5 </td><td>18   </td><td>10908</td><td> 46  </td></tr>\n",
       "\t<tr><th scope=row>Angelo State University</th><td>No   </td><td> 3540</td><td> 2001</td><td>1016 </td><td>24   </td><td>54   </td><td> 4190</td><td>1512 </td><td> 5130</td><td>3592 </td><td>500  </td><td>2000 </td><td>60   </td><td> 62  </td><td>23.1 </td><td> 5   </td><td> 4010</td><td> 34  </td></tr>\n",
       "\t<tr><th scope=row>Antioch University</th><td>Yes  </td><td>  713</td><td>  661</td><td> 252 </td><td>25   </td><td>44   </td><td>  712</td><td>  23 </td><td>15476</td><td>3336 </td><td>400  </td><td>1100 </td><td>69   </td><td> 82  </td><td>11.3 </td><td>35   </td><td>42926</td><td> 48  </td></tr>\n",
       "\t<tr><th scope=row>Appalachian State University</th><td>No   </td><td> 7313</td><td> 4664</td><td>1910 </td><td>20   </td><td>63   </td><td> 9940</td><td>1035 </td><td> 6806</td><td>2540 </td><td> 96  </td><td>2000 </td><td>83   </td><td> 96  </td><td>18.3 </td><td>14   </td><td> 5854</td><td> 70  </td></tr>\n",
       "\t<tr><th scope=row>Aquinas College</th><td>Yes  </td><td>  619</td><td>  516</td><td> 219 </td><td>20   </td><td>51   </td><td> 1251</td><td> 767 </td><td>11208</td><td>4124 </td><td>350  </td><td>1615 </td><td>55   </td><td> 65  </td><td>12.7 </td><td>25   </td><td> 6584</td><td> 65  </td></tr>\n",
       "\t<tr><th scope=row>Arizona State University Main campus</th><td>No   </td><td>12809</td><td>10308</td><td>3761 </td><td>24   </td><td>49   </td><td>22593</td><td>7585 </td><td> 7434</td><td>4850 </td><td>700  </td><td>2100 </td><td>88   </td><td> 93  </td><td>18.9 </td><td> 5   </td><td> 4602</td><td> 48  </td></tr>\n",
       "\t<tr><th scope=row>Arkansas College (Lyon College)</th><td>Yes  </td><td>  708</td><td>  334</td><td> 166 </td><td>46   </td><td>74   </td><td>  530</td><td> 182 </td><td> 8644</td><td>3922 </td><td>500  </td><td> 800 </td><td>79   </td><td> 88  </td><td>12.6 </td><td>24   </td><td>14579</td><td> 54  </td></tr>\n",
       "\t<tr><th scope=row>Arkansas Tech University</th><td>No   </td><td> 1734</td><td> 1729</td><td> 951 </td><td>12   </td><td>52   </td><td> 3602</td><td> 939 </td><td> 3460</td><td>2650 </td><td>450  </td><td>1000 </td><td>57   </td><td> 60  </td><td>19.6 </td><td> 5   </td><td> 4739</td><td> 48  </td></tr>\n",
       "\t<tr><th scope=row>Assumption College</th><td>Yes  </td><td> 2135</td><td> 1700</td><td> 491 </td><td>23   </td><td>59   </td><td> 1708</td><td> 689 </td><td>12000</td><td>5920 </td><td>500  </td><td> 500 </td><td>93   </td><td> 93  </td><td>13.8 </td><td>30   </td><td> 7100</td><td> 88  </td></tr>\n",
       "\t<tr><th scope=row>Auburn University-Main Campus</th><td>No   </td><td> 7548</td><td> 6791</td><td>3070 </td><td>25   </td><td>57   </td><td>16262</td><td>1716 </td><td> 6300</td><td>3933 </td><td>600  </td><td>1908 </td><td>85   </td><td> 91  </td><td>16.7 </td><td>18   </td><td> 6642</td><td> 69  </td></tr>\n",
       "\t<tr><th scope=row>Augsburg College</th><td>Yes  </td><td>  662</td><td>  513</td><td> 257 </td><td>12   </td><td>30   </td><td> 2074</td><td> 726 </td><td>11902</td><td>4372 </td><td>540  </td><td> 950 </td><td>65   </td><td> 65  </td><td>12.8 </td><td>31   </td><td> 7836</td><td> 58  </td></tr>\n",
       "\t<tr><th scope=row>Augustana College IL</th><td>Yes  </td><td> 1879</td><td> 1658</td><td> 497 </td><td>36   </td><td>69   </td><td> 1950</td><td>  38 </td><td>13353</td><td>4173 </td><td>540  </td><td> 821 </td><td>78   </td><td> 83  </td><td>12.7 </td><td>40   </td><td> 9220</td><td> 71  </td></tr>\n",
       "\t<tr><th scope=row>...</th><td>...</td><td>...</td><td>...</td><td>...</td><td>...</td><td>...</td><td>...</td><td>...</td><td>...</td><td>...</td><td>...</td><td>...</td><td>...</td><td>...</td><td>...</td><td>...</td><td>...</td><td>...</td></tr>\n",
       "\t<tr><th scope=row>Westfield State College</th><td>No   </td><td> 3100</td><td>2150 </td><td> 825 </td><td> 3   </td><td>20   </td><td>3234 </td><td> 941 </td><td> 5542</td><td>3788 </td><td>500  </td><td>1300 </td><td>75   </td><td>79   </td><td>15.7 </td><td>20   </td><td> 4222</td><td>65   </td></tr>\n",
       "\t<tr><th scope=row>Westminster College MO</th><td>Yes  </td><td>  662</td><td> 553 </td><td> 184 </td><td>20   </td><td>43   </td><td> 665 </td><td>  37 </td><td>10720</td><td>4050 </td><td>600  </td><td>1650 </td><td>66   </td><td>70   </td><td>12.5 </td><td>20   </td><td> 7925</td><td>62   </td></tr>\n",
       "\t<tr><th scope=row>Westminster College</th><td>Yes  </td><td>  996</td><td> 866 </td><td> 377 </td><td>29   </td><td>58   </td><td>1411 </td><td>  72 </td><td>12065</td><td>3615 </td><td>430  </td><td> 685 </td><td>62   </td><td>78   </td><td>12.5 </td><td>41   </td><td> 8596</td><td>80   </td></tr>\n",
       "\t<tr><th scope=row>Westminster College of Salt Lake City</th><td>Yes  </td><td>  917</td><td> 720 </td><td> 213 </td><td>21   </td><td>60   </td><td> 979 </td><td> 743 </td><td> 8820</td><td>4050 </td><td>600  </td><td>2025 </td><td>68   </td><td>83   </td><td>10.5 </td><td>34   </td><td> 7170</td><td>50   </td></tr>\n",
       "\t<tr><th scope=row>Westmont College</th><td>No   </td><td>  950</td><td> 713 </td><td> 351 </td><td>42   </td><td>72   </td><td>1276 </td><td>   9 </td><td>14320</td><td>5304 </td><td>490  </td><td>1410 </td><td>77   </td><td>77   </td><td>14.9 </td><td>17   </td><td> 8837</td><td>87   </td></tr>\n",
       "\t<tr><th scope=row>Wheaton College IL</th><td>Yes  </td><td> 1432</td><td> 920 </td><td> 548 </td><td>56   </td><td>84   </td><td>2200 </td><td>  56 </td><td>11480</td><td>4200 </td><td>530  </td><td>1400 </td><td>81   </td><td>83   </td><td>12.7 </td><td>40   </td><td>11916</td><td>85   </td></tr>\n",
       "\t<tr><th scope=row>Westminster College PA</th><td>Yes  </td><td> 1738</td><td>1373 </td><td> 417 </td><td>21   </td><td>55   </td><td>1335 </td><td>  30 </td><td>18460</td><td>5970 </td><td>700  </td><td> 850 </td><td>92   </td><td>96   </td><td>13.2 </td><td>41   </td><td>22704</td><td>71   </td></tr>\n",
       "\t<tr><th scope=row>Wheeling Jesuit College</th><td>Yes  </td><td>  903</td><td> 755 </td><td> 213 </td><td>15   </td><td>49   </td><td> 971 </td><td> 305 </td><td>10500</td><td>4545 </td><td>600  </td><td> 600 </td><td>66   </td><td>71   </td><td>14.1 </td><td>27   </td><td> 7494</td><td>72   </td></tr>\n",
       "\t<tr><th scope=row>Whitman College</th><td>Yes  </td><td> 1861</td><td> 998 </td><td> 359 </td><td>45   </td><td>77   </td><td>1220 </td><td>  46 </td><td>16670</td><td>4900 </td><td>750  </td><td> 800 </td><td>80   </td><td>83   </td><td>10.5 </td><td>51   </td><td>13198</td><td>72   </td></tr>\n",
       "\t<tr><th scope=row>Whittier College</th><td>Yes  </td><td> 1681</td><td>1069 </td><td> 344 </td><td>35   </td><td>63   </td><td>1235 </td><td>  30 </td><td>16249</td><td>5699 </td><td>500  </td><td>1998 </td><td>84   </td><td>92   </td><td>13.6 </td><td>29   </td><td>11778</td><td>52   </td></tr>\n",
       "\t<tr><th scope=row>Whitworth College</th><td>Yes  </td><td> 1121</td><td> 926 </td><td> 372 </td><td>43   </td><td>70   </td><td>1270 </td><td> 160 </td><td>12660</td><td>4500 </td><td>678  </td><td>2424 </td><td>80   </td><td>80   </td><td>16.9 </td><td>20   </td><td> 8328</td><td>80   </td></tr>\n",
       "\t<tr><th scope=row>Widener University</th><td>Yes  </td><td> 2139</td><td>1492 </td><td> 502 </td><td>24   </td><td>64   </td><td>2186 </td><td>2171 </td><td>12350</td><td>5370 </td><td>500  </td><td>1350 </td><td>88   </td><td>86   </td><td>12.6 </td><td>19   </td><td> 9603</td><td>63   </td></tr>\n",
       "\t<tr><th scope=row>Wilkes University</th><td>Yes  </td><td> 1631</td><td>1431 </td><td> 434 </td><td>15   </td><td>36   </td><td>1803 </td><td> 603 </td><td>11150</td><td>5130 </td><td>550  </td><td>1260 </td><td>78   </td><td>92   </td><td>13.3 </td><td>24   </td><td> 8543</td><td>67   </td></tr>\n",
       "\t<tr><th scope=row>Willamette University</th><td>Yes  </td><td> 1658</td><td>1327 </td><td> 395 </td><td>49   </td><td>80   </td><td>1595 </td><td> 159 </td><td>14800</td><td>4620 </td><td>400  </td><td> 790 </td><td>91   </td><td>94   </td><td>13.3 </td><td>37   </td><td>10779</td><td>68   </td></tr>\n",
       "\t<tr><th scope=row>William Jewell College</th><td>Yes  </td><td>  663</td><td> 547 </td><td> 315 </td><td>32   </td><td>67   </td><td>1279 </td><td>  75 </td><td>10060</td><td>2970 </td><td>500  </td><td>2600 </td><td>74   </td><td>80   </td><td>11.2 </td><td>19   </td><td> 7885</td><td>59   </td></tr>\n",
       "\t<tr><th scope=row>William Woods University</th><td>Yes  </td><td>  469</td><td> 435 </td><td> 227 </td><td>17   </td><td>39   </td><td> 851 </td><td> 120 </td><td>10535</td><td>4365 </td><td>550  </td><td>3700 </td><td>39   </td><td>66   </td><td>12.9 </td><td>16   </td><td> 7438</td><td>52   </td></tr>\n",
       "\t<tr><th scope=row>Williams College</th><td>Yes  </td><td> 4186</td><td>1245 </td><td> 526 </td><td>81   </td><td>96   </td><td>1988 </td><td>  29 </td><td>19629</td><td>5790 </td><td>500  </td><td>1200 </td><td>94   </td><td>99   </td><td> 9.0 </td><td>64   </td><td>22014</td><td>99   </td></tr>\n",
       "\t<tr><th scope=row>Wilson College</th><td>Yes  </td><td>  167</td><td> 130 </td><td>  46 </td><td>16   </td><td>50   </td><td> 199 </td><td> 676 </td><td>11428</td><td>5084 </td><td>450  </td><td> 475 </td><td>67   </td><td>76   </td><td> 8.3 </td><td>43   </td><td>10291</td><td>67   </td></tr>\n",
       "\t<tr><th scope=row>Wingate College</th><td>Yes  </td><td> 1239</td><td>1017 </td><td> 383 </td><td>10   </td><td>34   </td><td>1207 </td><td> 157 </td><td> 7820</td><td>3400 </td><td>550  </td><td>1550 </td><td>69   </td><td>81   </td><td>13.9 </td><td> 8   </td><td> 7264</td><td>91   </td></tr>\n",
       "\t<tr><th scope=row>Winona State University</th><td>No   </td><td> 3325</td><td>2047 </td><td>1301 </td><td>20   </td><td>45   </td><td>5800 </td><td> 872 </td><td> 4200</td><td>2700 </td><td>300  </td><td>1200 </td><td>53   </td><td>60   </td><td>20.2 </td><td>18   </td><td> 5318</td><td>58   </td></tr>\n",
       "\t<tr><th scope=row>Winthrop University</th><td>No   </td><td> 2320</td><td>1805 </td><td> 769 </td><td>24   </td><td>61   </td><td>3395 </td><td> 670 </td><td> 6400</td><td>3392 </td><td>580  </td><td>2150 </td><td>71   </td><td>80   </td><td>12.8 </td><td>26   </td><td> 6729</td><td>59   </td></tr>\n",
       "\t<tr><th scope=row>Wisconsin Lutheran College</th><td>Yes  </td><td>  152</td><td> 128 </td><td>  75 </td><td>17   </td><td>41   </td><td> 282 </td><td>  22 </td><td> 9100</td><td>3700 </td><td>500  </td><td>1400 </td><td>48   </td><td>48   </td><td> 8.5 </td><td>26   </td><td> 8960</td><td>50   </td></tr>\n",
       "\t<tr><th scope=row>Wittenberg University</th><td>Yes  </td><td> 1979</td><td>1739 </td><td> 575 </td><td>42   </td><td>68   </td><td>1980 </td><td> 144 </td><td>15948</td><td>4404 </td><td>400  </td><td> 800 </td><td>82   </td><td>95   </td><td>12.8 </td><td>29   </td><td>10414</td><td>78   </td></tr>\n",
       "\t<tr><th scope=row>Wofford College</th><td>Yes  </td><td> 1501</td><td> 935 </td><td> 273 </td><td>51   </td><td>83   </td><td>1059 </td><td>  34 </td><td>12680</td><td>4150 </td><td>605  </td><td>1440 </td><td>91   </td><td>92   </td><td>15.3 </td><td>42   </td><td> 7875</td><td>75   </td></tr>\n",
       "\t<tr><th scope=row>Worcester Polytechnic Institute</th><td>Yes  </td><td> 2768</td><td>2314 </td><td> 682 </td><td>49   </td><td>86   </td><td>2802 </td><td>  86 </td><td>15884</td><td>5370 </td><td>530  </td><td> 730 </td><td>92   </td><td>94   </td><td>15.2 </td><td>34   </td><td>10774</td><td>82   </td></tr>\n",
       "\t<tr><th scope=row>Worcester State College</th><td>No   </td><td> 2197</td><td>1515 </td><td> 543 </td><td> 4   </td><td>26   </td><td>3089 </td><td>2029 </td><td> 6797</td><td>3900 </td><td>500  </td><td>1200 </td><td>60   </td><td>60   </td><td>21.0 </td><td>14   </td><td> 4469</td><td>40   </td></tr>\n",
       "\t<tr><th scope=row>Xavier University</th><td>Yes  </td><td> 1959</td><td>1805 </td><td> 695 </td><td>24   </td><td>47   </td><td>2849 </td><td>1107 </td><td>11520</td><td>4960 </td><td>600  </td><td>1250 </td><td>73   </td><td>75   </td><td>13.3 </td><td>31   </td><td> 9189</td><td>83   </td></tr>\n",
       "\t<tr><th scope=row>Xavier University of Louisiana</th><td>Yes  </td><td> 2097</td><td>1915 </td><td> 695 </td><td>34   </td><td>61   </td><td>2793 </td><td> 166 </td><td> 6900</td><td>4200 </td><td>617  </td><td> 781 </td><td>67   </td><td>75   </td><td>14.4 </td><td>20   </td><td> 8323</td><td>49   </td></tr>\n",
       "\t<tr><th scope=row>Yale University</th><td>Yes  </td><td>10705</td><td>2453 </td><td>1317 </td><td>95   </td><td>99   </td><td>5217 </td><td>  83 </td><td>19840</td><td>6510 </td><td>630  </td><td>2115 </td><td>96   </td><td>96   </td><td> 5.8 </td><td>49   </td><td>40386</td><td>99   </td></tr>\n",
       "\t<tr><th scope=row>York College of Pennsylvania</th><td>Yes  </td><td> 2989</td><td>1855 </td><td> 691 </td><td>28   </td><td>63   </td><td>2988 </td><td>1726 </td><td> 4990</td><td>3560 </td><td>500  </td><td>1250 </td><td>75   </td><td>75   </td><td>18.1 </td><td>28   </td><td> 4509</td><td>99   </td></tr>\n",
       "</tbody>\n",
       "</table>\n"
      ],
      "text/latex": [
       "\\begin{tabular}{r|llllllllllllllllll}\n",
       "  & Private & Apps & Accept & Enroll & Top10perc & Top25perc & F.Undergrad & P.Undergrad & Outstate & Room.Board & Books & Personal & PhD & Terminal & S.F.Ratio & perc.alumni & Expend & Grad.Rate\\\\\n",
       "\\hline\n",
       "\tAbilene Christian University & Yes   &  1660 &  1232 &  721  & 23    & 52    &  2885 &  537  &  7440 & 3300  & 450   & 2200  & 70    &  78   & 18.1  & 12    &  7041 &  60  \\\\\n",
       "\tAdelphi University & Yes   &  2186 &  1924 &  512  & 16    & 29    &  2683 & 1227  & 12280 & 6450  & 750   & 1500  & 29    &  30   & 12.2  & 16    & 10527 &  56  \\\\\n",
       "\tAdrian College & Yes   &  1428 &  1097 &  336  & 22    & 50    &  1036 &   99  & 11250 & 3750  & 400   & 1165  & 53    &  66   & 12.9  & 30    &  8735 &  54  \\\\\n",
       "\tAgnes Scott College & Yes   &   417 &   349 &  137  & 60    & 89    &   510 &   63  & 12960 & 5450  & 450   &  875  & 92    &  97   &  7.7  & 37    & 19016 &  59  \\\\\n",
       "\tAlaska Pacific University & Yes   &   193 &   146 &   55  & 16    & 44    &   249 &  869  &  7560 & 4120  & 800   & 1500  & 76    &  72   & 11.9  &  2    & 10922 &  15  \\\\\n",
       "\tAlbertson College & Yes   &   587 &   479 &  158  & 38    & 62    &   678 &   41  & 13500 & 3335  & 500   &  675  & 67    &  73   &  9.4  & 11    &  9727 &  55  \\\\\n",
       "\tAlbertus Magnus College & Yes   &   353 &   340 &  103  & 17    & 45    &   416 &  230  & 13290 & 5720  & 500   & 1500  & 90    &  93   & 11.5  & 26    &  8861 &  63  \\\\\n",
       "\tAlbion College & Yes   &  1899 &  1720 &  489  & 37    & 68    &  1594 &   32  & 13868 & 4826  & 450   &  850  & 89    & 100   & 13.7  & 37    & 11487 &  73  \\\\\n",
       "\tAlbright College & Yes   &  1038 &   839 &  227  & 30    & 63    &   973 &  306  & 15595 & 4400  & 300   &  500  & 79    &  84   & 11.3  & 23    & 11644 &  80  \\\\\n",
       "\tAlderson-Broaddus College & Yes   &   582 &   498 &  172  & 21    & 44    &   799 &   78  & 10468 & 3380  & 660   & 1800  & 40    &  41   & 11.5  & 15    &  8991 &  52  \\\\\n",
       "\tAlfred University & Yes   &  1732 &  1425 &  472  & 37    & 75    &  1830 &  110  & 16548 & 5406  & 500   &  600  & 82    &  88   & 11.3  & 31    & 10932 &  73  \\\\\n",
       "\tAllegheny College & Yes   &  2652 &  1900 &  484  & 44    & 77    &  1707 &   44  & 17080 & 4440  & 400   &  600  & 73    &  91   &  9.9  & 41    & 11711 &  76  \\\\\n",
       "\tAllentown Coll. of St. Francis de Sales & Yes   &  1179 &   780 &  290  & 38    & 64    &  1130 &  638  &  9690 & 4785  & 600   & 1000  & 60    &  84   & 13.3  & 21    &  7940 &  74  \\\\\n",
       "\tAlma College & Yes   &  1267 &  1080 &  385  & 44    & 73    &  1306 &   28  & 12572 & 4552  & 400   &  400  & 79    &  87   & 15.3  & 32    &  9305 &  68  \\\\\n",
       "\tAlverno College & Yes   &   494 &   313 &  157  & 23    & 46    &  1317 & 1235  &  8352 & 3640  & 650   & 2449  & 36    &  69   & 11.1  & 26    &  8127 &  55  \\\\\n",
       "\tAmerican International College & Yes   &  1420 &  1093 &  220  &  9    & 22    &  1018 &  287  &  8700 & 4780  & 450   & 1400  & 78    &  84   & 14.7  & 19    &  7355 &  69  \\\\\n",
       "\tAmherst College & Yes   &  4302 &   992 &  418  & 83    & 96    &  1593 &    5  & 19760 & 5300  & 660   & 1598  & 93    &  98   &  8.4  & 63    & 21424 & 100  \\\\\n",
       "\tAnderson University & Yes   &  1216 &   908 &  423  & 19    & 40    &  1819 &  281  & 10100 & 3520  & 550   & 1100  & 48    &  61   & 12.1  & 14    &  7994 &  59  \\\\\n",
       "\tAndrews University & Yes   &  1130 &   704 &  322  & 14    & 23    &  1586 &  326  &  9996 & 3090  & 900   & 1320  & 62    &  66   & 11.5  & 18    & 10908 &  46  \\\\\n",
       "\tAngelo State University & No    &  3540 &  2001 & 1016  & 24    & 54    &  4190 & 1512  &  5130 & 3592  & 500   & 2000  & 60    &  62   & 23.1  &  5    &  4010 &  34  \\\\\n",
       "\tAntioch University & Yes   &   713 &   661 &  252  & 25    & 44    &   712 &   23  & 15476 & 3336  & 400   & 1100  & 69    &  82   & 11.3  & 35    & 42926 &  48  \\\\\n",
       "\tAppalachian State University & No    &  7313 &  4664 & 1910  & 20    & 63    &  9940 & 1035  &  6806 & 2540  &  96   & 2000  & 83    &  96   & 18.3  & 14    &  5854 &  70  \\\\\n",
       "\tAquinas College & Yes   &   619 &   516 &  219  & 20    & 51    &  1251 &  767  & 11208 & 4124  & 350   & 1615  & 55    &  65   & 12.7  & 25    &  6584 &  65  \\\\\n",
       "\tArizona State University Main campus & No    & 12809 & 10308 & 3761  & 24    & 49    & 22593 & 7585  &  7434 & 4850  & 700   & 2100  & 88    &  93   & 18.9  &  5    &  4602 &  48  \\\\\n",
       "\tArkansas College (Lyon College) & Yes   &   708 &   334 &  166  & 46    & 74    &   530 &  182  &  8644 & 3922  & 500   &  800  & 79    &  88   & 12.6  & 24    & 14579 &  54  \\\\\n",
       "\tArkansas Tech University & No    &  1734 &  1729 &  951  & 12    & 52    &  3602 &  939  &  3460 & 2650  & 450   & 1000  & 57    &  60   & 19.6  &  5    &  4739 &  48  \\\\\n",
       "\tAssumption College & Yes   &  2135 &  1700 &  491  & 23    & 59    &  1708 &  689  & 12000 & 5920  & 500   &  500  & 93    &  93   & 13.8  & 30    &  7100 &  88  \\\\\n",
       "\tAuburn University-Main Campus & No    &  7548 &  6791 & 3070  & 25    & 57    & 16262 & 1716  &  6300 & 3933  & 600   & 1908  & 85    &  91   & 16.7  & 18    &  6642 &  69  \\\\\n",
       "\tAugsburg College & Yes   &   662 &   513 &  257  & 12    & 30    &  2074 &  726  & 11902 & 4372  & 540   &  950  & 65    &  65   & 12.8  & 31    &  7836 &  58  \\\\\n",
       "\tAugustana College IL & Yes   &  1879 &  1658 &  497  & 36    & 69    &  1950 &   38  & 13353 & 4173  & 540   &  821  & 78    &  83   & 12.7  & 40    &  9220 &  71  \\\\\n",
       "\t... & ... & ... & ... & ... & ... & ... & ... & ... & ... & ... & ... & ... & ... & ... & ... & ... & ... & ...\\\\\n",
       "\tWestfield State College & No    &  3100 & 2150  &  825  &  3    & 20    & 3234  &  941  &  5542 & 3788  & 500   & 1300  & 75    & 79    & 15.7  & 20    &  4222 & 65   \\\\\n",
       "\tWestminster College MO & Yes   &   662 &  553  &  184  & 20    & 43    &  665  &   37  & 10720 & 4050  & 600   & 1650  & 66    & 70    & 12.5  & 20    &  7925 & 62   \\\\\n",
       "\tWestminster College & Yes   &   996 &  866  &  377  & 29    & 58    & 1411  &   72  & 12065 & 3615  & 430   &  685  & 62    & 78    & 12.5  & 41    &  8596 & 80   \\\\\n",
       "\tWestminster College of Salt Lake City & Yes   &   917 &  720  &  213  & 21    & 60    &  979  &  743  &  8820 & 4050  & 600   & 2025  & 68    & 83    & 10.5  & 34    &  7170 & 50   \\\\\n",
       "\tWestmont College & No    &   950 &  713  &  351  & 42    & 72    & 1276  &    9  & 14320 & 5304  & 490   & 1410  & 77    & 77    & 14.9  & 17    &  8837 & 87   \\\\\n",
       "\tWheaton College IL & Yes   &  1432 &  920  &  548  & 56    & 84    & 2200  &   56  & 11480 & 4200  & 530   & 1400  & 81    & 83    & 12.7  & 40    & 11916 & 85   \\\\\n",
       "\tWestminster College PA & Yes   &  1738 & 1373  &  417  & 21    & 55    & 1335  &   30  & 18460 & 5970  & 700   &  850  & 92    & 96    & 13.2  & 41    & 22704 & 71   \\\\\n",
       "\tWheeling Jesuit College & Yes   &   903 &  755  &  213  & 15    & 49    &  971  &  305  & 10500 & 4545  & 600   &  600  & 66    & 71    & 14.1  & 27    &  7494 & 72   \\\\\n",
       "\tWhitman College & Yes   &  1861 &  998  &  359  & 45    & 77    & 1220  &   46  & 16670 & 4900  & 750   &  800  & 80    & 83    & 10.5  & 51    & 13198 & 72   \\\\\n",
       "\tWhittier College & Yes   &  1681 & 1069  &  344  & 35    & 63    & 1235  &   30  & 16249 & 5699  & 500   & 1998  & 84    & 92    & 13.6  & 29    & 11778 & 52   \\\\\n",
       "\tWhitworth College & Yes   &  1121 &  926  &  372  & 43    & 70    & 1270  &  160  & 12660 & 4500  & 678   & 2424  & 80    & 80    & 16.9  & 20    &  8328 & 80   \\\\\n",
       "\tWidener University & Yes   &  2139 & 1492  &  502  & 24    & 64    & 2186  & 2171  & 12350 & 5370  & 500   & 1350  & 88    & 86    & 12.6  & 19    &  9603 & 63   \\\\\n",
       "\tWilkes University & Yes   &  1631 & 1431  &  434  & 15    & 36    & 1803  &  603  & 11150 & 5130  & 550   & 1260  & 78    & 92    & 13.3  & 24    &  8543 & 67   \\\\\n",
       "\tWillamette University & Yes   &  1658 & 1327  &  395  & 49    & 80    & 1595  &  159  & 14800 & 4620  & 400   &  790  & 91    & 94    & 13.3  & 37    & 10779 & 68   \\\\\n",
       "\tWilliam Jewell College & Yes   &   663 &  547  &  315  & 32    & 67    & 1279  &   75  & 10060 & 2970  & 500   & 2600  & 74    & 80    & 11.2  & 19    &  7885 & 59   \\\\\n",
       "\tWilliam Woods University & Yes   &   469 &  435  &  227  & 17    & 39    &  851  &  120  & 10535 & 4365  & 550   & 3700  & 39    & 66    & 12.9  & 16    &  7438 & 52   \\\\\n",
       "\tWilliams College & Yes   &  4186 & 1245  &  526  & 81    & 96    & 1988  &   29  & 19629 & 5790  & 500   & 1200  & 94    & 99    &  9.0  & 64    & 22014 & 99   \\\\\n",
       "\tWilson College & Yes   &   167 &  130  &   46  & 16    & 50    &  199  &  676  & 11428 & 5084  & 450   &  475  & 67    & 76    &  8.3  & 43    & 10291 & 67   \\\\\n",
       "\tWingate College & Yes   &  1239 & 1017  &  383  & 10    & 34    & 1207  &  157  &  7820 & 3400  & 550   & 1550  & 69    & 81    & 13.9  &  8    &  7264 & 91   \\\\\n",
       "\tWinona State University & No    &  3325 & 2047  & 1301  & 20    & 45    & 5800  &  872  &  4200 & 2700  & 300   & 1200  & 53    & 60    & 20.2  & 18    &  5318 & 58   \\\\\n",
       "\tWinthrop University & No    &  2320 & 1805  &  769  & 24    & 61    & 3395  &  670  &  6400 & 3392  & 580   & 2150  & 71    & 80    & 12.8  & 26    &  6729 & 59   \\\\\n",
       "\tWisconsin Lutheran College & Yes   &   152 &  128  &   75  & 17    & 41    &  282  &   22  &  9100 & 3700  & 500   & 1400  & 48    & 48    &  8.5  & 26    &  8960 & 50   \\\\\n",
       "\tWittenberg University & Yes   &  1979 & 1739  &  575  & 42    & 68    & 1980  &  144  & 15948 & 4404  & 400   &  800  & 82    & 95    & 12.8  & 29    & 10414 & 78   \\\\\n",
       "\tWofford College & Yes   &  1501 &  935  &  273  & 51    & 83    & 1059  &   34  & 12680 & 4150  & 605   & 1440  & 91    & 92    & 15.3  & 42    &  7875 & 75   \\\\\n",
       "\tWorcester Polytechnic Institute & Yes   &  2768 & 2314  &  682  & 49    & 86    & 2802  &   86  & 15884 & 5370  & 530   &  730  & 92    & 94    & 15.2  & 34    & 10774 & 82   \\\\\n",
       "\tWorcester State College & No    &  2197 & 1515  &  543  &  4    & 26    & 3089  & 2029  &  6797 & 3900  & 500   & 1200  & 60    & 60    & 21.0  & 14    &  4469 & 40   \\\\\n",
       "\tXavier University & Yes   &  1959 & 1805  &  695  & 24    & 47    & 2849  & 1107  & 11520 & 4960  & 600   & 1250  & 73    & 75    & 13.3  & 31    &  9189 & 83   \\\\\n",
       "\tXavier University of Louisiana & Yes   &  2097 & 1915  &  695  & 34    & 61    & 2793  &  166  &  6900 & 4200  & 617   &  781  & 67    & 75    & 14.4  & 20    &  8323 & 49   \\\\\n",
       "\tYale University & Yes   & 10705 & 2453  & 1317  & 95    & 99    & 5217  &   83  & 19840 & 6510  & 630   & 2115  & 96    & 96    &  5.8  & 49    & 40386 & 99   \\\\\n",
       "\tYork College of Pennsylvania & Yes   &  2989 & 1855  &  691  & 28    & 63    & 2988  & 1726  &  4990 & 3560  & 500   & 1250  & 75    & 75    & 18.1  & 28    &  4509 & 99   \\\\\n",
       "\\end{tabular}\n"
      ],
      "text/markdown": [
       "\n",
       "| <!--/--> | Private | Apps | Accept | Enroll | Top10perc | Top25perc | F.Undergrad | P.Undergrad | Outstate | Room.Board | Books | Personal | PhD | Terminal | S.F.Ratio | perc.alumni | Expend | Grad.Rate |\n",
       "|---|---|---|---|---|---|---|---|---|---|---|---|---|---|---|---|---|---|---|\n",
       "| Abilene Christian University | Yes   |  1660 |  1232 |  721  | 23    | 52    |  2885 |  537  |  7440 | 3300  | 450   | 2200  | 70    |  78   | 18.1  | 12    |  7041 |  60   |\n",
       "| Adelphi University | Yes   |  2186 |  1924 |  512  | 16    | 29    |  2683 | 1227  | 12280 | 6450  | 750   | 1500  | 29    |  30   | 12.2  | 16    | 10527 |  56   |\n",
       "| Adrian College | Yes   |  1428 |  1097 |  336  | 22    | 50    |  1036 |   99  | 11250 | 3750  | 400   | 1165  | 53    |  66   | 12.9  | 30    |  8735 |  54   |\n",
       "| Agnes Scott College | Yes   |   417 |   349 |  137  | 60    | 89    |   510 |   63  | 12960 | 5450  | 450   |  875  | 92    |  97   |  7.7  | 37    | 19016 |  59   |\n",
       "| Alaska Pacific University | Yes   |   193 |   146 |   55  | 16    | 44    |   249 |  869  |  7560 | 4120  | 800   | 1500  | 76    |  72   | 11.9  |  2    | 10922 |  15   |\n",
       "| Albertson College | Yes   |   587 |   479 |  158  | 38    | 62    |   678 |   41  | 13500 | 3335  | 500   |  675  | 67    |  73   |  9.4  | 11    |  9727 |  55   |\n",
       "| Albertus Magnus College | Yes   |   353 |   340 |  103  | 17    | 45    |   416 |  230  | 13290 | 5720  | 500   | 1500  | 90    |  93   | 11.5  | 26    |  8861 |  63   |\n",
       "| Albion College | Yes   |  1899 |  1720 |  489  | 37    | 68    |  1594 |   32  | 13868 | 4826  | 450   |  850  | 89    | 100   | 13.7  | 37    | 11487 |  73   |\n",
       "| Albright College | Yes   |  1038 |   839 |  227  | 30    | 63    |   973 |  306  | 15595 | 4400  | 300   |  500  | 79    |  84   | 11.3  | 23    | 11644 |  80   |\n",
       "| Alderson-Broaddus College | Yes   |   582 |   498 |  172  | 21    | 44    |   799 |   78  | 10468 | 3380  | 660   | 1800  | 40    |  41   | 11.5  | 15    |  8991 |  52   |\n",
       "| Alfred University | Yes   |  1732 |  1425 |  472  | 37    | 75    |  1830 |  110  | 16548 | 5406  | 500   |  600  | 82    |  88   | 11.3  | 31    | 10932 |  73   |\n",
       "| Allegheny College | Yes   |  2652 |  1900 |  484  | 44    | 77    |  1707 |   44  | 17080 | 4440  | 400   |  600  | 73    |  91   |  9.9  | 41    | 11711 |  76   |\n",
       "| Allentown Coll. of St. Francis de Sales | Yes   |  1179 |   780 |  290  | 38    | 64    |  1130 |  638  |  9690 | 4785  | 600   | 1000  | 60    |  84   | 13.3  | 21    |  7940 |  74   |\n",
       "| Alma College | Yes   |  1267 |  1080 |  385  | 44    | 73    |  1306 |   28  | 12572 | 4552  | 400   |  400  | 79    |  87   | 15.3  | 32    |  9305 |  68   |\n",
       "| Alverno College | Yes   |   494 |   313 |  157  | 23    | 46    |  1317 | 1235  |  8352 | 3640  | 650   | 2449  | 36    |  69   | 11.1  | 26    |  8127 |  55   |\n",
       "| American International College | Yes   |  1420 |  1093 |  220  |  9    | 22    |  1018 |  287  |  8700 | 4780  | 450   | 1400  | 78    |  84   | 14.7  | 19    |  7355 |  69   |\n",
       "| Amherst College | Yes   |  4302 |   992 |  418  | 83    | 96    |  1593 |    5  | 19760 | 5300  | 660   | 1598  | 93    |  98   |  8.4  | 63    | 21424 | 100   |\n",
       "| Anderson University | Yes   |  1216 |   908 |  423  | 19    | 40    |  1819 |  281  | 10100 | 3520  | 550   | 1100  | 48    |  61   | 12.1  | 14    |  7994 |  59   |\n",
       "| Andrews University | Yes   |  1130 |   704 |  322  | 14    | 23    |  1586 |  326  |  9996 | 3090  | 900   | 1320  | 62    |  66   | 11.5  | 18    | 10908 |  46   |\n",
       "| Angelo State University | No    |  3540 |  2001 | 1016  | 24    | 54    |  4190 | 1512  |  5130 | 3592  | 500   | 2000  | 60    |  62   | 23.1  |  5    |  4010 |  34   |\n",
       "| Antioch University | Yes   |   713 |   661 |  252  | 25    | 44    |   712 |   23  | 15476 | 3336  | 400   | 1100  | 69    |  82   | 11.3  | 35    | 42926 |  48   |\n",
       "| Appalachian State University | No    |  7313 |  4664 | 1910  | 20    | 63    |  9940 | 1035  |  6806 | 2540  |  96   | 2000  | 83    |  96   | 18.3  | 14    |  5854 |  70   |\n",
       "| Aquinas College | Yes   |   619 |   516 |  219  | 20    | 51    |  1251 |  767  | 11208 | 4124  | 350   | 1615  | 55    |  65   | 12.7  | 25    |  6584 |  65   |\n",
       "| Arizona State University Main campus | No    | 12809 | 10308 | 3761  | 24    | 49    | 22593 | 7585  |  7434 | 4850  | 700   | 2100  | 88    |  93   | 18.9  |  5    |  4602 |  48   |\n",
       "| Arkansas College (Lyon College) | Yes   |   708 |   334 |  166  | 46    | 74    |   530 |  182  |  8644 | 3922  | 500   |  800  | 79    |  88   | 12.6  | 24    | 14579 |  54   |\n",
       "| Arkansas Tech University | No    |  1734 |  1729 |  951  | 12    | 52    |  3602 |  939  |  3460 | 2650  | 450   | 1000  | 57    |  60   | 19.6  |  5    |  4739 |  48   |\n",
       "| Assumption College | Yes   |  2135 |  1700 |  491  | 23    | 59    |  1708 |  689  | 12000 | 5920  | 500   |  500  | 93    |  93   | 13.8  | 30    |  7100 |  88   |\n",
       "| Auburn University-Main Campus | No    |  7548 |  6791 | 3070  | 25    | 57    | 16262 | 1716  |  6300 | 3933  | 600   | 1908  | 85    |  91   | 16.7  | 18    |  6642 |  69   |\n",
       "| Augsburg College | Yes   |   662 |   513 |  257  | 12    | 30    |  2074 |  726  | 11902 | 4372  | 540   |  950  | 65    |  65   | 12.8  | 31    |  7836 |  58   |\n",
       "| Augustana College IL | Yes   |  1879 |  1658 |  497  | 36    | 69    |  1950 |   38  | 13353 | 4173  | 540   |  821  | 78    |  83   | 12.7  | 40    |  9220 |  71   |\n",
       "| ... | ... | ... | ... | ... | ... | ... | ... | ... | ... | ... | ... | ... | ... | ... | ... | ... | ... | ... |\n",
       "| Westfield State College | No    |  3100 | 2150  |  825  |  3    | 20    | 3234  |  941  |  5542 | 3788  | 500   | 1300  | 75    | 79    | 15.7  | 20    |  4222 | 65    |\n",
       "| Westminster College MO | Yes   |   662 |  553  |  184  | 20    | 43    |  665  |   37  | 10720 | 4050  | 600   | 1650  | 66    | 70    | 12.5  | 20    |  7925 | 62    |\n",
       "| Westminster College | Yes   |   996 |  866  |  377  | 29    | 58    | 1411  |   72  | 12065 | 3615  | 430   |  685  | 62    | 78    | 12.5  | 41    |  8596 | 80    |\n",
       "| Westminster College of Salt Lake City | Yes   |   917 |  720  |  213  | 21    | 60    |  979  |  743  |  8820 | 4050  | 600   | 2025  | 68    | 83    | 10.5  | 34    |  7170 | 50    |\n",
       "| Westmont College | No    |   950 |  713  |  351  | 42    | 72    | 1276  |    9  | 14320 | 5304  | 490   | 1410  | 77    | 77    | 14.9  | 17    |  8837 | 87    |\n",
       "| Wheaton College IL | Yes   |  1432 |  920  |  548  | 56    | 84    | 2200  |   56  | 11480 | 4200  | 530   | 1400  | 81    | 83    | 12.7  | 40    | 11916 | 85    |\n",
       "| Westminster College PA | Yes   |  1738 | 1373  |  417  | 21    | 55    | 1335  |   30  | 18460 | 5970  | 700   |  850  | 92    | 96    | 13.2  | 41    | 22704 | 71    |\n",
       "| Wheeling Jesuit College | Yes   |   903 |  755  |  213  | 15    | 49    |  971  |  305  | 10500 | 4545  | 600   |  600  | 66    | 71    | 14.1  | 27    |  7494 | 72    |\n",
       "| Whitman College | Yes   |  1861 |  998  |  359  | 45    | 77    | 1220  |   46  | 16670 | 4900  | 750   |  800  | 80    | 83    | 10.5  | 51    | 13198 | 72    |\n",
       "| Whittier College | Yes   |  1681 | 1069  |  344  | 35    | 63    | 1235  |   30  | 16249 | 5699  | 500   | 1998  | 84    | 92    | 13.6  | 29    | 11778 | 52    |\n",
       "| Whitworth College | Yes   |  1121 |  926  |  372  | 43    | 70    | 1270  |  160  | 12660 | 4500  | 678   | 2424  | 80    | 80    | 16.9  | 20    |  8328 | 80    |\n",
       "| Widener University | Yes   |  2139 | 1492  |  502  | 24    | 64    | 2186  | 2171  | 12350 | 5370  | 500   | 1350  | 88    | 86    | 12.6  | 19    |  9603 | 63    |\n",
       "| Wilkes University | Yes   |  1631 | 1431  |  434  | 15    | 36    | 1803  |  603  | 11150 | 5130  | 550   | 1260  | 78    | 92    | 13.3  | 24    |  8543 | 67    |\n",
       "| Willamette University | Yes   |  1658 | 1327  |  395  | 49    | 80    | 1595  |  159  | 14800 | 4620  | 400   |  790  | 91    | 94    | 13.3  | 37    | 10779 | 68    |\n",
       "| William Jewell College | Yes   |   663 |  547  |  315  | 32    | 67    | 1279  |   75  | 10060 | 2970  | 500   | 2600  | 74    | 80    | 11.2  | 19    |  7885 | 59    |\n",
       "| William Woods University | Yes   |   469 |  435  |  227  | 17    | 39    |  851  |  120  | 10535 | 4365  | 550   | 3700  | 39    | 66    | 12.9  | 16    |  7438 | 52    |\n",
       "| Williams College | Yes   |  4186 | 1245  |  526  | 81    | 96    | 1988  |   29  | 19629 | 5790  | 500   | 1200  | 94    | 99    |  9.0  | 64    | 22014 | 99    |\n",
       "| Wilson College | Yes   |   167 |  130  |   46  | 16    | 50    |  199  |  676  | 11428 | 5084  | 450   |  475  | 67    | 76    |  8.3  | 43    | 10291 | 67    |\n",
       "| Wingate College | Yes   |  1239 | 1017  |  383  | 10    | 34    | 1207  |  157  |  7820 | 3400  | 550   | 1550  | 69    | 81    | 13.9  |  8    |  7264 | 91    |\n",
       "| Winona State University | No    |  3325 | 2047  | 1301  | 20    | 45    | 5800  |  872  |  4200 | 2700  | 300   | 1200  | 53    | 60    | 20.2  | 18    |  5318 | 58    |\n",
       "| Winthrop University | No    |  2320 | 1805  |  769  | 24    | 61    | 3395  |  670  |  6400 | 3392  | 580   | 2150  | 71    | 80    | 12.8  | 26    |  6729 | 59    |\n",
       "| Wisconsin Lutheran College | Yes   |   152 |  128  |   75  | 17    | 41    |  282  |   22  |  9100 | 3700  | 500   | 1400  | 48    | 48    |  8.5  | 26    |  8960 | 50    |\n",
       "| Wittenberg University | Yes   |  1979 | 1739  |  575  | 42    | 68    | 1980  |  144  | 15948 | 4404  | 400   |  800  | 82    | 95    | 12.8  | 29    | 10414 | 78    |\n",
       "| Wofford College | Yes   |  1501 |  935  |  273  | 51    | 83    | 1059  |   34  | 12680 | 4150  | 605   | 1440  | 91    | 92    | 15.3  | 42    |  7875 | 75    |\n",
       "| Worcester Polytechnic Institute | Yes   |  2768 | 2314  |  682  | 49    | 86    | 2802  |   86  | 15884 | 5370  | 530   |  730  | 92    | 94    | 15.2  | 34    | 10774 | 82    |\n",
       "| Worcester State College | No    |  2197 | 1515  |  543  |  4    | 26    | 3089  | 2029  |  6797 | 3900  | 500   | 1200  | 60    | 60    | 21.0  | 14    |  4469 | 40    |\n",
       "| Xavier University | Yes   |  1959 | 1805  |  695  | 24    | 47    | 2849  | 1107  | 11520 | 4960  | 600   | 1250  | 73    | 75    | 13.3  | 31    |  9189 | 83    |\n",
       "| Xavier University of Louisiana | Yes   |  2097 | 1915  |  695  | 34    | 61    | 2793  |  166  |  6900 | 4200  | 617   |  781  | 67    | 75    | 14.4  | 20    |  8323 | 49    |\n",
       "| Yale University | Yes   | 10705 | 2453  | 1317  | 95    | 99    | 5217  |   83  | 19840 | 6510  | 630   | 2115  | 96    | 96    |  5.8  | 49    | 40386 | 99    |\n",
       "| York College of Pennsylvania | Yes   |  2989 | 1855  |  691  | 28    | 63    | 2988  | 1726  |  4990 | 3560  | 500   | 1250  | 75    | 75    | 18.1  | 28    |  4509 | 99    |\n",
       "\n"
      ],
      "text/plain": [
       "                                        Private Apps  Accept Enroll Top10perc\n",
       "Abilene Christian University            Yes      1660  1232   721   23       \n",
       "Adelphi University                      Yes      2186  1924   512   16       \n",
       "Adrian College                          Yes      1428  1097   336   22       \n",
       "Agnes Scott College                     Yes       417   349   137   60       \n",
       "Alaska Pacific University               Yes       193   146    55   16       \n",
       "Albertson College                       Yes       587   479   158   38       \n",
       "Albertus Magnus College                 Yes       353   340   103   17       \n",
       "Albion College                          Yes      1899  1720   489   37       \n",
       "Albright College                        Yes      1038   839   227   30       \n",
       "Alderson-Broaddus College               Yes       582   498   172   21       \n",
       "Alfred University                       Yes      1732  1425   472   37       \n",
       "Allegheny College                       Yes      2652  1900   484   44       \n",
       "Allentown Coll. of St. Francis de Sales Yes      1179   780   290   38       \n",
       "Alma College                            Yes      1267  1080   385   44       \n",
       "Alverno College                         Yes       494   313   157   23       \n",
       "American International College          Yes      1420  1093   220    9       \n",
       "Amherst College                         Yes      4302   992   418   83       \n",
       "Anderson University                     Yes      1216   908   423   19       \n",
       "Andrews University                      Yes      1130   704   322   14       \n",
       "Angelo State University                 No       3540  2001  1016   24       \n",
       "Antioch University                      Yes       713   661   252   25       \n",
       "Appalachian State University            No       7313  4664  1910   20       \n",
       "Aquinas College                         Yes       619   516   219   20       \n",
       "Arizona State University Main campus    No      12809 10308  3761   24       \n",
       "Arkansas College (Lyon College)         Yes       708   334   166   46       \n",
       "Arkansas Tech University                No       1734  1729   951   12       \n",
       "Assumption College                      Yes      2135  1700   491   23       \n",
       "Auburn University-Main Campus           No       7548  6791  3070   25       \n",
       "Augsburg College                        Yes       662   513   257   12       \n",
       "Augustana College IL                    Yes      1879  1658   497   36       \n",
       "...                                     ...     ...   ...    ...    ...      \n",
       "Westfield State College                 No       3100 2150    825    3       \n",
       "Westminster College MO                  Yes       662  553    184   20       \n",
       "Westminster College                     Yes       996  866    377   29       \n",
       "Westminster College of Salt Lake City   Yes       917  720    213   21       \n",
       "Westmont College                        No        950  713    351   42       \n",
       "Wheaton College IL                      Yes      1432  920    548   56       \n",
       "Westminster College PA                  Yes      1738 1373    417   21       \n",
       "Wheeling Jesuit College                 Yes       903  755    213   15       \n",
       "Whitman College                         Yes      1861  998    359   45       \n",
       "Whittier College                        Yes      1681 1069    344   35       \n",
       "Whitworth College                       Yes      1121  926    372   43       \n",
       "Widener University                      Yes      2139 1492    502   24       \n",
       "Wilkes University                       Yes      1631 1431    434   15       \n",
       "Willamette University                   Yes      1658 1327    395   49       \n",
       "William Jewell College                  Yes       663  547    315   32       \n",
       "William Woods University                Yes       469  435    227   17       \n",
       "Williams College                        Yes      4186 1245    526   81       \n",
       "Wilson College                          Yes       167  130     46   16       \n",
       "Wingate College                         Yes      1239 1017    383   10       \n",
       "Winona State University                 No       3325 2047   1301   20       \n",
       "Winthrop University                     No       2320 1805    769   24       \n",
       "Wisconsin Lutheran College              Yes       152  128     75   17       \n",
       "Wittenberg University                   Yes      1979 1739    575   42       \n",
       "Wofford College                         Yes      1501  935    273   51       \n",
       "Worcester Polytechnic Institute         Yes      2768 2314    682   49       \n",
       "Worcester State College                 No       2197 1515    543    4       \n",
       "Xavier University                       Yes      1959 1805    695   24       \n",
       "Xavier University of Louisiana          Yes      2097 1915    695   34       \n",
       "Yale University                         Yes     10705 2453   1317   95       \n",
       "York College of Pennsylvania            Yes      2989 1855    691   28       \n",
       "                                        Top25perc F.Undergrad P.Undergrad\n",
       "Abilene Christian University            52         2885        537       \n",
       "Adelphi University                      29         2683       1227       \n",
       "Adrian College                          50         1036         99       \n",
       "Agnes Scott College                     89          510         63       \n",
       "Alaska Pacific University               44          249        869       \n",
       "Albertson College                       62          678         41       \n",
       "Albertus Magnus College                 45          416        230       \n",
       "Albion College                          68         1594         32       \n",
       "Albright College                        63          973        306       \n",
       "Alderson-Broaddus College               44          799         78       \n",
       "Alfred University                       75         1830        110       \n",
       "Allegheny College                       77         1707         44       \n",
       "Allentown Coll. of St. Francis de Sales 64         1130        638       \n",
       "Alma College                            73         1306         28       \n",
       "Alverno College                         46         1317       1235       \n",
       "American International College          22         1018        287       \n",
       "Amherst College                         96         1593          5       \n",
       "Anderson University                     40         1819        281       \n",
       "Andrews University                      23         1586        326       \n",
       "Angelo State University                 54         4190       1512       \n",
       "Antioch University                      44          712         23       \n",
       "Appalachian State University            63         9940       1035       \n",
       "Aquinas College                         51         1251        767       \n",
       "Arizona State University Main campus    49        22593       7585       \n",
       "Arkansas College (Lyon College)         74          530        182       \n",
       "Arkansas Tech University                52         3602        939       \n",
       "Assumption College                      59         1708        689       \n",
       "Auburn University-Main Campus           57        16262       1716       \n",
       "Augsburg College                        30         2074        726       \n",
       "Augustana College IL                    69         1950         38       \n",
       "...                                     ...       ...         ...        \n",
       "Westfield State College                 20        3234         941       \n",
       "Westminster College MO                  43         665          37       \n",
       "Westminster College                     58        1411          72       \n",
       "Westminster College of Salt Lake City   60         979         743       \n",
       "Westmont College                        72        1276           9       \n",
       "Wheaton College IL                      84        2200          56       \n",
       "Westminster College PA                  55        1335          30       \n",
       "Wheeling Jesuit College                 49         971         305       \n",
       "Whitman College                         77        1220          46       \n",
       "Whittier College                        63        1235          30       \n",
       "Whitworth College                       70        1270         160       \n",
       "Widener University                      64        2186        2171       \n",
       "Wilkes University                       36        1803         603       \n",
       "Willamette University                   80        1595         159       \n",
       "William Jewell College                  67        1279          75       \n",
       "William Woods University                39         851         120       \n",
       "Williams College                        96        1988          29       \n",
       "Wilson College                          50         199         676       \n",
       "Wingate College                         34        1207         157       \n",
       "Winona State University                 45        5800         872       \n",
       "Winthrop University                     61        3395         670       \n",
       "Wisconsin Lutheran College              41         282          22       \n",
       "Wittenberg University                   68        1980         144       \n",
       "Wofford College                         83        1059          34       \n",
       "Worcester Polytechnic Institute         86        2802          86       \n",
       "Worcester State College                 26        3089        2029       \n",
       "Xavier University                       47        2849        1107       \n",
       "Xavier University of Louisiana          61        2793         166       \n",
       "Yale University                         99        5217          83       \n",
       "York College of Pennsylvania            63        2988        1726       \n",
       "                                        Outstate Room.Board Books Personal PhD\n",
       "Abilene Christian University             7440    3300       450   2200     70 \n",
       "Adelphi University                      12280    6450       750   1500     29 \n",
       "Adrian College                          11250    3750       400   1165     53 \n",
       "Agnes Scott College                     12960    5450       450    875     92 \n",
       "Alaska Pacific University                7560    4120       800   1500     76 \n",
       "Albertson College                       13500    3335       500    675     67 \n",
       "Albertus Magnus College                 13290    5720       500   1500     90 \n",
       "Albion College                          13868    4826       450    850     89 \n",
       "Albright College                        15595    4400       300    500     79 \n",
       "Alderson-Broaddus College               10468    3380       660   1800     40 \n",
       "Alfred University                       16548    5406       500    600     82 \n",
       "Allegheny College                       17080    4440       400    600     73 \n",
       "Allentown Coll. of St. Francis de Sales  9690    4785       600   1000     60 \n",
       "Alma College                            12572    4552       400    400     79 \n",
       "Alverno College                          8352    3640       650   2449     36 \n",
       "American International College           8700    4780       450   1400     78 \n",
       "Amherst College                         19760    5300       660   1598     93 \n",
       "Anderson University                     10100    3520       550   1100     48 \n",
       "Andrews University                       9996    3090       900   1320     62 \n",
       "Angelo State University                  5130    3592       500   2000     60 \n",
       "Antioch University                      15476    3336       400   1100     69 \n",
       "Appalachian State University             6806    2540        96   2000     83 \n",
       "Aquinas College                         11208    4124       350   1615     55 \n",
       "Arizona State University Main campus     7434    4850       700   2100     88 \n",
       "Arkansas College (Lyon College)          8644    3922       500    800     79 \n",
       "Arkansas Tech University                 3460    2650       450   1000     57 \n",
       "Assumption College                      12000    5920       500    500     93 \n",
       "Auburn University-Main Campus            6300    3933       600   1908     85 \n",
       "Augsburg College                        11902    4372       540    950     65 \n",
       "Augustana College IL                    13353    4173       540    821     78 \n",
       "...                                     ...      ...        ...   ...      ...\n",
       "Westfield State College                  5542    3788       500   1300     75 \n",
       "Westminster College MO                  10720    4050       600   1650     66 \n",
       "Westminster College                     12065    3615       430    685     62 \n",
       "Westminster College of Salt Lake City    8820    4050       600   2025     68 \n",
       "Westmont College                        14320    5304       490   1410     77 \n",
       "Wheaton College IL                      11480    4200       530   1400     81 \n",
       "Westminster College PA                  18460    5970       700    850     92 \n",
       "Wheeling Jesuit College                 10500    4545       600    600     66 \n",
       "Whitman College                         16670    4900       750    800     80 \n",
       "Whittier College                        16249    5699       500   1998     84 \n",
       "Whitworth College                       12660    4500       678   2424     80 \n",
       "Widener University                      12350    5370       500   1350     88 \n",
       "Wilkes University                       11150    5130       550   1260     78 \n",
       "Willamette University                   14800    4620       400    790     91 \n",
       "William Jewell College                  10060    2970       500   2600     74 \n",
       "William Woods University                10535    4365       550   3700     39 \n",
       "Williams College                        19629    5790       500   1200     94 \n",
       "Wilson College                          11428    5084       450    475     67 \n",
       "Wingate College                          7820    3400       550   1550     69 \n",
       "Winona State University                  4200    2700       300   1200     53 \n",
       "Winthrop University                      6400    3392       580   2150     71 \n",
       "Wisconsin Lutheran College               9100    3700       500   1400     48 \n",
       "Wittenberg University                   15948    4404       400    800     82 \n",
       "Wofford College                         12680    4150       605   1440     91 \n",
       "Worcester Polytechnic Institute         15884    5370       530    730     92 \n",
       "Worcester State College                  6797    3900       500   1200     60 \n",
       "Xavier University                       11520    4960       600   1250     73 \n",
       "Xavier University of Louisiana           6900    4200       617    781     67 \n",
       "Yale University                         19840    6510       630   2115     96 \n",
       "York College of Pennsylvania             4990    3560       500   1250     75 \n",
       "                                        Terminal S.F.Ratio perc.alumni Expend\n",
       "Abilene Christian University             78      18.1      12           7041 \n",
       "Adelphi University                       30      12.2      16          10527 \n",
       "Adrian College                           66      12.9      30           8735 \n",
       "Agnes Scott College                      97       7.7      37          19016 \n",
       "Alaska Pacific University                72      11.9       2          10922 \n",
       "Albertson College                        73       9.4      11           9727 \n",
       "Albertus Magnus College                  93      11.5      26           8861 \n",
       "Albion College                          100      13.7      37          11487 \n",
       "Albright College                         84      11.3      23          11644 \n",
       "Alderson-Broaddus College                41      11.5      15           8991 \n",
       "Alfred University                        88      11.3      31          10932 \n",
       "Allegheny College                        91       9.9      41          11711 \n",
       "Allentown Coll. of St. Francis de Sales  84      13.3      21           7940 \n",
       "Alma College                             87      15.3      32           9305 \n",
       "Alverno College                          69      11.1      26           8127 \n",
       "American International College           84      14.7      19           7355 \n",
       "Amherst College                          98       8.4      63          21424 \n",
       "Anderson University                      61      12.1      14           7994 \n",
       "Andrews University                       66      11.5      18          10908 \n",
       "Angelo State University                  62      23.1       5           4010 \n",
       "Antioch University                       82      11.3      35          42926 \n",
       "Appalachian State University             96      18.3      14           5854 \n",
       "Aquinas College                          65      12.7      25           6584 \n",
       "Arizona State University Main campus     93      18.9       5           4602 \n",
       "Arkansas College (Lyon College)          88      12.6      24          14579 \n",
       "Arkansas Tech University                 60      19.6       5           4739 \n",
       "Assumption College                       93      13.8      30           7100 \n",
       "Auburn University-Main Campus            91      16.7      18           6642 \n",
       "Augsburg College                         65      12.8      31           7836 \n",
       "Augustana College IL                     83      12.7      40           9220 \n",
       "...                                     ...      ...       ...         ...   \n",
       "Westfield State College                 79       15.7      20           4222 \n",
       "Westminster College MO                  70       12.5      20           7925 \n",
       "Westminster College                     78       12.5      41           8596 \n",
       "Westminster College of Salt Lake City   83       10.5      34           7170 \n",
       "Westmont College                        77       14.9      17           8837 \n",
       "Wheaton College IL                      83       12.7      40          11916 \n",
       "Westminster College PA                  96       13.2      41          22704 \n",
       "Wheeling Jesuit College                 71       14.1      27           7494 \n",
       "Whitman College                         83       10.5      51          13198 \n",
       "Whittier College                        92       13.6      29          11778 \n",
       "Whitworth College                       80       16.9      20           8328 \n",
       "Widener University                      86       12.6      19           9603 \n",
       "Wilkes University                       92       13.3      24           8543 \n",
       "Willamette University                   94       13.3      37          10779 \n",
       "William Jewell College                  80       11.2      19           7885 \n",
       "William Woods University                66       12.9      16           7438 \n",
       "Williams College                        99        9.0      64          22014 \n",
       "Wilson College                          76        8.3      43          10291 \n",
       "Wingate College                         81       13.9       8           7264 \n",
       "Winona State University                 60       20.2      18           5318 \n",
       "Winthrop University                     80       12.8      26           6729 \n",
       "Wisconsin Lutheran College              48        8.5      26           8960 \n",
       "Wittenberg University                   95       12.8      29          10414 \n",
       "Wofford College                         92       15.3      42           7875 \n",
       "Worcester Polytechnic Institute         94       15.2      34          10774 \n",
       "Worcester State College                 60       21.0      14           4469 \n",
       "Xavier University                       75       13.3      31           9189 \n",
       "Xavier University of Louisiana          75       14.4      20           8323 \n",
       "Yale University                         96        5.8      49          40386 \n",
       "York College of Pennsylvania            75       18.1      28           4509 \n",
       "                                        Grad.Rate\n",
       "Abilene Christian University             60      \n",
       "Adelphi University                       56      \n",
       "Adrian College                           54      \n",
       "Agnes Scott College                      59      \n",
       "Alaska Pacific University                15      \n",
       "Albertson College                        55      \n",
       "Albertus Magnus College                  63      \n",
       "Albion College                           73      \n",
       "Albright College                         80      \n",
       "Alderson-Broaddus College                52      \n",
       "Alfred University                        73      \n",
       "Allegheny College                        76      \n",
       "Allentown Coll. of St. Francis de Sales  74      \n",
       "Alma College                             68      \n",
       "Alverno College                          55      \n",
       "American International College           69      \n",
       "Amherst College                         100      \n",
       "Anderson University                      59      \n",
       "Andrews University                       46      \n",
       "Angelo State University                  34      \n",
       "Antioch University                       48      \n",
       "Appalachian State University             70      \n",
       "Aquinas College                          65      \n",
       "Arizona State University Main campus     48      \n",
       "Arkansas College (Lyon College)          54      \n",
       "Arkansas Tech University                 48      \n",
       "Assumption College                       88      \n",
       "Auburn University-Main Campus            69      \n",
       "Augsburg College                         58      \n",
       "Augustana College IL                     71      \n",
       "...                                     ...      \n",
       "Westfield State College                 65       \n",
       "Westminster College MO                  62       \n",
       "Westminster College                     80       \n",
       "Westminster College of Salt Lake City   50       \n",
       "Westmont College                        87       \n",
       "Wheaton College IL                      85       \n",
       "Westminster College PA                  71       \n",
       "Wheeling Jesuit College                 72       \n",
       "Whitman College                         72       \n",
       "Whittier College                        52       \n",
       "Whitworth College                       80       \n",
       "Widener University                      63       \n",
       "Wilkes University                       67       \n",
       "Willamette University                   68       \n",
       "William Jewell College                  59       \n",
       "William Woods University                52       \n",
       "Williams College                        99       \n",
       "Wilson College                          67       \n",
       "Wingate College                         91       \n",
       "Winona State University                 58       \n",
       "Winthrop University                     59       \n",
       "Wisconsin Lutheran College              50       \n",
       "Wittenberg University                   78       \n",
       "Wofford College                         75       \n",
       "Worcester Polytechnic Institute         82       \n",
       "Worcester State College                 40       \n",
       "Xavier University                       83       \n",
       "Xavier University of Louisiana          49       \n",
       "Yale University                         99       \n",
       "York College of Pennsylvania            99       "
      ]
     },
     "metadata": {},
     "output_type": "display_data"
    }
   ],
   "source": [
    "College"
   ]
  },
  {
   "cell_type": "code",
   "execution_count": 121,
   "metadata": {},
   "outputs": [
    {
     "name": "stderr",
     "output_type": "stream",
     "text": [
      "Warning message in smooth.construct.tp.smooth.spec(object, dk$data, dk$knots):\n",
      "\"basis dimension, k, increased to minimum possible\n",
      "\"Warning message in smooth.construct.tp.smooth.spec(object, dk$data, dk$knots):\n",
      "\"basis dimension, k, increased to minimum possible\n",
      "\"Warning message in smooth.construct.tp.smooth.spec(object, dk$data, dk$knots):\n",
      "\"basis dimension, k, increased to minimum possible\n",
      "\"Warning message in smooth.construct.tp.smooth.spec(object, dk$data, dk$knots):\n",
      "\"basis dimension, k, increased to minimum possible\n",
      "\"Warning message in smooth.construct.tp.smooth.spec(object, dk$data, dk$knots):\n",
      "\"basis dimension, k, increased to minimum possible\n",
      "\""
     ]
    },
    {
     "data": {
      "image/png": "[encoded data removed]",
      "text/plain": [
       "plot without title"
      ]
     },
     "metadata": {},
     "output_type": "display_data"
    }
   ],
   "source": [
    "gam_model <- gam(Outstate ~ Private + s(Room.Board, k=2) + s(PhD, k=2) + s(perc.alumni, k=2) + s(Expend, k=2) + s(Grad.Rate, k=2), data = train_set)\n",
    "\n",
    "par(mfrow=c(2, 3))\n",
    "plot(gam_model, se = TRUE, col = 'blue')"
   ]
  },
  {
   "cell_type": "raw",
   "metadata": {},
   "source": [
    "Expend and Grad.Rate have no linear relationship with Outstate."
   ]
  },
  {
   "cell_type": "markdown",
   "metadata": {},
   "source": [
    "c) Evaluate the model obtained on the test set, and explain the results obtained."
   ]
  },
  {
   "cell_type": "markdown",
   "metadata": {},
   "source": [
    "d) For which variables, if any, is there evidence of a non-linear relationship with the response?"
   ]
  },
  {
   "cell_type": "code",
   "execution_count": 119,
   "metadata": {},
   "outputs": [
    {
     "data": {
      "text/plain": [
       "\n",
       "Family: gaussian \n",
       "Link function: identity \n",
       "\n",
       "Formula:\n",
       "Outstate ~ Private + s(Room.Board, k = 2) + s(PhD, k = 2) + s(perc.alumni, \n",
       "    k = 2) + s(Expend, k = 2) + s(Grad.Rate, k = 2)\n",
       "\n",
       "Parametric coefficients:\n",
       "            Estimate Std. Error t value Pr(>|t|)    \n",
       "(Intercept)   8800.1      217.7  40.430   <2e-16 ***\n",
       "PrivateYes    2294.4      250.3   9.166   <2e-16 ***\n",
       "---\n",
       "Signif. codes:  0 '***' 0.001 '**' 0.01 '*' 0.05 '.' 0.1 ' ' 1\n",
       "\n",
       "Approximate significance of smooth terms:\n",
       "                 edf Ref.df     F  p-value    \n",
       "s(Room.Board)  1.795  1.958 31.20  < 2e-16 ***\n",
       "s(PhD)         1.834  1.972  8.95 0.000210 ***\n",
       "s(perc.alumni) 1.000  1.000 15.12 0.000114 ***\n",
       "s(Expend)      1.974  1.999 93.45  < 2e-16 ***\n",
       "s(Grad.Rate)   1.189  1.342 21.40 5.33e-07 ***\n",
       "---\n",
       "Signif. codes:  0 '***' 0.001 '**' 0.01 '*' 0.05 '.' 0.1 ' ' 1\n",
       "\n",
       "R-sq.(adj) =  0.781   Deviance explained = 78.4%\n",
       "GCV = 3.5507e+06  Scale est. = 3.4867e+06  n = 543"
      ]
     },
     "metadata": {},
     "output_type": "display_data"
    }
   ],
   "source": [
    "summary(gam_model)"
   ]
  },
  {
   "cell_type": "markdown",
   "metadata": {},
   "source": [
    "R squared is 0.781."
   ]
  },
  {
   "cell_type": "raw",
   "metadata": {},
   "source": [
    "All the predictors chosen are significant."
   ]
  },
  {
   "cell_type": "code",
   "execution_count": null,
   "metadata": {},
   "outputs": [],
   "source": []
  }
 ],
 "metadata": {
  "kernelspec": {
   "display_name": "R",
   "language": "R",
   "name": "ir"
  },
  "language_info": {
   "codemirror_mode": "r",
   "file_extension": ".r",
   "mimetype": "text/x-r-source",
   "name": "R",
   "pygments_lexer": "r",
   "version": "3.6.1"
  }
 },
 "nbformat": 4,
 "nbformat_minor": 4
}
