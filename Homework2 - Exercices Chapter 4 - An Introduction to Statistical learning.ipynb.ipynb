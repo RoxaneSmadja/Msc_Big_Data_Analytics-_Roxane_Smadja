{
 "cells": [
  {
   "cell_type": "code",
   "execution_count": 29,
   "metadata": {},
   "outputs": [
    {
     "data": {
      "text/html": [
       "0.377540668798145"
      ],
      "text/latex": [
       "0.377540668798145"
      ],
      "text/markdown": [
       "0.377540668798145"
      ],
      "text/plain": [
       "[1] 0.3775407"
      ]
     },
     "metadata": {},
     "output_type": "display_data"
    }
   ],
   "source": [
    "#Exercice 6p170\n",
    "#a)\n",
    "(exp(-6+0.05*40+3.5))/(1+exp(-6+0.05*40+3.5))"
   ]
  },
  {
   "cell_type": "markdown",
   "metadata": {},
   "source": [
    "The probability that a students who studied 40h and has GPA of 3.5 gets an A is 37.8%"
   ]
  },
  {
   "cell_type": "code",
   "execution_count": 31,
   "metadata": {},
   "outputs": [
    {
     "data": {
      "text/html": [
       "50"
      ],
      "text/latex": [
       "50"
      ],
      "text/markdown": [
       "50"
      ],
      "text/plain": [
       "[1] 50"
      ]
     },
     "metadata": {},
     "output_type": "display_data"
    }
   ],
   "source": [
    "#b)\n",
    "#exp(-6+0.05*X1+3.5)/(1+exp(-6+0.05*X1+3.5)=0.5\n",
    "#log(exp(-6+0.05*X1+3.5))=log(1)\n",
    "X1=2.5/0.05\n",
    "X1"
   ]
  },
  {
   "cell_type": "markdown",
   "metadata": {},
   "source": [
    "A student needs to study at least 50 hours to get an A"
   ]
  },
  {
   "cell_type": "code",
   "execution_count": null,
   "metadata": {},
   "outputs": [],
   "source": [
    "#Exercice 8p170\n",
    "The average error with the KNN method is difficult to analyze as the KNN method is likely to overfit. \n",
    "Thus, maybe the error is very low on the training set and very high on the test set. \n",
    "The test have been made for K=1. \n",
    "If the classification problems involves two class, the error in the train set will be 0% and 36% in the test set, \n",
    "which is bigger than the regression model errors.\n",
    "\n",
    "We know that this is normal that the error is less important on the train set rater than in the test set. \n",
    "So, a 10% difference between the error in Train and Test Set could be acceptable as in the regression. \n",
    "We will better go for the regression model."
   ]
  },
  {
   "cell_type": "code",
   "execution_count": 1,
   "metadata": {},
   "outputs": [
    {
     "data": {
      "text/html": [
       "0.27007299270073"
      ],
      "text/latex": [
       "0.27007299270073"
      ],
      "text/markdown": [
       "0.27007299270073"
      ],
      "text/plain": [
       "[1] 0.270073"
      ]
     },
     "metadata": {},
     "output_type": "display_data"
    }
   ],
   "source": [
    "#Exercice 9p170\n",
    "#a)\n",
    "#Prob=odds/(1-odds)\n",
    "Prob=0.37/(1+0.37)\n",
    "Prob\n",
    "#Probability of 27% of people with an odd of 0.37 default"
   ]
  },
  {
   "cell_type": "code",
   "execution_count": 2,
   "metadata": {},
   "outputs": [
    {
     "data": {
      "text/html": [
       "0.19047619047619"
      ],
      "text/latex": [
       "0.19047619047619"
      ],
      "text/markdown": [
       "0.19047619047619"
      ],
      "text/plain": [
       "[1] 0.1904762"
      ]
     },
     "metadata": {},
     "output_type": "display_data"
    }
   ],
   "source": [
    "Prob=0.16/(1-0.16)\n",
    "Prob\n",
    "#The odd that this people default is 19%"
   ]
  },
  {
   "cell_type": "code",
   "execution_count": 3,
   "metadata": {},
   "outputs": [
    {
     "name": "stdout",
     "output_type": "stream",
     "text": [
      "package 'ISLR' successfully unpacked and MD5 sums checked\n",
      "\n",
      "The downloaded binary packages are in\n",
      "\tC:\\Users\\rsmadja\\AppData\\Local\\Temp\\RtmpSSA0PA\\downloaded_packages\n"
     ]
    },
    {
     "name": "stderr",
     "output_type": "stream",
     "text": [
      "Warning message:\n",
      "\"package 'ISLR' was built under R version 3.6.3\""
     ]
    }
   ],
   "source": [
    "#Exercice 10p170\n",
    "#a)\n",
    "install.packages(\"ISLR\")\n",
    "library(ISLR)"
   ]
  },
  {
   "cell_type": "code",
   "execution_count": 4,
   "metadata": {},
   "outputs": [
    {
     "data": {
      "text/html": [
       "<table>\n",
       "<thead><tr><th scope=col>Year</th><th scope=col>Lag1</th><th scope=col>Lag2</th><th scope=col>Lag3</th><th scope=col>Lag4</th><th scope=col>Lag5</th><th scope=col>Volume</th><th scope=col>Today</th><th scope=col>Direction</th></tr></thead>\n",
       "<tbody>\n",
       "\t<tr><td>1990     </td><td> 0.816   </td><td> 1.572   </td><td>-3.936   </td><td>-0.229   </td><td>-3.484   </td><td>0.1549760</td><td>-0.270   </td><td>Down     </td></tr>\n",
       "\t<tr><td>1990     </td><td>-0.270   </td><td> 0.816   </td><td> 1.572   </td><td>-3.936   </td><td>-0.229   </td><td>0.1485740</td><td>-2.576   </td><td>Down     </td></tr>\n",
       "\t<tr><td>1990     </td><td>-2.576   </td><td>-0.270   </td><td> 0.816   </td><td> 1.572   </td><td>-3.936   </td><td>0.1598375</td><td> 3.514   </td><td>Up       </td></tr>\n",
       "\t<tr><td>1990     </td><td> 3.514   </td><td>-2.576   </td><td>-0.270   </td><td> 0.816   </td><td> 1.572   </td><td>0.1616300</td><td> 0.712   </td><td>Up       </td></tr>\n",
       "\t<tr><td>1990     </td><td> 0.712   </td><td> 3.514   </td><td>-2.576   </td><td>-0.270   </td><td> 0.816   </td><td>0.1537280</td><td> 1.178   </td><td>Up       </td></tr>\n",
       "\t<tr><td>1990     </td><td> 1.178   </td><td> 0.712   </td><td> 3.514   </td><td>-2.576   </td><td>-0.270   </td><td>0.1544440</td><td>-1.372   </td><td>Down     </td></tr>\n",
       "</tbody>\n",
       "</table>\n"
      ],
      "text/latex": [
       "\\begin{tabular}{r|lllllllll}\n",
       " Year & Lag1 & Lag2 & Lag3 & Lag4 & Lag5 & Volume & Today & Direction\\\\\n",
       "\\hline\n",
       "\t 1990      &  0.816    &  1.572    & -3.936    & -0.229    & -3.484    & 0.1549760 & -0.270    & Down     \\\\\n",
       "\t 1990      & -0.270    &  0.816    &  1.572    & -3.936    & -0.229    & 0.1485740 & -2.576    & Down     \\\\\n",
       "\t 1990      & -2.576    & -0.270    &  0.816    &  1.572    & -3.936    & 0.1598375 &  3.514    & Up       \\\\\n",
       "\t 1990      &  3.514    & -2.576    & -0.270    &  0.816    &  1.572    & 0.1616300 &  0.712    & Up       \\\\\n",
       "\t 1990      &  0.712    &  3.514    & -2.576    & -0.270    &  0.816    & 0.1537280 &  1.178    & Up       \\\\\n",
       "\t 1990      &  1.178    &  0.712    &  3.514    & -2.576    & -0.270    & 0.1544440 & -1.372    & Down     \\\\\n",
       "\\end{tabular}\n"
      ],
      "text/markdown": [
       "\n",
       "| Year | Lag1 | Lag2 | Lag3 | Lag4 | Lag5 | Volume | Today | Direction |\n",
       "|---|---|---|---|---|---|---|---|---|\n",
       "| 1990      |  0.816    |  1.572    | -3.936    | -0.229    | -3.484    | 0.1549760 | -0.270    | Down      |\n",
       "| 1990      | -0.270    |  0.816    |  1.572    | -3.936    | -0.229    | 0.1485740 | -2.576    | Down      |\n",
       "| 1990      | -2.576    | -0.270    |  0.816    |  1.572    | -3.936    | 0.1598375 |  3.514    | Up        |\n",
       "| 1990      |  3.514    | -2.576    | -0.270    |  0.816    |  1.572    | 0.1616300 |  0.712    | Up        |\n",
       "| 1990      |  0.712    |  3.514    | -2.576    | -0.270    |  0.816    | 0.1537280 |  1.178    | Up        |\n",
       "| 1990      |  1.178    |  0.712    |  3.514    | -2.576    | -0.270    | 0.1544440 | -1.372    | Down      |\n",
       "\n"
      ],
      "text/plain": [
       "  Year Lag1   Lag2   Lag3   Lag4   Lag5   Volume    Today  Direction\n",
       "1 1990  0.816  1.572 -3.936 -0.229 -3.484 0.1549760 -0.270 Down     \n",
       "2 1990 -0.270  0.816  1.572 -3.936 -0.229 0.1485740 -2.576 Down     \n",
       "3 1990 -2.576 -0.270  0.816  1.572 -3.936 0.1598375  3.514 Up       \n",
       "4 1990  3.514 -2.576 -0.270  0.816  1.572 0.1616300  0.712 Up       \n",
       "5 1990  0.712  3.514 -2.576 -0.270  0.816 0.1537280  1.178 Up       \n",
       "6 1990  1.178  0.712  3.514 -2.576 -0.270 0.1544440 -1.372 Down     "
      ]
     },
     "metadata": {},
     "output_type": "display_data"
    }
   ],
   "source": [
    "head(Weekly)"
   ]
  },
  {
   "cell_type": "code",
   "execution_count": 5,
   "metadata": {},
   "outputs": [
    {
     "data": {
      "text/html": [
       "<ol class=list-inline>\n",
       "\t<li>1990</li>\n",
       "\t<li>1991</li>\n",
       "\t<li>1992</li>\n",
       "\t<li>1993</li>\n",
       "\t<li>1994</li>\n",
       "\t<li>1995</li>\n",
       "\t<li>1996</li>\n",
       "\t<li>1997</li>\n",
       "\t<li>1998</li>\n",
       "\t<li>1999</li>\n",
       "\t<li>2000</li>\n",
       "\t<li>2001</li>\n",
       "\t<li>2002</li>\n",
       "\t<li>2003</li>\n",
       "\t<li>2004</li>\n",
       "\t<li>2005</li>\n",
       "\t<li>2006</li>\n",
       "\t<li>2007</li>\n",
       "\t<li>2008</li>\n",
       "\t<li>2009</li>\n",
       "\t<li>2010</li>\n",
       "</ol>\n"
      ],
      "text/latex": [
       "\\begin{enumerate*}\n",
       "\\item 1990\n",
       "\\item 1991\n",
       "\\item 1992\n",
       "\\item 1993\n",
       "\\item 1994\n",
       "\\item 1995\n",
       "\\item 1996\n",
       "\\item 1997\n",
       "\\item 1998\n",
       "\\item 1999\n",
       "\\item 2000\n",
       "\\item 2001\n",
       "\\item 2002\n",
       "\\item 2003\n",
       "\\item 2004\n",
       "\\item 2005\n",
       "\\item 2006\n",
       "\\item 2007\n",
       "\\item 2008\n",
       "\\item 2009\n",
       "\\item 2010\n",
       "\\end{enumerate*}\n"
      ],
      "text/markdown": [
       "1. 1990\n",
       "2. 1991\n",
       "3. 1992\n",
       "4. 1993\n",
       "5. 1994\n",
       "6. 1995\n",
       "7. 1996\n",
       "8. 1997\n",
       "9. 1998\n",
       "10. 1999\n",
       "11. 2000\n",
       "12. 2001\n",
       "13. 2002\n",
       "14. 2003\n",
       "15. 2004\n",
       "16. 2005\n",
       "17. 2006\n",
       "18. 2007\n",
       "19. 2008\n",
       "20. 2009\n",
       "21. 2010\n",
       "\n",
       "\n"
      ],
      "text/plain": [
       " [1] 1990 1991 1992 1993 1994 1995 1996 1997 1998 1999 2000 2001 2002 2003 2004\n",
       "[16] 2005 2006 2007 2008 2009 2010"
      ]
     },
     "metadata": {},
     "output_type": "display_data"
    }
   ],
   "source": [
    "unique(Weekly$Year)"
   ]
  },
  {
   "cell_type": "code",
   "execution_count": 6,
   "metadata": {},
   "outputs": [
    {
     "name": "stdout",
     "output_type": "stream",
     "text": [
      "'data.frame':\t1089 obs. of  9 variables:\n",
      " $ Year     : num  1990 1990 1990 1990 1990 1990 1990 1990 1990 1990 ...\n",
      " $ Lag1     : num  0.816 -0.27 -2.576 3.514 0.712 ...\n",
      " $ Lag2     : num  1.572 0.816 -0.27 -2.576 3.514 ...\n",
      " $ Lag3     : num  -3.936 1.572 0.816 -0.27 -2.576 ...\n",
      " $ Lag4     : num  -0.229 -3.936 1.572 0.816 -0.27 ...\n",
      " $ Lag5     : num  -3.484 -0.229 -3.936 1.572 0.816 ...\n",
      " $ Volume   : num  0.155 0.149 0.16 0.162 0.154 ...\n",
      " $ Today    : num  -0.27 -2.576 3.514 0.712 1.178 ...\n",
      " $ Direction: Factor w/ 2 levels \"Down\",\"Up\": 1 1 2 2 2 1 2 2 2 1 ...\n"
     ]
    }
   ],
   "source": [
    "str(Weekly)"
   ]
  },
  {
   "cell_type": "code",
   "execution_count": 7,
   "metadata": {},
   "outputs": [
    {
     "data": {
      "text/html": [
       "<ol class=list-inline>\n",
       "\t<li>1089</li>\n",
       "\t<li>9</li>\n",
       "</ol>\n"
      ],
      "text/latex": [
       "\\begin{enumerate*}\n",
       "\\item 1089\n",
       "\\item 9\n",
       "\\end{enumerate*}\n"
      ],
      "text/markdown": [
       "1. 1089\n",
       "2. 9\n",
       "\n",
       "\n"
      ],
      "text/plain": [
       "[1] 1089    9"
      ]
     },
     "metadata": {},
     "output_type": "display_data"
    }
   ],
   "source": [
    " dim(Weekly)"
   ]
  },
  {
   "cell_type": "code",
   "execution_count": 8,
   "metadata": {},
   "outputs": [
    {
     "data": {
      "text/html": [
       "<table>\n",
       "<thead><tr><th></th><th scope=col>Year</th><th scope=col>Lag1</th><th scope=col>Lag2</th><th scope=col>Lag3</th><th scope=col>Lag4</th><th scope=col>Lag5</th><th scope=col>Volume</th><th scope=col>Today</th></tr></thead>\n",
       "<tbody>\n",
       "\t<tr><th scope=row>Year</th><td> 1.00000000 </td><td>-0.032289274</td><td>-0.03339001 </td><td>-0.03000649 </td><td>-0.031127923</td><td>-0.030519101</td><td> 0.84194162 </td><td>-0.032459894</td></tr>\n",
       "\t<tr><th scope=row>Lag1</th><td>-0.03228927 </td><td> 1.000000000</td><td>-0.07485305 </td><td> 0.05863568 </td><td>-0.071273876</td><td>-0.008183096</td><td>-0.06495131 </td><td>-0.075031842</td></tr>\n",
       "\t<tr><th scope=row>Lag2</th><td>-0.03339001 </td><td>-0.074853051</td><td> 1.00000000 </td><td>-0.07572091 </td><td> 0.058381535</td><td>-0.072499482</td><td>-0.08551314 </td><td> 0.059166717</td></tr>\n",
       "\t<tr><th scope=row>Lag3</th><td>-0.03000649 </td><td> 0.058635682</td><td>-0.07572091 </td><td> 1.00000000 </td><td>-0.075395865</td><td> 0.060657175</td><td>-0.06928771 </td><td>-0.071243639</td></tr>\n",
       "\t<tr><th scope=row>Lag4</th><td>-0.03112792 </td><td>-0.071273876</td><td> 0.05838153 </td><td>-0.07539587 </td><td> 1.000000000</td><td>-0.075675027</td><td>-0.06107462 </td><td>-0.007825873</td></tr>\n",
       "\t<tr><th scope=row>Lag5</th><td>-0.03051910 </td><td>-0.008183096</td><td>-0.07249948 </td><td> 0.06065717 </td><td>-0.075675027</td><td> 1.000000000</td><td>-0.05851741 </td><td> 0.011012698</td></tr>\n",
       "\t<tr><th scope=row>Volume</th><td> 0.84194162 </td><td>-0.064951313</td><td>-0.08551314 </td><td>-0.06928771 </td><td>-0.061074617</td><td>-0.058517414</td><td> 1.00000000 </td><td>-0.033077783</td></tr>\n",
       "\t<tr><th scope=row>Today</th><td>-0.03245989 </td><td>-0.075031842</td><td> 0.05916672 </td><td>-0.07124364 </td><td>-0.007825873</td><td> 0.011012698</td><td>-0.03307778 </td><td> 1.000000000</td></tr>\n",
       "</tbody>\n",
       "</table>\n"
      ],
      "text/latex": [
       "\\begin{tabular}{r|llllllll}\n",
       "  & Year & Lag1 & Lag2 & Lag3 & Lag4 & Lag5 & Volume & Today\\\\\n",
       "\\hline\n",
       "\tYear &  1.00000000  & -0.032289274 & -0.03339001  & -0.03000649  & -0.031127923 & -0.030519101 &  0.84194162  & -0.032459894\\\\\n",
       "\tLag1 & -0.03228927  &  1.000000000 & -0.07485305  &  0.05863568  & -0.071273876 & -0.008183096 & -0.06495131  & -0.075031842\\\\\n",
       "\tLag2 & -0.03339001  & -0.074853051 &  1.00000000  & -0.07572091  &  0.058381535 & -0.072499482 & -0.08551314  &  0.059166717\\\\\n",
       "\tLag3 & -0.03000649  &  0.058635682 & -0.07572091  &  1.00000000  & -0.075395865 &  0.060657175 & -0.06928771  & -0.071243639\\\\\n",
       "\tLag4 & -0.03112792  & -0.071273876 &  0.05838153  & -0.07539587  &  1.000000000 & -0.075675027 & -0.06107462  & -0.007825873\\\\\n",
       "\tLag5 & -0.03051910  & -0.008183096 & -0.07249948  &  0.06065717  & -0.075675027 &  1.000000000 & -0.05851741  &  0.011012698\\\\\n",
       "\tVolume &  0.84194162  & -0.064951313 & -0.08551314  & -0.06928771  & -0.061074617 & -0.058517414 &  1.00000000  & -0.033077783\\\\\n",
       "\tToday & -0.03245989  & -0.075031842 &  0.05916672  & -0.07124364  & -0.007825873 &  0.011012698 & -0.03307778  &  1.000000000\\\\\n",
       "\\end{tabular}\n"
      ],
      "text/markdown": [
       "\n",
       "| <!--/--> | Year | Lag1 | Lag2 | Lag3 | Lag4 | Lag5 | Volume | Today |\n",
       "|---|---|---|---|---|---|---|---|---|\n",
       "| Year |  1.00000000  | -0.032289274 | -0.03339001  | -0.03000649  | -0.031127923 | -0.030519101 |  0.84194162  | -0.032459894 |\n",
       "| Lag1 | -0.03228927  |  1.000000000 | -0.07485305  |  0.05863568  | -0.071273876 | -0.008183096 | -0.06495131  | -0.075031842 |\n",
       "| Lag2 | -0.03339001  | -0.074853051 |  1.00000000  | -0.07572091  |  0.058381535 | -0.072499482 | -0.08551314  |  0.059166717 |\n",
       "| Lag3 | -0.03000649  |  0.058635682 | -0.07572091  |  1.00000000  | -0.075395865 |  0.060657175 | -0.06928771  | -0.071243639 |\n",
       "| Lag4 | -0.03112792  | -0.071273876 |  0.05838153  | -0.07539587  |  1.000000000 | -0.075675027 | -0.06107462  | -0.007825873 |\n",
       "| Lag5 | -0.03051910  | -0.008183096 | -0.07249948  |  0.06065717  | -0.075675027 |  1.000000000 | -0.05851741  |  0.011012698 |\n",
       "| Volume |  0.84194162  | -0.064951313 | -0.08551314  | -0.06928771  | -0.061074617 | -0.058517414 |  1.00000000  | -0.033077783 |\n",
       "| Today | -0.03245989  | -0.075031842 |  0.05916672  | -0.07124364  | -0.007825873 |  0.011012698 | -0.03307778  |  1.000000000 |\n",
       "\n"
      ],
      "text/plain": [
       "       Year        Lag1         Lag2        Lag3        Lag4        \n",
       "Year    1.00000000 -0.032289274 -0.03339001 -0.03000649 -0.031127923\n",
       "Lag1   -0.03228927  1.000000000 -0.07485305  0.05863568 -0.071273876\n",
       "Lag2   -0.03339001 -0.074853051  1.00000000 -0.07572091  0.058381535\n",
       "Lag3   -0.03000649  0.058635682 -0.07572091  1.00000000 -0.075395865\n",
       "Lag4   -0.03112792 -0.071273876  0.05838153 -0.07539587  1.000000000\n",
       "Lag5   -0.03051910 -0.008183096 -0.07249948  0.06065717 -0.075675027\n",
       "Volume  0.84194162 -0.064951313 -0.08551314 -0.06928771 -0.061074617\n",
       "Today  -0.03245989 -0.075031842  0.05916672 -0.07124364 -0.007825873\n",
       "       Lag5         Volume      Today       \n",
       "Year   -0.030519101  0.84194162 -0.032459894\n",
       "Lag1   -0.008183096 -0.06495131 -0.075031842\n",
       "Lag2   -0.072499482 -0.08551314  0.059166717\n",
       "Lag3    0.060657175 -0.06928771 -0.071243639\n",
       "Lag4   -0.075675027 -0.06107462 -0.007825873\n",
       "Lag5    1.000000000 -0.05851741  0.011012698\n",
       "Volume -0.058517414  1.00000000 -0.033077783\n",
       "Today   0.011012698 -0.03307778  1.000000000"
      ]
     },
     "metadata": {},
     "output_type": "display_data"
    }
   ],
   "source": [
    "cor(Weekly[,-9])"
   ]
  },
  {
   "cell_type": "markdown",
   "metadata": {},
   "source": [
    "The correlations between the lag variables and today's returns are close to zero. The only correlation we can directly see is between the year and the volume."
   ]
  },
  {
   "cell_type": "code",
   "execution_count": 9,
   "metadata": {},
   "outputs": [
    {
     "data": {
      "image/png": "[encoded data removed]",
      "text/plain": [
       "plot without title"
      ]
     },
     "metadata": {},
     "output_type": "display_data"
    }
   ],
   "source": [
    "pairs(Weekly)  "
   ]
  },
  {
   "cell_type": "markdown",
   "metadata": {},
   "source": [
    "The pairs plot confirm the previous assumption, There is a correlation between year and volume."
   ]
  },
  {
   "cell_type": "code",
   "execution_count": 10,
   "metadata": {},
   "outputs": [
    {
     "data": {
      "image/png": "[encoded data removed]",
      "text/plain": [
       "plot without title"
      ]
     },
     "metadata": {},
     "output_type": "display_data"
    }
   ],
   "source": [
    "attach(Weekly)\n",
    "plot(Volume)"
   ]
  },
  {
   "cell_type": "markdown",
   "metadata": {},
   "source": [
    "We can see an increase of the volume over time"
   ]
  },
  {
   "cell_type": "code",
   "execution_count": 11,
   "metadata": {},
   "outputs": [
    {
     "data": {
      "text/plain": [
       "\n",
       "Call:\n",
       "glm(formula = Direction ~ Lag1 + Lag2 + Lag3 + Lag4 + Lag5 + \n",
       "    Volume, family = binomial, data = Weekly)\n",
       "\n",
       "Deviance Residuals: \n",
       "    Min       1Q   Median       3Q      Max  \n",
       "-1.6949  -1.2565   0.9913   1.0849   1.4579  \n",
       "\n",
       "Coefficients:\n",
       "            Estimate Std. Error z value Pr(>|z|)   \n",
       "(Intercept)  0.26686    0.08593   3.106   0.0019 **\n",
       "Lag1        -0.04127    0.02641  -1.563   0.1181   \n",
       "Lag2         0.05844    0.02686   2.175   0.0296 * \n",
       "Lag3        -0.01606    0.02666  -0.602   0.5469   \n",
       "Lag4        -0.02779    0.02646  -1.050   0.2937   \n",
       "Lag5        -0.01447    0.02638  -0.549   0.5833   \n",
       "Volume      -0.02274    0.03690  -0.616   0.5377   \n",
       "---\n",
       "Signif. codes:  0 '***' 0.001 '**' 0.01 '*' 0.05 '.' 0.1 ' ' 1\n",
       "\n",
       "(Dispersion parameter for binomial family taken to be 1)\n",
       "\n",
       "    Null deviance: 1496.2  on 1088  degrees of freedom\n",
       "Residual deviance: 1486.4  on 1082  degrees of freedom\n",
       "AIC: 1500.4\n",
       "\n",
       "Number of Fisher Scoring iterations: 4\n"
      ]
     },
     "metadata": {},
     "output_type": "display_data"
    }
   ],
   "source": [
    "#b)\n",
    " glm.fits=glm(Direction∼Lag1+Lag2+Lag3+Lag4+Lag5+Volume ,\n",
    "data=Weekly ,family=binomial )\n",
    "summary (glm.fits)"
   ]
  },
  {
   "cell_type": "markdown",
   "metadata": {},
   "source": [
    "The smaller p-value is for Lag2\n",
    "This means that the coefficient of 0.05 explains that if the market has a positive return before yesterday, this is more likely to go up today. \n",
    "All the other predictors are not significant."
   ]
  },
  {
   "cell_type": "code",
   "execution_count": 12,
   "metadata": {},
   "outputs": [
    {
     "data": {
      "text/html": [
       "<dl class=dl-horizontal>\n",
       "\t<dt>1</dt>\n",
       "\t\t<dd>0.608624944335381</dd>\n",
       "\t<dt>2</dt>\n",
       "\t\t<dd>0.601031436565434</dd>\n",
       "\t<dt>3</dt>\n",
       "\t\t<dd>0.587569945934812</dd>\n",
       "\t<dt>4</dt>\n",
       "\t\t<dd>0.481641563622447</dd>\n",
       "\t<dt>5</dt>\n",
       "\t\t<dd>0.61690129222657</dd>\n",
       "\t<dt>6</dt>\n",
       "\t\t<dd>0.568419018945013</dd>\n",
       "\t<dt>7</dt>\n",
       "\t\t<dd>0.578609714614269</dd>\n",
       "\t<dt>8</dt>\n",
       "\t\t<dd>0.515197243692007</dd>\n",
       "\t<dt>9</dt>\n",
       "\t\t<dd>0.571519975294155</dd>\n",
       "\t<dt>10</dt>\n",
       "\t\t<dd>0.555428733703301</dd>\n",
       "</dl>\n"
      ],
      "text/latex": [
       "\\begin{description*}\n",
       "\\item[1] 0.608624944335381\n",
       "\\item[2] 0.601031436565434\n",
       "\\item[3] 0.587569945934812\n",
       "\\item[4] 0.481641563622447\n",
       "\\item[5] 0.61690129222657\n",
       "\\item[6] 0.568419018945013\n",
       "\\item[7] 0.578609714614269\n",
       "\\item[8] 0.515197243692007\n",
       "\\item[9] 0.571519975294155\n",
       "\\item[10] 0.555428733703301\n",
       "\\end{description*}\n"
      ],
      "text/markdown": [
       "1\n",
       ":   0.6086249443353812\n",
       ":   0.6010314365654343\n",
       ":   0.5875699459348124\n",
       ":   0.4816415636224475\n",
       ":   0.616901292226576\n",
       ":   0.5684190189450137\n",
       ":   0.5786097146142698\n",
       ":   0.5151972436920079\n",
       ":   0.57151997529415510\n",
       ":   0.555428733703301\n",
       "\n"
      ],
      "text/plain": [
       "        1         2         3         4         5         6         7         8 \n",
       "0.6086249 0.6010314 0.5875699 0.4816416 0.6169013 0.5684190 0.5786097 0.5151972 \n",
       "        9        10 \n",
       "0.5715200 0.5554287 "
      ]
     },
     "metadata": {},
     "output_type": "display_data"
    }
   ],
   "source": [
    "#c)\n",
    "glm.probs=predict (glm.fits,type=\"response\")\n",
    "glm.probs [1:10]\n"
   ]
  },
  {
   "cell_type": "code",
   "execution_count": 13,
   "metadata": {},
   "outputs": [
    {
     "data": {
      "text/plain": [
       "        Direction\n",
       "glm.pred Down  Up\n",
       "     Up   430 557\n",
       "    Down   54  48"
      ]
     },
     "metadata": {},
     "output_type": "display_data"
    }
   ],
   "source": [
    "glm.pred=rep(\"Down\" ,1089)\n",
    "glm.pred[glm.probs >.5]=\" Up\"\n",
    "\n",
    "table(glm.pred ,Direction )"
   ]
  },
  {
   "cell_type": "markdown",
   "metadata": {},
   "source": [
    "The model correctly predict that the market will go down during 54 days and up during 557 days. \n",
    "So we have 611 true predictions. "
   ]
  },
  {
   "cell_type": "code",
   "execution_count": 14,
   "metadata": {},
   "outputs": [
    {
     "data": {
      "text/html": [
       "0.0495867768595041"
      ],
      "text/latex": [
       "0.0495867768595041"
      ],
      "text/markdown": [
       "0.0495867768595041"
      ],
      "text/plain": [
       "[1] 0.04958678"
      ]
     },
     "metadata": {},
     "output_type": "display_data"
    }
   ],
   "source": [
    "mean(glm.pred==Direction)"
   ]
  },
  {
   "cell_type": "code",
   "execution_count": 15,
   "metadata": {},
   "outputs": [
    {
     "data": {
      "text/html": [
       "0.561065197428834"
      ],
      "text/latex": [
       "0.561065197428834"
      ],
      "text/markdown": [
       "0.561065197428834"
      ],
      "text/plain": [
       "[1] 0.5610652"
      ]
     },
     "metadata": {},
     "output_type": "display_data"
    }
   ],
   "source": [
    "611/1089"
   ]
  },
  {
   "cell_type": "markdown",
   "metadata": {},
   "source": [
    "Logistic regression correctly predicted the movement of the market 52.2 % of the time, which is low and lead to an important training error. \n",
    "We need to fit the model using only a partion of the data and make the prediction on the validation set. We also need to select only the significant variables."
   ]
  },
  {
   "cell_type": "code",
   "execution_count": 16,
   "metadata": {},
   "outputs": [],
   "source": [
    "#d)\n",
    "train <- (Year < 2009)\n",
    "Weekly.2009 <- Weekly[!train, ]\n",
    "Direction.2009 <- Direction[!train]"
   ]
  },
  {
   "cell_type": "code",
   "execution_count": 17,
   "metadata": {},
   "outputs": [],
   "source": [
    "glm.fits=glm(Direction∼Lag2,data=Weekly ,family=binomial ,subset=train)"
   ]
  },
  {
   "cell_type": "code",
   "execution_count": 18,
   "metadata": {},
   "outputs": [
    {
     "data": {
      "text/plain": [
       "\n",
       "Call:\n",
       "glm(formula = Direction ~ Lag2, family = binomial, data = Weekly, \n",
       "    subset = train)\n",
       "\n",
       "Deviance Residuals: \n",
       "   Min      1Q  Median      3Q     Max  \n",
       "-1.536  -1.264   1.021   1.091   1.368  \n",
       "\n",
       "Coefficients:\n",
       "            Estimate Std. Error z value Pr(>|z|)   \n",
       "(Intercept)  0.20326    0.06428   3.162  0.00157 **\n",
       "Lag2         0.05810    0.02870   2.024  0.04298 * \n",
       "---\n",
       "Signif. codes:  0 '***' 0.001 '**' 0.01 '*' 0.05 '.' 0.1 ' ' 1\n",
       "\n",
       "(Dispersion parameter for binomial family taken to be 1)\n",
       "\n",
       "    Null deviance: 1354.7  on 984  degrees of freedom\n",
       "Residual deviance: 1350.5  on 983  degrees of freedom\n",
       "AIC: 1354.5\n",
       "\n",
       "Number of Fisher Scoring iterations: 4\n"
      ]
     },
     "metadata": {},
     "output_type": "display_data"
    }
   ],
   "source": [
    "summary(glm.fits)"
   ]
  },
  {
   "cell_type": "code",
   "execution_count": 19,
   "metadata": {},
   "outputs": [
    {
     "data": {
      "text/plain": [
       "         Direction.2009\n",
       "glm.probs Down Up\n",
       "     Down    9  5\n",
       "     Up     34 56"
      ]
     },
     "metadata": {},
     "output_type": "display_data"
    }
   ],
   "source": [
    "prob <- predict(glm.fits, Weekly.2009, type = \"response\")\n",
    "glm.probs <- rep(\"Down\", length(prob))\n",
    "glm.probs[prob > 0.5] <- \"Up\"\n",
    "table(glm.probs, Direction.2009)"
   ]
  },
  {
   "cell_type": "markdown",
   "metadata": {},
   "source": [
    "In this case, we have 65 true predictions over 104, it means that 62,5% of the predictions of the years 2009 and 2010 were correctly predicted which is higly preferable."
   ]
  },
  {
   "cell_type": "code",
   "execution_count": 20,
   "metadata": {},
   "outputs": [
    {
     "name": "stderr",
     "output_type": "stream",
     "text": [
      "Warning message:\n",
      "\"package 'MASS' was built under R version 3.6.3\""
     ]
    },
    {
     "data": {
      "text/plain": [
       "Call:\n",
       "lda(Direction ~ Lag2, data = Weekly, subset = train)\n",
       "\n",
       "Prior probabilities of groups:\n",
       "     Down        Up \n",
       "0.4477157 0.5522843 \n",
       "\n",
       "Group means:\n",
       "            Lag2\n",
       "Down -0.03568254\n",
       "Up    0.26036581\n",
       "\n",
       "Coefficients of linear discriminants:\n",
       "           LD1\n",
       "Lag2 0.4414162"
      ]
     },
     "metadata": {},
     "output_type": "display_data"
    }
   ],
   "source": [
    "#e)\n",
    "library(MASS)\n",
    "fit.lda <- lda(Direction ~ Lag2, data = Weekly, subset = train)\n",
    "fit.lda"
   ]
  },
  {
   "cell_type": "markdown",
   "metadata": {},
   "source": [
    "There is a tendency for the 2 previous days percentage return to be negative when the market declines and a positive tendency when the market goes up. We will check for the "
   ]
  },
  {
   "cell_type": "code",
   "execution_count": 21,
   "metadata": {},
   "outputs": [
    {
     "data": {
      "text/plain": [
       "      Direction.2009\n",
       "       Down Up\n",
       "  Down    9  5\n",
       "  Up     34 56"
      ]
     },
     "metadata": {},
     "output_type": "display_data"
    }
   ],
   "source": [
    "pred.lda <- predict(fit.lda, Weekly.2009)\n",
    "table(pred.lda$class, Direction.2009)"
   ]
  },
  {
   "cell_type": "code",
   "execution_count": 22,
   "metadata": {},
   "outputs": [
    {
     "data": {
      "text/html": [
       "0.625"
      ],
      "text/latex": [
       "0.625"
      ],
      "text/markdown": [
       "0.625"
      ],
      "text/plain": [
       "[1] 0.625"
      ]
     },
     "metadata": {},
     "output_type": "display_data"
    }
   ],
   "source": [
    "\n",
    "(9+56)/(9+56+5+34)"
   ]
  },
  {
   "cell_type": "markdown",
   "metadata": {},
   "source": [
    "The true prediction rate is increasing at 62.5% with the LDA method"
   ]
  },
  {
   "cell_type": "code",
   "execution_count": 23,
   "metadata": {},
   "outputs": [
    {
     "data": {
      "text/plain": [
       "Call:\n",
       "qda(Direction ~ Lag2, data = Weekly, subset = train)\n",
       "\n",
       "Prior probabilities of groups:\n",
       "     Down        Up \n",
       "0.4477157 0.5522843 \n",
       "\n",
       "Group means:\n",
       "            Lag2\n",
       "Down -0.03568254\n",
       "Up    0.26036581"
      ]
     },
     "metadata": {},
     "output_type": "display_data"
    }
   ],
   "source": [
    "#f)\n",
    "fit.qda <- qda(Direction ~ Lag2, data = Weekly, subset = train)\n",
    "fit.qda"
   ]
  },
  {
   "cell_type": "code",
   "execution_count": 24,
   "metadata": {},
   "outputs": [
    {
     "data": {
      "text/plain": [
       "      Direction.2009\n",
       "       Down Up\n",
       "  Down    0  0\n",
       "  Up     43 61"
      ]
     },
     "metadata": {},
     "output_type": "display_data"
    }
   ],
   "source": [
    "pred.qda <- predict(fit.qda, Weekly.2009)\n",
    "table(pred.qda$class, Direction.2009)"
   ]
  },
  {
   "cell_type": "code",
   "execution_count": 25,
   "metadata": {},
   "outputs": [
    {
     "data": {
      "text/html": [
       "0.586538461538462"
      ],
      "text/latex": [
       "0.586538461538462"
      ],
      "text/markdown": [
       "0.586538461538462"
      ],
      "text/plain": [
       "[1] 0.5865385"
      ]
     },
     "metadata": {},
     "output_type": "display_data"
    }
   ],
   "source": [
    "61/(61+43)"
   ]
  },
  {
   "cell_type": "markdown",
   "metadata": {},
   "source": [
    "The true prediction rate is 58%. The weeks when the market is going up, the model always predict correctly the tendency. However, when"
   ]
  },
  {
   "cell_type": "code",
   "execution_count": 32,
   "metadata": {},
   "outputs": [
    {
     "name": "stderr",
     "output_type": "stream",
     "text": [
      "Warning message:\n",
      "\"package 'class' was built under R version 3.6.3\""
     ]
    },
    {
     "data": {
      "text/plain": [
       "        Direction.2009\n",
       "pred.knn Down Up\n",
       "    Down   21 30\n",
       "    Up     22 31"
      ]
     },
     "metadata": {},
     "output_type": "display_data"
    }
   ],
   "source": [
    "#g)\n",
    "library(class)\n",
    "train.X <- as.matrix(Lag2[train])\n",
    "test.X <- as.matrix(Lag2[!train])\n",
    "train.Y <- Direction[train]\n",
    "set.seed(1)\n",
    "pred.knn <- knn(train.X, test.X, train.Y, k = 1)\n",
    "table(pred.knn, Direction.2009)"
   ]
  },
  {
   "cell_type": "code",
   "execution_count": 33,
   "metadata": {},
   "outputs": [
    {
     "data": {
      "text/html": [
       "0.5"
      ],
      "text/latex": [
       "0.5"
      ],
      "text/markdown": [
       "0.5"
      ],
      "text/plain": [
       "[1] 0.5"
      ]
     },
     "metadata": {},
     "output_type": "display_data"
    }
   ],
   "source": [
    "(21+31)/(21+31+30+22)"
   ]
  },
  {
   "cell_type": "markdown",
   "metadata": {},
   "source": [
    "the true prediction rate for the KNN method with K=1 is 50%. It is the same as having a random model. This is definitely not enough."
   ]
  },
  {
   "cell_type": "code",
   "execution_count": null,
   "metadata": {},
   "outputs": [],
   "source": [
    "#h)\n"
   ]
  },
  {
   "cell_type": "markdown",
   "metadata": {},
   "source": [
    "In resume, we have \n",
    "1)Logistic regression : 62,5% of accuracy and LDA: 62.5% of accuracy\n",
    "3) QDA: 58% of accuracy\n",
    "4) KNN: 50% of accuracy"
   ]
  },
  {
   "cell_type": "code",
   "execution_count": 37,
   "metadata": {},
   "outputs": [
    {
     "data": {
      "text/plain": [
       "        Direction.2009\n",
       "pred.glm Down Up\n",
       "    Down    1  1\n",
       "    Up     42 60"
      ]
     },
     "metadata": {},
     "output_type": "display_data"
    }
   ],
   "source": [
    "#i)\n",
    "#We can firslt experiment a logistic regression with lag1 et lag2 as predictors ad in the example of the book\n",
    "fit.glm <- glm(Direction ~ Lag2:Lag1, data = Weekly, family = binomial, subset = train)\n",
    "probs <- predict(fit.glm, Weekly.2009, type = \"response\")\n",
    "pred.glm <- rep(\"Down\", length(prob))\n",
    "pred.glm[probs > 0.5] = \"Up\"\n",
    "table(pred.glm, Direction.2009)"
   ]
  },
  {
   "cell_type": "code",
   "execution_count": 42,
   "metadata": {},
   "outputs": [
    {
     "data": {
      "text/html": [
       "0.586538461538462"
      ],
      "text/latex": [
       "0.586538461538462"
      ],
      "text/markdown": [
       "0.586538461538462"
      ],
      "text/plain": [
       "[1] 0.5865385"
      ]
     },
     "metadata": {},
     "output_type": "display_data"
    }
   ],
   "source": [
    "61/(60+1+1+42)"
   ]
  },
  {
   "cell_type": "markdown",
   "metadata": {},
   "source": [
    "The accuracy is only 58%. I believe we could not improve the accuracy from the logistic model as the lag2 was the only significant variable.\n"
   ]
  },
  {
   "cell_type": "code",
   "execution_count": 49,
   "metadata": {},
   "outputs": [
    {
     "data": {
      "text/plain": [
       "      Direction.2009\n",
       "       Down Up\n",
       "  Down    0  1\n",
       "  Up     43 60"
      ]
     },
     "metadata": {},
     "output_type": "display_data"
    }
   ],
   "source": [
    "#Then, we can also try the LDA with the lag1 and lag2 as predictors\n",
    "fit.lda <- lda(Direction ~ Lag2:Lag1, data = Weekly, subset = train)\n",
    "pred.lda <- predict(fit.lda, Weekly.2009)\n",
    "table(pred.lda$class, Direction.2009)"
   ]
  },
  {
   "cell_type": "code",
   "execution_count": 51,
   "metadata": {},
   "outputs": [
    {
     "data": {
      "text/html": [
       "0.576923076923077"
      ],
      "text/latex": [
       "0.576923076923077"
      ],
      "text/markdown": [
       "0.576923076923077"
      ],
      "text/plain": [
       "[1] 0.5769231"
      ]
     },
     "metadata": {},
     "output_type": "display_data"
    }
   ],
   "source": [
    "60/(43+60+1)"
   ]
  },
  {
   "cell_type": "markdown",
   "metadata": {},
   "source": [
    "The accuracy is also 57%. Adding Lag1 does not immprove the accuracy rate."
   ]
  },
  {
   "cell_type": "code",
   "execution_count": 54,
   "metadata": {},
   "outputs": [
    {
     "data": {
      "text/plain": [
       "      Direction.2009\n",
       "       Down Up\n",
       "  Down    9 16\n",
       "  Up     34 45"
      ]
     },
     "metadata": {},
     "output_type": "display_data"
    }
   ],
   "source": [
    "#qda method with all predictors\n",
    "fit.qda <- qda(Direction ~ Lag2 + Lag1+Lag3+Lag4, data = Weekly, subset = train)\n",
    "pred.qda <- predict(fit.qda, Weekly.2009)\n",
    "table(pred.qda$class, Direction.2009)"
   ]
  },
  {
   "cell_type": "code",
   "execution_count": 56,
   "metadata": {},
   "outputs": [
    {
     "data": {
      "text/html": [
       "0.519230769230769"
      ],
      "text/latex": [
       "0.519230769230769"
      ],
      "text/markdown": [
       "0.519230769230769"
      ],
      "text/plain": [
       "[1] 0.5192308"
      ]
     },
     "metadata": {},
     "output_type": "display_data"
    }
   ],
   "source": [
    "(9+45)/(9+45+16+34)"
   ]
  },
  {
   "cell_type": "markdown",
   "metadata": {},
   "source": [
    "The accuracy is declining since I try to add all the lag as predictors: 51,9%"
   ]
  },
  {
   "cell_type": "code",
   "execution_count": 58,
   "metadata": {},
   "outputs": [
    {
     "data": {
      "text/plain": [
       "        Direction.2009\n",
       "pred.knn Down Up\n",
       "    Down   20 20\n",
       "    Up     23 41"
      ]
     },
     "metadata": {},
     "output_type": "display_data"
    }
   ],
   "source": [
    "#We can try the KNN classfier with K=15\n",
    "pred.knn <- knn(train.X, test.X, train.Y, k = 15)\n",
    "table(pred.knn, Direction.2009)"
   ]
  },
  {
   "cell_type": "code",
   "execution_count": 59,
   "metadata": {},
   "outputs": [
    {
     "data": {
      "text/html": [
       "0.586538461538462"
      ],
      "text/latex": [
       "0.586538461538462"
      ],
      "text/markdown": [
       "0.586538461538462"
      ],
      "text/plain": [
       "[1] 0.5865385"
      ]
     },
     "metadata": {},
     "output_type": "display_data"
    }
   ],
   "source": [
    "(20+41)/(20+20+23+41)"
   ]
  },
  {
   "cell_type": "markdown",
   "metadata": {},
   "source": [
    "The accuracy of the KNN classfier is increasing: 58%"
   ]
  },
  {
   "cell_type": "code",
   "execution_count": 60,
   "metadata": {},
   "outputs": [
    {
     "data": {
      "text/plain": [
       "        Direction.2009\n",
       "pred.knn Down Up\n",
       "    Down    9 12\n",
       "    Up     34 49"
      ]
     },
     "metadata": {},
     "output_type": "display_data"
    }
   ],
   "source": [
    "#K=100\n",
    "pred.knn <- knn(train.X, test.X, train.Y, k = 100)\n",
    "table(pred.knn, Direction.2009)"
   ]
  },
  {
   "cell_type": "code",
   "execution_count": 61,
   "metadata": {},
   "outputs": [
    {
     "data": {
      "text/html": [
       "0.201923076923077"
      ],
      "text/latex": [
       "0.201923076923077"
      ],
      "text/markdown": [
       "0.201923076923077"
      ],
      "text/plain": [
       "[1] 0.2019231"
      ]
     },
     "metadata": {},
     "output_type": "display_data"
    }
   ],
   "source": [
    "(9+12)/(9+12+34+49)"
   ]
  },
  {
   "cell_type": "markdown",
   "metadata": {},
   "source": [
    "The accuracy is very low with K=100: 20%\n",
    "\n",
    "To conclude, we did not find a better model than the logistic regression and the LDA with only Lag2 as predictor."
   ]
  },
  {
   "cell_type": "code",
   "execution_count": 63,
   "metadata": {},
   "outputs": [
    {
     "data": {
      "text/html": [
       "<table>\n",
       "<thead><tr><th scope=col>mpg</th><th scope=col>cylinders</th><th scope=col>displacement</th><th scope=col>horsepower</th><th scope=col>weight</th><th scope=col>acceleration</th><th scope=col>year</th><th scope=col>origin</th><th scope=col>name</th></tr></thead>\n",
       "<tbody>\n",
       "\t<tr><td>18                       </td><td>8                        </td><td>307                      </td><td>130                      </td><td>3504                     </td><td>12.0                     </td><td>70                       </td><td>1                        </td><td>chevrolet chevelle malibu</td></tr>\n",
       "\t<tr><td>15                       </td><td>8                        </td><td>350                      </td><td>165                      </td><td>3693                     </td><td>11.5                     </td><td>70                       </td><td>1                        </td><td>buick skylark 320        </td></tr>\n",
       "\t<tr><td>18                       </td><td>8                        </td><td>318                      </td><td>150                      </td><td>3436                     </td><td>11.0                     </td><td>70                       </td><td>1                        </td><td>plymouth satellite       </td></tr>\n",
       "\t<tr><td>16                       </td><td>8                        </td><td>304                      </td><td>150                      </td><td>3433                     </td><td>12.0                     </td><td>70                       </td><td>1                        </td><td>amc rebel sst            </td></tr>\n",
       "\t<tr><td>17                       </td><td>8                        </td><td>302                      </td><td>140                      </td><td>3449                     </td><td>10.5                     </td><td>70                       </td><td>1                        </td><td>ford torino              </td></tr>\n",
       "\t<tr><td>15                       </td><td>8                        </td><td>429                      </td><td>198                      </td><td>4341                     </td><td>10.0                     </td><td>70                       </td><td>1                        </td><td>ford galaxie 500         </td></tr>\n",
       "</tbody>\n",
       "</table>\n"
      ],
      "text/latex": [
       "\\begin{tabular}{r|lllllllll}\n",
       " mpg & cylinders & displacement & horsepower & weight & acceleration & year & origin & name\\\\\n",
       "\\hline\n",
       "\t 18                        & 8                         & 307                       & 130                       & 3504                      & 12.0                      & 70                        & 1                         & chevrolet chevelle malibu\\\\\n",
       "\t 15                        & 8                         & 350                       & 165                       & 3693                      & 11.5                      & 70                        & 1                         & buick skylark 320        \\\\\n",
       "\t 18                        & 8                         & 318                       & 150                       & 3436                      & 11.0                      & 70                        & 1                         & plymouth satellite       \\\\\n",
       "\t 16                        & 8                         & 304                       & 150                       & 3433                      & 12.0                      & 70                        & 1                         & amc rebel sst            \\\\\n",
       "\t 17                        & 8                         & 302                       & 140                       & 3449                      & 10.5                      & 70                        & 1                         & ford torino              \\\\\n",
       "\t 15                        & 8                         & 429                       & 198                       & 4341                      & 10.0                      & 70                        & 1                         & ford galaxie 500         \\\\\n",
       "\\end{tabular}\n"
      ],
      "text/markdown": [
       "\n",
       "| mpg | cylinders | displacement | horsepower | weight | acceleration | year | origin | name |\n",
       "|---|---|---|---|---|---|---|---|---|\n",
       "| 18                        | 8                         | 307                       | 130                       | 3504                      | 12.0                      | 70                        | 1                         | chevrolet chevelle malibu |\n",
       "| 15                        | 8                         | 350                       | 165                       | 3693                      | 11.5                      | 70                        | 1                         | buick skylark 320         |\n",
       "| 18                        | 8                         | 318                       | 150                       | 3436                      | 11.0                      | 70                        | 1                         | plymouth satellite        |\n",
       "| 16                        | 8                         | 304                       | 150                       | 3433                      | 12.0                      | 70                        | 1                         | amc rebel sst             |\n",
       "| 17                        | 8                         | 302                       | 140                       | 3449                      | 10.5                      | 70                        | 1                         | ford torino               |\n",
       "| 15                        | 8                         | 429                       | 198                       | 4341                      | 10.0                      | 70                        | 1                         | ford galaxie 500          |\n",
       "\n"
      ],
      "text/plain": [
       "  mpg cylinders displacement horsepower weight acceleration year origin\n",
       "1 18  8         307          130        3504   12.0         70   1     \n",
       "2 15  8         350          165        3693   11.5         70   1     \n",
       "3 18  8         318          150        3436   11.0         70   1     \n",
       "4 16  8         304          150        3433   12.0         70   1     \n",
       "5 17  8         302          140        3449   10.5         70   1     \n",
       "6 15  8         429          198        4341   10.0         70   1     \n",
       "  name                     \n",
       "1 chevrolet chevelle malibu\n",
       "2 buick skylark 320        \n",
       "3 plymouth satellite       \n",
       "4 amc rebel sst            \n",
       "5 ford torino              \n",
       "6 ford galaxie 500         "
      ]
     },
     "metadata": {},
     "output_type": "display_data"
    }
   ],
   "source": [
    "#Exercice 11p171\n",
    "head(Auto)"
   ]
  },
  {
   "cell_type": "code",
   "execution_count": 66,
   "metadata": {},
   "outputs": [],
   "source": [
    "Auto$mpg01 <- ifelse(Auto$mpg>median(Auto$mpg), 1,0)"
   ]
  },
  {
   "cell_type": "code",
   "execution_count": 68,
   "metadata": {},
   "outputs": [
    {
     "data": {
      "text/html": [
       "<table>\n",
       "<thead><tr><th></th><th scope=col>mpg</th><th scope=col>cylinders</th><th scope=col>displacement</th><th scope=col>horsepower</th><th scope=col>weight</th><th scope=col>acceleration</th><th scope=col>year</th><th scope=col>origin</th><th scope=col>name</th><th scope=col>mpg01</th></tr></thead>\n",
       "<tbody>\n",
       "\t<tr><th scope=row>1</th><td>18                          </td><td>8                           </td><td>307                         </td><td>130                         </td><td>3504                        </td><td>12.0                        </td><td>70                          </td><td>1                           </td><td>chevrolet chevelle malibu   </td><td>0                           </td></tr>\n",
       "\t<tr><th scope=row>2</th><td>15                          </td><td>8                           </td><td>350                         </td><td>165                         </td><td>3693                        </td><td>11.5                        </td><td>70                          </td><td>1                           </td><td>buick skylark 320           </td><td>0                           </td></tr>\n",
       "\t<tr><th scope=row>3</th><td>18                          </td><td>8                           </td><td>318                         </td><td>150                         </td><td>3436                        </td><td>11.0                        </td><td>70                          </td><td>1                           </td><td>plymouth satellite          </td><td>0                           </td></tr>\n",
       "\t<tr><th scope=row>4</th><td>16                          </td><td>8                           </td><td>304                         </td><td>150                         </td><td>3433                        </td><td>12.0                        </td><td>70                          </td><td>1                           </td><td>amc rebel sst               </td><td>0                           </td></tr>\n",
       "\t<tr><th scope=row>5</th><td>17                          </td><td>8                           </td><td>302                         </td><td>140                         </td><td>3449                        </td><td>10.5                        </td><td>70                          </td><td>1                           </td><td>ford torino                 </td><td>0                           </td></tr>\n",
       "\t<tr><th scope=row>6</th><td>15                          </td><td>8                           </td><td>429                         </td><td>198                         </td><td>4341                        </td><td>10.0                        </td><td>70                          </td><td>1                           </td><td>ford galaxie 500            </td><td>0                           </td></tr>\n",
       "\t<tr><th scope=row>7</th><td>14                          </td><td>8                           </td><td>454                         </td><td>220                         </td><td>4354                        </td><td> 9.0                        </td><td>70                          </td><td>1                           </td><td>chevrolet impala            </td><td>0                           </td></tr>\n",
       "\t<tr><th scope=row>8</th><td>14                          </td><td>8                           </td><td>440                         </td><td>215                         </td><td>4312                        </td><td> 8.5                        </td><td>70                          </td><td>1                           </td><td>plymouth fury iii           </td><td>0                           </td></tr>\n",
       "\t<tr><th scope=row>9</th><td>14                          </td><td>8                           </td><td>455                         </td><td>225                         </td><td>4425                        </td><td>10.0                        </td><td>70                          </td><td>1                           </td><td>pontiac catalina            </td><td>0                           </td></tr>\n",
       "\t<tr><th scope=row>10</th><td>15                          </td><td>8                           </td><td>390                         </td><td>190                         </td><td>3850                        </td><td> 8.5                        </td><td>70                          </td><td>1                           </td><td>amc ambassador dpl          </td><td>0                           </td></tr>\n",
       "\t<tr><th scope=row>11</th><td>15                          </td><td>8                           </td><td>383                         </td><td>170                         </td><td>3563                        </td><td>10.0                        </td><td>70                          </td><td>1                           </td><td>dodge challenger se         </td><td>0                           </td></tr>\n",
       "\t<tr><th scope=row>12</th><td>14                          </td><td>8                           </td><td>340                         </td><td>160                         </td><td>3609                        </td><td> 8.0                        </td><td>70                          </td><td>1                           </td><td>plymouth 'cuda 340          </td><td>0                           </td></tr>\n",
       "\t<tr><th scope=row>13</th><td>15                          </td><td>8                           </td><td>400                         </td><td>150                         </td><td>3761                        </td><td> 9.5                        </td><td>70                          </td><td>1                           </td><td>chevrolet monte carlo       </td><td>0                           </td></tr>\n",
       "\t<tr><th scope=row>14</th><td>14                          </td><td>8                           </td><td>455                         </td><td>225                         </td><td>3086                        </td><td>10.0                        </td><td>70                          </td><td>1                           </td><td>buick estate wagon (sw)     </td><td>0                           </td></tr>\n",
       "\t<tr><th scope=row>15</th><td>24                          </td><td>4                           </td><td>113                         </td><td> 95                         </td><td>2372                        </td><td>15.0                        </td><td>70                          </td><td>3                           </td><td>toyota corona mark ii       </td><td>1                           </td></tr>\n",
       "\t<tr><th scope=row>16</th><td>22                          </td><td>6                           </td><td>198                         </td><td> 95                         </td><td>2833                        </td><td>15.5                        </td><td>70                          </td><td>1                           </td><td>plymouth duster             </td><td>0                           </td></tr>\n",
       "\t<tr><th scope=row>17</th><td>18                          </td><td>6                           </td><td>199                         </td><td> 97                         </td><td>2774                        </td><td>15.5                        </td><td>70                          </td><td>1                           </td><td>amc hornet                  </td><td>0                           </td></tr>\n",
       "\t<tr><th scope=row>18</th><td>21                          </td><td>6                           </td><td>200                         </td><td> 85                         </td><td>2587                        </td><td>16.0                        </td><td>70                          </td><td>1                           </td><td>ford maverick               </td><td>0                           </td></tr>\n",
       "\t<tr><th scope=row>19</th><td>27                          </td><td>4                           </td><td> 97                         </td><td> 88                         </td><td>2130                        </td><td>14.5                        </td><td>70                          </td><td>3                           </td><td>datsun pl510                </td><td>1                           </td></tr>\n",
       "\t<tr><th scope=row>20</th><td>26                          </td><td>4                           </td><td> 97                         </td><td> 46                         </td><td>1835                        </td><td>20.5                        </td><td>70                          </td><td>2                           </td><td>volkswagen 1131 deluxe sedan</td><td>1                           </td></tr>\n",
       "\t<tr><th scope=row>21</th><td>25                          </td><td>4                           </td><td>110                         </td><td> 87                         </td><td>2672                        </td><td>17.5                        </td><td>70                          </td><td>2                           </td><td>peugeot 504                 </td><td>1                           </td></tr>\n",
       "\t<tr><th scope=row>22</th><td>24                          </td><td>4                           </td><td>107                         </td><td> 90                         </td><td>2430                        </td><td>14.5                        </td><td>70                          </td><td>2                           </td><td>audi 100 ls                 </td><td>1                           </td></tr>\n",
       "\t<tr><th scope=row>23</th><td>25                          </td><td>4                           </td><td>104                         </td><td> 95                         </td><td>2375                        </td><td>17.5                        </td><td>70                          </td><td>2                           </td><td>saab 99e                    </td><td>1                           </td></tr>\n",
       "\t<tr><th scope=row>24</th><td>26                          </td><td>4                           </td><td>121                         </td><td>113                         </td><td>2234                        </td><td>12.5                        </td><td>70                          </td><td>2                           </td><td>bmw 2002                    </td><td>1                           </td></tr>\n",
       "\t<tr><th scope=row>25</th><td>21                          </td><td>6                           </td><td>199                         </td><td> 90                         </td><td>2648                        </td><td>15.0                        </td><td>70                          </td><td>1                           </td><td>amc gremlin                 </td><td>0                           </td></tr>\n",
       "\t<tr><th scope=row>26</th><td>10                          </td><td>8                           </td><td>360                         </td><td>215                         </td><td>4615                        </td><td>14.0                        </td><td>70                          </td><td>1                           </td><td>ford f250                   </td><td>0                           </td></tr>\n",
       "\t<tr><th scope=row>27</th><td>10                          </td><td>8                           </td><td>307                         </td><td>200                         </td><td>4376                        </td><td>15.0                        </td><td>70                          </td><td>1                           </td><td>chevy c20                   </td><td>0                           </td></tr>\n",
       "\t<tr><th scope=row>28</th><td>11                          </td><td>8                           </td><td>318                         </td><td>210                         </td><td>4382                        </td><td>13.5                        </td><td>70                          </td><td>1                           </td><td>dodge d200                  </td><td>0                           </td></tr>\n",
       "\t<tr><th scope=row>29</th><td> 9                          </td><td>8                           </td><td>304                         </td><td>193                         </td><td>4732                        </td><td>18.5                        </td><td>70                          </td><td>1                           </td><td>hi 1200d                    </td><td>0                           </td></tr>\n",
       "\t<tr><th scope=row>30</th><td>27                          </td><td>4                           </td><td> 97                         </td><td> 88                         </td><td>2130                        </td><td>14.5                        </td><td>71                          </td><td>3                           </td><td>datsun pl510                </td><td>1                           </td></tr>\n",
       "\t<tr><th scope=row>...</th><td>...</td><td>...</td><td>...</td><td>...</td><td>...</td><td>...</td><td>...</td><td>...</td><td>...</td><td>...</td></tr>\n",
       "\t<tr><th scope=row>368</th><td>28                               </td><td>4                                </td><td>112                              </td><td> 88                              </td><td>2605                             </td><td>19.6                             </td><td>82                               </td><td>1                                </td><td>chevrolet cavalier               </td><td>1                                </td></tr>\n",
       "\t<tr><th scope=row>369</th><td>27                               </td><td>4                                </td><td>112                              </td><td> 88                              </td><td>2640                             </td><td>18.6                             </td><td>82                               </td><td>1                                </td><td>chevrolet cavalier wagon         </td><td>1                                </td></tr>\n",
       "\t<tr><th scope=row>370</th><td>34                               </td><td>4                                </td><td>112                              </td><td> 88                              </td><td>2395                             </td><td>18.0                             </td><td>82                               </td><td>1                                </td><td>chevrolet cavalier 2-door        </td><td>1                                </td></tr>\n",
       "\t<tr><th scope=row>371</th><td>31                               </td><td>4                                </td><td>112                              </td><td> 85                              </td><td>2575                             </td><td>16.2                             </td><td>82                               </td><td>1                                </td><td>pontiac j2000 se hatchback       </td><td>1                                </td></tr>\n",
       "\t<tr><th scope=row>372</th><td>29                               </td><td>4                                </td><td>135                              </td><td> 84                              </td><td>2525                             </td><td>16.0                             </td><td>82                               </td><td>1                                </td><td>dodge aries se                   </td><td>1                                </td></tr>\n",
       "\t<tr><th scope=row>373</th><td>27                               </td><td>4                                </td><td>151                              </td><td> 90                              </td><td>2735                             </td><td>18.0                             </td><td>82                               </td><td>1                                </td><td>pontiac phoenix                  </td><td>1                                </td></tr>\n",
       "\t<tr><th scope=row>374</th><td>24                               </td><td>4                                </td><td>140                              </td><td> 92                              </td><td>2865                             </td><td>16.4                             </td><td>82                               </td><td>1                                </td><td>ford fairmont futura             </td><td>1                                </td></tr>\n",
       "\t<tr><th scope=row>375</th><td>36                               </td><td>4                                </td><td>105                              </td><td> 74                              </td><td>1980                             </td><td>15.3                             </td><td>82                               </td><td>2                                </td><td>volkswagen rabbit l              </td><td>1                                </td></tr>\n",
       "\t<tr><th scope=row>376</th><td>37                               </td><td>4                                </td><td> 91                              </td><td> 68                              </td><td>2025                             </td><td>18.2                             </td><td>82                               </td><td>3                                </td><td>mazda glc custom l               </td><td>1                                </td></tr>\n",
       "\t<tr><th scope=row>377</th><td>31                               </td><td>4                                </td><td> 91                              </td><td> 68                              </td><td>1970                             </td><td>17.6                             </td><td>82                               </td><td>3                                </td><td>mazda glc custom                 </td><td>1                                </td></tr>\n",
       "\t<tr><th scope=row>378</th><td>38                               </td><td>4                                </td><td>105                              </td><td> 63                              </td><td>2125                             </td><td>14.7                             </td><td>82                               </td><td>1                                </td><td>plymouth horizon miser           </td><td>1                                </td></tr>\n",
       "\t<tr><th scope=row>379</th><td>36                               </td><td>4                                </td><td> 98                              </td><td> 70                              </td><td>2125                             </td><td>17.3                             </td><td>82                               </td><td>1                                </td><td>mercury lynx l                   </td><td>1                                </td></tr>\n",
       "\t<tr><th scope=row>380</th><td>36                               </td><td>4                                </td><td>120                              </td><td> 88                              </td><td>2160                             </td><td>14.5                             </td><td>82                               </td><td>3                                </td><td>nissan stanza xe                 </td><td>1                                </td></tr>\n",
       "\t<tr><th scope=row>381</th><td>36                               </td><td>4                                </td><td>107                              </td><td> 75                              </td><td>2205                             </td><td>14.5                             </td><td>82                               </td><td>3                                </td><td>honda accord                     </td><td>1                                </td></tr>\n",
       "\t<tr><th scope=row>382</th><td>34                               </td><td>4                                </td><td>108                              </td><td> 70                              </td><td>2245                             </td><td>16.9                             </td><td>82                               </td><td>3                                </td><td>toyota corolla                   </td><td>1                                </td></tr>\n",
       "\t<tr><th scope=row>383</th><td>38                               </td><td>4                                </td><td> 91                              </td><td> 67                              </td><td>1965                             </td><td>15.0                             </td><td>82                               </td><td>3                                </td><td>honda civic                      </td><td>1                                </td></tr>\n",
       "\t<tr><th scope=row>384</th><td>32                               </td><td>4                                </td><td> 91                              </td><td> 67                              </td><td>1965                             </td><td>15.7                             </td><td>82                               </td><td>3                                </td><td>honda civic (auto)               </td><td>1                                </td></tr>\n",
       "\t<tr><th scope=row>385</th><td>38                               </td><td>4                                </td><td> 91                              </td><td> 67                              </td><td>1995                             </td><td>16.2                             </td><td>82                               </td><td>3                                </td><td>datsun 310 gx                    </td><td>1                                </td></tr>\n",
       "\t<tr><th scope=row>386</th><td>25                               </td><td>6                                </td><td>181                              </td><td>110                              </td><td>2945                             </td><td>16.4                             </td><td>82                               </td><td>1                                </td><td>buick century limited            </td><td>1                                </td></tr>\n",
       "\t<tr><th scope=row>387</th><td>38                               </td><td>6                                </td><td>262                              </td><td> 85                              </td><td>3015                             </td><td>17.0                             </td><td>82                               </td><td>1                                </td><td>oldsmobile cutlass ciera (diesel)</td><td>1                                </td></tr>\n",
       "\t<tr><th scope=row>388</th><td>26                               </td><td>4                                </td><td>156                              </td><td> 92                              </td><td>2585                             </td><td>14.5                             </td><td>82                               </td><td>1                                </td><td>chrysler lebaron medallion       </td><td>1                                </td></tr>\n",
       "\t<tr><th scope=row>389</th><td>22                               </td><td>6                                </td><td>232                              </td><td>112                              </td><td>2835                             </td><td>14.7                             </td><td>82                               </td><td>1                                </td><td>ford granada l                   </td><td>0                                </td></tr>\n",
       "\t<tr><th scope=row>390</th><td>32                               </td><td>4                                </td><td>144                              </td><td> 96                              </td><td>2665                             </td><td>13.9                             </td><td>82                               </td><td>3                                </td><td>toyota celica gt                 </td><td>1                                </td></tr>\n",
       "\t<tr><th scope=row>391</th><td>36                               </td><td>4                                </td><td>135                              </td><td> 84                              </td><td>2370                             </td><td>13.0                             </td><td>82                               </td><td>1                                </td><td>dodge charger 2.2                </td><td>1                                </td></tr>\n",
       "\t<tr><th scope=row>392</th><td>27                               </td><td>4                                </td><td>151                              </td><td> 90                              </td><td>2950                             </td><td>17.3                             </td><td>82                               </td><td>1                                </td><td>chevrolet camaro                 </td><td>1                                </td></tr>\n",
       "\t<tr><th scope=row>393</th><td>27                               </td><td>4                                </td><td>140                              </td><td> 86                              </td><td>2790                             </td><td>15.6                             </td><td>82                               </td><td>1                                </td><td>ford mustang gl                  </td><td>1                                </td></tr>\n",
       "\t<tr><th scope=row>394</th><td>44                               </td><td>4                                </td><td> 97                              </td><td> 52                              </td><td>2130                             </td><td>24.6                             </td><td>82                               </td><td>2                                </td><td>vw pickup                        </td><td>1                                </td></tr>\n",
       "\t<tr><th scope=row>395</th><td>32                               </td><td>4                                </td><td>135                              </td><td> 84                              </td><td>2295                             </td><td>11.6                             </td><td>82                               </td><td>1                                </td><td>dodge rampage                    </td><td>1                                </td></tr>\n",
       "\t<tr><th scope=row>396</th><td>28                               </td><td>4                                </td><td>120                              </td><td> 79                              </td><td>2625                             </td><td>18.6                             </td><td>82                               </td><td>1                                </td><td>ford ranger                      </td><td>1                                </td></tr>\n",
       "\t<tr><th scope=row>397</th><td>31                               </td><td>4                                </td><td>119                              </td><td> 82                              </td><td>2720                             </td><td>19.4                             </td><td>82                               </td><td>1                                </td><td>chevy s-10                       </td><td>1                                </td></tr>\n",
       "</tbody>\n",
       "</table>\n"
      ],
      "text/latex": [
       "\\begin{tabular}{r|llllllllll}\n",
       "  & mpg & cylinders & displacement & horsepower & weight & acceleration & year & origin & name & mpg01\\\\\n",
       "\\hline\n",
       "\t1 & 18                           & 8                            & 307                          & 130                          & 3504                         & 12.0                         & 70                           & 1                            & chevrolet chevelle malibu    & 0                           \\\\\n",
       "\t2 & 15                           & 8                            & 350                          & 165                          & 3693                         & 11.5                         & 70                           & 1                            & buick skylark 320            & 0                           \\\\\n",
       "\t3 & 18                           & 8                            & 318                          & 150                          & 3436                         & 11.0                         & 70                           & 1                            & plymouth satellite           & 0                           \\\\\n",
       "\t4 & 16                           & 8                            & 304                          & 150                          & 3433                         & 12.0                         & 70                           & 1                            & amc rebel sst                & 0                           \\\\\n",
       "\t5 & 17                           & 8                            & 302                          & 140                          & 3449                         & 10.5                         & 70                           & 1                            & ford torino                  & 0                           \\\\\n",
       "\t6 & 15                           & 8                            & 429                          & 198                          & 4341                         & 10.0                         & 70                           & 1                            & ford galaxie 500             & 0                           \\\\\n",
       "\t7 & 14                           & 8                            & 454                          & 220                          & 4354                         &  9.0                         & 70                           & 1                            & chevrolet impala             & 0                           \\\\\n",
       "\t8 & 14                           & 8                            & 440                          & 215                          & 4312                         &  8.5                         & 70                           & 1                            & plymouth fury iii            & 0                           \\\\\n",
       "\t9 & 14                           & 8                            & 455                          & 225                          & 4425                         & 10.0                         & 70                           & 1                            & pontiac catalina             & 0                           \\\\\n",
       "\t10 & 15                           & 8                            & 390                          & 190                          & 3850                         &  8.5                         & 70                           & 1                            & amc ambassador dpl           & 0                           \\\\\n",
       "\t11 & 15                           & 8                            & 383                          & 170                          & 3563                         & 10.0                         & 70                           & 1                            & dodge challenger se          & 0                           \\\\\n",
       "\t12 & 14                           & 8                            & 340                          & 160                          & 3609                         &  8.0                         & 70                           & 1                            & plymouth 'cuda 340           & 0                           \\\\\n",
       "\t13 & 15                           & 8                            & 400                          & 150                          & 3761                         &  9.5                         & 70                           & 1                            & chevrolet monte carlo        & 0                           \\\\\n",
       "\t14 & 14                           & 8                            & 455                          & 225                          & 3086                         & 10.0                         & 70                           & 1                            & buick estate wagon (sw)      & 0                           \\\\\n",
       "\t15 & 24                           & 4                            & 113                          &  95                          & 2372                         & 15.0                         & 70                           & 3                            & toyota corona mark ii        & 1                           \\\\\n",
       "\t16 & 22                           & 6                            & 198                          &  95                          & 2833                         & 15.5                         & 70                           & 1                            & plymouth duster              & 0                           \\\\\n",
       "\t17 & 18                           & 6                            & 199                          &  97                          & 2774                         & 15.5                         & 70                           & 1                            & amc hornet                   & 0                           \\\\\n",
       "\t18 & 21                           & 6                            & 200                          &  85                          & 2587                         & 16.0                         & 70                           & 1                            & ford maverick                & 0                           \\\\\n",
       "\t19 & 27                           & 4                            &  97                          &  88                          & 2130                         & 14.5                         & 70                           & 3                            & datsun pl510                 & 1                           \\\\\n",
       "\t20 & 26                           & 4                            &  97                          &  46                          & 1835                         & 20.5                         & 70                           & 2                            & volkswagen 1131 deluxe sedan & 1                           \\\\\n",
       "\t21 & 25                           & 4                            & 110                          &  87                          & 2672                         & 17.5                         & 70                           & 2                            & peugeot 504                  & 1                           \\\\\n",
       "\t22 & 24                           & 4                            & 107                          &  90                          & 2430                         & 14.5                         & 70                           & 2                            & audi 100 ls                  & 1                           \\\\\n",
       "\t23 & 25                           & 4                            & 104                          &  95                          & 2375                         & 17.5                         & 70                           & 2                            & saab 99e                     & 1                           \\\\\n",
       "\t24 & 26                           & 4                            & 121                          & 113                          & 2234                         & 12.5                         & 70                           & 2                            & bmw 2002                     & 1                           \\\\\n",
       "\t25 & 21                           & 6                            & 199                          &  90                          & 2648                         & 15.0                         & 70                           & 1                            & amc gremlin                  & 0                           \\\\\n",
       "\t26 & 10                           & 8                            & 360                          & 215                          & 4615                         & 14.0                         & 70                           & 1                            & ford f250                    & 0                           \\\\\n",
       "\t27 & 10                           & 8                            & 307                          & 200                          & 4376                         & 15.0                         & 70                           & 1                            & chevy c20                    & 0                           \\\\\n",
       "\t28 & 11                           & 8                            & 318                          & 210                          & 4382                         & 13.5                         & 70                           & 1                            & dodge d200                   & 0                           \\\\\n",
       "\t29 &  9                           & 8                            & 304                          & 193                          & 4732                         & 18.5                         & 70                           & 1                            & hi 1200d                     & 0                           \\\\\n",
       "\t30 & 27                           & 4                            &  97                          &  88                          & 2130                         & 14.5                         & 71                           & 3                            & datsun pl510                 & 1                           \\\\\n",
       "\t... & ... & ... & ... & ... & ... & ... & ... & ... & ... & ...\\\\\n",
       "\t368 & 28                                & 4                                 & 112                               &  88                               & 2605                              & 19.6                              & 82                                & 1                                 & chevrolet cavalier                & 1                                \\\\\n",
       "\t369 & 27                                & 4                                 & 112                               &  88                               & 2640                              & 18.6                              & 82                                & 1                                 & chevrolet cavalier wagon          & 1                                \\\\\n",
       "\t370 & 34                                & 4                                 & 112                               &  88                               & 2395                              & 18.0                              & 82                                & 1                                 & chevrolet cavalier 2-door         & 1                                \\\\\n",
       "\t371 & 31                                & 4                                 & 112                               &  85                               & 2575                              & 16.2                              & 82                                & 1                                 & pontiac j2000 se hatchback        & 1                                \\\\\n",
       "\t372 & 29                                & 4                                 & 135                               &  84                               & 2525                              & 16.0                              & 82                                & 1                                 & dodge aries se                    & 1                                \\\\\n",
       "\t373 & 27                                & 4                                 & 151                               &  90                               & 2735                              & 18.0                              & 82                                & 1                                 & pontiac phoenix                   & 1                                \\\\\n",
       "\t374 & 24                                & 4                                 & 140                               &  92                               & 2865                              & 16.4                              & 82                                & 1                                 & ford fairmont futura              & 1                                \\\\\n",
       "\t375 & 36                                & 4                                 & 105                               &  74                               & 1980                              & 15.3                              & 82                                & 2                                 & volkswagen rabbit l               & 1                                \\\\\n",
       "\t376 & 37                                & 4                                 &  91                               &  68                               & 2025                              & 18.2                              & 82                                & 3                                 & mazda glc custom l                & 1                                \\\\\n",
       "\t377 & 31                                & 4                                 &  91                               &  68                               & 1970                              & 17.6                              & 82                                & 3                                 & mazda glc custom                  & 1                                \\\\\n",
       "\t378 & 38                                & 4                                 & 105                               &  63                               & 2125                              & 14.7                              & 82                                & 1                                 & plymouth horizon miser            & 1                                \\\\\n",
       "\t379 & 36                                & 4                                 &  98                               &  70                               & 2125                              & 17.3                              & 82                                & 1                                 & mercury lynx l                    & 1                                \\\\\n",
       "\t380 & 36                                & 4                                 & 120                               &  88                               & 2160                              & 14.5                              & 82                                & 3                                 & nissan stanza xe                  & 1                                \\\\\n",
       "\t381 & 36                                & 4                                 & 107                               &  75                               & 2205                              & 14.5                              & 82                                & 3                                 & honda accord                      & 1                                \\\\\n",
       "\t382 & 34                                & 4                                 & 108                               &  70                               & 2245                              & 16.9                              & 82                                & 3                                 & toyota corolla                    & 1                                \\\\\n",
       "\t383 & 38                                & 4                                 &  91                               &  67                               & 1965                              & 15.0                              & 82                                & 3                                 & honda civic                       & 1                                \\\\\n",
       "\t384 & 32                                & 4                                 &  91                               &  67                               & 1965                              & 15.7                              & 82                                & 3                                 & honda civic (auto)                & 1                                \\\\\n",
       "\t385 & 38                                & 4                                 &  91                               &  67                               & 1995                              & 16.2                              & 82                                & 3                                 & datsun 310 gx                     & 1                                \\\\\n",
       "\t386 & 25                                & 6                                 & 181                               & 110                               & 2945                              & 16.4                              & 82                                & 1                                 & buick century limited             & 1                                \\\\\n",
       "\t387 & 38                                & 6                                 & 262                               &  85                               & 3015                              & 17.0                              & 82                                & 1                                 & oldsmobile cutlass ciera (diesel) & 1                                \\\\\n",
       "\t388 & 26                                & 4                                 & 156                               &  92                               & 2585                              & 14.5                              & 82                                & 1                                 & chrysler lebaron medallion        & 1                                \\\\\n",
       "\t389 & 22                                & 6                                 & 232                               & 112                               & 2835                              & 14.7                              & 82                                & 1                                 & ford granada l                    & 0                                \\\\\n",
       "\t390 & 32                                & 4                                 & 144                               &  96                               & 2665                              & 13.9                              & 82                                & 3                                 & toyota celica gt                  & 1                                \\\\\n",
       "\t391 & 36                                & 4                                 & 135                               &  84                               & 2370                              & 13.0                              & 82                                & 1                                 & dodge charger 2.2                 & 1                                \\\\\n",
       "\t392 & 27                                & 4                                 & 151                               &  90                               & 2950                              & 17.3                              & 82                                & 1                                 & chevrolet camaro                  & 1                                \\\\\n",
       "\t393 & 27                                & 4                                 & 140                               &  86                               & 2790                              & 15.6                              & 82                                & 1                                 & ford mustang gl                   & 1                                \\\\\n",
       "\t394 & 44                                & 4                                 &  97                               &  52                               & 2130                              & 24.6                              & 82                                & 2                                 & vw pickup                         & 1                                \\\\\n",
       "\t395 & 32                                & 4                                 & 135                               &  84                               & 2295                              & 11.6                              & 82                                & 1                                 & dodge rampage                     & 1                                \\\\\n",
       "\t396 & 28                                & 4                                 & 120                               &  79                               & 2625                              & 18.6                              & 82                                & 1                                 & ford ranger                       & 1                                \\\\\n",
       "\t397 & 31                                & 4                                 & 119                               &  82                               & 2720                              & 19.4                              & 82                                & 1                                 & chevy s-10                        & 1                                \\\\\n",
       "\\end{tabular}\n"
      ],
      "text/markdown": [
       "\n",
       "| <!--/--> | mpg | cylinders | displacement | horsepower | weight | acceleration | year | origin | name | mpg01 |\n",
       "|---|---|---|---|---|---|---|---|---|---|---|\n",
       "| 1 | 18                           | 8                            | 307                          | 130                          | 3504                         | 12.0                         | 70                           | 1                            | chevrolet chevelle malibu    | 0                            |\n",
       "| 2 | 15                           | 8                            | 350                          | 165                          | 3693                         | 11.5                         | 70                           | 1                            | buick skylark 320            | 0                            |\n",
       "| 3 | 18                           | 8                            | 318                          | 150                          | 3436                         | 11.0                         | 70                           | 1                            | plymouth satellite           | 0                            |\n",
       "| 4 | 16                           | 8                            | 304                          | 150                          | 3433                         | 12.0                         | 70                           | 1                            | amc rebel sst                | 0                            |\n",
       "| 5 | 17                           | 8                            | 302                          | 140                          | 3449                         | 10.5                         | 70                           | 1                            | ford torino                  | 0                            |\n",
       "| 6 | 15                           | 8                            | 429                          | 198                          | 4341                         | 10.0                         | 70                           | 1                            | ford galaxie 500             | 0                            |\n",
       "| 7 | 14                           | 8                            | 454                          | 220                          | 4354                         |  9.0                         | 70                           | 1                            | chevrolet impala             | 0                            |\n",
       "| 8 | 14                           | 8                            | 440                          | 215                          | 4312                         |  8.5                         | 70                           | 1                            | plymouth fury iii            | 0                            |\n",
       "| 9 | 14                           | 8                            | 455                          | 225                          | 4425                         | 10.0                         | 70                           | 1                            | pontiac catalina             | 0                            |\n",
       "| 10 | 15                           | 8                            | 390                          | 190                          | 3850                         |  8.5                         | 70                           | 1                            | amc ambassador dpl           | 0                            |\n",
       "| 11 | 15                           | 8                            | 383                          | 170                          | 3563                         | 10.0                         | 70                           | 1                            | dodge challenger se          | 0                            |\n",
       "| 12 | 14                           | 8                            | 340                          | 160                          | 3609                         |  8.0                         | 70                           | 1                            | plymouth 'cuda 340           | 0                            |\n",
       "| 13 | 15                           | 8                            | 400                          | 150                          | 3761                         |  9.5                         | 70                           | 1                            | chevrolet monte carlo        | 0                            |\n",
       "| 14 | 14                           | 8                            | 455                          | 225                          | 3086                         | 10.0                         | 70                           | 1                            | buick estate wagon (sw)      | 0                            |\n",
       "| 15 | 24                           | 4                            | 113                          |  95                          | 2372                         | 15.0                         | 70                           | 3                            | toyota corona mark ii        | 1                            |\n",
       "| 16 | 22                           | 6                            | 198                          |  95                          | 2833                         | 15.5                         | 70                           | 1                            | plymouth duster              | 0                            |\n",
       "| 17 | 18                           | 6                            | 199                          |  97                          | 2774                         | 15.5                         | 70                           | 1                            | amc hornet                   | 0                            |\n",
       "| 18 | 21                           | 6                            | 200                          |  85                          | 2587                         | 16.0                         | 70                           | 1                            | ford maverick                | 0                            |\n",
       "| 19 | 27                           | 4                            |  97                          |  88                          | 2130                         | 14.5                         | 70                           | 3                            | datsun pl510                 | 1                            |\n",
       "| 20 | 26                           | 4                            |  97                          |  46                          | 1835                         | 20.5                         | 70                           | 2                            | volkswagen 1131 deluxe sedan | 1                            |\n",
       "| 21 | 25                           | 4                            | 110                          |  87                          | 2672                         | 17.5                         | 70                           | 2                            | peugeot 504                  | 1                            |\n",
       "| 22 | 24                           | 4                            | 107                          |  90                          | 2430                         | 14.5                         | 70                           | 2                            | audi 100 ls                  | 1                            |\n",
       "| 23 | 25                           | 4                            | 104                          |  95                          | 2375                         | 17.5                         | 70                           | 2                            | saab 99e                     | 1                            |\n",
       "| 24 | 26                           | 4                            | 121                          | 113                          | 2234                         | 12.5                         | 70                           | 2                            | bmw 2002                     | 1                            |\n",
       "| 25 | 21                           | 6                            | 199                          |  90                          | 2648                         | 15.0                         | 70                           | 1                            | amc gremlin                  | 0                            |\n",
       "| 26 | 10                           | 8                            | 360                          | 215                          | 4615                         | 14.0                         | 70                           | 1                            | ford f250                    | 0                            |\n",
       "| 27 | 10                           | 8                            | 307                          | 200                          | 4376                         | 15.0                         | 70                           | 1                            | chevy c20                    | 0                            |\n",
       "| 28 | 11                           | 8                            | 318                          | 210                          | 4382                         | 13.5                         | 70                           | 1                            | dodge d200                   | 0                            |\n",
       "| 29 |  9                           | 8                            | 304                          | 193                          | 4732                         | 18.5                         | 70                           | 1                            | hi 1200d                     | 0                            |\n",
       "| 30 | 27                           | 4                            |  97                          |  88                          | 2130                         | 14.5                         | 71                           | 3                            | datsun pl510                 | 1                            |\n",
       "| ... | ... | ... | ... | ... | ... | ... | ... | ... | ... | ... |\n",
       "| 368 | 28                                | 4                                 | 112                               |  88                               | 2605                              | 19.6                              | 82                                | 1                                 | chevrolet cavalier                | 1                                 |\n",
       "| 369 | 27                                | 4                                 | 112                               |  88                               | 2640                              | 18.6                              | 82                                | 1                                 | chevrolet cavalier wagon          | 1                                 |\n",
       "| 370 | 34                                | 4                                 | 112                               |  88                               | 2395                              | 18.0                              | 82                                | 1                                 | chevrolet cavalier 2-door         | 1                                 |\n",
       "| 371 | 31                                | 4                                 | 112                               |  85                               | 2575                              | 16.2                              | 82                                | 1                                 | pontiac j2000 se hatchback        | 1                                 |\n",
       "| 372 | 29                                | 4                                 | 135                               |  84                               | 2525                              | 16.0                              | 82                                | 1                                 | dodge aries se                    | 1                                 |\n",
       "| 373 | 27                                | 4                                 | 151                               |  90                               | 2735                              | 18.0                              | 82                                | 1                                 | pontiac phoenix                   | 1                                 |\n",
       "| 374 | 24                                | 4                                 | 140                               |  92                               | 2865                              | 16.4                              | 82                                | 1                                 | ford fairmont futura              | 1                                 |\n",
       "| 375 | 36                                | 4                                 | 105                               |  74                               | 1980                              | 15.3                              | 82                                | 2                                 | volkswagen rabbit l               | 1                                 |\n",
       "| 376 | 37                                | 4                                 |  91                               |  68                               | 2025                              | 18.2                              | 82                                | 3                                 | mazda glc custom l                | 1                                 |\n",
       "| 377 | 31                                | 4                                 |  91                               |  68                               | 1970                              | 17.6                              | 82                                | 3                                 | mazda glc custom                  | 1                                 |\n",
       "| 378 | 38                                | 4                                 | 105                               |  63                               | 2125                              | 14.7                              | 82                                | 1                                 | plymouth horizon miser            | 1                                 |\n",
       "| 379 | 36                                | 4                                 |  98                               |  70                               | 2125                              | 17.3                              | 82                                | 1                                 | mercury lynx l                    | 1                                 |\n",
       "| 380 | 36                                | 4                                 | 120                               |  88                               | 2160                              | 14.5                              | 82                                | 3                                 | nissan stanza xe                  | 1                                 |\n",
       "| 381 | 36                                | 4                                 | 107                               |  75                               | 2205                              | 14.5                              | 82                                | 3                                 | honda accord                      | 1                                 |\n",
       "| 382 | 34                                | 4                                 | 108                               |  70                               | 2245                              | 16.9                              | 82                                | 3                                 | toyota corolla                    | 1                                 |\n",
       "| 383 | 38                                | 4                                 |  91                               |  67                               | 1965                              | 15.0                              | 82                                | 3                                 | honda civic                       | 1                                 |\n",
       "| 384 | 32                                | 4                                 |  91                               |  67                               | 1965                              | 15.7                              | 82                                | 3                                 | honda civic (auto)                | 1                                 |\n",
       "| 385 | 38                                | 4                                 |  91                               |  67                               | 1995                              | 16.2                              | 82                                | 3                                 | datsun 310 gx                     | 1                                 |\n",
       "| 386 | 25                                | 6                                 | 181                               | 110                               | 2945                              | 16.4                              | 82                                | 1                                 | buick century limited             | 1                                 |\n",
       "| 387 | 38                                | 6                                 | 262                               |  85                               | 3015                              | 17.0                              | 82                                | 1                                 | oldsmobile cutlass ciera (diesel) | 1                                 |\n",
       "| 388 | 26                                | 4                                 | 156                               |  92                               | 2585                              | 14.5                              | 82                                | 1                                 | chrysler lebaron medallion        | 1                                 |\n",
       "| 389 | 22                                | 6                                 | 232                               | 112                               | 2835                              | 14.7                              | 82                                | 1                                 | ford granada l                    | 0                                 |\n",
       "| 390 | 32                                | 4                                 | 144                               |  96                               | 2665                              | 13.9                              | 82                                | 3                                 | toyota celica gt                  | 1                                 |\n",
       "| 391 | 36                                | 4                                 | 135                               |  84                               | 2370                              | 13.0                              | 82                                | 1                                 | dodge charger 2.2                 | 1                                 |\n",
       "| 392 | 27                                | 4                                 | 151                               |  90                               | 2950                              | 17.3                              | 82                                | 1                                 | chevrolet camaro                  | 1                                 |\n",
       "| 393 | 27                                | 4                                 | 140                               |  86                               | 2790                              | 15.6                              | 82                                | 1                                 | ford mustang gl                   | 1                                 |\n",
       "| 394 | 44                                | 4                                 |  97                               |  52                               | 2130                              | 24.6                              | 82                                | 2                                 | vw pickup                         | 1                                 |\n",
       "| 395 | 32                                | 4                                 | 135                               |  84                               | 2295                              | 11.6                              | 82                                | 1                                 | dodge rampage                     | 1                                 |\n",
       "| 396 | 28                                | 4                                 | 120                               |  79                               | 2625                              | 18.6                              | 82                                | 1                                 | ford ranger                       | 1                                 |\n",
       "| 397 | 31                                | 4                                 | 119                               |  82                               | 2720                              | 19.4                              | 82                                | 1                                 | chevy s-10                        | 1                                 |\n",
       "\n"
      ],
      "text/plain": [
       "    mpg cylinders displacement horsepower weight acceleration year origin\n",
       "1   18  8         307          130        3504   12.0         70   1     \n",
       "2   15  8         350          165        3693   11.5         70   1     \n",
       "3   18  8         318          150        3436   11.0         70   1     \n",
       "4   16  8         304          150        3433   12.0         70   1     \n",
       "5   17  8         302          140        3449   10.5         70   1     \n",
       "6   15  8         429          198        4341   10.0         70   1     \n",
       "7   14  8         454          220        4354    9.0         70   1     \n",
       "8   14  8         440          215        4312    8.5         70   1     \n",
       "9   14  8         455          225        4425   10.0         70   1     \n",
       "10  15  8         390          190        3850    8.5         70   1     \n",
       "11  15  8         383          170        3563   10.0         70   1     \n",
       "12  14  8         340          160        3609    8.0         70   1     \n",
       "13  15  8         400          150        3761    9.5         70   1     \n",
       "14  14  8         455          225        3086   10.0         70   1     \n",
       "15  24  4         113           95        2372   15.0         70   3     \n",
       "16  22  6         198           95        2833   15.5         70   1     \n",
       "17  18  6         199           97        2774   15.5         70   1     \n",
       "18  21  6         200           85        2587   16.0         70   1     \n",
       "19  27  4          97           88        2130   14.5         70   3     \n",
       "20  26  4          97           46        1835   20.5         70   2     \n",
       "21  25  4         110           87        2672   17.5         70   2     \n",
       "22  24  4         107           90        2430   14.5         70   2     \n",
       "23  25  4         104           95        2375   17.5         70   2     \n",
       "24  26  4         121          113        2234   12.5         70   2     \n",
       "25  21  6         199           90        2648   15.0         70   1     \n",
       "26  10  8         360          215        4615   14.0         70   1     \n",
       "27  10  8         307          200        4376   15.0         70   1     \n",
       "28  11  8         318          210        4382   13.5         70   1     \n",
       "29   9  8         304          193        4732   18.5         70   1     \n",
       "30  27  4          97           88        2130   14.5         71   3     \n",
       "... ... ...       ...          ...        ...    ...          ...  ...   \n",
       "368 28  4         112           88        2605   19.6         82   1     \n",
       "369 27  4         112           88        2640   18.6         82   1     \n",
       "370 34  4         112           88        2395   18.0         82   1     \n",
       "371 31  4         112           85        2575   16.2         82   1     \n",
       "372 29  4         135           84        2525   16.0         82   1     \n",
       "373 27  4         151           90        2735   18.0         82   1     \n",
       "374 24  4         140           92        2865   16.4         82   1     \n",
       "375 36  4         105           74        1980   15.3         82   2     \n",
       "376 37  4          91           68        2025   18.2         82   3     \n",
       "377 31  4          91           68        1970   17.6         82   3     \n",
       "378 38  4         105           63        2125   14.7         82   1     \n",
       "379 36  4          98           70        2125   17.3         82   1     \n",
       "380 36  4         120           88        2160   14.5         82   3     \n",
       "381 36  4         107           75        2205   14.5         82   3     \n",
       "382 34  4         108           70        2245   16.9         82   3     \n",
       "383 38  4          91           67        1965   15.0         82   3     \n",
       "384 32  4          91           67        1965   15.7         82   3     \n",
       "385 38  4          91           67        1995   16.2         82   3     \n",
       "386 25  6         181          110        2945   16.4         82   1     \n",
       "387 38  6         262           85        3015   17.0         82   1     \n",
       "388 26  4         156           92        2585   14.5         82   1     \n",
       "389 22  6         232          112        2835   14.7         82   1     \n",
       "390 32  4         144           96        2665   13.9         82   3     \n",
       "391 36  4         135           84        2370   13.0         82   1     \n",
       "392 27  4         151           90        2950   17.3         82   1     \n",
       "393 27  4         140           86        2790   15.6         82   1     \n",
       "394 44  4          97           52        2130   24.6         82   2     \n",
       "395 32  4         135           84        2295   11.6         82   1     \n",
       "396 28  4         120           79        2625   18.6         82   1     \n",
       "397 31  4         119           82        2720   19.4         82   1     \n",
       "    name                              mpg01\n",
       "1   chevrolet chevelle malibu         0    \n",
       "2   buick skylark 320                 0    \n",
       "3   plymouth satellite                0    \n",
       "4   amc rebel sst                     0    \n",
       "5   ford torino                       0    \n",
       "6   ford galaxie 500                  0    \n",
       "7   chevrolet impala                  0    \n",
       "8   plymouth fury iii                 0    \n",
       "9   pontiac catalina                  0    \n",
       "10  amc ambassador dpl                0    \n",
       "11  dodge challenger se               0    \n",
       "12  plymouth 'cuda 340                0    \n",
       "13  chevrolet monte carlo             0    \n",
       "14  buick estate wagon (sw)           0    \n",
       "15  toyota corona mark ii             1    \n",
       "16  plymouth duster                   0    \n",
       "17  amc hornet                        0    \n",
       "18  ford maverick                     0    \n",
       "19  datsun pl510                      1    \n",
       "20  volkswagen 1131 deluxe sedan      1    \n",
       "21  peugeot 504                       1    \n",
       "22  audi 100 ls                       1    \n",
       "23  saab 99e                          1    \n",
       "24  bmw 2002                          1    \n",
       "25  amc gremlin                       0    \n",
       "26  ford f250                         0    \n",
       "27  chevy c20                         0    \n",
       "28  dodge d200                        0    \n",
       "29  hi 1200d                          0    \n",
       "30  datsun pl510                      1    \n",
       "... ...                               ...  \n",
       "368 chevrolet cavalier                1    \n",
       "369 chevrolet cavalier wagon          1    \n",
       "370 chevrolet cavalier 2-door         1    \n",
       "371 pontiac j2000 se hatchback        1    \n",
       "372 dodge aries se                    1    \n",
       "373 pontiac phoenix                   1    \n",
       "374 ford fairmont futura              1    \n",
       "375 volkswagen rabbit l               1    \n",
       "376 mazda glc custom l                1    \n",
       "377 mazda glc custom                  1    \n",
       "378 plymouth horizon miser            1    \n",
       "379 mercury lynx l                    1    \n",
       "380 nissan stanza xe                  1    \n",
       "381 honda accord                      1    \n",
       "382 toyota corolla                    1    \n",
       "383 honda civic                       1    \n",
       "384 honda civic (auto)                1    \n",
       "385 datsun 310 gx                     1    \n",
       "386 buick century limited             1    \n",
       "387 oldsmobile cutlass ciera (diesel) 1    \n",
       "388 chrysler lebaron medallion        1    \n",
       "389 ford granada l                    0    \n",
       "390 toyota celica gt                  1    \n",
       "391 dodge charger 2.2                 1    \n",
       "392 chevrolet camaro                  1    \n",
       "393 ford mustang gl                   1    \n",
       "394 vw pickup                         1    \n",
       "395 dodge rampage                     1    \n",
       "396 ford ranger                       1    \n",
       "397 chevy s-10                        1    "
      ]
     },
     "metadata": {},
     "output_type": "display_data"
    }
   ],
   "source": [
    "Auto"
   ]
  },
  {
   "cell_type": "code",
   "execution_count": 71,
   "metadata": {},
   "outputs": [
    {
     "data": {
      "text/html": [
       "<table>\n",
       "<thead><tr><th></th><th scope=col>mpg</th><th scope=col>cylinders</th><th scope=col>displacement</th><th scope=col>horsepower</th><th scope=col>weight</th><th scope=col>acceleration</th><th scope=col>year</th><th scope=col>origin</th><th scope=col>mpg01</th></tr></thead>\n",
       "<tbody>\n",
       "\t<tr><th scope=row>mpg</th><td> 1.0000000</td><td>-0.7776175</td><td>-0.8051269</td><td>-0.7784268</td><td>-0.8322442</td><td> 0.4233285</td><td> 0.5805410</td><td> 0.5652088</td><td> 0.8369392</td></tr>\n",
       "\t<tr><th scope=row>cylinders</th><td>-0.7776175</td><td> 1.0000000</td><td> 0.9508233</td><td> 0.8429834</td><td> 0.8975273</td><td>-0.5046834</td><td>-0.3456474</td><td>-0.5689316</td><td>-0.7591939</td></tr>\n",
       "\t<tr><th scope=row>displacement</th><td>-0.8051269</td><td> 0.9508233</td><td> 1.0000000</td><td> 0.8972570</td><td> 0.9329944</td><td>-0.5438005</td><td>-0.3698552</td><td>-0.6145351</td><td>-0.7534766</td></tr>\n",
       "\t<tr><th scope=row>horsepower</th><td>-0.7784268</td><td> 0.8429834</td><td> 0.8972570</td><td> 1.0000000</td><td> 0.8645377</td><td>-0.6891955</td><td>-0.4163615</td><td>-0.4551715</td><td>-0.6670526</td></tr>\n",
       "\t<tr><th scope=row>weight</th><td>-0.8322442</td><td> 0.8975273</td><td> 0.9329944</td><td> 0.8645377</td><td> 1.0000000</td><td>-0.4168392</td><td>-0.3091199</td><td>-0.5850054</td><td>-0.7577566</td></tr>\n",
       "\t<tr><th scope=row>acceleration</th><td> 0.4233285</td><td>-0.5046834</td><td>-0.5438005</td><td>-0.6891955</td><td>-0.4168392</td><td> 1.0000000</td><td> 0.2903161</td><td> 0.2127458</td><td> 0.3468215</td></tr>\n",
       "\t<tr><th scope=row>year</th><td> 0.5805410</td><td>-0.3456474</td><td>-0.3698552</td><td>-0.4163615</td><td>-0.3091199</td><td> 0.2903161</td><td> 1.0000000</td><td> 0.1815277</td><td> 0.4299042</td></tr>\n",
       "\t<tr><th scope=row>origin</th><td> 0.5652088</td><td>-0.5689316</td><td>-0.6145351</td><td>-0.4551715</td><td>-0.5850054</td><td> 0.2127458</td><td> 0.1815277</td><td> 1.0000000</td><td> 0.5136984</td></tr>\n",
       "\t<tr><th scope=row>mpg01</th><td> 0.8369392</td><td>-0.7591939</td><td>-0.7534766</td><td>-0.6670526</td><td>-0.7577566</td><td> 0.3468215</td><td> 0.4299042</td><td> 0.5136984</td><td> 1.0000000</td></tr>\n",
       "</tbody>\n",
       "</table>\n"
      ],
      "text/latex": [
       "\\begin{tabular}{r|lllllllll}\n",
       "  & mpg & cylinders & displacement & horsepower & weight & acceleration & year & origin & mpg01\\\\\n",
       "\\hline\n",
       "\tmpg &  1.0000000 & -0.7776175 & -0.8051269 & -0.7784268 & -0.8322442 &  0.4233285 &  0.5805410 &  0.5652088 &  0.8369392\\\\\n",
       "\tcylinders & -0.7776175 &  1.0000000 &  0.9508233 &  0.8429834 &  0.8975273 & -0.5046834 & -0.3456474 & -0.5689316 & -0.7591939\\\\\n",
       "\tdisplacement & -0.8051269 &  0.9508233 &  1.0000000 &  0.8972570 &  0.9329944 & -0.5438005 & -0.3698552 & -0.6145351 & -0.7534766\\\\\n",
       "\thorsepower & -0.7784268 &  0.8429834 &  0.8972570 &  1.0000000 &  0.8645377 & -0.6891955 & -0.4163615 & -0.4551715 & -0.6670526\\\\\n",
       "\tweight & -0.8322442 &  0.8975273 &  0.9329944 &  0.8645377 &  1.0000000 & -0.4168392 & -0.3091199 & -0.5850054 & -0.7577566\\\\\n",
       "\tacceleration &  0.4233285 & -0.5046834 & -0.5438005 & -0.6891955 & -0.4168392 &  1.0000000 &  0.2903161 &  0.2127458 &  0.3468215\\\\\n",
       "\tyear &  0.5805410 & -0.3456474 & -0.3698552 & -0.4163615 & -0.3091199 &  0.2903161 &  1.0000000 &  0.1815277 &  0.4299042\\\\\n",
       "\torigin &  0.5652088 & -0.5689316 & -0.6145351 & -0.4551715 & -0.5850054 &  0.2127458 &  0.1815277 &  1.0000000 &  0.5136984\\\\\n",
       "\tmpg01 &  0.8369392 & -0.7591939 & -0.7534766 & -0.6670526 & -0.7577566 &  0.3468215 &  0.4299042 &  0.5136984 &  1.0000000\\\\\n",
       "\\end{tabular}\n"
      ],
      "text/markdown": [
       "\n",
       "| <!--/--> | mpg | cylinders | displacement | horsepower | weight | acceleration | year | origin | mpg01 |\n",
       "|---|---|---|---|---|---|---|---|---|---|\n",
       "| mpg |  1.0000000 | -0.7776175 | -0.8051269 | -0.7784268 | -0.8322442 |  0.4233285 |  0.5805410 |  0.5652088 |  0.8369392 |\n",
       "| cylinders | -0.7776175 |  1.0000000 |  0.9508233 |  0.8429834 |  0.8975273 | -0.5046834 | -0.3456474 | -0.5689316 | -0.7591939 |\n",
       "| displacement | -0.8051269 |  0.9508233 |  1.0000000 |  0.8972570 |  0.9329944 | -0.5438005 | -0.3698552 | -0.6145351 | -0.7534766 |\n",
       "| horsepower | -0.7784268 |  0.8429834 |  0.8972570 |  1.0000000 |  0.8645377 | -0.6891955 | -0.4163615 | -0.4551715 | -0.6670526 |\n",
       "| weight | -0.8322442 |  0.8975273 |  0.9329944 |  0.8645377 |  1.0000000 | -0.4168392 | -0.3091199 | -0.5850054 | -0.7577566 |\n",
       "| acceleration |  0.4233285 | -0.5046834 | -0.5438005 | -0.6891955 | -0.4168392 |  1.0000000 |  0.2903161 |  0.2127458 |  0.3468215 |\n",
       "| year |  0.5805410 | -0.3456474 | -0.3698552 | -0.4163615 | -0.3091199 |  0.2903161 |  1.0000000 |  0.1815277 |  0.4299042 |\n",
       "| origin |  0.5652088 | -0.5689316 | -0.6145351 | -0.4551715 | -0.5850054 |  0.2127458 |  0.1815277 |  1.0000000 |  0.5136984 |\n",
       "| mpg01 |  0.8369392 | -0.7591939 | -0.7534766 | -0.6670526 | -0.7577566 |  0.3468215 |  0.4299042 |  0.5136984 |  1.0000000 |\n",
       "\n"
      ],
      "text/plain": [
       "             mpg        cylinders  displacement horsepower weight    \n",
       "mpg           1.0000000 -0.7776175 -0.8051269   -0.7784268 -0.8322442\n",
       "cylinders    -0.7776175  1.0000000  0.9508233    0.8429834  0.8975273\n",
       "displacement -0.8051269  0.9508233  1.0000000    0.8972570  0.9329944\n",
       "horsepower   -0.7784268  0.8429834  0.8972570    1.0000000  0.8645377\n",
       "weight       -0.8322442  0.8975273  0.9329944    0.8645377  1.0000000\n",
       "acceleration  0.4233285 -0.5046834 -0.5438005   -0.6891955 -0.4168392\n",
       "year          0.5805410 -0.3456474 -0.3698552   -0.4163615 -0.3091199\n",
       "origin        0.5652088 -0.5689316 -0.6145351   -0.4551715 -0.5850054\n",
       "mpg01         0.8369392 -0.7591939 -0.7534766   -0.6670526 -0.7577566\n",
       "             acceleration year       origin     mpg01     \n",
       "mpg           0.4233285    0.5805410  0.5652088  0.8369392\n",
       "cylinders    -0.5046834   -0.3456474 -0.5689316 -0.7591939\n",
       "displacement -0.5438005   -0.3698552 -0.6145351 -0.7534766\n",
       "horsepower   -0.6891955   -0.4163615 -0.4551715 -0.6670526\n",
       "weight       -0.4168392   -0.3091199 -0.5850054 -0.7577566\n",
       "acceleration  1.0000000    0.2903161  0.2127458  0.3468215\n",
       "year          0.2903161    1.0000000  0.1815277  0.4299042\n",
       "origin        0.2127458    0.1815277  1.0000000  0.5136984\n",
       "mpg01         0.3468215    0.4299042  0.5136984  1.0000000"
      ]
     },
     "metadata": {},
     "output_type": "display_data"
    }
   ],
   "source": [
    "cor(Auto[, -9])"
   ]
  },
  {
   "cell_type": "code",
   "execution_count": 72,
   "metadata": {},
   "outputs": [
    {
     "data": {
      "image/png": "[encoded data removed]",
      "text/plain": [
       "plot without title"
      ]
     },
     "metadata": {},
     "output_type": "display_data"
    }
   ],
   "source": [
    "pairs(Auto)"
   ]
  },
  {
   "cell_type": "code",
   "execution_count": 74,
   "metadata": {},
   "outputs": [
    {
     "data": {
      "image/png": "[encoded data removed]",
      "text/plain": [
       "plot without title"
      ]
     },
     "metadata": {},
     "output_type": "display_data"
    }
   ],
   "source": [
    "#Boxplot mpg01 and cylinders\n",
    "boxplot(cylinders ~ mpg01, data = Auto)"
   ]
  },
  {
   "cell_type": "code",
   "execution_count": 75,
   "metadata": {},
   "outputs": [
    {
     "data": {
      "image/png": "[encoded data removed]",
      "text/plain": [
       "plot without title"
      ]
     },
     "metadata": {},
     "output_type": "display_data"
    }
   ],
   "source": [
    "#Boxplot mpg01 and displacement\n",
    "boxplot(displacement ~ mpg01, data = Auto)"
   ]
  },
  {
   "cell_type": "code",
   "execution_count": 76,
   "metadata": {},
   "outputs": [
    {
     "data": {
      "image/png": "[encoded data removed]",
      "text/plain": [
       "plot without title"
      ]
     },
     "metadata": {},
     "output_type": "display_data"
    }
   ],
   "source": [
    "#Boxplot mpg01 and horsepower\n",
    "boxplot(horsepower ~ mpg01, data = Auto)"
   ]
  },
  {
   "cell_type": "code",
   "execution_count": 77,
   "metadata": {},
   "outputs": [
    {
     "data": {
      "image/png": "[encoded data removed]",
      "text/plain": [
       "plot without title"
      ]
     },
     "metadata": {},
     "output_type": "display_data"
    }
   ],
   "source": [
    "#Boxplot mpg01 and weight\n",
    "boxplot(weight ~ mpg01, data = Auto)"
   ]
  },
  {
   "cell_type": "code",
   "execution_count": 78,
   "metadata": {},
   "outputs": [
    {
     "data": {
      "image/png": "[encoded data removed]",
      "text/plain": [
       "plot without title"
      ]
     },
     "metadata": {},
     "output_type": "display_data"
    }
   ],
   "source": [
    "#Boxplot mpg01 and Accelaration\n",
    "boxplot(acceleration ~ mpg01, data = Auto)"
   ]
  },
  {
   "cell_type": "code",
   "execution_count": 80,
   "metadata": {},
   "outputs": [
    {
     "data": {
      "image/png": "[encoded data removed]",
      "text/plain": [
       "plot without title"
      ]
     },
     "metadata": {},
     "output_type": "display_data"
    }
   ],
   "source": [
    "#Boxplot mpg01 and year\n",
    "boxplot(year ~ mpg01, data = Auto)"
   ]
  },
  {
   "cell_type": "markdown",
   "metadata": {},
   "source": [
    "There is a correlation between MPG01 and cylinders, weight, displacement and horsepower."
   ]
  },
  {
   "cell_type": "code",
   "execution_count": 183,
   "metadata": {},
   "outputs": [
    {
     "data": {
      "text/html": [
       "<ol class=list-inline>\n",
       "\t<li>294</li>\n",
       "\t<li>10</li>\n",
       "</ol>\n"
      ],
      "text/latex": [
       "\\begin{enumerate*}\n",
       "\\item 294\n",
       "\\item 10\n",
       "\\end{enumerate*}\n"
      ],
      "text/markdown": [
       "1. 294\n",
       "2. 10\n",
       "\n",
       "\n"
      ],
      "text/plain": [
       "[1] 294  10"
      ]
     },
     "metadata": {},
     "output_type": "display_data"
    },
    {
     "data": {
      "text/html": [
       "<ol class=list-inline>\n",
       "\t<li>98</li>\n",
       "\t<li>10</li>\n",
       "</ol>\n"
      ],
      "text/latex": [
       "\\begin{enumerate*}\n",
       "\\item 98\n",
       "\\item 10\n",
       "\\end{enumerate*}\n"
      ],
      "text/markdown": [
       "1. 98\n",
       "2. 10\n",
       "\n",
       "\n"
      ],
      "text/plain": [
       "[1] 98 10"
      ]
     },
     "metadata": {},
     "output_type": "display_data"
    }
   ],
   "source": [
    "#c)\n",
    "rands <- rnorm(nrow(Auto))\n",
    "test <- rands > quantile(rands,0.75)\n",
    "train <- !test\n",
    "Auto.train <- Auto[train,]\n",
    "dim(Auto.train)\n",
    "Auto.test <- Auto[test,]\n",
    "dim(Auto.test)"
   ]
  },
  {
   "cell_type": "markdown",
   "metadata": {},
   "source": [
    "We split randomly into 75% of the dataset into the train set and 25% into the test set"
   ]
  },
  {
   "cell_type": "code",
   "execution_count": 159,
   "metadata": {},
   "outputs": [
    {
     "data": {
      "text/plain": [
       "Call:\n",
       "lda(mpg01 ~ cylinders + weight + displacement + horsepower, data = Auto.train)\n",
       "\n",
       "Prior probabilities of groups:\n",
       "        0         1 \n",
       "0.4965986 0.5034014 \n",
       "\n",
       "Group means:\n",
       "  cylinders   weight displacement horsepower\n",
       "0  6.835616 3637.007     276.0137  130.62329\n",
       "1  4.175676 2332.189     116.5709   79.77027\n",
       "\n",
       "Coefficients of linear discriminants:\n",
       "                      LD1\n",
       "cylinders    -0.570845559\n",
       "weight       -0.001011861\n",
       "displacement -0.001645188\n",
       "horsepower    0.009198156"
      ]
     },
     "metadata": {},
     "output_type": "display_data"
    }
   ],
   "source": [
    "#d)\n",
    "fit.lda <- lda(mpg01 ~ cylinders + weight + displacement + horsepower, data = Auto.train)\n",
    "fit.lda"
   ]
  },
  {
   "cell_type": "code",
   "execution_count": 160,
   "metadata": {},
   "outputs": [
    {
     "data": {
      "text/plain": [
       "        \n",
       "pred.lda  0  1\n",
       "       0 41  4\n",
       "       1  9 44"
      ]
     },
     "metadata": {},
     "output_type": "display_data"
    }
   ],
   "source": [
    "pred.lda <- predict(fit.lda, Auto.test)$class\n",
    "table(pred.lda ,Auto.test$mpg01)"
   ]
  },
  {
   "cell_type": "code",
   "execution_count": 161,
   "metadata": {},
   "outputs": [
    {
     "data": {
      "text/html": [
       "0.13265306122449"
      ],
      "text/latex": [
       "0.13265306122449"
      ],
      "text/markdown": [
       "0.13265306122449"
      ],
      "text/plain": [
       "[1] 0.1326531"
      ]
     },
     "metadata": {},
     "output_type": "display_data"
    }
   ],
   "source": [
    "(4+9)/(41+4+9+44)"
   ]
  },
  {
   "cell_type": "markdown",
   "metadata": {},
   "source": [
    "The test error rate is 13% with the LDA model."
   ]
  },
  {
   "cell_type": "code",
   "execution_count": 162,
   "metadata": {},
   "outputs": [
    {
     "data": {
      "text/plain": [
       "Call:\n",
       "qda(mpg01 ~ cylinders + weight + displacement + horsepower, data = Auto.train)\n",
       "\n",
       "Prior probabilities of groups:\n",
       "        0         1 \n",
       "0.4965986 0.5034014 \n",
       "\n",
       "Group means:\n",
       "  cylinders   weight displacement horsepower\n",
       "0  6.835616 3637.007     276.0137  130.62329\n",
       "1  4.175676 2332.189     116.5709   79.77027"
      ]
     },
     "metadata": {},
     "output_type": "display_data"
    },
    {
     "ename": "ERROR",
     "evalue": "Error in predict(qda.fit, Auto.test): object 'qda.fit' not found\n",
     "output_type": "error",
     "traceback": [
      "Error in predict(qda.fit, Auto.test): object 'qda.fit' not found\nTraceback:\n",
      "1. predict(qda.fit, Auto.test)"
     ]
    }
   ],
   "source": [
    "#e)\n",
    "fit.qda = qda(mpg01 ~ cylinders + weight + displacement + horsepower, data=Auto.train)\n",
    "fit.qda\n",
    "\n"
   ]
  },
  {
   "cell_type": "code",
   "execution_count": 164,
   "metadata": {},
   "outputs": [
    {
     "data": {
      "text/plain": [
       "        \n",
       "pred.qda  0  1\n",
       "       0 41  5\n",
       "       1  9 43"
      ]
     },
     "metadata": {},
     "output_type": "display_data"
    }
   ],
   "source": [
    "pred.qda=predict(fit.qda,Auto.test)$class\n",
    "table(pred.qda,Auto.test$mpg01)"
   ]
  },
  {
   "cell_type": "code",
   "execution_count": 165,
   "metadata": {},
   "outputs": [
    {
     "data": {
      "text/html": [
       "0.142857142857143"
      ],
      "text/latex": [
       "0.142857142857143"
      ],
      "text/markdown": [
       "0.142857142857143"
      ],
      "text/plain": [
       "[1] 0.1428571"
      ]
     },
     "metadata": {},
     "output_type": "display_data"
    }
   ],
   "source": [
    "(5+9)/(41+5+9+43)"
   ]
  },
  {
   "cell_type": "markdown",
   "metadata": {},
   "source": [
    "The test error rate is 14% with the LDA model."
   ]
  },
  {
   "cell_type": "code",
   "execution_count": 166,
   "metadata": {},
   "outputs": [
    {
     "data": {
      "text/plain": [
       "\n",
       "Call:\n",
       "glm(formula = mpg01 ~ cylinders + weight + displacement + horsepower, \n",
       "    family = binomial, data = Auto.train)\n",
       "\n",
       "Deviance Residuals: \n",
       "    Min       1Q   Median       3Q      Max  \n",
       "-2.3618  -0.1532   0.1368   0.3484   3.3266  \n",
       "\n",
       "Coefficients:\n",
       "               Estimate Std. Error z value Pr(>|z|)    \n",
       "(Intercept)  11.8090397  1.9596444   6.026 1.68e-09 ***\n",
       "cylinders    -0.2904241  0.4199242  -0.692  0.48918    \n",
       "weight       -0.0022660  0.0008064  -2.810  0.00496 ** \n",
       "displacement -0.0092322  0.0096643  -0.955  0.33943    \n",
       "horsepower   -0.0235675  0.0162798  -1.448  0.14772    \n",
       "---\n",
       "Signif. codes:  0 '***' 0.001 '**' 0.01 '*' 0.05 '.' 0.1 ' ' 1\n",
       "\n",
       "(Dispersion parameter for binomial family taken to be 1)\n",
       "\n",
       "    Null deviance: 407.56  on 293  degrees of freedom\n",
       "Residual deviance: 150.54  on 289  degrees of freedom\n",
       "AIC: 160.54\n",
       "\n",
       "Number of Fisher Scoring iterations: 7\n"
      ]
     },
     "metadata": {},
     "output_type": "display_data"
    }
   ],
   "source": [
    "#f)\n",
    "logit.fit = glm(mpg01 ~ cylinders + weight + displacement + horsepower, family=binomial, data=Auto.train)\n",
    "summary(logit.fit)\n"
   ]
  },
  {
   "cell_type": "code",
   "execution_count": 170,
   "metadata": {},
   "outputs": [],
   "source": [
    "glm.probs=predict(logit.fit,Auto.test,type=\"response\")\n",
    "glm.pred=rep(0,nrow(Auto.test))\n",
    "glm.pred[glm.probs > 0.50]=1"
   ]
  },
  {
   "cell_type": "code",
   "execution_count": 171,
   "metadata": {},
   "outputs": [
    {
     "data": {
      "text/plain": [
       "        \n",
       "glm.pred  0  1\n",
       "       0 40  4\n",
       "       1 10 44"
      ]
     },
     "metadata": {},
     "output_type": "display_data"
    }
   ],
   "source": [
    "table(glm.pred,Auto.test$mpg01)"
   ]
  },
  {
   "cell_type": "code",
   "execution_count": 169,
   "metadata": {},
   "outputs": [
    {
     "data": {
      "text/html": [
       "0.142857142857143"
      ],
      "text/latex": [
       "0.142857142857143"
      ],
      "text/markdown": [
       "0.142857142857143"
      ],
      "text/plain": [
       "[1] 0.1428571"
      ]
     },
     "metadata": {},
     "output_type": "display_data"
    }
   ],
   "source": [
    "(4+10)/(40+4+10+44)"
   ]
  },
  {
   "cell_type": "markdown",
   "metadata": {},
   "source": [
    "The test error rate is 14% with the Logistic model."
   ]
  },
  {
   "cell_type": "code",
   "execution_count": 185,
   "metadata": {},
   "outputs": [],
   "source": [
    "set.seed(1)\n",
    "Auto.trainknn = Auto.train[,c(\"horsepower\",\"weight\",\"acceleration\")]\n",
    "Auto.testknn  =  Auto.test[,c(\"horsepower\",\"weight\",\"acceleration\")]"
   ]
  },
  {
   "cell_type": "code",
   "execution_count": 186,
   "metadata": {},
   "outputs": [],
   "source": [
    "knn.pred=knn(Auto.trainknn,Auto.testknn,Auto.train$mpg01,k=1)"
   ]
  },
  {
   "cell_type": "code",
   "execution_count": 187,
   "metadata": {},
   "outputs": [
    {
     "data": {
      "text/plain": [
       "        \n",
       "knn.pred  0  1\n",
       "       0 35  6\n",
       "       1  9 48"
      ]
     },
     "metadata": {},
     "output_type": "display_data"
    }
   ],
   "source": [
    "table(knn.pred,Auto.test$mpg01)"
   ]
  },
  {
   "cell_type": "code",
   "execution_count": 189,
   "metadata": {},
   "outputs": [
    {
     "data": {
      "text/html": [
       "0.153061224489796"
      ],
      "text/latex": [
       "0.153061224489796"
      ],
      "text/markdown": [
       "0.153061224489796"
      ],
      "text/plain": [
       "[1] 0.1530612"
      ]
     },
     "metadata": {},
     "output_type": "display_data"
    }
   ],
   "source": [
    "1- mean(knn.pred==Auto.test$mpg01)"
   ]
  },
  {
   "cell_type": "markdown",
   "metadata": {},
   "source": [
    "The test error rate for k=1 is 15%"
   ]
  },
  {
   "cell_type": "code",
   "execution_count": 202,
   "metadata": {},
   "outputs": [],
   "source": [
    "knn.pred=knn(Auto.trainknn,Auto.testknn,Auto.train$mpg01,k=2)"
   ]
  },
  {
   "cell_type": "code",
   "execution_count": 203,
   "metadata": {},
   "outputs": [
    {
     "data": {
      "text/plain": [
       "        \n",
       "knn.pred  0  1\n",
       "       0 35  7\n",
       "       1  9 47"
      ]
     },
     "metadata": {},
     "output_type": "display_data"
    },
    {
     "data": {
      "text/html": [
       "0.163265306122449"
      ],
      "text/latex": [
       "0.163265306122449"
      ],
      "text/markdown": [
       "0.163265306122449"
      ],
      "text/plain": [
       "[1] 0.1632653"
      ]
     },
     "metadata": {},
     "output_type": "display_data"
    }
   ],
   "source": [
    "table(knn.pred,Auto.test$mpg01)\n",
    "1- mean(knn.pred==Auto.test$mpg01)"
   ]
  },
  {
   "cell_type": "markdown",
   "metadata": {},
   "source": [
    "The test error for k=2 is 16%"
   ]
  },
  {
   "cell_type": "code",
   "execution_count": 204,
   "metadata": {},
   "outputs": [],
   "source": [
    "knn.pred=knn(Auto.trainknn,Auto.testknn,Auto.train$mpg01,k=3)"
   ]
  },
  {
   "cell_type": "code",
   "execution_count": 205,
   "metadata": {},
   "outputs": [
    {
     "data": {
      "text/plain": [
       "        \n",
       "knn.pred  0  1\n",
       "       0 37  6\n",
       "       1  7 48"
      ]
     },
     "metadata": {},
     "output_type": "display_data"
    },
    {
     "data": {
      "text/html": [
       "0.13265306122449"
      ],
      "text/latex": [
       "0.13265306122449"
      ],
      "text/markdown": [
       "0.13265306122449"
      ],
      "text/plain": [
       "[1] 0.1326531"
      ]
     },
     "metadata": {},
     "output_type": "display_data"
    }
   ],
   "source": [
    "table(knn.pred,Auto.test$mpg01)\n",
    "1- mean(knn.pred==Auto.test$mpg01)"
   ]
  },
  {
   "cell_type": "markdown",
   "metadata": {},
   "source": [
    "The test error for k=3 is 13%"
   ]
  },
  {
   "cell_type": "code",
   "execution_count": 206,
   "metadata": {},
   "outputs": [],
   "source": [
    "knn.pred=knn(Auto.trainknn,Auto.testknn,Auto.train$mpg01,k=4)"
   ]
  },
  {
   "cell_type": "code",
   "execution_count": 207,
   "metadata": {},
   "outputs": [
    {
     "data": {
      "text/plain": [
       "        \n",
       "knn.pred  0  1\n",
       "       0 36  8\n",
       "       1  8 46"
      ]
     },
     "metadata": {},
     "output_type": "display_data"
    },
    {
     "data": {
      "text/html": [
       "0.163265306122449"
      ],
      "text/latex": [
       "0.163265306122449"
      ],
      "text/markdown": [
       "0.163265306122449"
      ],
      "text/plain": [
       "[1] 0.1632653"
      ]
     },
     "metadata": {},
     "output_type": "display_data"
    }
   ],
   "source": [
    "table(knn.pred,Auto.test$mpg01)\n",
    "1- mean(knn.pred==Auto.test$mpg01)"
   ]
  },
  {
   "cell_type": "markdown",
   "metadata": {},
   "source": [
    "The test error for k=4 is 16%"
   ]
  },
  {
   "cell_type": "code",
   "execution_count": 196,
   "metadata": {},
   "outputs": [],
   "source": [
    "knn.pred=knn(Auto.trainknn,Auto.testknn,Auto.train$mpg01,k=5)"
   ]
  },
  {
   "cell_type": "code",
   "execution_count": 197,
   "metadata": {},
   "outputs": [
    {
     "data": {
      "text/plain": [
       "        \n",
       "knn.pred  0  1\n",
       "       0 37  7\n",
       "       1  7 47"
      ]
     },
     "metadata": {},
     "output_type": "display_data"
    }
   ],
   "source": [
    "table(knn.pred,Auto.test$mpg01)"
   ]
  },
  {
   "cell_type": "code",
   "execution_count": 198,
   "metadata": {},
   "outputs": [
    {
     "data": {
      "text/html": [
       "0.142857142857143"
      ],
      "text/latex": [
       "0.142857142857143"
      ],
      "text/markdown": [
       "0.142857142857143"
      ],
      "text/plain": [
       "[1] 0.1428571"
      ]
     },
     "metadata": {},
     "output_type": "display_data"
    }
   ],
   "source": [
    "1- mean(knn.pred==Auto.test$mpg01)"
   ]
  },
  {
   "cell_type": "markdown",
   "metadata": {},
   "source": [
    "The test error rate for k=5 is 14%"
   ]
  },
  {
   "cell_type": "code",
   "execution_count": 199,
   "metadata": {},
   "outputs": [
    {
     "data": {
      "text/plain": [
       "        \n",
       "knn.pred  0  1\n",
       "       0 36  7\n",
       "       1  8 47"
      ]
     },
     "metadata": {},
     "output_type": "display_data"
    },
    {
     "data": {
      "text/html": [
       "0.153061224489796"
      ],
      "text/latex": [
       "0.153061224489796"
      ],
      "text/markdown": [
       "0.153061224489796"
      ],
      "text/plain": [
       "[1] 0.1530612"
      ]
     },
     "metadata": {},
     "output_type": "display_data"
    }
   ],
   "source": [
    "knn.pred=knn(Auto.trainknn,Auto.testknn,Auto.train$mpg01,k=10)\n",
    "table(knn.pred,Auto.test$mpg01)\n",
    "1- mean(knn.pred==Auto.test$mpg01)"
   ]
  },
  {
   "cell_type": "markdown",
   "metadata": {},
   "source": [
    "The test error rate for k=10 is 15%"
   ]
  },
  {
   "cell_type": "code",
   "execution_count": 208,
   "metadata": {},
   "outputs": [
    {
     "data": {
      "text/plain": [
       "        \n",
       "knn.pred  0  1\n",
       "       0 35  6\n",
       "       1  9 48"
      ]
     },
     "metadata": {},
     "output_type": "display_data"
    },
    {
     "data": {
      "text/html": [
       "0.153061224489796"
      ],
      "text/latex": [
       "0.153061224489796"
      ],
      "text/markdown": [
       "0.153061224489796"
      ],
      "text/plain": [
       "[1] 0.1530612"
      ]
     },
     "metadata": {},
     "output_type": "display_data"
    }
   ],
   "source": [
    "knn.pred=knn(Auto.trainknn,Auto.testknn,Auto.train$mpg01,k=100)\n",
    "table(knn.pred,Auto.test$mpg01)\n",
    "1- mean(knn.pred==Auto.test$mpg01)"
   ]
  },
  {
   "cell_type": "markdown",
   "metadata": {},
   "source": [
    "We can conclude that the optimal k is k=3 as it computes the lowest error rate : 13%. It performs similarly with the LDA model"
   ]
  },
  {
   "cell_type": "code",
   "execution_count": null,
   "metadata": {},
   "outputs": [],
   "source": []
  }
 ],
 "metadata": {
  "kernelspec": {
   "display_name": "R",
   "language": "R",
   "name": "ir"
  },
  "language_info": {
   "codemirror_mode": "r",
   "file_extension": ".r",
   "mimetype": "text/x-r-source",
   "name": "R",
   "pygments_lexer": "r",
   "version": "3.6.1"
  }
 },
 "nbformat": 4,
 "nbformat_minor": 4
}
