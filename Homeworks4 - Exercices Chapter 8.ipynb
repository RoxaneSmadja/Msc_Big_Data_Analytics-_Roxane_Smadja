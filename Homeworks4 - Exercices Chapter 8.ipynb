{
 "cells": [
  {
   "cell_type": "markdown",
   "metadata": {},
   "source": [
    "# Exercice 3 page 332"
   ]
  },
  {
   "cell_type": "code",
   "execution_count": 2,
   "metadata": {},
   "outputs": [
    {
     "data": {
      "image/png": "[encoded data removed]",
      "text/plain": [
       "plot without title"
      ]
     },
     "metadata": {},
     "output_type": "display_data"
    }
   ],
   "source": [
    "p <- seq(0, 1, 0.01)\n",
    "gini.index <- 2 * p * (1 - p)\n",
    "class.error <- 1 - pmax(p, 1 - p)\n",
    "cross.entropy <- - (p * log(p) + (1 - p) * log(1 - p))\n",
    "matplot(p, cbind(gini.index, class.error, cross.entropy), col = c(\"purple\", \"black\", \"orange\"))"
   ]
  },
  {
   "cell_type": "markdown",
   "metadata": {},
   "source": [
    "# Exercice 5 page 332"
   ]
  },
  {
   "cell_type": "raw",
   "metadata": {},
   "source": [
    "With the majority vote approach, the final prediction would be red as 6 over 10 prediction are higher than 0.5.\n",
    "With the average probability approach, the final prediction would be green as 4 over 10 prediction are lower than 0.5. "
   ]
  },
  {
   "cell_type": "markdown",
   "metadata": {},
   "source": [
    "# Exercice 8 page 332"
   ]
  },
  {
   "cell_type": "markdown",
   "metadata": {},
   "source": [
    "(a) Split the data set into a training set and a test set."
   ]
  },
  {
   "cell_type": "code",
   "execution_count": 3,
   "metadata": {},
   "outputs": [
    {
     "name": "stderr",
     "output_type": "stream",
     "text": [
      "Warning message:\n",
      "\"package 'ISLR' was built under R version 3.6.3\""
     ]
    }
   ],
   "source": [
    "library(ISLR)"
   ]
  },
  {
   "cell_type": "code",
   "execution_count": 4,
   "metadata": {},
   "outputs": [
    {
     "ename": "ERROR",
     "evalue": "Error in Carseats.head(): could not find function \"Carseats.head\"\n",
     "output_type": "error",
     "traceback": [
      "Error in Carseats.head(): could not find function \"Carseats.head\"\nTraceback:\n"
     ]
    }
   ],
   "source": [
    "attach(Carseats)\n",
    "Carseats.head()"
   ]
  },
  {
   "cell_type": "code",
   "execution_count": 5,
   "metadata": {},
   "outputs": [],
   "source": [
    "set.seed(21)\n",
    "train <- sample(1:nrow(Carseats), 200)\n",
    "Carseats.train <- Carseats[train, ]\n",
    "Carseats.test <- Carseats[-train, ]"
   ]
  },
  {
   "cell_type": "code",
   "execution_count": 6,
   "metadata": {},
   "outputs": [
    {
     "data": {
      "text/html": [
       "<table>\n",
       "<thead><tr><th></th><th scope=col>Sales</th><th scope=col>CompPrice</th><th scope=col>Income</th><th scope=col>Advertising</th><th scope=col>Population</th><th scope=col>Price</th><th scope=col>ShelveLoc</th><th scope=col>Age</th><th scope=col>Education</th><th scope=col>Urban</th><th scope=col>US</th></tr></thead>\n",
       "<tbody>\n",
       "\t<tr><th scope=row>319</th><td>10.08 </td><td>116   </td><td> 72   </td><td>10    </td><td>456   </td><td>130   </td><td>Good  </td><td>41    </td><td>14    </td><td>No    </td><td>Yes   </td></tr>\n",
       "\t<tr><th scope=row>161</th><td> 4.67 </td><td>111   </td><td> 28   </td><td> 0    </td><td>486   </td><td>111   </td><td>Medium</td><td>29    </td><td>12    </td><td>No    </td><td>No    </td></tr>\n",
       "\t<tr><th scope=row>259</th><td> 3.47 </td><td>108   </td><td> 38   </td><td> 0    </td><td>251   </td><td> 81   </td><td>Bad   </td><td>72    </td><td>14    </td><td>No    </td><td>No    </td></tr>\n",
       "\t<tr><th scope=row>313</th><td> 6.80 </td><td>137   </td><td>117   </td><td> 5    </td><td>337   </td><td>135   </td><td>Bad   </td><td>38    </td><td>10    </td><td>Yes   </td><td>Yes   </td></tr>\n",
       "\t<tr><th scope=row>303</th><td> 5.28 </td><td>108   </td><td> 77   </td><td>13    </td><td>388   </td><td>110   </td><td>Bad   </td><td>74    </td><td>14    </td><td>Yes   </td><td>Yes   </td></tr>\n",
       "\t<tr><th scope=row>16</th><td> 8.71 </td><td>149   </td><td> 95   </td><td> 5    </td><td>400   </td><td>144   </td><td>Medium</td><td>76    </td><td>18    </td><td>No    </td><td>No    </td></tr>\n",
       "\t<tr><th scope=row>21</th><td> 6.41 </td><td>125   </td><td> 90   </td><td> 2    </td><td>367   </td><td>131   </td><td>Medium</td><td>35    </td><td>18    </td><td>Yes   </td><td>Yes   </td></tr>\n",
       "\t<tr><th scope=row>107</th><td> 0.16 </td><td>102   </td><td> 33   </td><td> 0    </td><td>217   </td><td>139   </td><td>Medium</td><td>70    </td><td>18    </td><td>No    </td><td>No    </td></tr>\n",
       "\t<tr><th scope=row>371</th><td> 7.68 </td><td>126   </td><td> 41   </td><td>22    </td><td>403   </td><td>119   </td><td>Bad   </td><td>42    </td><td>12    </td><td>Yes   </td><td>Yes   </td></tr>\n",
       "\t<tr><th scope=row>228</th><td> 8.69 </td><td>113   </td><td> 64   </td><td>10    </td><td> 68   </td><td>101   </td><td>Medium</td><td>57    </td><td>16    </td><td>Yes   </td><td>Yes   </td></tr>\n",
       "\t<tr><th scope=row>362</th><td> 8.68 </td><td>131   </td><td> 25   </td><td>10    </td><td>183   </td><td>104   </td><td>Medium</td><td>56    </td><td>15    </td><td>No    </td><td>Yes   </td></tr>\n",
       "\t<tr><th scope=row>230</th><td>11.19 </td><td> 98   </td><td>104   </td><td> 0    </td><td>404   </td><td> 72   </td><td>Medium</td><td>27    </td><td>18    </td><td>No    </td><td>No    </td></tr>\n",
       "\t<tr><th scope=row>94</th><td> 8.86 </td><td>145   </td><td> 30   </td><td> 0    </td><td> 67   </td><td>104   </td><td>Medium</td><td>55    </td><td>17    </td><td>Yes   </td><td>No    </td></tr>\n",
       "\t<tr><th scope=row>200</th><td> 6.42 </td><td>122   </td><td> 88   </td><td> 5    </td><td>335   </td><td>126   </td><td>Medium</td><td>64    </td><td>14    </td><td>Yes   </td><td>Yes   </td></tr>\n",
       "\t<tr><th scope=row>123</th><td> 6.88 </td><td>119   </td><td>100   </td><td> 5    </td><td> 45   </td><td>108   </td><td>Medium</td><td>75    </td><td>10    </td><td>Yes   </td><td>Yes   </td></tr>\n",
       "\t<tr><th scope=row>62</th><td> 7.32 </td><td>105   </td><td> 32   </td><td> 0    </td><td>358   </td><td>107   </td><td>Medium</td><td>26    </td><td>13    </td><td>No    </td><td>No    </td></tr>\n",
       "\t<tr><th scope=row>67</th><td> 8.85 </td><td>127   </td><td> 92   </td><td> 0    </td><td>508   </td><td> 91   </td><td>Medium</td><td>56    </td><td>18    </td><td>Yes   </td><td>No    </td></tr>\n",
       "\t<tr><th scope=row>236</th><td> 5.53 </td><td>126   </td><td> 32   </td><td> 8    </td><td> 95   </td><td>132   </td><td>Medium</td><td>50    </td><td>17    </td><td>Yes   </td><td>Yes   </td></tr>\n",
       "\t<tr><th scope=row>142</th><td> 6.53 </td><td>140   </td><td> 42   </td><td> 0    </td><td>331   </td><td>131   </td><td>Bad   </td><td>28    </td><td>15    </td><td>Yes   </td><td>No    </td></tr>\n",
       "\t<tr><th scope=row>138</th><td> 6.52 </td><td>128   </td><td> 42   </td><td> 0    </td><td>436   </td><td>118   </td><td>Medium</td><td>80    </td><td>11    </td><td>Yes   </td><td>No    </td></tr>\n",
       "\t<tr><th scope=row>174</th><td> 6.38 </td><td>135   </td><td> 91   </td><td> 5    </td><td>207   </td><td>128   </td><td>Medium</td><td>66    </td><td>18    </td><td>Yes   </td><td>Yes   </td></tr>\n",
       "\t<tr><th scope=row>1</th><td> 9.50 </td><td>138   </td><td> 73   </td><td>11    </td><td>276   </td><td>120   </td><td>Bad   </td><td>42    </td><td>17    </td><td>Yes   </td><td>Yes   </td></tr>\n",
       "\t<tr><th scope=row>328</th><td> 6.23 </td><td>112   </td><td> 38   </td><td>17    </td><td>316   </td><td>104   </td><td>Medium</td><td>80    </td><td>16    </td><td>Yes   </td><td>Yes   </td></tr>\n",
       "\t<tr><th scope=row>151</th><td>10.49 </td><td>122   </td><td> 84   </td><td> 8    </td><td>176   </td><td>114   </td><td>Good  </td><td>57    </td><td>10    </td><td>No    </td><td>Yes   </td></tr>\n",
       "\t<tr><th scope=row>327</th><td> 4.69 </td><td>133   </td><td> 30   </td><td> 0    </td><td>152   </td><td>122   </td><td>Medium</td><td>53    </td><td>17    </td><td>Yes   </td><td>No    </td></tr>\n",
       "\t<tr><th scope=row>330</th><td>11.27 </td><td>100   </td><td> 54   </td><td> 9    </td><td>433   </td><td> 89   </td><td>Good  </td><td>45    </td><td>12    </td><td>Yes   </td><td>Yes   </td></tr>\n",
       "\t<tr><th scope=row>189</th><td> 8.07 </td><td>116   </td><td> 37   </td><td> 0    </td><td>426   </td><td> 90   </td><td>Medium</td><td>76    </td><td>15    </td><td>Yes   </td><td>No    </td></tr>\n",
       "\t<tr><th scope=row>159</th><td>12.53 </td><td>142   </td><td> 90   </td><td> 1    </td><td>189   </td><td>112   </td><td>Good  </td><td>39    </td><td>10    </td><td>No    </td><td>Yes   </td></tr>\n",
       "\t<tr><th scope=row>124</th><td> 8.19 </td><td>127   </td><td>103   </td><td> 0    </td><td>125   </td><td>155   </td><td>Good  </td><td>29    </td><td>15    </td><td>No    </td><td>Yes   </td></tr>\n",
       "\t<tr><th scope=row>368</th><td>14.37 </td><td> 95   </td><td>106   </td><td> 0    </td><td>256   </td><td> 53   </td><td>Good  </td><td>52    </td><td>17    </td><td>Yes   </td><td>No    </td></tr>\n",
       "\t<tr><th scope=row>...</th><td>...</td><td>...</td><td>...</td><td>...</td><td>...</td><td>...</td><td>...</td><td>...</td><td>...</td><td>...</td><td>...</td></tr>\n",
       "\t<tr><th scope=row>386</th><td> 5.87 </td><td>131   </td><td> 73   </td><td>13    </td><td>455   </td><td>132   </td><td>Medium</td><td>62    </td><td>17    </td><td>Yes   </td><td>Yes   </td></tr>\n",
       "\t<tr><th scope=row>63</th><td> 1.82 </td><td>139   </td><td> 45   </td><td> 0    </td><td>146   </td><td>133   </td><td>Bad   </td><td>77    </td><td>17    </td><td>Yes   </td><td>Yes   </td></tr>\n",
       "\t<tr><th scope=row>286</th><td> 7.60 </td><td>146   </td><td> 26   </td><td>11    </td><td>261   </td><td>131   </td><td>Medium</td><td>39    </td><td>10    </td><td>Yes   </td><td>Yes   </td></tr>\n",
       "\t<tr><th scope=row>296</th><td> 4.21 </td><td>118   </td><td> 35   </td><td>14    </td><td>502   </td><td>137   </td><td>Medium</td><td>79    </td><td>10    </td><td>No    </td><td>Yes   </td></tr>\n",
       "\t<tr><th scope=row>379</th><td> 6.11 </td><td>133   </td><td> 88   </td><td> 3    </td><td>105   </td><td>119   </td><td>Medium</td><td>79    </td><td>12    </td><td>Yes   </td><td>Yes   </td></tr>\n",
       "\t<tr><th scope=row>243</th><td> 4.68 </td><td>124   </td><td> 46   </td><td> 0    </td><td>199   </td><td>135   </td><td>Medium</td><td>52    </td><td>14    </td><td>No    </td><td>No    </td></tr>\n",
       "\t<tr><th scope=row>129</th><td> 4.96 </td><td>133   </td><td>100   </td><td> 3    </td><td>350   </td><td>126   </td><td>Bad   </td><td>55    </td><td>13    </td><td>Yes   </td><td>Yes   </td></tr>\n",
       "\t<tr><th scope=row>28</th><td> 5.27 </td><td> 98   </td><td>118   </td><td> 0    </td><td> 19   </td><td>107   </td><td>Medium</td><td>64    </td><td>17    </td><td>Yes   </td><td>No    </td></tr>\n",
       "\t<tr><th scope=row>36</th><td>11.07 </td><td>131   </td><td> 84   </td><td>11    </td><td> 29   </td><td> 96   </td><td>Medium</td><td>44    </td><td>17    </td><td>No    </td><td>Yes   </td></tr>\n",
       "\t<tr><th scope=row>339</th><td> 5.97 </td><td>112   </td><td> 24   </td><td> 0    </td><td>164   </td><td>101   </td><td>Medium</td><td>45    </td><td>11    </td><td>Yes   </td><td>No    </td></tr>\n",
       "\t<tr><th scope=row>119</th><td> 7.57 </td><td>112   </td><td> 88   </td><td> 2    </td><td>243   </td><td> 99   </td><td>Medium</td><td>62    </td><td>11    </td><td>Yes   </td><td>Yes   </td></tr>\n",
       "\t<tr><th scope=row>279</th><td> 7.22 </td><td>114   </td><td>113   </td><td> 2    </td><td>129   </td><td>151   </td><td>Good  </td><td>40    </td><td>15    </td><td>No    </td><td>Yes   </td></tr>\n",
       "\t<tr><th scope=row>35</th><td> 2.67 </td><td>115   </td><td> 54   </td><td> 0    </td><td>406   </td><td>128   </td><td>Medium</td><td>42    </td><td>17    </td><td>Yes   </td><td>Yes   </td></tr>\n",
       "\t<tr><th scope=row>52</th><td> 4.42 </td><td>121   </td><td> 90   </td><td> 0    </td><td>150   </td><td>108   </td><td>Bad   </td><td>75    </td><td>16    </td><td>Yes   </td><td>No    </td></tr>\n",
       "\t<tr><th scope=row>264</th><td> 7.77 </td><td>116   </td><td> 26   </td><td> 6    </td><td>434   </td><td>115   </td><td>Medium</td><td>25    </td><td>17    </td><td>Yes   </td><td>Yes   </td></tr>\n",
       "\t<tr><th scope=row>363</th><td> 5.25 </td><td>131   </td><td> 55   </td><td> 0    </td><td> 26   </td><td>110   </td><td>Bad   </td><td>79    </td><td>12    </td><td>Yes   </td><td>Yes   </td></tr>\n",
       "\t<tr><th scope=row>54</th><td> 6.92 </td><td>109   </td><td> 64   </td><td>13    </td><td> 39   </td><td>119   </td><td>Medium</td><td>61    </td><td>17    </td><td>Yes   </td><td>Yes   </td></tr>\n",
       "\t<tr><th scope=row>343</th><td> 7.81 </td><td>137   </td><td>102   </td><td>13    </td><td>422   </td><td>118   </td><td>Medium</td><td>71    </td><td>10    </td><td>No    </td><td>Yes   </td></tr>\n",
       "\t<tr><th scope=row>133</th><td> 9.54 </td><td>125   </td><td> 87   </td><td> 9    </td><td>232   </td><td>136   </td><td>Good  </td><td>72    </td><td>10    </td><td>Yes   </td><td>Yes   </td></tr>\n",
       "\t<tr><th scope=row>41</th><td> 2.07 </td><td>119   </td><td> 98   </td><td> 0    </td><td> 18   </td><td>126   </td><td>Bad   </td><td>73    </td><td>17    </td><td>No    </td><td>No    </td></tr>\n",
       "\t<tr><th scope=row>224</th><td> 3.45 </td><td>110   </td><td> 45   </td><td> 9    </td><td>276   </td><td>125   </td><td>Medium</td><td>62    </td><td>14    </td><td>Yes   </td><td>Yes   </td></tr>\n",
       "\t<tr><th scope=row>278</th><td> 7.80 </td><td>136   </td><td> 48   </td><td>12    </td><td>326   </td><td>125   </td><td>Medium</td><td>36    </td><td>16    </td><td>Yes   </td><td>Yes   </td></tr>\n",
       "\t<tr><th scope=row>145</th><td> 9.09 </td><td>132   </td><td> 68   </td><td> 0    </td><td>264   </td><td>123   </td><td>Good  </td><td>34    </td><td>11    </td><td>No    </td><td>No    </td></tr>\n",
       "\t<tr><th scope=row>75</th><td> 6.20 </td><td>150   </td><td> 68   </td><td> 5    </td><td>125   </td><td>136   </td><td>Medium</td><td>64    </td><td>13    </td><td>No    </td><td>Yes   </td></tr>\n",
       "\t<tr><th scope=row>287</th><td> 7.53 </td><td>117   </td><td>118   </td><td>11    </td><td>429   </td><td>113   </td><td>Medium</td><td>67    </td><td>18    </td><td>No    </td><td>Yes   </td></tr>\n",
       "\t<tr><th scope=row>198</th><td> 2.52 </td><td>124   </td><td> 61   </td><td> 0    </td><td>333   </td><td>138   </td><td>Medium</td><td>76    </td><td>16    </td><td>Yes   </td><td>No    </td></tr>\n",
       "\t<tr><th scope=row>234</th><td> 8.65 </td><td>123   </td><td> 76   </td><td>18    </td><td>218   </td><td>120   </td><td>Medium</td><td>29    </td><td>14    </td><td>No    </td><td>Yes   </td></tr>\n",
       "\t<tr><th scope=row>178</th><td>10.48 </td><td>138   </td><td> 72   </td><td> 0    </td><td>148   </td><td> 94   </td><td>Medium</td><td>27    </td><td>17    </td><td>Yes   </td><td>Yes   </td></tr>\n",
       "\t<tr><th scope=row>160</th><td> 9.32 </td><td>119   </td><td> 60   </td><td> 0    </td><td>372   </td><td> 70   </td><td>Bad   </td><td>30    </td><td>18    </td><td>No    </td><td>No    </td></tr>\n",
       "\t<tr><th scope=row>148</th><td>10.51 </td><td>140   </td><td> 54   </td><td> 9    </td><td>402   </td><td>119   </td><td>Good  </td><td>41    </td><td>16    </td><td>No    </td><td>Yes   </td></tr>\n",
       "</tbody>\n",
       "</table>\n"
      ],
      "text/latex": [
       "\\begin{tabular}{r|lllllllllll}\n",
       "  & Sales & CompPrice & Income & Advertising & Population & Price & ShelveLoc & Age & Education & Urban & US\\\\\n",
       "\\hline\n",
       "\t319 & 10.08  & 116    &  72    & 10     & 456    & 130    & Good   & 41     & 14     & No     & Yes   \\\\\n",
       "\t161 &  4.67  & 111    &  28    &  0     & 486    & 111    & Medium & 29     & 12     & No     & No    \\\\\n",
       "\t259 &  3.47  & 108    &  38    &  0     & 251    &  81    & Bad    & 72     & 14     & No     & No    \\\\\n",
       "\t313 &  6.80  & 137    & 117    &  5     & 337    & 135    & Bad    & 38     & 10     & Yes    & Yes   \\\\\n",
       "\t303 &  5.28  & 108    &  77    & 13     & 388    & 110    & Bad    & 74     & 14     & Yes    & Yes   \\\\\n",
       "\t16 &  8.71  & 149    &  95    &  5     & 400    & 144    & Medium & 76     & 18     & No     & No    \\\\\n",
       "\t21 &  6.41  & 125    &  90    &  2     & 367    & 131    & Medium & 35     & 18     & Yes    & Yes   \\\\\n",
       "\t107 &  0.16  & 102    &  33    &  0     & 217    & 139    & Medium & 70     & 18     & No     & No    \\\\\n",
       "\t371 &  7.68  & 126    &  41    & 22     & 403    & 119    & Bad    & 42     & 12     & Yes    & Yes   \\\\\n",
       "\t228 &  8.69  & 113    &  64    & 10     &  68    & 101    & Medium & 57     & 16     & Yes    & Yes   \\\\\n",
       "\t362 &  8.68  & 131    &  25    & 10     & 183    & 104    & Medium & 56     & 15     & No     & Yes   \\\\\n",
       "\t230 & 11.19  &  98    & 104    &  0     & 404    &  72    & Medium & 27     & 18     & No     & No    \\\\\n",
       "\t94 &  8.86  & 145    &  30    &  0     &  67    & 104    & Medium & 55     & 17     & Yes    & No    \\\\\n",
       "\t200 &  6.42  & 122    &  88    &  5     & 335    & 126    & Medium & 64     & 14     & Yes    & Yes   \\\\\n",
       "\t123 &  6.88  & 119    & 100    &  5     &  45    & 108    & Medium & 75     & 10     & Yes    & Yes   \\\\\n",
       "\t62 &  7.32  & 105    &  32    &  0     & 358    & 107    & Medium & 26     & 13     & No     & No    \\\\\n",
       "\t67 &  8.85  & 127    &  92    &  0     & 508    &  91    & Medium & 56     & 18     & Yes    & No    \\\\\n",
       "\t236 &  5.53  & 126    &  32    &  8     &  95    & 132    & Medium & 50     & 17     & Yes    & Yes   \\\\\n",
       "\t142 &  6.53  & 140    &  42    &  0     & 331    & 131    & Bad    & 28     & 15     & Yes    & No    \\\\\n",
       "\t138 &  6.52  & 128    &  42    &  0     & 436    & 118    & Medium & 80     & 11     & Yes    & No    \\\\\n",
       "\t174 &  6.38  & 135    &  91    &  5     & 207    & 128    & Medium & 66     & 18     & Yes    & Yes   \\\\\n",
       "\t1 &  9.50  & 138    &  73    & 11     & 276    & 120    & Bad    & 42     & 17     & Yes    & Yes   \\\\\n",
       "\t328 &  6.23  & 112    &  38    & 17     & 316    & 104    & Medium & 80     & 16     & Yes    & Yes   \\\\\n",
       "\t151 & 10.49  & 122    &  84    &  8     & 176    & 114    & Good   & 57     & 10     & No     & Yes   \\\\\n",
       "\t327 &  4.69  & 133    &  30    &  0     & 152    & 122    & Medium & 53     & 17     & Yes    & No    \\\\\n",
       "\t330 & 11.27  & 100    &  54    &  9     & 433    &  89    & Good   & 45     & 12     & Yes    & Yes   \\\\\n",
       "\t189 &  8.07  & 116    &  37    &  0     & 426    &  90    & Medium & 76     & 15     & Yes    & No    \\\\\n",
       "\t159 & 12.53  & 142    &  90    &  1     & 189    & 112    & Good   & 39     & 10     & No     & Yes   \\\\\n",
       "\t124 &  8.19  & 127    & 103    &  0     & 125    & 155    & Good   & 29     & 15     & No     & Yes   \\\\\n",
       "\t368 & 14.37  &  95    & 106    &  0     & 256    &  53    & Good   & 52     & 17     & Yes    & No    \\\\\n",
       "\t... & ... & ... & ... & ... & ... & ... & ... & ... & ... & ... & ...\\\\\n",
       "\t386 &  5.87  & 131    &  73    & 13     & 455    & 132    & Medium & 62     & 17     & Yes    & Yes   \\\\\n",
       "\t63 &  1.82  & 139    &  45    &  0     & 146    & 133    & Bad    & 77     & 17     & Yes    & Yes   \\\\\n",
       "\t286 &  7.60  & 146    &  26    & 11     & 261    & 131    & Medium & 39     & 10     & Yes    & Yes   \\\\\n",
       "\t296 &  4.21  & 118    &  35    & 14     & 502    & 137    & Medium & 79     & 10     & No     & Yes   \\\\\n",
       "\t379 &  6.11  & 133    &  88    &  3     & 105    & 119    & Medium & 79     & 12     & Yes    & Yes   \\\\\n",
       "\t243 &  4.68  & 124    &  46    &  0     & 199    & 135    & Medium & 52     & 14     & No     & No    \\\\\n",
       "\t129 &  4.96  & 133    & 100    &  3     & 350    & 126    & Bad    & 55     & 13     & Yes    & Yes   \\\\\n",
       "\t28 &  5.27  &  98    & 118    &  0     &  19    & 107    & Medium & 64     & 17     & Yes    & No    \\\\\n",
       "\t36 & 11.07  & 131    &  84    & 11     &  29    &  96    & Medium & 44     & 17     & No     & Yes   \\\\\n",
       "\t339 &  5.97  & 112    &  24    &  0     & 164    & 101    & Medium & 45     & 11     & Yes    & No    \\\\\n",
       "\t119 &  7.57  & 112    &  88    &  2     & 243    &  99    & Medium & 62     & 11     & Yes    & Yes   \\\\\n",
       "\t279 &  7.22  & 114    & 113    &  2     & 129    & 151    & Good   & 40     & 15     & No     & Yes   \\\\\n",
       "\t35 &  2.67  & 115    &  54    &  0     & 406    & 128    & Medium & 42     & 17     & Yes    & Yes   \\\\\n",
       "\t52 &  4.42  & 121    &  90    &  0     & 150    & 108    & Bad    & 75     & 16     & Yes    & No    \\\\\n",
       "\t264 &  7.77  & 116    &  26    &  6     & 434    & 115    & Medium & 25     & 17     & Yes    & Yes   \\\\\n",
       "\t363 &  5.25  & 131    &  55    &  0     &  26    & 110    & Bad    & 79     & 12     & Yes    & Yes   \\\\\n",
       "\t54 &  6.92  & 109    &  64    & 13     &  39    & 119    & Medium & 61     & 17     & Yes    & Yes   \\\\\n",
       "\t343 &  7.81  & 137    & 102    & 13     & 422    & 118    & Medium & 71     & 10     & No     & Yes   \\\\\n",
       "\t133 &  9.54  & 125    &  87    &  9     & 232    & 136    & Good   & 72     & 10     & Yes    & Yes   \\\\\n",
       "\t41 &  2.07  & 119    &  98    &  0     &  18    & 126    & Bad    & 73     & 17     & No     & No    \\\\\n",
       "\t224 &  3.45  & 110    &  45    &  9     & 276    & 125    & Medium & 62     & 14     & Yes    & Yes   \\\\\n",
       "\t278 &  7.80  & 136    &  48    & 12     & 326    & 125    & Medium & 36     & 16     & Yes    & Yes   \\\\\n",
       "\t145 &  9.09  & 132    &  68    &  0     & 264    & 123    & Good   & 34     & 11     & No     & No    \\\\\n",
       "\t75 &  6.20  & 150    &  68    &  5     & 125    & 136    & Medium & 64     & 13     & No     & Yes   \\\\\n",
       "\t287 &  7.53  & 117    & 118    & 11     & 429    & 113    & Medium & 67     & 18     & No     & Yes   \\\\\n",
       "\t198 &  2.52  & 124    &  61    &  0     & 333    & 138    & Medium & 76     & 16     & Yes    & No    \\\\\n",
       "\t234 &  8.65  & 123    &  76    & 18     & 218    & 120    & Medium & 29     & 14     & No     & Yes   \\\\\n",
       "\t178 & 10.48  & 138    &  72    &  0     & 148    &  94    & Medium & 27     & 17     & Yes    & Yes   \\\\\n",
       "\t160 &  9.32  & 119    &  60    &  0     & 372    &  70    & Bad    & 30     & 18     & No     & No    \\\\\n",
       "\t148 & 10.51  & 140    &  54    &  9     & 402    & 119    & Good   & 41     & 16     & No     & Yes   \\\\\n",
       "\\end{tabular}\n"
      ],
      "text/markdown": [
       "\n",
       "| <!--/--> | Sales | CompPrice | Income | Advertising | Population | Price | ShelveLoc | Age | Education | Urban | US |\n",
       "|---|---|---|---|---|---|---|---|---|---|---|---|\n",
       "| 319 | 10.08  | 116    |  72    | 10     | 456    | 130    | Good   | 41     | 14     | No     | Yes    |\n",
       "| 161 |  4.67  | 111    |  28    |  0     | 486    | 111    | Medium | 29     | 12     | No     | No     |\n",
       "| 259 |  3.47  | 108    |  38    |  0     | 251    |  81    | Bad    | 72     | 14     | No     | No     |\n",
       "| 313 |  6.80  | 137    | 117    |  5     | 337    | 135    | Bad    | 38     | 10     | Yes    | Yes    |\n",
       "| 303 |  5.28  | 108    |  77    | 13     | 388    | 110    | Bad    | 74     | 14     | Yes    | Yes    |\n",
       "| 16 |  8.71  | 149    |  95    |  5     | 400    | 144    | Medium | 76     | 18     | No     | No     |\n",
       "| 21 |  6.41  | 125    |  90    |  2     | 367    | 131    | Medium | 35     | 18     | Yes    | Yes    |\n",
       "| 107 |  0.16  | 102    |  33    |  0     | 217    | 139    | Medium | 70     | 18     | No     | No     |\n",
       "| 371 |  7.68  | 126    |  41    | 22     | 403    | 119    | Bad    | 42     | 12     | Yes    | Yes    |\n",
       "| 228 |  8.69  | 113    |  64    | 10     |  68    | 101    | Medium | 57     | 16     | Yes    | Yes    |\n",
       "| 362 |  8.68  | 131    |  25    | 10     | 183    | 104    | Medium | 56     | 15     | No     | Yes    |\n",
       "| 230 | 11.19  |  98    | 104    |  0     | 404    |  72    | Medium | 27     | 18     | No     | No     |\n",
       "| 94 |  8.86  | 145    |  30    |  0     |  67    | 104    | Medium | 55     | 17     | Yes    | No     |\n",
       "| 200 |  6.42  | 122    |  88    |  5     | 335    | 126    | Medium | 64     | 14     | Yes    | Yes    |\n",
       "| 123 |  6.88  | 119    | 100    |  5     |  45    | 108    | Medium | 75     | 10     | Yes    | Yes    |\n",
       "| 62 |  7.32  | 105    |  32    |  0     | 358    | 107    | Medium | 26     | 13     | No     | No     |\n",
       "| 67 |  8.85  | 127    |  92    |  0     | 508    |  91    | Medium | 56     | 18     | Yes    | No     |\n",
       "| 236 |  5.53  | 126    |  32    |  8     |  95    | 132    | Medium | 50     | 17     | Yes    | Yes    |\n",
       "| 142 |  6.53  | 140    |  42    |  0     | 331    | 131    | Bad    | 28     | 15     | Yes    | No     |\n",
       "| 138 |  6.52  | 128    |  42    |  0     | 436    | 118    | Medium | 80     | 11     | Yes    | No     |\n",
       "| 174 |  6.38  | 135    |  91    |  5     | 207    | 128    | Medium | 66     | 18     | Yes    | Yes    |\n",
       "| 1 |  9.50  | 138    |  73    | 11     | 276    | 120    | Bad    | 42     | 17     | Yes    | Yes    |\n",
       "| 328 |  6.23  | 112    |  38    | 17     | 316    | 104    | Medium | 80     | 16     | Yes    | Yes    |\n",
       "| 151 | 10.49  | 122    |  84    |  8     | 176    | 114    | Good   | 57     | 10     | No     | Yes    |\n",
       "| 327 |  4.69  | 133    |  30    |  0     | 152    | 122    | Medium | 53     | 17     | Yes    | No     |\n",
       "| 330 | 11.27  | 100    |  54    |  9     | 433    |  89    | Good   | 45     | 12     | Yes    | Yes    |\n",
       "| 189 |  8.07  | 116    |  37    |  0     | 426    |  90    | Medium | 76     | 15     | Yes    | No     |\n",
       "| 159 | 12.53  | 142    |  90    |  1     | 189    | 112    | Good   | 39     | 10     | No     | Yes    |\n",
       "| 124 |  8.19  | 127    | 103    |  0     | 125    | 155    | Good   | 29     | 15     | No     | Yes    |\n",
       "| 368 | 14.37  |  95    | 106    |  0     | 256    |  53    | Good   | 52     | 17     | Yes    | No     |\n",
       "| ... | ... | ... | ... | ... | ... | ... | ... | ... | ... | ... | ... |\n",
       "| 386 |  5.87  | 131    |  73    | 13     | 455    | 132    | Medium | 62     | 17     | Yes    | Yes    |\n",
       "| 63 |  1.82  | 139    |  45    |  0     | 146    | 133    | Bad    | 77     | 17     | Yes    | Yes    |\n",
       "| 286 |  7.60  | 146    |  26    | 11     | 261    | 131    | Medium | 39     | 10     | Yes    | Yes    |\n",
       "| 296 |  4.21  | 118    |  35    | 14     | 502    | 137    | Medium | 79     | 10     | No     | Yes    |\n",
       "| 379 |  6.11  | 133    |  88    |  3     | 105    | 119    | Medium | 79     | 12     | Yes    | Yes    |\n",
       "| 243 |  4.68  | 124    |  46    |  0     | 199    | 135    | Medium | 52     | 14     | No     | No     |\n",
       "| 129 |  4.96  | 133    | 100    |  3     | 350    | 126    | Bad    | 55     | 13     | Yes    | Yes    |\n",
       "| 28 |  5.27  |  98    | 118    |  0     |  19    | 107    | Medium | 64     | 17     | Yes    | No     |\n",
       "| 36 | 11.07  | 131    |  84    | 11     |  29    |  96    | Medium | 44     | 17     | No     | Yes    |\n",
       "| 339 |  5.97  | 112    |  24    |  0     | 164    | 101    | Medium | 45     | 11     | Yes    | No     |\n",
       "| 119 |  7.57  | 112    |  88    |  2     | 243    |  99    | Medium | 62     | 11     | Yes    | Yes    |\n",
       "| 279 |  7.22  | 114    | 113    |  2     | 129    | 151    | Good   | 40     | 15     | No     | Yes    |\n",
       "| 35 |  2.67  | 115    |  54    |  0     | 406    | 128    | Medium | 42     | 17     | Yes    | Yes    |\n",
       "| 52 |  4.42  | 121    |  90    |  0     | 150    | 108    | Bad    | 75     | 16     | Yes    | No     |\n",
       "| 264 |  7.77  | 116    |  26    |  6     | 434    | 115    | Medium | 25     | 17     | Yes    | Yes    |\n",
       "| 363 |  5.25  | 131    |  55    |  0     |  26    | 110    | Bad    | 79     | 12     | Yes    | Yes    |\n",
       "| 54 |  6.92  | 109    |  64    | 13     |  39    | 119    | Medium | 61     | 17     | Yes    | Yes    |\n",
       "| 343 |  7.81  | 137    | 102    | 13     | 422    | 118    | Medium | 71     | 10     | No     | Yes    |\n",
       "| 133 |  9.54  | 125    |  87    |  9     | 232    | 136    | Good   | 72     | 10     | Yes    | Yes    |\n",
       "| 41 |  2.07  | 119    |  98    |  0     |  18    | 126    | Bad    | 73     | 17     | No     | No     |\n",
       "| 224 |  3.45  | 110    |  45    |  9     | 276    | 125    | Medium | 62     | 14     | Yes    | Yes    |\n",
       "| 278 |  7.80  | 136    |  48    | 12     | 326    | 125    | Medium | 36     | 16     | Yes    | Yes    |\n",
       "| 145 |  9.09  | 132    |  68    |  0     | 264    | 123    | Good   | 34     | 11     | No     | No     |\n",
       "| 75 |  6.20  | 150    |  68    |  5     | 125    | 136    | Medium | 64     | 13     | No     | Yes    |\n",
       "| 287 |  7.53  | 117    | 118    | 11     | 429    | 113    | Medium | 67     | 18     | No     | Yes    |\n",
       "| 198 |  2.52  | 124    |  61    |  0     | 333    | 138    | Medium | 76     | 16     | Yes    | No     |\n",
       "| 234 |  8.65  | 123    |  76    | 18     | 218    | 120    | Medium | 29     | 14     | No     | Yes    |\n",
       "| 178 | 10.48  | 138    |  72    |  0     | 148    |  94    | Medium | 27     | 17     | Yes    | Yes    |\n",
       "| 160 |  9.32  | 119    |  60    |  0     | 372    |  70    | Bad    | 30     | 18     | No     | No     |\n",
       "| 148 | 10.51  | 140    |  54    |  9     | 402    | 119    | Good   | 41     | 16     | No     | Yes    |\n",
       "\n"
      ],
      "text/plain": [
       "    Sales CompPrice Income Advertising Population Price ShelveLoc Age Education\n",
       "319 10.08 116        72    10          456        130   Good      41  14       \n",
       "161  4.67 111        28     0          486        111   Medium    29  12       \n",
       "259  3.47 108        38     0          251         81   Bad       72  14       \n",
       "313  6.80 137       117     5          337        135   Bad       38  10       \n",
       "303  5.28 108        77    13          388        110   Bad       74  14       \n",
       "16   8.71 149        95     5          400        144   Medium    76  18       \n",
       "21   6.41 125        90     2          367        131   Medium    35  18       \n",
       "107  0.16 102        33     0          217        139   Medium    70  18       \n",
       "371  7.68 126        41    22          403        119   Bad       42  12       \n",
       "228  8.69 113        64    10           68        101   Medium    57  16       \n",
       "362  8.68 131        25    10          183        104   Medium    56  15       \n",
       "230 11.19  98       104     0          404         72   Medium    27  18       \n",
       "94   8.86 145        30     0           67        104   Medium    55  17       \n",
       "200  6.42 122        88     5          335        126   Medium    64  14       \n",
       "123  6.88 119       100     5           45        108   Medium    75  10       \n",
       "62   7.32 105        32     0          358        107   Medium    26  13       \n",
       "67   8.85 127        92     0          508         91   Medium    56  18       \n",
       "236  5.53 126        32     8           95        132   Medium    50  17       \n",
       "142  6.53 140        42     0          331        131   Bad       28  15       \n",
       "138  6.52 128        42     0          436        118   Medium    80  11       \n",
       "174  6.38 135        91     5          207        128   Medium    66  18       \n",
       "1    9.50 138        73    11          276        120   Bad       42  17       \n",
       "328  6.23 112        38    17          316        104   Medium    80  16       \n",
       "151 10.49 122        84     8          176        114   Good      57  10       \n",
       "327  4.69 133        30     0          152        122   Medium    53  17       \n",
       "330 11.27 100        54     9          433         89   Good      45  12       \n",
       "189  8.07 116        37     0          426         90   Medium    76  15       \n",
       "159 12.53 142        90     1          189        112   Good      39  10       \n",
       "124  8.19 127       103     0          125        155   Good      29  15       \n",
       "368 14.37  95       106     0          256         53   Good      52  17       \n",
       "... ...   ...       ...    ...         ...        ...   ...       ... ...      \n",
       "386  5.87 131        73    13          455        132   Medium    62  17       \n",
       "63   1.82 139        45     0          146        133   Bad       77  17       \n",
       "286  7.60 146        26    11          261        131   Medium    39  10       \n",
       "296  4.21 118        35    14          502        137   Medium    79  10       \n",
       "379  6.11 133        88     3          105        119   Medium    79  12       \n",
       "243  4.68 124        46     0          199        135   Medium    52  14       \n",
       "129  4.96 133       100     3          350        126   Bad       55  13       \n",
       "28   5.27  98       118     0           19        107   Medium    64  17       \n",
       "36  11.07 131        84    11           29         96   Medium    44  17       \n",
       "339  5.97 112        24     0          164        101   Medium    45  11       \n",
       "119  7.57 112        88     2          243         99   Medium    62  11       \n",
       "279  7.22 114       113     2          129        151   Good      40  15       \n",
       "35   2.67 115        54     0          406        128   Medium    42  17       \n",
       "52   4.42 121        90     0          150        108   Bad       75  16       \n",
       "264  7.77 116        26     6          434        115   Medium    25  17       \n",
       "363  5.25 131        55     0           26        110   Bad       79  12       \n",
       "54   6.92 109        64    13           39        119   Medium    61  17       \n",
       "343  7.81 137       102    13          422        118   Medium    71  10       \n",
       "133  9.54 125        87     9          232        136   Good      72  10       \n",
       "41   2.07 119        98     0           18        126   Bad       73  17       \n",
       "224  3.45 110        45     9          276        125   Medium    62  14       \n",
       "278  7.80 136        48    12          326        125   Medium    36  16       \n",
       "145  9.09 132        68     0          264        123   Good      34  11       \n",
       "75   6.20 150        68     5          125        136   Medium    64  13       \n",
       "287  7.53 117       118    11          429        113   Medium    67  18       \n",
       "198  2.52 124        61     0          333        138   Medium    76  16       \n",
       "234  8.65 123        76    18          218        120   Medium    29  14       \n",
       "178 10.48 138        72     0          148         94   Medium    27  17       \n",
       "160  9.32 119        60     0          372         70   Bad       30  18       \n",
       "148 10.51 140        54     9          402        119   Good      41  16       \n",
       "    Urban US \n",
       "319 No    Yes\n",
       "161 No    No \n",
       "259 No    No \n",
       "313 Yes   Yes\n",
       "303 Yes   Yes\n",
       "16  No    No \n",
       "21  Yes   Yes\n",
       "107 No    No \n",
       "371 Yes   Yes\n",
       "228 Yes   Yes\n",
       "362 No    Yes\n",
       "230 No    No \n",
       "94  Yes   No \n",
       "200 Yes   Yes\n",
       "123 Yes   Yes\n",
       "62  No    No \n",
       "67  Yes   No \n",
       "236 Yes   Yes\n",
       "142 Yes   No \n",
       "138 Yes   No \n",
       "174 Yes   Yes\n",
       "1   Yes   Yes\n",
       "328 Yes   Yes\n",
       "151 No    Yes\n",
       "327 Yes   No \n",
       "330 Yes   Yes\n",
       "189 Yes   No \n",
       "159 No    Yes\n",
       "124 No    Yes\n",
       "368 Yes   No \n",
       "... ...   ...\n",
       "386 Yes   Yes\n",
       "63  Yes   Yes\n",
       "286 Yes   Yes\n",
       "296 No    Yes\n",
       "379 Yes   Yes\n",
       "243 No    No \n",
       "129 Yes   Yes\n",
       "28  Yes   No \n",
       "36  No    Yes\n",
       "339 Yes   No \n",
       "119 Yes   Yes\n",
       "279 No    Yes\n",
       "35  Yes   Yes\n",
       "52  Yes   No \n",
       "264 Yes   Yes\n",
       "363 Yes   Yes\n",
       "54  Yes   Yes\n",
       "343 No    Yes\n",
       "133 Yes   Yes\n",
       "41  No    No \n",
       "224 Yes   Yes\n",
       "278 Yes   Yes\n",
       "145 No    No \n",
       "75  No    Yes\n",
       "287 No    Yes\n",
       "198 Yes   No \n",
       "234 No    Yes\n",
       "178 Yes   Yes\n",
       "160 No    No \n",
       "148 No    Yes"
      ]
     },
     "metadata": {},
     "output_type": "display_data"
    },
    {
     "data": {
      "text/html": [
       "<table>\n",
       "<thead><tr><th></th><th scope=col>Sales</th><th scope=col>CompPrice</th><th scope=col>Income</th><th scope=col>Advertising</th><th scope=col>Population</th><th scope=col>Price</th><th scope=col>ShelveLoc</th><th scope=col>Age</th><th scope=col>Education</th><th scope=col>Urban</th><th scope=col>US</th></tr></thead>\n",
       "<tbody>\n",
       "\t<tr><th scope=row>2</th><td>11.22 </td><td>111   </td><td> 48   </td><td>16    </td><td>260   </td><td> 83   </td><td>Good  </td><td>65    </td><td>10    </td><td>Yes   </td><td>Yes   </td></tr>\n",
       "\t<tr><th scope=row>5</th><td> 4.15 </td><td>141   </td><td> 64   </td><td> 3    </td><td>340   </td><td>128   </td><td>Bad   </td><td>38    </td><td>13    </td><td>Yes   </td><td>No    </td></tr>\n",
       "\t<tr><th scope=row>6</th><td>10.81 </td><td>124   </td><td>113   </td><td>13    </td><td>501   </td><td> 72   </td><td>Bad   </td><td>78    </td><td>16    </td><td>No    </td><td>Yes   </td></tr>\n",
       "\t<tr><th scope=row>7</th><td> 6.63 </td><td>115   </td><td>105   </td><td> 0    </td><td> 45   </td><td>108   </td><td>Medium</td><td>71    </td><td>15    </td><td>Yes   </td><td>No    </td></tr>\n",
       "\t<tr><th scope=row>9</th><td> 6.54 </td><td>132   </td><td>110   </td><td> 0    </td><td>108   </td><td>124   </td><td>Medium</td><td>76    </td><td>10    </td><td>No    </td><td>No    </td></tr>\n",
       "\t<tr><th scope=row>10</th><td> 4.69 </td><td>132   </td><td>113   </td><td> 0    </td><td>131   </td><td>124   </td><td>Medium</td><td>76    </td><td>17    </td><td>No    </td><td>Yes   </td></tr>\n",
       "\t<tr><th scope=row>11</th><td> 9.01 </td><td>121   </td><td> 78   </td><td> 9    </td><td>150   </td><td>100   </td><td>Bad   </td><td>26    </td><td>10    </td><td>No    </td><td>Yes   </td></tr>\n",
       "\t<tr><th scope=row>13</th><td> 3.98 </td><td>122   </td><td> 35   </td><td> 2    </td><td>393   </td><td>136   </td><td>Medium</td><td>62    </td><td>18    </td><td>Yes   </td><td>No    </td></tr>\n",
       "\t<tr><th scope=row>17</th><td> 7.58 </td><td>118   </td><td> 32   </td><td> 0    </td><td>284   </td><td>110   </td><td>Good  </td><td>63    </td><td>13    </td><td>Yes   </td><td>No    </td></tr>\n",
       "\t<tr><th scope=row>18</th><td>12.29 </td><td>147   </td><td> 74   </td><td>13    </td><td>251   </td><td>131   </td><td>Good  </td><td>52    </td><td>10    </td><td>Yes   </td><td>Yes   </td></tr>\n",
       "\t<tr><th scope=row>19</th><td>13.91 </td><td>110   </td><td>110   </td><td> 0    </td><td>408   </td><td> 68   </td><td>Good  </td><td>46    </td><td>17    </td><td>No    </td><td>Yes   </td></tr>\n",
       "\t<tr><th scope=row>23</th><td> 5.08 </td><td>128   </td><td> 46   </td><td> 6    </td><td>497   </td><td>138   </td><td>Medium</td><td>42    </td><td>13    </td><td>Yes   </td><td>No    </td></tr>\n",
       "\t<tr><th scope=row>24</th><td> 5.87 </td><td>121   </td><td> 31   </td><td> 0    </td><td>292   </td><td>109   </td><td>Medium</td><td>79    </td><td>10    </td><td>Yes   </td><td>No    </td></tr>\n",
       "\t<tr><th scope=row>26</th><td>14.90 </td><td>139   </td><td> 32   </td><td> 0    </td><td>176   </td><td> 82   </td><td>Good  </td><td>54    </td><td>11    </td><td>No    </td><td>No    </td></tr>\n",
       "\t<tr><th scope=row>27</th><td> 8.33 </td><td>107   </td><td>115   </td><td>11    </td><td>496   </td><td>131   </td><td>Good  </td><td>50    </td><td>11    </td><td>No    </td><td>Yes   </td></tr>\n",
       "\t<tr><th scope=row>29</th><td> 2.99 </td><td>103   </td><td> 74   </td><td> 0    </td><td>359   </td><td> 97   </td><td>Bad   </td><td>55    </td><td>11    </td><td>Yes   </td><td>Yes   </td></tr>\n",
       "\t<tr><th scope=row>30</th><td> 7.81 </td><td>104   </td><td> 99   </td><td>15    </td><td>226   </td><td>102   </td><td>Bad   </td><td>58    </td><td>17    </td><td>Yes   </td><td>Yes   </td></tr>\n",
       "\t<tr><th scope=row>32</th><td> 8.25 </td><td>136   </td><td> 58   </td><td>16    </td><td>241   </td><td>131   </td><td>Medium</td><td>44    </td><td>18    </td><td>Yes   </td><td>Yes   </td></tr>\n",
       "\t<tr><th scope=row>33</th><td> 6.20 </td><td>107   </td><td> 32   </td><td>12    </td><td>236   </td><td>137   </td><td>Good  </td><td>64    </td><td>10    </td><td>No    </td><td>Yes   </td></tr>\n",
       "\t<tr><th scope=row>34</th><td> 8.77 </td><td>114   </td><td> 38   </td><td>13    </td><td>317   </td><td>128   </td><td>Good  </td><td>50    </td><td>16    </td><td>Yes   </td><td>Yes   </td></tr>\n",
       "\t<tr><th scope=row>37</th><td> 8.89 </td><td>122   </td><td> 76   </td><td> 0    </td><td>270   </td><td>100   </td><td>Good  </td><td>60    </td><td>18    </td><td>No    </td><td>No    </td></tr>\n",
       "\t<tr><th scope=row>39</th><td> 6.59 </td><td>109   </td><td> 73   </td><td> 0    </td><td>454   </td><td>102   </td><td>Medium</td><td>65    </td><td>15    </td><td>Yes   </td><td>No    </td></tr>\n",
       "\t<tr><th scope=row>47</th><td>12.44 </td><td>127   </td><td> 90   </td><td>14    </td><td> 16   </td><td> 70   </td><td>Medium</td><td>48    </td><td>15    </td><td>No    </td><td>Yes   </td></tr>\n",
       "\t<tr><th scope=row>48</th><td> 4.38 </td><td>126   </td><td> 98   </td><td> 0    </td><td>173   </td><td>108   </td><td>Bad   </td><td>55    </td><td>16    </td><td>Yes   </td><td>No    </td></tr>\n",
       "\t<tr><th scope=row>57</th><td>11.91 </td><td>133   </td><td> 82   </td><td> 0    </td><td> 54   </td><td> 84   </td><td>Medium</td><td>50    </td><td>17    </td><td>Yes   </td><td>No    </td></tr>\n",
       "\t<tr><th scope=row>59</th><td> 5.42 </td><td>103   </td><td> 93   </td><td>15    </td><td>188   </td><td>103   </td><td>Bad   </td><td>74    </td><td>16    </td><td>Yes   </td><td>Yes   </td></tr>\n",
       "\t<tr><th scope=row>60</th><td> 5.21 </td><td>118   </td><td> 71   </td><td> 4    </td><td>148   </td><td>114   </td><td>Medium</td><td>80    </td><td>13    </td><td>Yes   </td><td>No    </td></tr>\n",
       "\t<tr><th scope=row>64</th><td> 8.47 </td><td>119   </td><td> 88   </td><td>10    </td><td>170   </td><td>101   </td><td>Medium</td><td>61    </td><td>13    </td><td>Yes   </td><td>Yes   </td></tr>\n",
       "\t<tr><th scope=row>65</th><td> 7.80 </td><td>100   </td><td> 67   </td><td>12    </td><td>184   </td><td>104   </td><td>Medium</td><td>32    </td><td>16    </td><td>No    </td><td>Yes   </td></tr>\n",
       "\t<tr><th scope=row>66</th><td> 4.90 </td><td>122   </td><td> 26   </td><td> 0    </td><td>197   </td><td>128   </td><td>Medium</td><td>55    </td><td>13    </td><td>No    </td><td>No    </td></tr>\n",
       "\t<tr><th scope=row>...</th><td>...</td><td>...</td><td>...</td><td>...</td><td>...</td><td>...</td><td>...</td><td>...</td><td>...</td><td>...</td><td>...</td></tr>\n",
       "\t<tr><th scope=row>338</th><td> 8.61 </td><td>130   </td><td> 38   </td><td> 0    </td><td>283   </td><td>102   </td><td>Medium</td><td>80    </td><td>15    </td><td>Yes   </td><td>No    </td></tr>\n",
       "\t<tr><th scope=row>340</th><td>11.54 </td><td>134   </td><td> 44   </td><td> 4    </td><td>219   </td><td>126   </td><td>Good  </td><td>44    </td><td>15    </td><td>Yes   </td><td>Yes   </td></tr>\n",
       "\t<tr><th scope=row>341</th><td> 7.50 </td><td>140   </td><td> 29   </td><td> 0    </td><td>105   </td><td> 91   </td><td>Bad   </td><td>43    </td><td>16    </td><td>Yes   </td><td>No    </td></tr>\n",
       "\t<tr><th scope=row>345</th><td> 8.43 </td><td>138   </td><td> 80   </td><td> 0    </td><td>108   </td><td>126   </td><td>Good  </td><td>70    </td><td>13    </td><td>No    </td><td>Yes   </td></tr>\n",
       "\t<tr><th scope=row>347</th><td> 8.97 </td><td>132   </td><td>107   </td><td> 0    </td><td>144   </td><td>125   </td><td>Medium</td><td>33    </td><td>13    </td><td>No    </td><td>No    </td></tr>\n",
       "\t<tr><th scope=row>348</th><td> 6.88 </td><td> 96   </td><td> 39   </td><td> 0    </td><td>161   </td><td>112   </td><td>Good  </td><td>27    </td><td>14    </td><td>No    </td><td>No    </td></tr>\n",
       "\t<tr><th scope=row>349</th><td>12.57 </td><td>132   </td><td>102   </td><td>20    </td><td>459   </td><td>107   </td><td>Good  </td><td>49    </td><td>11    </td><td>Yes   </td><td>Yes   </td></tr>\n",
       "\t<tr><th scope=row>351</th><td> 8.64 </td><td>111   </td><td>101   </td><td>17    </td><td>266   </td><td> 91   </td><td>Medium</td><td>63    </td><td>17    </td><td>No    </td><td>Yes   </td></tr>\n",
       "\t<tr><th scope=row>353</th><td>13.44 </td><td>133   </td><td>103   </td><td>14    </td><td>288   </td><td>122   </td><td>Good  </td><td>61    </td><td>17    </td><td>Yes   </td><td>Yes   </td></tr>\n",
       "\t<tr><th scope=row>355</th><td> 5.30 </td><td>133   </td><td> 31   </td><td> 1    </td><td> 80   </td><td>145   </td><td>Medium</td><td>42    </td><td>18    </td><td>Yes   </td><td>Yes   </td></tr>\n",
       "\t<tr><th scope=row>357</th><td> 3.58 </td><td>142   </td><td>109   </td><td> 0    </td><td>111   </td><td>164   </td><td>Good  </td><td>72    </td><td>12    </td><td>Yes   </td><td>No    </td></tr>\n",
       "\t<tr><th scope=row>358</th><td>13.36 </td><td>103   </td><td> 73   </td><td> 3    </td><td>276   </td><td> 72   </td><td>Medium</td><td>34    </td><td>15    </td><td>Yes   </td><td>Yes   </td></tr>\n",
       "\t<tr><th scope=row>359</th><td> 4.17 </td><td>123   </td><td> 96   </td><td>10    </td><td> 71   </td><td>118   </td><td>Bad   </td><td>69    </td><td>11    </td><td>Yes   </td><td>Yes   </td></tr>\n",
       "\t<tr><th scope=row>364</th><td>10.26 </td><td>111   </td><td> 75   </td><td> 1    </td><td>377   </td><td>108   </td><td>Good  </td><td>25    </td><td>12    </td><td>Yes   </td><td>No    </td></tr>\n",
       "\t<tr><th scope=row>365</th><td>10.50 </td><td>122   </td><td> 21   </td><td>16    </td><td>488   </td><td>131   </td><td>Good  </td><td>30    </td><td>14    </td><td>Yes   </td><td>Yes   </td></tr>\n",
       "\t<tr><th scope=row>366</th><td> 6.53 </td><td>154   </td><td> 30   </td><td> 0    </td><td>122   </td><td>162   </td><td>Medium</td><td>57    </td><td>17    </td><td>No    </td><td>No    </td></tr>\n",
       "\t<tr><th scope=row>369</th><td>10.71 </td><td>109   </td><td> 22   </td><td>10    </td><td>348   </td><td> 79   </td><td>Good  </td><td>74    </td><td>14    </td><td>No    </td><td>Yes   </td></tr>\n",
       "\t<tr><th scope=row>373</th><td> 7.80 </td><td>121   </td><td> 50   </td><td> 0    </td><td>508   </td><td> 98   </td><td>Medium</td><td>65    </td><td>11    </td><td>No    </td><td>No    </td></tr>\n",
       "\t<tr><th scope=row>375</th><td> 9.44 </td><td>131   </td><td> 47   </td><td> 7    </td><td> 90   </td><td>118   </td><td>Medium</td><td>47    </td><td>12    </td><td>Yes   </td><td>Yes   </td></tr>\n",
       "\t<tr><th scope=row>377</th><td>16.27 </td><td>141   </td><td> 60   </td><td>19    </td><td>319   </td><td> 92   </td><td>Good  </td><td>44    </td><td>11    </td><td>Yes   </td><td>Yes   </td></tr>\n",
       "\t<tr><th scope=row>378</th><td> 6.81 </td><td>132   </td><td> 61   </td><td> 0    </td><td>263   </td><td>125   </td><td>Medium</td><td>41    </td><td>12    </td><td>No    </td><td>No    </td></tr>\n",
       "\t<tr><th scope=row>380</th><td> 5.81 </td><td>125   </td><td>111   </td><td> 0    </td><td>404   </td><td>107   </td><td>Bad   </td><td>54    </td><td>15    </td><td>Yes   </td><td>No    </td></tr>\n",
       "\t<tr><th scope=row>384</th><td> 9.35 </td><td> 98   </td><td>117   </td><td> 0    </td><td> 76   </td><td> 68   </td><td>Medium</td><td>63    </td><td>10    </td><td>Yes   </td><td>No    </td></tr>\n",
       "\t<tr><th scope=row>385</th><td>12.85 </td><td>123   </td><td> 37   </td><td>15    </td><td>348   </td><td>112   </td><td>Good  </td><td>28    </td><td>12    </td><td>Yes   </td><td>Yes   </td></tr>\n",
       "\t<tr><th scope=row>390</th><td> 8.44 </td><td>128   </td><td> 42   </td><td> 8    </td><td>328   </td><td>107   </td><td>Medium</td><td>35    </td><td>12    </td><td>Yes   </td><td>Yes   </td></tr>\n",
       "\t<tr><th scope=row>392</th><td> 6.10 </td><td>153   </td><td> 63   </td><td> 0    </td><td> 49   </td><td>124   </td><td>Bad   </td><td>56    </td><td>16    </td><td>Yes   </td><td>No    </td></tr>\n",
       "\t<tr><th scope=row>395</th><td> 5.35 </td><td>130   </td><td> 58   </td><td>19    </td><td>366   </td><td>139   </td><td>Bad   </td><td>33    </td><td>16    </td><td>Yes   </td><td>Yes   </td></tr>\n",
       "\t<tr><th scope=row>397</th><td> 6.14 </td><td>139   </td><td> 23   </td><td> 3    </td><td> 37   </td><td>120   </td><td>Medium</td><td>55    </td><td>11    </td><td>No    </td><td>Yes   </td></tr>\n",
       "\t<tr><th scope=row>399</th><td> 5.94 </td><td>100   </td><td> 79   </td><td> 7    </td><td>284   </td><td> 95   </td><td>Bad   </td><td>50    </td><td>12    </td><td>Yes   </td><td>Yes   </td></tr>\n",
       "\t<tr><th scope=row>400</th><td> 9.71 </td><td>134   </td><td> 37   </td><td> 0    </td><td> 27   </td><td>120   </td><td>Good  </td><td>49    </td><td>16    </td><td>Yes   </td><td>Yes   </td></tr>\n",
       "</tbody>\n",
       "</table>\n"
      ],
      "text/latex": [
       "\\begin{tabular}{r|lllllllllll}\n",
       "  & Sales & CompPrice & Income & Advertising & Population & Price & ShelveLoc & Age & Education & Urban & US\\\\\n",
       "\\hline\n",
       "\t2 & 11.22  & 111    &  48    & 16     & 260    &  83    & Good   & 65     & 10     & Yes    & Yes   \\\\\n",
       "\t5 &  4.15  & 141    &  64    &  3     & 340    & 128    & Bad    & 38     & 13     & Yes    & No    \\\\\n",
       "\t6 & 10.81  & 124    & 113    & 13     & 501    &  72    & Bad    & 78     & 16     & No     & Yes   \\\\\n",
       "\t7 &  6.63  & 115    & 105    &  0     &  45    & 108    & Medium & 71     & 15     & Yes    & No    \\\\\n",
       "\t9 &  6.54  & 132    & 110    &  0     & 108    & 124    & Medium & 76     & 10     & No     & No    \\\\\n",
       "\t10 &  4.69  & 132    & 113    &  0     & 131    & 124    & Medium & 76     & 17     & No     & Yes   \\\\\n",
       "\t11 &  9.01  & 121    &  78    &  9     & 150    & 100    & Bad    & 26     & 10     & No     & Yes   \\\\\n",
       "\t13 &  3.98  & 122    &  35    &  2     & 393    & 136    & Medium & 62     & 18     & Yes    & No    \\\\\n",
       "\t17 &  7.58  & 118    &  32    &  0     & 284    & 110    & Good   & 63     & 13     & Yes    & No    \\\\\n",
       "\t18 & 12.29  & 147    &  74    & 13     & 251    & 131    & Good   & 52     & 10     & Yes    & Yes   \\\\\n",
       "\t19 & 13.91  & 110    & 110    &  0     & 408    &  68    & Good   & 46     & 17     & No     & Yes   \\\\\n",
       "\t23 &  5.08  & 128    &  46    &  6     & 497    & 138    & Medium & 42     & 13     & Yes    & No    \\\\\n",
       "\t24 &  5.87  & 121    &  31    &  0     & 292    & 109    & Medium & 79     & 10     & Yes    & No    \\\\\n",
       "\t26 & 14.90  & 139    &  32    &  0     & 176    &  82    & Good   & 54     & 11     & No     & No    \\\\\n",
       "\t27 &  8.33  & 107    & 115    & 11     & 496    & 131    & Good   & 50     & 11     & No     & Yes   \\\\\n",
       "\t29 &  2.99  & 103    &  74    &  0     & 359    &  97    & Bad    & 55     & 11     & Yes    & Yes   \\\\\n",
       "\t30 &  7.81  & 104    &  99    & 15     & 226    & 102    & Bad    & 58     & 17     & Yes    & Yes   \\\\\n",
       "\t32 &  8.25  & 136    &  58    & 16     & 241    & 131    & Medium & 44     & 18     & Yes    & Yes   \\\\\n",
       "\t33 &  6.20  & 107    &  32    & 12     & 236    & 137    & Good   & 64     & 10     & No     & Yes   \\\\\n",
       "\t34 &  8.77  & 114    &  38    & 13     & 317    & 128    & Good   & 50     & 16     & Yes    & Yes   \\\\\n",
       "\t37 &  8.89  & 122    &  76    &  0     & 270    & 100    & Good   & 60     & 18     & No     & No    \\\\\n",
       "\t39 &  6.59  & 109    &  73    &  0     & 454    & 102    & Medium & 65     & 15     & Yes    & No    \\\\\n",
       "\t47 & 12.44  & 127    &  90    & 14     &  16    &  70    & Medium & 48     & 15     & No     & Yes   \\\\\n",
       "\t48 &  4.38  & 126    &  98    &  0     & 173    & 108    & Bad    & 55     & 16     & Yes    & No    \\\\\n",
       "\t57 & 11.91  & 133    &  82    &  0     &  54    &  84    & Medium & 50     & 17     & Yes    & No    \\\\\n",
       "\t59 &  5.42  & 103    &  93    & 15     & 188    & 103    & Bad    & 74     & 16     & Yes    & Yes   \\\\\n",
       "\t60 &  5.21  & 118    &  71    &  4     & 148    & 114    & Medium & 80     & 13     & Yes    & No    \\\\\n",
       "\t64 &  8.47  & 119    &  88    & 10     & 170    & 101    & Medium & 61     & 13     & Yes    & Yes   \\\\\n",
       "\t65 &  7.80  & 100    &  67    & 12     & 184    & 104    & Medium & 32     & 16     & No     & Yes   \\\\\n",
       "\t66 &  4.90  & 122    &  26    &  0     & 197    & 128    & Medium & 55     & 13     & No     & No    \\\\\n",
       "\t... & ... & ... & ... & ... & ... & ... & ... & ... & ... & ... & ...\\\\\n",
       "\t338 &  8.61  & 130    &  38    &  0     & 283    & 102    & Medium & 80     & 15     & Yes    & No    \\\\\n",
       "\t340 & 11.54  & 134    &  44    &  4     & 219    & 126    & Good   & 44     & 15     & Yes    & Yes   \\\\\n",
       "\t341 &  7.50  & 140    &  29    &  0     & 105    &  91    & Bad    & 43     & 16     & Yes    & No    \\\\\n",
       "\t345 &  8.43  & 138    &  80    &  0     & 108    & 126    & Good   & 70     & 13     & No     & Yes   \\\\\n",
       "\t347 &  8.97  & 132    & 107    &  0     & 144    & 125    & Medium & 33     & 13     & No     & No    \\\\\n",
       "\t348 &  6.88  &  96    &  39    &  0     & 161    & 112    & Good   & 27     & 14     & No     & No    \\\\\n",
       "\t349 & 12.57  & 132    & 102    & 20     & 459    & 107    & Good   & 49     & 11     & Yes    & Yes   \\\\\n",
       "\t351 &  8.64  & 111    & 101    & 17     & 266    &  91    & Medium & 63     & 17     & No     & Yes   \\\\\n",
       "\t353 & 13.44  & 133    & 103    & 14     & 288    & 122    & Good   & 61     & 17     & Yes    & Yes   \\\\\n",
       "\t355 &  5.30  & 133    &  31    &  1     &  80    & 145    & Medium & 42     & 18     & Yes    & Yes   \\\\\n",
       "\t357 &  3.58  & 142    & 109    &  0     & 111    & 164    & Good   & 72     & 12     & Yes    & No    \\\\\n",
       "\t358 & 13.36  & 103    &  73    &  3     & 276    &  72    & Medium & 34     & 15     & Yes    & Yes   \\\\\n",
       "\t359 &  4.17  & 123    &  96    & 10     &  71    & 118    & Bad    & 69     & 11     & Yes    & Yes   \\\\\n",
       "\t364 & 10.26  & 111    &  75    &  1     & 377    & 108    & Good   & 25     & 12     & Yes    & No    \\\\\n",
       "\t365 & 10.50  & 122    &  21    & 16     & 488    & 131    & Good   & 30     & 14     & Yes    & Yes   \\\\\n",
       "\t366 &  6.53  & 154    &  30    &  0     & 122    & 162    & Medium & 57     & 17     & No     & No    \\\\\n",
       "\t369 & 10.71  & 109    &  22    & 10     & 348    &  79    & Good   & 74     & 14     & No     & Yes   \\\\\n",
       "\t373 &  7.80  & 121    &  50    &  0     & 508    &  98    & Medium & 65     & 11     & No     & No    \\\\\n",
       "\t375 &  9.44  & 131    &  47    &  7     &  90    & 118    & Medium & 47     & 12     & Yes    & Yes   \\\\\n",
       "\t377 & 16.27  & 141    &  60    & 19     & 319    &  92    & Good   & 44     & 11     & Yes    & Yes   \\\\\n",
       "\t378 &  6.81  & 132    &  61    &  0     & 263    & 125    & Medium & 41     & 12     & No     & No    \\\\\n",
       "\t380 &  5.81  & 125    & 111    &  0     & 404    & 107    & Bad    & 54     & 15     & Yes    & No    \\\\\n",
       "\t384 &  9.35  &  98    & 117    &  0     &  76    &  68    & Medium & 63     & 10     & Yes    & No    \\\\\n",
       "\t385 & 12.85  & 123    &  37    & 15     & 348    & 112    & Good   & 28     & 12     & Yes    & Yes   \\\\\n",
       "\t390 &  8.44  & 128    &  42    &  8     & 328    & 107    & Medium & 35     & 12     & Yes    & Yes   \\\\\n",
       "\t392 &  6.10  & 153    &  63    &  0     &  49    & 124    & Bad    & 56     & 16     & Yes    & No    \\\\\n",
       "\t395 &  5.35  & 130    &  58    & 19     & 366    & 139    & Bad    & 33     & 16     & Yes    & Yes   \\\\\n",
       "\t397 &  6.14  & 139    &  23    &  3     &  37    & 120    & Medium & 55     & 11     & No     & Yes   \\\\\n",
       "\t399 &  5.94  & 100    &  79    &  7     & 284    &  95    & Bad    & 50     & 12     & Yes    & Yes   \\\\\n",
       "\t400 &  9.71  & 134    &  37    &  0     &  27    & 120    & Good   & 49     & 16     & Yes    & Yes   \\\\\n",
       "\\end{tabular}\n"
      ],
      "text/markdown": [
       "\n",
       "| <!--/--> | Sales | CompPrice | Income | Advertising | Population | Price | ShelveLoc | Age | Education | Urban | US |\n",
       "|---|---|---|---|---|---|---|---|---|---|---|---|\n",
       "| 2 | 11.22  | 111    |  48    | 16     | 260    |  83    | Good   | 65     | 10     | Yes    | Yes    |\n",
       "| 5 |  4.15  | 141    |  64    |  3     | 340    | 128    | Bad    | 38     | 13     | Yes    | No     |\n",
       "| 6 | 10.81  | 124    | 113    | 13     | 501    |  72    | Bad    | 78     | 16     | No     | Yes    |\n",
       "| 7 |  6.63  | 115    | 105    |  0     |  45    | 108    | Medium | 71     | 15     | Yes    | No     |\n",
       "| 9 |  6.54  | 132    | 110    |  0     | 108    | 124    | Medium | 76     | 10     | No     | No     |\n",
       "| 10 |  4.69  | 132    | 113    |  0     | 131    | 124    | Medium | 76     | 17     | No     | Yes    |\n",
       "| 11 |  9.01  | 121    |  78    |  9     | 150    | 100    | Bad    | 26     | 10     | No     | Yes    |\n",
       "| 13 |  3.98  | 122    |  35    |  2     | 393    | 136    | Medium | 62     | 18     | Yes    | No     |\n",
       "| 17 |  7.58  | 118    |  32    |  0     | 284    | 110    | Good   | 63     | 13     | Yes    | No     |\n",
       "| 18 | 12.29  | 147    |  74    | 13     | 251    | 131    | Good   | 52     | 10     | Yes    | Yes    |\n",
       "| 19 | 13.91  | 110    | 110    |  0     | 408    |  68    | Good   | 46     | 17     | No     | Yes    |\n",
       "| 23 |  5.08  | 128    |  46    |  6     | 497    | 138    | Medium | 42     | 13     | Yes    | No     |\n",
       "| 24 |  5.87  | 121    |  31    |  0     | 292    | 109    | Medium | 79     | 10     | Yes    | No     |\n",
       "| 26 | 14.90  | 139    |  32    |  0     | 176    |  82    | Good   | 54     | 11     | No     | No     |\n",
       "| 27 |  8.33  | 107    | 115    | 11     | 496    | 131    | Good   | 50     | 11     | No     | Yes    |\n",
       "| 29 |  2.99  | 103    |  74    |  0     | 359    |  97    | Bad    | 55     | 11     | Yes    | Yes    |\n",
       "| 30 |  7.81  | 104    |  99    | 15     | 226    | 102    | Bad    | 58     | 17     | Yes    | Yes    |\n",
       "| 32 |  8.25  | 136    |  58    | 16     | 241    | 131    | Medium | 44     | 18     | Yes    | Yes    |\n",
       "| 33 |  6.20  | 107    |  32    | 12     | 236    | 137    | Good   | 64     | 10     | No     | Yes    |\n",
       "| 34 |  8.77  | 114    |  38    | 13     | 317    | 128    | Good   | 50     | 16     | Yes    | Yes    |\n",
       "| 37 |  8.89  | 122    |  76    |  0     | 270    | 100    | Good   | 60     | 18     | No     | No     |\n",
       "| 39 |  6.59  | 109    |  73    |  0     | 454    | 102    | Medium | 65     | 15     | Yes    | No     |\n",
       "| 47 | 12.44  | 127    |  90    | 14     |  16    |  70    | Medium | 48     | 15     | No     | Yes    |\n",
       "| 48 |  4.38  | 126    |  98    |  0     | 173    | 108    | Bad    | 55     | 16     | Yes    | No     |\n",
       "| 57 | 11.91  | 133    |  82    |  0     |  54    |  84    | Medium | 50     | 17     | Yes    | No     |\n",
       "| 59 |  5.42  | 103    |  93    | 15     | 188    | 103    | Bad    | 74     | 16     | Yes    | Yes    |\n",
       "| 60 |  5.21  | 118    |  71    |  4     | 148    | 114    | Medium | 80     | 13     | Yes    | No     |\n",
       "| 64 |  8.47  | 119    |  88    | 10     | 170    | 101    | Medium | 61     | 13     | Yes    | Yes    |\n",
       "| 65 |  7.80  | 100    |  67    | 12     | 184    | 104    | Medium | 32     | 16     | No     | Yes    |\n",
       "| 66 |  4.90  | 122    |  26    |  0     | 197    | 128    | Medium | 55     | 13     | No     | No     |\n",
       "| ... | ... | ... | ... | ... | ... | ... | ... | ... | ... | ... | ... |\n",
       "| 338 |  8.61  | 130    |  38    |  0     | 283    | 102    | Medium | 80     | 15     | Yes    | No     |\n",
       "| 340 | 11.54  | 134    |  44    |  4     | 219    | 126    | Good   | 44     | 15     | Yes    | Yes    |\n",
       "| 341 |  7.50  | 140    |  29    |  0     | 105    |  91    | Bad    | 43     | 16     | Yes    | No     |\n",
       "| 345 |  8.43  | 138    |  80    |  0     | 108    | 126    | Good   | 70     | 13     | No     | Yes    |\n",
       "| 347 |  8.97  | 132    | 107    |  0     | 144    | 125    | Medium | 33     | 13     | No     | No     |\n",
       "| 348 |  6.88  |  96    |  39    |  0     | 161    | 112    | Good   | 27     | 14     | No     | No     |\n",
       "| 349 | 12.57  | 132    | 102    | 20     | 459    | 107    | Good   | 49     | 11     | Yes    | Yes    |\n",
       "| 351 |  8.64  | 111    | 101    | 17     | 266    |  91    | Medium | 63     | 17     | No     | Yes    |\n",
       "| 353 | 13.44  | 133    | 103    | 14     | 288    | 122    | Good   | 61     | 17     | Yes    | Yes    |\n",
       "| 355 |  5.30  | 133    |  31    |  1     |  80    | 145    | Medium | 42     | 18     | Yes    | Yes    |\n",
       "| 357 |  3.58  | 142    | 109    |  0     | 111    | 164    | Good   | 72     | 12     | Yes    | No     |\n",
       "| 358 | 13.36  | 103    |  73    |  3     | 276    |  72    | Medium | 34     | 15     | Yes    | Yes    |\n",
       "| 359 |  4.17  | 123    |  96    | 10     |  71    | 118    | Bad    | 69     | 11     | Yes    | Yes    |\n",
       "| 364 | 10.26  | 111    |  75    |  1     | 377    | 108    | Good   | 25     | 12     | Yes    | No     |\n",
       "| 365 | 10.50  | 122    |  21    | 16     | 488    | 131    | Good   | 30     | 14     | Yes    | Yes    |\n",
       "| 366 |  6.53  | 154    |  30    |  0     | 122    | 162    | Medium | 57     | 17     | No     | No     |\n",
       "| 369 | 10.71  | 109    |  22    | 10     | 348    |  79    | Good   | 74     | 14     | No     | Yes    |\n",
       "| 373 |  7.80  | 121    |  50    |  0     | 508    |  98    | Medium | 65     | 11     | No     | No     |\n",
       "| 375 |  9.44  | 131    |  47    |  7     |  90    | 118    | Medium | 47     | 12     | Yes    | Yes    |\n",
       "| 377 | 16.27  | 141    |  60    | 19     | 319    |  92    | Good   | 44     | 11     | Yes    | Yes    |\n",
       "| 378 |  6.81  | 132    |  61    |  0     | 263    | 125    | Medium | 41     | 12     | No     | No     |\n",
       "| 380 |  5.81  | 125    | 111    |  0     | 404    | 107    | Bad    | 54     | 15     | Yes    | No     |\n",
       "| 384 |  9.35  |  98    | 117    |  0     |  76    |  68    | Medium | 63     | 10     | Yes    | No     |\n",
       "| 385 | 12.85  | 123    |  37    | 15     | 348    | 112    | Good   | 28     | 12     | Yes    | Yes    |\n",
       "| 390 |  8.44  | 128    |  42    |  8     | 328    | 107    | Medium | 35     | 12     | Yes    | Yes    |\n",
       "| 392 |  6.10  | 153    |  63    |  0     |  49    | 124    | Bad    | 56     | 16     | Yes    | No     |\n",
       "| 395 |  5.35  | 130    |  58    | 19     | 366    | 139    | Bad    | 33     | 16     | Yes    | Yes    |\n",
       "| 397 |  6.14  | 139    |  23    |  3     |  37    | 120    | Medium | 55     | 11     | No     | Yes    |\n",
       "| 399 |  5.94  | 100    |  79    |  7     | 284    |  95    | Bad    | 50     | 12     | Yes    | Yes    |\n",
       "| 400 |  9.71  | 134    |  37    |  0     |  27    | 120    | Good   | 49     | 16     | Yes    | Yes    |\n",
       "\n"
      ],
      "text/plain": [
       "    Sales CompPrice Income Advertising Population Price ShelveLoc Age Education\n",
       "2   11.22 111        48    16          260         83   Good      65  10       \n",
       "5    4.15 141        64     3          340        128   Bad       38  13       \n",
       "6   10.81 124       113    13          501         72   Bad       78  16       \n",
       "7    6.63 115       105     0           45        108   Medium    71  15       \n",
       "9    6.54 132       110     0          108        124   Medium    76  10       \n",
       "10   4.69 132       113     0          131        124   Medium    76  17       \n",
       "11   9.01 121        78     9          150        100   Bad       26  10       \n",
       "13   3.98 122        35     2          393        136   Medium    62  18       \n",
       "17   7.58 118        32     0          284        110   Good      63  13       \n",
       "18  12.29 147        74    13          251        131   Good      52  10       \n",
       "19  13.91 110       110     0          408         68   Good      46  17       \n",
       "23   5.08 128        46     6          497        138   Medium    42  13       \n",
       "24   5.87 121        31     0          292        109   Medium    79  10       \n",
       "26  14.90 139        32     0          176         82   Good      54  11       \n",
       "27   8.33 107       115    11          496        131   Good      50  11       \n",
       "29   2.99 103        74     0          359         97   Bad       55  11       \n",
       "30   7.81 104        99    15          226        102   Bad       58  17       \n",
       "32   8.25 136        58    16          241        131   Medium    44  18       \n",
       "33   6.20 107        32    12          236        137   Good      64  10       \n",
       "34   8.77 114        38    13          317        128   Good      50  16       \n",
       "37   8.89 122        76     0          270        100   Good      60  18       \n",
       "39   6.59 109        73     0          454        102   Medium    65  15       \n",
       "47  12.44 127        90    14           16         70   Medium    48  15       \n",
       "48   4.38 126        98     0          173        108   Bad       55  16       \n",
       "57  11.91 133        82     0           54         84   Medium    50  17       \n",
       "59   5.42 103        93    15          188        103   Bad       74  16       \n",
       "60   5.21 118        71     4          148        114   Medium    80  13       \n",
       "64   8.47 119        88    10          170        101   Medium    61  13       \n",
       "65   7.80 100        67    12          184        104   Medium    32  16       \n",
       "66   4.90 122        26     0          197        128   Medium    55  13       \n",
       "... ...   ...       ...    ...         ...        ...   ...       ... ...      \n",
       "338  8.61 130        38     0          283        102   Medium    80  15       \n",
       "340 11.54 134        44     4          219        126   Good      44  15       \n",
       "341  7.50 140        29     0          105         91   Bad       43  16       \n",
       "345  8.43 138        80     0          108        126   Good      70  13       \n",
       "347  8.97 132       107     0          144        125   Medium    33  13       \n",
       "348  6.88  96        39     0          161        112   Good      27  14       \n",
       "349 12.57 132       102    20          459        107   Good      49  11       \n",
       "351  8.64 111       101    17          266         91   Medium    63  17       \n",
       "353 13.44 133       103    14          288        122   Good      61  17       \n",
       "355  5.30 133        31     1           80        145   Medium    42  18       \n",
       "357  3.58 142       109     0          111        164   Good      72  12       \n",
       "358 13.36 103        73     3          276         72   Medium    34  15       \n",
       "359  4.17 123        96    10           71        118   Bad       69  11       \n",
       "364 10.26 111        75     1          377        108   Good      25  12       \n",
       "365 10.50 122        21    16          488        131   Good      30  14       \n",
       "366  6.53 154        30     0          122        162   Medium    57  17       \n",
       "369 10.71 109        22    10          348         79   Good      74  14       \n",
       "373  7.80 121        50     0          508         98   Medium    65  11       \n",
       "375  9.44 131        47     7           90        118   Medium    47  12       \n",
       "377 16.27 141        60    19          319         92   Good      44  11       \n",
       "378  6.81 132        61     0          263        125   Medium    41  12       \n",
       "380  5.81 125       111     0          404        107   Bad       54  15       \n",
       "384  9.35  98       117     0           76         68   Medium    63  10       \n",
       "385 12.85 123        37    15          348        112   Good      28  12       \n",
       "390  8.44 128        42     8          328        107   Medium    35  12       \n",
       "392  6.10 153        63     0           49        124   Bad       56  16       \n",
       "395  5.35 130        58    19          366        139   Bad       33  16       \n",
       "397  6.14 139        23     3           37        120   Medium    55  11       \n",
       "399  5.94 100        79     7          284         95   Bad       50  12       \n",
       "400  9.71 134        37     0           27        120   Good      49  16       \n",
       "    Urban US \n",
       "2   Yes   Yes\n",
       "5   Yes   No \n",
       "6   No    Yes\n",
       "7   Yes   No \n",
       "9   No    No \n",
       "10  No    Yes\n",
       "11  No    Yes\n",
       "13  Yes   No \n",
       "17  Yes   No \n",
       "18  Yes   Yes\n",
       "19  No    Yes\n",
       "23  Yes   No \n",
       "24  Yes   No \n",
       "26  No    No \n",
       "27  No    Yes\n",
       "29  Yes   Yes\n",
       "30  Yes   Yes\n",
       "32  Yes   Yes\n",
       "33  No    Yes\n",
       "34  Yes   Yes\n",
       "37  No    No \n",
       "39  Yes   No \n",
       "47  No    Yes\n",
       "48  Yes   No \n",
       "57  Yes   No \n",
       "59  Yes   Yes\n",
       "60  Yes   No \n",
       "64  Yes   Yes\n",
       "65  No    Yes\n",
       "66  No    No \n",
       "... ...   ...\n",
       "338 Yes   No \n",
       "340 Yes   Yes\n",
       "341 Yes   No \n",
       "345 No    Yes\n",
       "347 No    No \n",
       "348 No    No \n",
       "349 Yes   Yes\n",
       "351 No    Yes\n",
       "353 Yes   Yes\n",
       "355 Yes   Yes\n",
       "357 Yes   No \n",
       "358 Yes   Yes\n",
       "359 Yes   Yes\n",
       "364 Yes   No \n",
       "365 Yes   Yes\n",
       "366 No    No \n",
       "369 No    Yes\n",
       "373 No    No \n",
       "375 Yes   Yes\n",
       "377 Yes   Yes\n",
       "378 No    No \n",
       "380 Yes   No \n",
       "384 Yes   No \n",
       "385 Yes   Yes\n",
       "390 Yes   Yes\n",
       "392 Yes   No \n",
       "395 Yes   Yes\n",
       "397 No    Yes\n",
       "399 Yes   Yes\n",
       "400 Yes   Yes"
      ]
     },
     "metadata": {},
     "output_type": "display_data"
    }
   ],
   "source": [
    "Carseats.train\n",
    "Carseats.test"
   ]
  },
  {
   "cell_type": "markdown",
   "metadata": {},
   "source": [
    "(b) Fit a regression tree to the training set. Plot the tree, and interpret the results. What test error rate do you obtain ?"
   ]
  },
  {
   "cell_type": "code",
   "execution_count": 7,
   "metadata": {},
   "outputs": [
    {
     "name": "stderr",
     "output_type": "stream",
     "text": [
      "Warning message:\n",
      "\"package 'tree' was built under R version 3.6.3\""
     ]
    },
    {
     "data": {
      "text/plain": [
       "\n",
       "Regression tree:\n",
       "tree(formula = Sales ~ ., data = Carseats.train)\n",
       "Variables actually used in tree construction:\n",
       "[1] \"ShelveLoc\"   \"Price\"       \"Age\"         \"Advertising\" \"Income\"     \n",
       "[6] \"CompPrice\"  \n",
       "Number of terminal nodes:  12 \n",
       "Residual mean deviance:  2.373 = 446 / 188 \n",
       "Distribution of residuals:\n",
       "    Min.  1st Qu.   Median     Mean  3rd Qu.     Max. \n",
       "-3.41400 -1.09500  0.01788  0.00000  1.07500  5.13600 "
      ]
     },
     "metadata": {},
     "output_type": "display_data"
    }
   ],
   "source": [
    "library(tree)\n",
    "tree.carseats <- tree(Sales ~ ., data = Carseats.train)\n",
    "summary(tree.carseats)"
   ]
  },
  {
   "cell_type": "code",
   "execution_count": 8,
   "metadata": {},
   "outputs": [
    {
     "data": {
      "text/html": [
       "5.45135672212654"
      ],
      "text/latex": [
       "5.45135672212654"
      ],
      "text/markdown": [
       "5.45135672212654"
      ],
      "text/plain": [
       "[1] 5.451357"
      ]
     },
     "metadata": {},
     "output_type": "display_data"
    }
   ],
   "source": [
    "prediction <- predict(tree.carseats, newdata = Carseats.test)\n",
    "mean((prediction - Carseats.test$Sales)^2)"
   ]
  },
  {
   "cell_type": "markdown",
   "metadata": {},
   "source": [
    "The test error is about 5.5"
   ]
  },
  {
   "cell_type": "markdown",
   "metadata": {},
   "source": [
    "(c) Use cross-validation in order to determine the optimal level of tree complexity. Does pruning the tree improve the test error rate ?"
   ]
  },
  {
   "cell_type": "code",
   "execution_count": 9,
   "metadata": {},
   "outputs": [
    {
     "name": "stderr",
     "output_type": "stream",
     "text": [
      "Warning message:\n",
      "\"package 'MASS' was built under R version 3.6.3\""
     ]
    }
   ],
   "source": [
    "library(MASS)"
   ]
  },
  {
   "cell_type": "code",
   "execution_count": 10,
   "metadata": {},
   "outputs": [
    {
     "data": {
      "image/png": "[encoded data removed]",
      "text/plain": [
       "plot without title"
      ]
     },
     "metadata": {},
     "output_type": "display_data"
    }
   ],
   "source": [
    "cv.carseats <- cv.tree(tree.carseats)\n",
    "plot(cv.carseats$size, cv.carseats$dev, type = \"b\")"
   ]
  },
  {
   "cell_type": "raw",
   "metadata": {},
   "source": [
    "With the cross validation, we select 8 as the ideal number of terminal nodes of the tree."
   ]
  },
  {
   "cell_type": "code",
   "execution_count": 11,
   "metadata": {},
   "outputs": [
    {
     "data": {
      "image/png": "[encoded data removed]",
      "text/plain": [
       "plot without title"
      ]
     },
     "metadata": {},
     "output_type": "display_data"
    }
   ],
   "source": [
    "prune.carseats <- prune.tree(tree.carseats, best = 8)\n",
    "plot(prune.carseats)\n",
    "text(prune.carseats, pretty = 0)"
   ]
  },
  {
   "cell_type": "code",
   "execution_count": 12,
   "metadata": {},
   "outputs": [
    {
     "data": {
      "text/html": [
       "5.43173666368865"
      ],
      "text/latex": [
       "5.43173666368865"
      ],
      "text/markdown": [
       "5.43173666368865"
      ],
      "text/plain": [
       "[1] 5.431737"
      ]
     },
     "metadata": {},
     "output_type": "display_data"
    }
   ],
   "source": [
    "prediction2 <- predict(prune.carseats, newdata = Carseats.test)\n",
    "mean((prediction2 - Carseats.test$Sales)^2)"
   ]
  },
  {
   "cell_type": "raw",
   "metadata": {},
   "source": [
    "The test error is slightly lower than the one of the prediction1"
   ]
  },
  {
   "cell_type": "markdown",
   "metadata": {},
   "source": [
    "(d) Use the bagging approach in order to analyze this data. What test error rate do you obtain ? Use the “importance()” function to determine which variables are most important."
   ]
  },
  {
   "cell_type": "code",
   "execution_count": 13,
   "metadata": {},
   "outputs": [
    {
     "name": "stdout",
     "output_type": "stream",
     "text": [
      "package 'randomForest' successfully unpacked and MD5 sums checked\n",
      "\n",
      "The downloaded binary packages are in\n",
      "\tC:\\Users\\rsmadja\\AppData\\Local\\Temp\\RtmpSMeIlw\\downloaded_packages\n"
     ]
    },
    {
     "name": "stderr",
     "output_type": "stream",
     "text": [
      "Warning message:\n",
      "\"package 'randomForest' was built under R version 3.6.3\"randomForest 4.6-14\n",
      "Type rfNews() to see new features/changes/bug fixes.\n"
     ]
    }
   ],
   "source": [
    "install.packages(\"randomForest\")\n",
    "library(randomForest)"
   ]
  },
  {
   "cell_type": "code",
   "execution_count": 14,
   "metadata": {},
   "outputs": [
    {
     "data": {
      "text/html": [
       "3.51221074392976"
      ],
      "text/latex": [
       "3.51221074392976"
      ],
      "text/markdown": [
       "3.51221074392976"
      ],
      "text/plain": [
       "[1] 3.512211"
      ]
     },
     "metadata": {},
     "output_type": "display_data"
    }
   ],
   "source": [
    "bag.carseats <- randomForest(Sales ~ ., data = Carseats.train, mtry = 10, ntree = 500, importance = TRUE)\n",
    "yhat.bag <- predict(bag.carseats, newdata = Carseats.test)\n",
    "mean((yhat.bag - Carseats.test$Sales)^2)"
   ]
  },
  {
   "cell_type": "raw",
   "metadata": {},
   "source": [
    "The bagging approach decrease a lot the Test MSE to 3.50."
   ]
  },
  {
   "cell_type": "code",
   "execution_count": 15,
   "metadata": {},
   "outputs": [
    {
     "data": {
      "text/html": [
       "<table>\n",
       "<thead><tr><th></th><th scope=col>%IncMSE</th><th scope=col>IncNodePurity</th></tr></thead>\n",
       "<tbody>\n",
       "\t<tr><th scope=row>CompPrice</th><td>20.1877750</td><td>142.210418</td></tr>\n",
       "\t<tr><th scope=row>Income</th><td> 5.8737915</td><td> 76.902262</td></tr>\n",
       "\t<tr><th scope=row>Advertising</th><td>11.2116717</td><td> 68.167086</td></tr>\n",
       "\t<tr><th scope=row>Population</th><td>-2.5528598</td><td> 49.266548</td></tr>\n",
       "\t<tr><th scope=row>Price</th><td>48.7724701</td><td>351.954938</td></tr>\n",
       "\t<tr><th scope=row>ShelveLoc</th><td>59.9619887</td><td>442.843129</td></tr>\n",
       "\t<tr><th scope=row>Age</th><td>24.3817598</td><td>206.140719</td></tr>\n",
       "\t<tr><th scope=row>Education</th><td> 0.3432762</td><td> 38.877563</td></tr>\n",
       "\t<tr><th scope=row>Urban</th><td> 1.3438299</td><td>  9.435210</td></tr>\n",
       "\t<tr><th scope=row>US</th><td> 1.5695726</td><td>  5.254773</td></tr>\n",
       "</tbody>\n",
       "</table>\n"
      ],
      "text/latex": [
       "\\begin{tabular}{r|ll}\n",
       "  & \\%IncMSE & IncNodePurity\\\\\n",
       "\\hline\n",
       "\tCompPrice & 20.1877750 & 142.210418\\\\\n",
       "\tIncome &  5.8737915 &  76.902262\\\\\n",
       "\tAdvertising & 11.2116717 &  68.167086\\\\\n",
       "\tPopulation & -2.5528598 &  49.266548\\\\\n",
       "\tPrice & 48.7724701 & 351.954938\\\\\n",
       "\tShelveLoc & 59.9619887 & 442.843129\\\\\n",
       "\tAge & 24.3817598 & 206.140719\\\\\n",
       "\tEducation &  0.3432762 &  38.877563\\\\\n",
       "\tUrban &  1.3438299 &   9.435210\\\\\n",
       "\tUS &  1.5695726 &   5.254773\\\\\n",
       "\\end{tabular}\n"
      ],
      "text/markdown": [
       "\n",
       "| <!--/--> | %IncMSE | IncNodePurity |\n",
       "|---|---|---|\n",
       "| CompPrice | 20.1877750 | 142.210418 |\n",
       "| Income |  5.8737915 |  76.902262 |\n",
       "| Advertising | 11.2116717 |  68.167086 |\n",
       "| Population | -2.5528598 |  49.266548 |\n",
       "| Price | 48.7724701 | 351.954938 |\n",
       "| ShelveLoc | 59.9619887 | 442.843129 |\n",
       "| Age | 24.3817598 | 206.140719 |\n",
       "| Education |  0.3432762 |  38.877563 |\n",
       "| Urban |  1.3438299 |   9.435210 |\n",
       "| US |  1.5695726 |   5.254773 |\n",
       "\n"
      ],
      "text/plain": [
       "            %IncMSE    IncNodePurity\n",
       "CompPrice   20.1877750 142.210418   \n",
       "Income       5.8737915  76.902262   \n",
       "Advertising 11.2116717  68.167086   \n",
       "Population  -2.5528598  49.266548   \n",
       "Price       48.7724701 351.954938   \n",
       "ShelveLoc   59.9619887 442.843129   \n",
       "Age         24.3817598 206.140719   \n",
       "Education    0.3432762  38.877563   \n",
       "Urban        1.3438299   9.435210   \n",
       "US           1.5695726   5.254773   "
      ]
     },
     "metadata": {},
     "output_type": "display_data"
    }
   ],
   "source": [
    "importance(bag.carseats)"
   ]
  },
  {
   "cell_type": "raw",
   "metadata": {},
   "source": [
    "Price and ShelveLoc are the most important variables"
   ]
  },
  {
   "cell_type": "markdown",
   "metadata": {},
   "source": [
    "(e) Use random forests to analyze this data. What test error rate do you obtain ? Use the “importance()” function to determine which variables are most important. Describe the effect of m, the number of variables considered at each split, on the error rate obtained."
   ]
  },
  {
   "cell_type": "code",
   "execution_count": 16,
   "metadata": {},
   "outputs": [
    {
     "data": {
      "text/html": [
       "3.77265449249865"
      ],
      "text/latex": [
       "3.77265449249865"
      ],
      "text/markdown": [
       "3.77265449249865"
      ],
      "text/plain": [
       "[1] 3.772654"
      ]
     },
     "metadata": {},
     "output_type": "display_data"
    }
   ],
   "source": [
    "rf.carseats <- randomForest(Sales ~ ., data = Carseats.train, mtry = 3, ntree = 500, importance = TRUE)\n",
    "yhat.rf <- predict(rf.carseats, newdata = Carseats.test)\n",
    "mean((yhat.rf - Carseats.test$Sales)^2)"
   ]
  },
  {
   "cell_type": "raw",
   "metadata": {},
   "source": [
    "The test MSE is similar to the one of the bagging approach."
   ]
  },
  {
   "cell_type": "code",
   "execution_count": 17,
   "metadata": {},
   "outputs": [
    {
     "data": {
      "text/html": [
       "<table>\n",
       "<thead><tr><th></th><th scope=col>%IncMSE</th><th scope=col>IncNodePurity</th></tr></thead>\n",
       "<tbody>\n",
       "\t<tr><th scope=row>CompPrice</th><td>10.48297540</td><td>136.33786  </td></tr>\n",
       "\t<tr><th scope=row>Income</th><td> 3.27629637</td><td>118.88293  </td></tr>\n",
       "\t<tr><th scope=row>Advertising</th><td>10.25357292</td><td> 97.62253  </td></tr>\n",
       "\t<tr><th scope=row>Population</th><td>-2.62741281</td><td> 93.54026  </td></tr>\n",
       "\t<tr><th scope=row>Price</th><td>32.96210875</td><td>278.24224  </td></tr>\n",
       "\t<tr><th scope=row>ShelveLoc</th><td>41.49310763</td><td>314.73919  </td></tr>\n",
       "\t<tr><th scope=row>Age</th><td>18.61409075</td><td>206.03152  </td></tr>\n",
       "\t<tr><th scope=row>Education</th><td>-1.34517372</td><td> 59.86596  </td></tr>\n",
       "\t<tr><th scope=row>Urban</th><td>-0.06677575</td><td> 12.39585  </td></tr>\n",
       "\t<tr><th scope=row>US</th><td> 0.84059013</td><td> 13.34274  </td></tr>\n",
       "</tbody>\n",
       "</table>\n"
      ],
      "text/latex": [
       "\\begin{tabular}{r|ll}\n",
       "  & \\%IncMSE & IncNodePurity\\\\\n",
       "\\hline\n",
       "\tCompPrice & 10.48297540 & 136.33786  \\\\\n",
       "\tIncome &  3.27629637 & 118.88293  \\\\\n",
       "\tAdvertising & 10.25357292 &  97.62253  \\\\\n",
       "\tPopulation & -2.62741281 &  93.54026  \\\\\n",
       "\tPrice & 32.96210875 & 278.24224  \\\\\n",
       "\tShelveLoc & 41.49310763 & 314.73919  \\\\\n",
       "\tAge & 18.61409075 & 206.03152  \\\\\n",
       "\tEducation & -1.34517372 &  59.86596  \\\\\n",
       "\tUrban & -0.06677575 &  12.39585  \\\\\n",
       "\tUS &  0.84059013 &  13.34274  \\\\\n",
       "\\end{tabular}\n"
      ],
      "text/markdown": [
       "\n",
       "| <!--/--> | %IncMSE | IncNodePurity |\n",
       "|---|---|---|\n",
       "| CompPrice | 10.48297540 | 136.33786   |\n",
       "| Income |  3.27629637 | 118.88293   |\n",
       "| Advertising | 10.25357292 |  97.62253   |\n",
       "| Population | -2.62741281 |  93.54026   |\n",
       "| Price | 32.96210875 | 278.24224   |\n",
       "| ShelveLoc | 41.49310763 | 314.73919   |\n",
       "| Age | 18.61409075 | 206.03152   |\n",
       "| Education | -1.34517372 |  59.86596   |\n",
       "| Urban | -0.06677575 |  12.39585   |\n",
       "| US |  0.84059013 |  13.34274   |\n",
       "\n"
      ],
      "text/plain": [
       "            %IncMSE     IncNodePurity\n",
       "CompPrice   10.48297540 136.33786    \n",
       "Income       3.27629637 118.88293    \n",
       "Advertising 10.25357292  97.62253    \n",
       "Population  -2.62741281  93.54026    \n",
       "Price       32.96210875 278.24224    \n",
       "ShelveLoc   41.49310763 314.73919    \n",
       "Age         18.61409075 206.03152    \n",
       "Education   -1.34517372  59.86596    \n",
       "Urban       -0.06677575  12.39585    \n",
       "US           0.84059013  13.34274    "
      ]
     },
     "metadata": {},
     "output_type": "display_data"
    }
   ],
   "source": [
    "importance(rf.carseats)"
   ]
  },
  {
   "cell_type": "raw",
   "metadata": {},
   "source": [
    "Price and ShelveLoc are again the most important variables."
   ]
  },
  {
   "cell_type": "markdown",
   "metadata": {},
   "source": [
    "# Exercice 9 page 333"
   ]
  },
  {
   "cell_type": "markdown",
   "metadata": {},
   "source": [
    "(a) Create a training set containing a random sample of 800 observations, and a test set containing the remaining observations."
   ]
  },
  {
   "cell_type": "code",
   "execution_count": 18,
   "metadata": {},
   "outputs": [
    {
     "name": "stdout",
     "output_type": "stream",
     "text": [
      "'data.frame':\t800 obs. of  18 variables:\n",
      " $ Purchase      : Factor w/ 2 levels \"CH\",\"MM\": 1 1 2 1 1 1 2 1 2 1 ...\n",
      " $ WeekofPurchase: num  246 267 229 269 247 241 267 253 261 263 ...\n",
      " $ StoreID       : num  3 4 2 7 2 1 1 3 3 4 ...\n",
      " $ PriceCH       : num  1.99 1.99 1.69 1.86 1.89 1.86 1.86 1.99 1.99 1.99 ...\n",
      " $ PriceMM       : num  2.23 2.09 1.69 2.13 2.09 1.99 1.99 2.23 2.09 2.09 ...\n",
      " $ DiscCH        : num  0 0.1 0 0.27 0 0 0 0 0 0 ...\n",
      " $ DiscMM        : num  0 0 0 0 0 0.3 0.2 0 0 0 ...\n",
      " $ SpecialCH     : num  0 0 0 1 0 0 0 0 0 0 ...\n",
      " $ SpecialMM     : num  0 0 0 0 0 1 1 0 0 0 ...\n",
      " $ LoyalCH       : num  0.709 0.973 0.4 0.957 0.68 ...\n",
      " $ SalePriceMM   : num  2.23 2.09 1.69 2.13 2.09 1.69 1.79 2.23 2.09 2.09 ...\n",
      " $ SalePriceCH   : num  1.99 1.89 1.69 1.59 1.89 1.86 1.86 1.99 1.99 1.99 ...\n",
      " $ PriceDiff     : num  0.24 0.2 0 0.54 0.2 -0.17 -0.07 0.24 0.1 0.1 ...\n",
      " $ Store7        : Factor w/ 2 levels \"No\",\"Yes\": 1 1 1 2 1 1 1 1 1 1 ...\n",
      " $ PctDiscMM     : num  0 0 0 0 0 ...\n",
      " $ PctDiscCH     : num  0 0.0503 0 0.1452 0 ...\n",
      " $ ListPriceDiff : num  0.24 0.1 0 0.27 0.2 0.13 0.13 0.24 0.1 0.1 ...\n",
      " $ STORE         : num  3 4 2 0 2 1 1 3 3 4 ...\n",
      "'data.frame':\t270 obs. of  18 variables:\n",
      " $ Purchase      : Factor w/ 2 levels \"CH\",\"MM\": 1 1 2 1 1 1 1 1 1 2 ...\n",
      " $ WeekofPurchase: num  239 278 240 254 258 272 274 278 246 232 ...\n",
      " $ StoreID       : num  1 7 1 7 1 7 7 7 2 2 ...\n",
      " $ PriceCH       : num  1.75 2.06 1.75 1.86 1.76 1.86 1.86 2.06 1.89 1.69 ...\n",
      " $ PriceMM       : num  1.99 2.13 1.99 2.18 2.18 2.13 2.13 2.13 2.09 1.69 ...\n",
      " $ DiscCH        : num  0 0 0 0 0 0 0.47 0 0 0 ...\n",
      " $ DiscMM        : num  0.3 0 0.3 0 0 0 0.54 0 0 0 ...\n",
      " $ SpecialCH     : num  0 0 0 0 0 0 1 0 0 1 ...\n",
      " $ SpecialMM     : num  1 0 1 0 0 0 0 0 0 0 ...\n",
      " $ LoyalCH       : num  0.6 0.795 0.5 0.5 0.68 ...\n",
      " $ SalePriceMM   : num  1.69 2.13 1.69 2.18 2.18 2.13 1.59 2.13 2.09 1.69 ...\n",
      " $ SalePriceCH   : num  1.75 2.06 1.75 1.86 1.76 1.86 1.39 2.06 1.89 1.69 ...\n",
      " $ PriceDiff     : num  -0.06 0.07 -0.06 0.32 0.42 0.27 0.2 0.07 0.2 0 ...\n",
      " $ Store7        : Factor w/ 2 levels \"No\",\"Yes\": 1 2 1 2 1 2 2 2 1 1 ...\n",
      " $ PctDiscMM     : num  0.151 0 0.151 0 0 ...\n",
      " $ PctDiscCH     : num  0 0 0 0 0 ...\n",
      " $ ListPriceDiff : num  0.24 0.07 0.24 0.32 0.42 0.27 0.27 0.07 0.2 0 ...\n",
      " $ STORE         : num  1 0 1 0 1 0 0 0 2 2 ...\n"
     ]
    }
   ],
   "source": [
    "set.seed(21)\n",
    "train <- sample(1:nrow(OJ), 800)\n",
    "OJ.train <- OJ[train, ]\n",
    "OJ.test <- OJ[-train, ]\n",
    "str(OJ.train)\n",
    "str(OJ.test)"
   ]
  },
  {
   "cell_type": "markdown",
   "metadata": {},
   "source": [
    "(b) Fit a tree to the training data, with “Purchase” as the response and the other variables except for “Buy” as predictors. Use the “summary()” function to produce summary statistics about the tree, and describe the results obtained. What is the training error rate ? How many terminal nodes does the tree have ?"
   ]
  },
  {
   "cell_type": "code",
   "execution_count": 21,
   "metadata": {},
   "outputs": [
    {
     "data": {
      "text/plain": [
       "\n",
       "Classification tree:\n",
       "tree(formula = Purchase ~ ., data = OJ.train)\n",
       "Variables actually used in tree construction:\n",
       "[1] \"LoyalCH\"       \"SalePriceMM\"   \"SpecialCH\"     \"ListPriceDiff\"\n",
       "[5] \"PctDiscMM\"    \n",
       "Number of terminal nodes:  8 \n",
       "Residual mean deviance:  0.7744 = 613.3 / 792 \n",
       "Misclassification error rate: 0.1612 = 129 / 800 "
      ]
     },
     "metadata": {},
     "output_type": "display_data"
    }
   ],
   "source": [
    "#tree.oj = cv.tree(tree.oj, FUN = prune.tree)\n",
    "tree.oj <- tree(Purchase ~ ., data = OJ.train)\n",
    "summary(tree.oj)\n",
    "\n"
   ]
  },
  {
   "cell_type": "raw",
   "metadata": {},
   "source": [
    "8 terminal nodes and misclassification error rate/train error rate : 0.612"
   ]
  },
  {
   "cell_type": "markdown",
   "metadata": {},
   "source": [
    "(c) Type in the name of the tree object in order to get a detailed text output. Pick one of the terminal nodes, and interpret the information displayed."
   ]
  },
  {
   "cell_type": "code",
   "execution_count": 22,
   "metadata": {},
   "outputs": [
    {
     "data": {
      "text/plain": [
       "node), split, n, deviance, yval, (yprob)\n",
       "      * denotes terminal node\n",
       "\n",
       " 1) root 800 1069.00 CH ( 0.61125 0.38875 )  \n",
       "   2) LoyalCH < 0.48285 315  357.00 MM ( 0.25397 0.74603 )  \n",
       "     4) LoyalCH < 0.276142 171  131.30 MM ( 0.12865 0.87135 ) *\n",
       "     5) LoyalCH > 0.276142 144  194.10 MM ( 0.40278 0.59722 )  \n",
       "      10) SalePriceMM < 2.04 75   86.99 MM ( 0.26667 0.73333 )  \n",
       "        20) SpecialCH < 0.5 63   58.35 MM ( 0.17460 0.82540 ) *\n",
       "        21) SpecialCH > 0.5 12   13.50 CH ( 0.75000 0.25000 ) *\n",
       "      11) SalePriceMM > 2.04 69   94.94 CH ( 0.55072 0.44928 ) *\n",
       "   3) LoyalCH > 0.48285 485  421.10 CH ( 0.84330 0.15670 )  \n",
       "     6) LoyalCH < 0.764572 234  274.60 CH ( 0.72650 0.27350 )  \n",
       "      12) ListPriceDiff < 0.235 90  124.70 MM ( 0.48889 0.51111 )  \n",
       "        24) PctDiscMM < 0.196197 72   97.80 CH ( 0.58333 0.41667 ) *\n",
       "        25) PctDiscMM > 0.196197 18   12.56 MM ( 0.11111 0.88889 ) *\n",
       "      13) ListPriceDiff > 0.235 144  108.50 CH ( 0.87500 0.12500 ) *\n",
       "     7) LoyalCH > 0.764572 251   96.39 CH ( 0.95219 0.04781 ) *"
      ]
     },
     "metadata": {},
     "output_type": "display_data"
    }
   ],
   "source": [
    "tree.oj"
   ]
  },
  {
   "cell_type": "raw",
   "metadata": {},
   "source": [
    "Terminal node:  LoyalCH < 0.48285\n",
    "315 Observations\n",
    "Variance: 357.00\n",
    "Predominant prediction: MM \n",
    "Probabily of value CH in this branch : 0.25397\n",
    "Probability of value MM in this branch: 0.74603"
   ]
  },
  {
   "cell_type": "markdown",
   "metadata": {},
   "source": [
    "(d) Create a plot of the tree, and interpret the results."
   ]
  },
  {
   "cell_type": "code",
   "execution_count": 24,
   "metadata": {},
   "outputs": [
    {
     "data": {
      "image/png": "[encoded data removed]",
      "text/plain": [
       "plot without title"
      ]
     },
     "metadata": {},
     "output_type": "display_data"
    }
   ],
   "source": [
    "plot(tree.oj)\n",
    "text(tree.oj, pretty=0)"
   ]
  },
  {
   "cell_type": "raw",
   "metadata": {},
   "source": [
    "The most important variable which will determine the purchase is loyalch. \n",
    "The value LoyalCH>0.48285 will most of the time leads to the prediction CH aprt from Listpricediff<0.235 and PctDiscMM>0.196191."
   ]
  },
  {
   "cell_type": "markdown",
   "metadata": {},
   "source": [
    "(e) Predict the response on the test data, and produce a confusion matrix comparing the test labels to the predicted test labels. What is the test error rate?"
   ]
  },
  {
   "cell_type": "code",
   "execution_count": 25,
   "metadata": {},
   "outputs": [
    {
     "data": {
      "text/html": [
       "0.266666666666667"
      ],
      "text/latex": [
       "0.266666666666667"
      ],
      "text/markdown": [
       "0.266666666666667"
      ],
      "text/plain": [
       "[1] 0.2666667"
      ]
     },
     "metadata": {},
     "output_type": "display_data"
    },
    {
     "data": {
      "text/plain": [
       "      Predicted\n",
       "Actual  CH  MM\n",
       "    CH 156   8\n",
       "    MM  36  70"
      ]
     },
     "metadata": {},
     "output_type": "display_data"
    }
   ],
   "source": [
    "oj.pred = predict(tree.oj, OJ.test, type = \"class\")\n",
    "test.tab<-table(OJ.test$Purchase, oj.pred, dnn = c(\"Actual\",\"Predicted\"))\n",
    "(test.tab[2,1] + test.tab[2,1]) / sum(test.tab)\n",
    "test.tab"
   ]
  },
  {
   "cell_type": "raw",
   "metadata": {},
   "source": [
    "The test error rate is 26.6%"
   ]
  },
  {
   "cell_type": "markdown",
   "metadata": {},
   "source": [
    "(f) Apply the cv.tree() function to the training set in order to determine the optimal tree size."
   ]
  },
  {
   "cell_type": "code",
   "execution_count": 26,
   "metadata": {},
   "outputs": [
    {
     "data": {
      "text/plain": [
       "$size\n",
       "[1] 8 6 5 4 3 2 1\n",
       "\n",
       "$dev\n",
       "[1]  746.9860  751.3382  750.6273  752.7275  766.4044  798.6467 1072.0838\n",
       "\n",
       "$k\n",
       "[1]      -Inf  13.67809  14.36026  31.57713  41.34993  50.16214 290.97179\n",
       "\n",
       "$method\n",
       "[1] \"deviance\"\n",
       "\n",
       "attr(,\"class\")\n",
       "[1] \"prune\"         \"tree.sequence\""
      ]
     },
     "metadata": {},
     "output_type": "display_data"
    }
   ],
   "source": [
    "cv.oj = cv.tree(tree.oj,FUN=prune.tree)\n",
    "cv.oj "
   ]
  },
  {
   "cell_type": "markdown",
   "metadata": {},
   "source": [
    "(g) Produce a plot with tree size on the x-axis and cross-validated classification error rate on the y-axis."
   ]
  },
  {
   "cell_type": "code",
   "execution_count": 27,
   "metadata": {},
   "outputs": [
    {
     "data": {
      "image/png": "[encoded data removed]",
      "text/plain": [
       "plot without title"
      ]
     },
     "metadata": {},
     "output_type": "display_data"
    }
   ],
   "source": [
    "plot(cv.oj$size,cv.oj$dev,xlab=\"Size of the Tree\",ylab=\"CV Deviance\",type = \"b\")\n",
    "points(5, min(cv.oj$dev),col=\"red\")"
   ]
  },
  {
   "cell_type": "markdown",
   "metadata": {},
   "source": [
    "(h) Which tree size corresponds to the lowest cross-validated classification error rate?"
   ]
  },
  {
   "cell_type": "raw",
   "metadata": {},
   "source": [
    "5"
   ]
  },
  {
   "cell_type": "markdown",
   "metadata": {},
   "source": [
    "(i) Produce a pruned tree corresponding to the optimal tree size obtained using cross-validation. If cross-validation does not lead to selection of a pruned tree, then create a pruned tree with five terminal nodes."
   ]
  },
  {
   "cell_type": "code",
   "execution_count": 28,
   "metadata": {},
   "outputs": [
    {
     "data": {
      "image/png": "[encoded data removed]",
      "text/plain": [
       "plot without title"
      ]
     },
     "metadata": {},
     "output_type": "display_data"
    }
   ],
   "source": [
    "oj.prune<-prune.misclass(tree.oj,best=4)\n",
    "plot(oj.prune)\n",
    "text(oj.prune)"
   ]
  },
  {
   "cell_type": "markdown",
   "metadata": {},
   "source": [
    "(j) Compare the training error rates between the pruned and unpruned trees. Which is higher?"
   ]
  },
  {
   "cell_type": "code",
   "execution_count": 29,
   "metadata": {},
   "outputs": [
    {
     "data": {
      "text/plain": [
       "\n",
       "Classification tree:\n",
       "snip.tree(tree = tree.oj, nodes = 2L)\n",
       "Variables actually used in tree construction:\n",
       "[1] \"LoyalCH\"       \"ListPriceDiff\" \"PctDiscMM\"    \n",
       "Number of terminal nodes:  5 \n",
       "Residual mean deviance:  0.8456 = 672.3 / 795 \n",
       "Misclassification error rate: 0.1775 = 142 / 800 "
      ]
     },
     "metadata": {},
     "output_type": "display_data"
    }
   ],
   "source": [
    "#prune tree error rate: 0.1775%\n",
    "prune.summary<-summary(oj.prune)\n",
    "prune.summary"
   ]
  },
  {
   "cell_type": "code",
   "execution_count": 30,
   "metadata": {},
   "outputs": [
    {
     "data": {
      "text/plain": [
       "\n",
       "Classification tree:\n",
       "tree(formula = Purchase ~ ., data = OJ.train)\n",
       "Variables actually used in tree construction:\n",
       "[1] \"LoyalCH\"       \"SalePriceMM\"   \"SpecialCH\"     \"ListPriceDiff\"\n",
       "[5] \"PctDiscMM\"    \n",
       "Number of terminal nodes:  8 \n",
       "Residual mean deviance:  0.7744 = 613.3 / 792 \n",
       "Misclassification error rate: 0.1612 = 129 / 800 "
      ]
     },
     "metadata": {},
     "output_type": "display_data"
    }
   ],
   "source": [
    "#Non pruned tree error rate: 0.1612%\n",
    "summary(tree.oj)"
   ]
  },
  {
   "cell_type": "raw",
   "metadata": {},
   "source": [
    "Pruned tree has higher error because this is a more flexible model. \n",
    "We need to check for the test error rate."
   ]
  },
  {
   "cell_type": "markdown",
   "metadata": {},
   "source": [
    "(k) Compare the test error rates between the pruned and unpruned trees. Which is higher?"
   ]
  },
  {
   "cell_type": "code",
   "execution_count": 31,
   "metadata": {},
   "outputs": [
    {
     "data": {
      "text/html": [
       "0.162962962962963"
      ],
      "text/latex": [
       "0.162962962962963"
      ],
      "text/markdown": [
       "0.162962962962963"
      ],
      "text/plain": [
       "[1] 0.162963"
      ]
     },
     "metadata": {},
     "output_type": "display_data"
    }
   ],
   "source": [
    "#calculate test error on unpruned tree\n",
    "pred.unpruned = predict(tree.oj, OJ.test, type = \"class\")\n",
    "unpruned = sum(OJ.test$Purchase != pred.unpruned)\n",
    "unpruned/length(pred.unpruned)\n"
   ]
  },
  {
   "cell_type": "code",
   "execution_count": 32,
   "metadata": {},
   "outputs": [
    {
     "data": {
      "text/html": [
       "0.159259259259259"
      ],
      "text/latex": [
       "0.159259259259259"
      ],
      "text/markdown": [
       "0.159259259259259"
      ],
      "text/plain": [
       "[1] 0.1592593"
      ]
     },
     "metadata": {},
     "output_type": "display_data"
    }
   ],
   "source": [
    "#calculate test error on pruned tree\n",
    "\n",
    "pred.pruned = predict(oj.prune, OJ.test, type = \"class\")\n",
    "pruned = sum(OJ.test$Purchase != pred.pruned)\n",
    "pruned/length(pred.pruned)"
   ]
  },
  {
   "cell_type": "raw",
   "metadata": {},
   "source": [
    "The test error of pruned tree is slightly lower than the unpruned tree because of less overfitted model"
   ]
  },
  {
   "cell_type": "markdown",
   "metadata": {},
   "source": [
    "# Exercice 10 page 334"
   ]
  },
  {
   "cell_type": "code",
   "execution_count": 33,
   "metadata": {},
   "outputs": [
    {
     "data": {
      "text/html": [
       "<table>\n",
       "<thead><tr><th></th><th scope=col>AtBat</th><th scope=col>Hits</th><th scope=col>HmRun</th><th scope=col>Runs</th><th scope=col>RBI</th><th scope=col>Walks</th><th scope=col>Years</th><th scope=col>CAtBat</th><th scope=col>CHits</th><th scope=col>CHmRun</th><th scope=col>CRuns</th><th scope=col>CRBI</th><th scope=col>CWalks</th><th scope=col>League</th><th scope=col>Division</th><th scope=col>PutOuts</th><th scope=col>Assists</th><th scope=col>Errors</th><th scope=col>Salary</th><th scope=col>NewLeague</th></tr></thead>\n",
       "<tbody>\n",
       "\t<tr><th scope=row>-Andy Allanson</th><td>293     </td><td> 66     </td><td> 1      </td><td> 30     </td><td> 29     </td><td>14      </td><td> 1      </td><td> 293    </td><td>  66    </td><td>  1     </td><td>  30    </td><td>  29    </td><td> 14     </td><td>A       </td><td>E       </td><td> 446    </td><td> 33     </td><td>20      </td><td>      NA</td><td>A       </td></tr>\n",
       "\t<tr><th scope=row>-Alan Ashby</th><td>315     </td><td> 81     </td><td> 7      </td><td> 24     </td><td> 38     </td><td>39      </td><td>14      </td><td>3449    </td><td> 835    </td><td> 69     </td><td> 321    </td><td> 414    </td><td>375     </td><td>N       </td><td>W       </td><td> 632    </td><td> 43     </td><td>10      </td><td> 475.000</td><td>N       </td></tr>\n",
       "\t<tr><th scope=row>-Alvin Davis</th><td>479     </td><td>130     </td><td>18      </td><td> 66     </td><td> 72     </td><td>76      </td><td> 3      </td><td>1624    </td><td> 457    </td><td> 63     </td><td> 224    </td><td> 266    </td><td>263     </td><td>A       </td><td>W       </td><td> 880    </td><td> 82     </td><td>14      </td><td> 480.000</td><td>A       </td></tr>\n",
       "\t<tr><th scope=row>-Andre Dawson</th><td>496     </td><td>141     </td><td>20      </td><td> 65     </td><td> 78     </td><td>37      </td><td>11      </td><td>5628    </td><td>1575    </td><td>225     </td><td> 828    </td><td> 838    </td><td>354     </td><td>N       </td><td>E       </td><td> 200    </td><td> 11     </td><td> 3      </td><td> 500.000</td><td>N       </td></tr>\n",
       "\t<tr><th scope=row>-Andres Galarraga</th><td>321     </td><td> 87     </td><td>10      </td><td> 39     </td><td> 42     </td><td>30      </td><td> 2      </td><td> 396    </td><td> 101    </td><td> 12     </td><td>  48    </td><td>  46    </td><td> 33     </td><td>N       </td><td>E       </td><td> 805    </td><td> 40     </td><td> 4      </td><td>  91.500</td><td>N       </td></tr>\n",
       "\t<tr><th scope=row>-Alfredo Griffin</th><td>594     </td><td>169     </td><td> 4      </td><td> 74     </td><td> 51     </td><td>35      </td><td>11      </td><td>4408    </td><td>1133    </td><td> 19     </td><td> 501    </td><td> 336    </td><td>194     </td><td>A       </td><td>W       </td><td> 282    </td><td>421     </td><td>25      </td><td> 750.000</td><td>A       </td></tr>\n",
       "\t<tr><th scope=row>-Al Newman</th><td>185     </td><td> 37     </td><td> 1      </td><td> 23     </td><td>  8     </td><td>21      </td><td> 2      </td><td> 214    </td><td>  42    </td><td>  1     </td><td>  30    </td><td>   9    </td><td> 24     </td><td>N       </td><td>E       </td><td>  76    </td><td>127     </td><td> 7      </td><td>  70.000</td><td>A       </td></tr>\n",
       "\t<tr><th scope=row>-Argenis Salazar</th><td>298     </td><td> 73     </td><td> 0      </td><td> 24     </td><td> 24     </td><td> 7      </td><td> 3      </td><td> 509    </td><td> 108    </td><td>  0     </td><td>  41    </td><td>  37    </td><td> 12     </td><td>A       </td><td>W       </td><td> 121    </td><td>283     </td><td> 9      </td><td> 100.000</td><td>A       </td></tr>\n",
       "\t<tr><th scope=row>-Andres Thomas</th><td>323     </td><td> 81     </td><td> 6      </td><td> 26     </td><td> 32     </td><td> 8      </td><td> 2      </td><td> 341    </td><td>  86    </td><td>  6     </td><td>  32    </td><td>  34    </td><td>  8     </td><td>N       </td><td>W       </td><td> 143    </td><td>290     </td><td>19      </td><td>  75.000</td><td>N       </td></tr>\n",
       "\t<tr><th scope=row>-Andre Thornton</th><td>401     </td><td> 92     </td><td>17      </td><td> 49     </td><td> 66     </td><td>65      </td><td>13      </td><td>5206    </td><td>1332    </td><td>253     </td><td> 784    </td><td> 890    </td><td>866     </td><td>A       </td><td>E       </td><td>   0    </td><td>  0     </td><td> 0      </td><td>1100.000</td><td>A       </td></tr>\n",
       "\t<tr><th scope=row>-Alan Trammell</th><td>574     </td><td>159     </td><td>21      </td><td>107     </td><td> 75     </td><td>59      </td><td>10      </td><td>4631    </td><td>1300    </td><td> 90     </td><td> 702    </td><td> 504    </td><td>488     </td><td>A       </td><td>E       </td><td> 238    </td><td>445     </td><td>22      </td><td> 517.143</td><td>A       </td></tr>\n",
       "\t<tr><th scope=row>-Alex Trevino</th><td>202     </td><td> 53     </td><td> 4      </td><td> 31     </td><td> 26     </td><td>27      </td><td> 9      </td><td>1876    </td><td> 467    </td><td> 15     </td><td> 192    </td><td> 186    </td><td>161     </td><td>N       </td><td>W       </td><td> 304    </td><td> 45     </td><td>11      </td><td> 512.500</td><td>N       </td></tr>\n",
       "\t<tr><th scope=row>-Andy VanSlyke</th><td>418     </td><td>113     </td><td>13      </td><td> 48     </td><td> 61     </td><td>47      </td><td> 4      </td><td>1512    </td><td> 392    </td><td> 41     </td><td> 205    </td><td> 204    </td><td>203     </td><td>N       </td><td>E       </td><td> 211    </td><td> 11     </td><td> 7      </td><td> 550.000</td><td>N       </td></tr>\n",
       "\t<tr><th scope=row>-Alan Wiggins</th><td>239     </td><td> 60     </td><td> 0      </td><td> 30     </td><td> 11     </td><td>22      </td><td> 6      </td><td>1941    </td><td> 510    </td><td>  4     </td><td> 309    </td><td> 103    </td><td>207     </td><td>A       </td><td>E       </td><td> 121    </td><td>151     </td><td> 6      </td><td> 700.000</td><td>A       </td></tr>\n",
       "\t<tr><th scope=row>-Bill Almon</th><td>196     </td><td> 43     </td><td> 7      </td><td> 29     </td><td> 27     </td><td>30      </td><td>13      </td><td>3231    </td><td> 825    </td><td> 36     </td><td> 376    </td><td> 290    </td><td>238     </td><td>N       </td><td>E       </td><td>  80    </td><td> 45     </td><td> 8      </td><td> 240.000</td><td>N       </td></tr>\n",
       "\t<tr><th scope=row>-Billy Beane</th><td>183     </td><td> 39     </td><td> 3      </td><td> 20     </td><td> 15     </td><td>11      </td><td> 3      </td><td> 201    </td><td>  42    </td><td>  3     </td><td>  20    </td><td>  16    </td><td> 11     </td><td>A       </td><td>W       </td><td> 118    </td><td>  0     </td><td> 0      </td><td>      NA</td><td>A       </td></tr>\n",
       "\t<tr><th scope=row>-Buddy Bell</th><td>568     </td><td>158     </td><td>20      </td><td> 89     </td><td> 75     </td><td>73      </td><td>15      </td><td>8068    </td><td>2273    </td><td>177     </td><td>1045    </td><td> 993    </td><td>732     </td><td>N       </td><td>W       </td><td> 105    </td><td>290     </td><td>10      </td><td> 775.000</td><td>N       </td></tr>\n",
       "\t<tr><th scope=row>-Buddy Biancalana</th><td>190     </td><td> 46     </td><td> 2      </td><td> 24     </td><td>  8     </td><td>15      </td><td> 5      </td><td> 479    </td><td> 102    </td><td>  5     </td><td>  65    </td><td>  23    </td><td> 39     </td><td>A       </td><td>W       </td><td> 102    </td><td>177     </td><td>16      </td><td> 175.000</td><td>A       </td></tr>\n",
       "\t<tr><th scope=row>-Bruce Bochte</th><td>407     </td><td>104     </td><td> 6      </td><td> 57     </td><td> 43     </td><td>65      </td><td>12      </td><td>5233    </td><td>1478    </td><td>100     </td><td> 643    </td><td> 658    </td><td>653     </td><td>A       </td><td>W       </td><td> 912    </td><td> 88     </td><td> 9      </td><td>      NA</td><td>A       </td></tr>\n",
       "\t<tr><th scope=row>-Bruce Bochy</th><td>127     </td><td> 32     </td><td> 8      </td><td> 16     </td><td> 22     </td><td>14      </td><td> 8      </td><td> 727    </td><td> 180    </td><td> 24     </td><td>  67    </td><td>  82    </td><td> 56     </td><td>N       </td><td>W       </td><td> 202    </td><td> 22     </td><td> 2      </td><td> 135.000</td><td>N       </td></tr>\n",
       "\t<tr><th scope=row>-Barry Bonds</th><td>413     </td><td> 92     </td><td>16      </td><td> 72     </td><td> 48     </td><td>65      </td><td> 1      </td><td> 413    </td><td>  92    </td><td> 16     </td><td>  72    </td><td>  48    </td><td> 65     </td><td>N       </td><td>E       </td><td> 280    </td><td>  9     </td><td> 5      </td><td> 100.000</td><td>N       </td></tr>\n",
       "\t<tr><th scope=row>-Bobby Bonilla</th><td>426     </td><td>109     </td><td> 3      </td><td> 55     </td><td> 43     </td><td>62      </td><td> 1      </td><td> 426    </td><td> 109    </td><td>  3     </td><td>  55    </td><td>  43    </td><td> 62     </td><td>A       </td><td>W       </td><td> 361    </td><td> 22     </td><td> 2      </td><td> 115.000</td><td>N       </td></tr>\n",
       "\t<tr><th scope=row>-Bob Boone</th><td> 22     </td><td> 10     </td><td> 1      </td><td>  4     </td><td>  2     </td><td> 1      </td><td> 6      </td><td>  84    </td><td>  26    </td><td>  2     </td><td>   9    </td><td>   9    </td><td>  3     </td><td>A       </td><td>W       </td><td> 812    </td><td> 84     </td><td>11      </td><td>      NA</td><td>A       </td></tr>\n",
       "\t<tr><th scope=row>-Bob Brenly</th><td>472     </td><td>116     </td><td>16      </td><td> 60     </td><td> 62     </td><td>74      </td><td> 6      </td><td>1924    </td><td> 489    </td><td> 67     </td><td> 242    </td><td> 251    </td><td>240     </td><td>N       </td><td>W       </td><td> 518    </td><td> 55     </td><td> 3      </td><td> 600.000</td><td>N       </td></tr>\n",
       "\t<tr><th scope=row>-Bill Buckner</th><td>629     </td><td>168     </td><td>18      </td><td> 73     </td><td>102     </td><td>40      </td><td>18      </td><td>8424    </td><td>2464    </td><td>164     </td><td>1008    </td><td>1072    </td><td>402     </td><td>A       </td><td>E       </td><td>1067    </td><td>157     </td><td>14      </td><td> 776.667</td><td>A       </td></tr>\n",
       "\t<tr><th scope=row>-Brett Butler</th><td>587     </td><td>163     </td><td> 4      </td><td> 92     </td><td> 51     </td><td>70      </td><td> 6      </td><td>2695    </td><td> 747    </td><td> 17     </td><td> 442    </td><td> 198    </td><td>317     </td><td>A       </td><td>E       </td><td> 434    </td><td>  9     </td><td> 3      </td><td> 765.000</td><td>A       </td></tr>\n",
       "\t<tr><th scope=row>-Bob Dernier</th><td>324     </td><td> 73     </td><td> 4      </td><td> 32     </td><td> 18     </td><td>22      </td><td> 7      </td><td>1931    </td><td> 491    </td><td> 13     </td><td> 291    </td><td> 108    </td><td>180     </td><td>N       </td><td>E       </td><td> 222    </td><td>  3     </td><td> 3      </td><td> 708.333</td><td>N       </td></tr>\n",
       "\t<tr><th scope=row>-Bo Diaz</th><td>474     </td><td>129     </td><td>10      </td><td> 50     </td><td> 56     </td><td>40      </td><td>10      </td><td>2331    </td><td> 604    </td><td> 61     </td><td> 246    </td><td> 327    </td><td>166     </td><td>N       </td><td>W       </td><td> 732    </td><td> 83     </td><td>13      </td><td> 750.000</td><td>N       </td></tr>\n",
       "\t<tr><th scope=row>-Bill Doran</th><td>550     </td><td>152     </td><td> 6      </td><td> 92     </td><td> 37     </td><td>81      </td><td> 5      </td><td>2308    </td><td> 633    </td><td> 32     </td><td> 349    </td><td> 182    </td><td>308     </td><td>N       </td><td>W       </td><td> 262    </td><td>329     </td><td>16      </td><td> 625.000</td><td>N       </td></tr>\n",
       "\t<tr><th scope=row>-Brian Downing</th><td>513     </td><td>137     </td><td>20      </td><td> 90     </td><td> 95     </td><td>90      </td><td>14      </td><td>5201    </td><td>1382    </td><td>166     </td><td> 763    </td><td> 734    </td><td>784     </td><td>A       </td><td>W       </td><td> 267    </td><td>  5     </td><td> 3      </td><td> 900.000</td><td>A       </td></tr>\n",
       "\t<tr><th scope=row>...</th><td>...</td><td>...</td><td>...</td><td>...</td><td>...</td><td>...</td><td>...</td><td>...</td><td>...</td><td>...</td><td>...</td><td>...</td><td>...</td><td>...</td><td>...</td><td>...</td><td>...</td><td>...</td><td>...</td><td>...</td></tr>\n",
       "\t<tr><th scope=row>-Toby Harrah</th><td>289     </td><td> 63     </td><td> 7      </td><td> 36     </td><td> 41     </td><td> 44     </td><td>17      </td><td>7402    </td><td>1954    </td><td>195     </td><td>1115    </td><td> 919    </td><td>1153    </td><td>A       </td><td>W       </td><td> 166    </td><td>211     </td><td> 7      </td><td>      NA</td><td>A       </td></tr>\n",
       "\t<tr><th scope=row>-Tommy Herr</th><td>559     </td><td>141     </td><td> 2      </td><td> 48     </td><td> 61     </td><td> 73     </td><td> 8      </td><td>3162    </td><td> 874    </td><td> 16     </td><td> 421    </td><td> 349    </td><td> 359    </td><td>N       </td><td>E       </td><td> 352    </td><td>414     </td><td> 9      </td><td> 925.000</td><td>N       </td></tr>\n",
       "\t<tr><th scope=row>-Tim Hulett</th><td>520     </td><td>120     </td><td>17      </td><td> 53     </td><td> 44     </td><td> 21     </td><td> 4      </td><td> 927    </td><td> 227    </td><td> 22     </td><td> 106    </td><td>  80    </td><td>  52    </td><td>A       </td><td>W       </td><td>  70    </td><td>144     </td><td>11      </td><td> 185.000</td><td>A       </td></tr>\n",
       "\t<tr><th scope=row>-Terry Kennedy</th><td> 19     </td><td>  4     </td><td> 1      </td><td>  2     </td><td>  3     </td><td>  1     </td><td> 1      </td><td>  19    </td><td>   4    </td><td>  1     </td><td>   2    </td><td>   3    </td><td>   1    </td><td>N       </td><td>W       </td><td> 692    </td><td> 70     </td><td> 8      </td><td> 920.000</td><td>A       </td></tr>\n",
       "\t<tr><th scope=row>-Tito Landrum</th><td>205     </td><td> 43     </td><td> 2      </td><td> 24     </td><td> 17     </td><td> 20     </td><td> 7      </td><td> 854    </td><td> 219    </td><td> 12     </td><td> 105    </td><td>  99    </td><td>  71    </td><td>N       </td><td>E       </td><td> 131    </td><td>  6     </td><td> 1      </td><td> 286.667</td><td>N       </td></tr>\n",
       "\t<tr><th scope=row>-Tim Laudner</th><td>193     </td><td> 47     </td><td>10      </td><td> 21     </td><td> 29     </td><td> 24     </td><td> 6      </td><td>1136    </td><td> 256    </td><td> 42     </td><td> 129    </td><td> 139    </td><td> 106    </td><td>A       </td><td>W       </td><td> 299    </td><td> 13     </td><td> 5      </td><td> 245.000</td><td>A       </td></tr>\n",
       "\t<tr><th scope=row>-Tom O'Malley</th><td>181     </td><td> 46     </td><td> 1      </td><td> 19     </td><td> 18     </td><td> 17     </td><td> 5      </td><td> 937    </td><td> 238    </td><td>  9     </td><td>  88    </td><td>  95    </td><td> 104    </td><td>A       </td><td>E       </td><td>  37    </td><td> 98     </td><td> 9      </td><td>      NA</td><td>A       </td></tr>\n",
       "\t<tr><th scope=row>-Tom Paciorek</th><td>213     </td><td> 61     </td><td> 4      </td><td> 17     </td><td> 22     </td><td>  3     </td><td>17      </td><td>4061    </td><td>1145    </td><td> 83     </td><td> 488    </td><td> 491    </td><td> 244    </td><td>A       </td><td>W       </td><td> 178    </td><td> 45     </td><td> 4      </td><td> 235.000</td><td>A       </td></tr>\n",
       "\t<tr><th scope=row>-Tony Pena</th><td>510     </td><td>147     </td><td>10      </td><td> 56     </td><td> 52     </td><td> 53     </td><td> 7      </td><td>2872    </td><td> 821    </td><td> 63     </td><td> 307    </td><td> 340    </td><td> 174    </td><td>N       </td><td>E       </td><td> 810    </td><td> 99     </td><td>18      </td><td>1150.000</td><td>N       </td></tr>\n",
       "\t<tr><th scope=row>-Terry Pendleton</th><td>578     </td><td>138     </td><td> 1      </td><td> 56     </td><td> 59     </td><td> 34     </td><td> 3      </td><td>1399    </td><td> 357    </td><td>  7     </td><td> 149    </td><td> 161    </td><td>  87    </td><td>N       </td><td>E       </td><td> 133    </td><td>371     </td><td>20      </td><td> 160.000</td><td>N       </td></tr>\n",
       "\t<tr><th scope=row>-Tony Perez</th><td>200     </td><td> 51     </td><td> 2      </td><td> 14     </td><td> 29     </td><td> 25     </td><td>23      </td><td>9778    </td><td>2732    </td><td>379     </td><td>1272    </td><td>1652    </td><td> 925    </td><td>N       </td><td>W       </td><td> 398    </td><td> 29     </td><td> 7      </td><td>      NA</td><td>N       </td></tr>\n",
       "\t<tr><th scope=row>-Tony Phillips</th><td>441     </td><td>113     </td><td> 5      </td><td> 76     </td><td> 52     </td><td> 76     </td><td> 5      </td><td>1546    </td><td> 397    </td><td> 17     </td><td> 226    </td><td> 149    </td><td> 191    </td><td>A       </td><td>W       </td><td> 160    </td><td>290     </td><td>11      </td><td> 425.000</td><td>A       </td></tr>\n",
       "\t<tr><th scope=row>-Terry Puhl</th><td>172     </td><td> 42     </td><td> 3      </td><td> 17     </td><td> 14     </td><td> 15     </td><td>10      </td><td>4086    </td><td>1150    </td><td> 57     </td><td> 579    </td><td> 363    </td><td> 406    </td><td>N       </td><td>W       </td><td>  65    </td><td>  0     </td><td> 0      </td><td> 900.000</td><td>N       </td></tr>\n",
       "\t<tr><th scope=row>-Tim Raines</th><td>580     </td><td>194     </td><td> 9      </td><td> 91     </td><td> 62     </td><td> 78     </td><td> 8      </td><td>3372    </td><td>1028    </td><td> 48     </td><td> 604    </td><td> 314    </td><td> 469    </td><td>N       </td><td>E       </td><td> 270    </td><td> 13     </td><td> 6      </td><td>      NA</td><td>N       </td></tr>\n",
       "\t<tr><th scope=row>-Ted Simmons</th><td>127     </td><td> 32     </td><td> 4      </td><td> 14     </td><td> 25     </td><td> 12     </td><td>19      </td><td>8396    </td><td>2402    </td><td>242     </td><td>1048    </td><td>1348    </td><td> 819    </td><td>N       </td><td>W       </td><td> 167    </td><td> 18     </td><td> 6      </td><td> 500.000</td><td>N       </td></tr>\n",
       "\t<tr><th scope=row>-Tim Teufel</th><td>279     </td><td> 69     </td><td> 4      </td><td> 35     </td><td> 31     </td><td> 32     </td><td> 4      </td><td>1359    </td><td> 355    </td><td> 31     </td><td> 180    </td><td> 148    </td><td> 158    </td><td>N       </td><td>E       </td><td> 133    </td><td>173     </td><td> 9      </td><td> 277.500</td><td>N       </td></tr>\n",
       "\t<tr><th scope=row>-Tim Wallach</th><td>480     </td><td>112     </td><td>18      </td><td> 50     </td><td> 71     </td><td> 44     </td><td> 7      </td><td>3031    </td><td> 771    </td><td>110     </td><td> 338    </td><td> 406    </td><td> 239    </td><td>N       </td><td>E       </td><td>  94    </td><td>270     </td><td>16      </td><td> 750.000</td><td>N       </td></tr>\n",
       "\t<tr><th scope=row>-Vince Coleman</th><td>600     </td><td>139     </td><td> 0      </td><td> 94     </td><td> 29     </td><td> 60     </td><td> 2      </td><td>1236    </td><td> 309    </td><td>  1     </td><td> 201    </td><td>  69    </td><td> 110    </td><td>N       </td><td>E       </td><td> 300    </td><td> 12     </td><td> 9      </td><td> 160.000</td><td>N       </td></tr>\n",
       "\t<tr><th scope=row>-Von Hayes</th><td>610     </td><td>186     </td><td>19      </td><td>107     </td><td> 98     </td><td> 74     </td><td> 6      </td><td>2728    </td><td> 753    </td><td> 69     </td><td> 399    </td><td> 366    </td><td> 286    </td><td>N       </td><td>E       </td><td>1182    </td><td> 96     </td><td>13      </td><td>1300.000</td><td>N       </td></tr>\n",
       "\t<tr><th scope=row>-Vance Law</th><td>360     </td><td> 81     </td><td> 5      </td><td> 37     </td><td> 44     </td><td> 37     </td><td> 7      </td><td>2268    </td><td> 566    </td><td> 41     </td><td> 279    </td><td> 257    </td><td> 246    </td><td>N       </td><td>E       </td><td> 170    </td><td>284     </td><td> 3      </td><td> 525.000</td><td>N       </td></tr>\n",
       "\t<tr><th scope=row>-Wally Backman</th><td>387     </td><td>124     </td><td> 1      </td><td> 67     </td><td> 27     </td><td> 36     </td><td> 7      </td><td>1775    </td><td> 506    </td><td>  6     </td><td> 272    </td><td> 125    </td><td> 194    </td><td>N       </td><td>E       </td><td> 186    </td><td>290     </td><td>17      </td><td> 550.000</td><td>N       </td></tr>\n",
       "\t<tr><th scope=row>-Wade Boggs</th><td>580     </td><td>207     </td><td> 8      </td><td>107     </td><td> 71     </td><td>105     </td><td> 5      </td><td>2778    </td><td> 978    </td><td> 32     </td><td> 474    </td><td> 322    </td><td> 417    </td><td>A       </td><td>E       </td><td> 121    </td><td>267     </td><td>19      </td><td>1600.000</td><td>A       </td></tr>\n",
       "\t<tr><th scope=row>-Will Clark</th><td>408     </td><td>117     </td><td>11      </td><td> 66     </td><td> 41     </td><td> 34     </td><td> 1      </td><td> 408    </td><td> 117    </td><td> 11     </td><td>  66    </td><td>  41    </td><td>  34    </td><td>N       </td><td>W       </td><td> 942    </td><td> 72     </td><td>11      </td><td> 120.000</td><td>N       </td></tr>\n",
       "\t<tr><th scope=row>-Wally Joyner</th><td>593     </td><td>172     </td><td>22      </td><td> 82     </td><td>100     </td><td> 57     </td><td> 1      </td><td> 593    </td><td> 172    </td><td> 22     </td><td>  82    </td><td> 100    </td><td>  57    </td><td>A       </td><td>W       </td><td>1222    </td><td>139     </td><td>15      </td><td> 165.000</td><td>A       </td></tr>\n",
       "\t<tr><th scope=row>-Wayne Krenchicki</th><td>221     </td><td> 53     </td><td> 2      </td><td> 21     </td><td> 23     </td><td> 22     </td><td> 8      </td><td>1063    </td><td> 283    </td><td> 15     </td><td> 107    </td><td> 124    </td><td> 106    </td><td>N       </td><td>E       </td><td> 325    </td><td> 58     </td><td> 6      </td><td>      NA</td><td>N       </td></tr>\n",
       "\t<tr><th scope=row>-Willie McGee</th><td>497     </td><td>127     </td><td> 7      </td><td> 65     </td><td> 48     </td><td> 37     </td><td> 5      </td><td>2703    </td><td> 806    </td><td> 32     </td><td> 379    </td><td> 311    </td><td> 138    </td><td>N       </td><td>E       </td><td> 325    </td><td>  9     </td><td> 3      </td><td> 700.000</td><td>N       </td></tr>\n",
       "\t<tr><th scope=row>-Willie Randolph</th><td>492     </td><td>136     </td><td> 5      </td><td> 76     </td><td> 50     </td><td> 94     </td><td>12      </td><td>5511    </td><td>1511    </td><td> 39     </td><td> 897    </td><td> 451    </td><td> 875    </td><td>A       </td><td>E       </td><td> 313    </td><td>381     </td><td>20      </td><td> 875.000</td><td>A       </td></tr>\n",
       "\t<tr><th scope=row>-Wayne Tolleson</th><td>475     </td><td>126     </td><td> 3      </td><td> 61     </td><td> 43     </td><td> 52     </td><td> 6      </td><td>1700    </td><td> 433    </td><td>  7     </td><td> 217    </td><td>  93    </td><td> 146    </td><td>A       </td><td>W       </td><td>  37    </td><td>113     </td><td> 7      </td><td> 385.000</td><td>A       </td></tr>\n",
       "\t<tr><th scope=row>-Willie Upshaw</th><td>573     </td><td>144     </td><td> 9      </td><td> 85     </td><td> 60     </td><td> 78     </td><td> 8      </td><td>3198    </td><td> 857    </td><td> 97     </td><td> 470    </td><td> 420    </td><td> 332    </td><td>A       </td><td>E       </td><td>1314    </td><td>131     </td><td>12      </td><td> 960.000</td><td>A       </td></tr>\n",
       "\t<tr><th scope=row>-Willie Wilson</th><td>631     </td><td>170     </td><td> 9      </td><td> 77     </td><td> 44     </td><td> 31     </td><td>11      </td><td>4908    </td><td>1457    </td><td> 30     </td><td> 775    </td><td> 357    </td><td> 249    </td><td>A       </td><td>W       </td><td> 408    </td><td>  4     </td><td> 3      </td><td>1000.000</td><td>A       </td></tr>\n",
       "</tbody>\n",
       "</table>\n"
      ],
      "text/latex": [
       "\\begin{tabular}{r|llllllllllllllllllll}\n",
       "  & AtBat & Hits & HmRun & Runs & RBI & Walks & Years & CAtBat & CHits & CHmRun & CRuns & CRBI & CWalks & League & Division & PutOuts & Assists & Errors & Salary & NewLeague\\\\\n",
       "\\hline\n",
       "\t-Andy Allanson & 293      &  66      &  1       &  30      &  29      & 14       &  1       &  293     &   66     &   1      &   30     &   29     &  14      & A        & E        &  446     &  33      & 20       &       NA & A       \\\\\n",
       "\t-Alan Ashby & 315      &  81      &  7       &  24      &  38      & 39       & 14       & 3449     &  835     &  69      &  321     &  414     & 375      & N        & W        &  632     &  43      & 10       &  475.000 & N       \\\\\n",
       "\t-Alvin Davis & 479      & 130      & 18       &  66      &  72      & 76       &  3       & 1624     &  457     &  63      &  224     &  266     & 263      & A        & W        &  880     &  82      & 14       &  480.000 & A       \\\\\n",
       "\t-Andre Dawson & 496      & 141      & 20       &  65      &  78      & 37       & 11       & 5628     & 1575     & 225      &  828     &  838     & 354      & N        & E        &  200     &  11      &  3       &  500.000 & N       \\\\\n",
       "\t-Andres Galarraga & 321      &  87      & 10       &  39      &  42      & 30       &  2       &  396     &  101     &  12      &   48     &   46     &  33      & N        & E        &  805     &  40      &  4       &   91.500 & N       \\\\\n",
       "\t-Alfredo Griffin & 594      & 169      &  4       &  74      &  51      & 35       & 11       & 4408     & 1133     &  19      &  501     &  336     & 194      & A        & W        &  282     & 421      & 25       &  750.000 & A       \\\\\n",
       "\t-Al Newman & 185      &  37      &  1       &  23      &   8      & 21       &  2       &  214     &   42     &   1      &   30     &    9     &  24      & N        & E        &   76     & 127      &  7       &   70.000 & A       \\\\\n",
       "\t-Argenis Salazar & 298      &  73      &  0       &  24      &  24      &  7       &  3       &  509     &  108     &   0      &   41     &   37     &  12      & A        & W        &  121     & 283      &  9       &  100.000 & A       \\\\\n",
       "\t-Andres Thomas & 323      &  81      &  6       &  26      &  32      &  8       &  2       &  341     &   86     &   6      &   32     &   34     &   8      & N        & W        &  143     & 290      & 19       &   75.000 & N       \\\\\n",
       "\t-Andre Thornton & 401      &  92      & 17       &  49      &  66      & 65       & 13       & 5206     & 1332     & 253      &  784     &  890     & 866      & A        & E        &    0     &   0      &  0       & 1100.000 & A       \\\\\n",
       "\t-Alan Trammell & 574      & 159      & 21       & 107      &  75      & 59       & 10       & 4631     & 1300     &  90      &  702     &  504     & 488      & A        & E        &  238     & 445      & 22       &  517.143 & A       \\\\\n",
       "\t-Alex Trevino & 202      &  53      &  4       &  31      &  26      & 27       &  9       & 1876     &  467     &  15      &  192     &  186     & 161      & N        & W        &  304     &  45      & 11       &  512.500 & N       \\\\\n",
       "\t-Andy VanSlyke & 418      & 113      & 13       &  48      &  61      & 47       &  4       & 1512     &  392     &  41      &  205     &  204     & 203      & N        & E        &  211     &  11      &  7       &  550.000 & N       \\\\\n",
       "\t-Alan Wiggins & 239      &  60      &  0       &  30      &  11      & 22       &  6       & 1941     &  510     &   4      &  309     &  103     & 207      & A        & E        &  121     & 151      &  6       &  700.000 & A       \\\\\n",
       "\t-Bill Almon & 196      &  43      &  7       &  29      &  27      & 30       & 13       & 3231     &  825     &  36      &  376     &  290     & 238      & N        & E        &   80     &  45      &  8       &  240.000 & N       \\\\\n",
       "\t-Billy Beane & 183      &  39      &  3       &  20      &  15      & 11       &  3       &  201     &   42     &   3      &   20     &   16     &  11      & A        & W        &  118     &   0      &  0       &       NA & A       \\\\\n",
       "\t-Buddy Bell & 568      & 158      & 20       &  89      &  75      & 73       & 15       & 8068     & 2273     & 177      & 1045     &  993     & 732      & N        & W        &  105     & 290      & 10       &  775.000 & N       \\\\\n",
       "\t-Buddy Biancalana & 190      &  46      &  2       &  24      &   8      & 15       &  5       &  479     &  102     &   5      &   65     &   23     &  39      & A        & W        &  102     & 177      & 16       &  175.000 & A       \\\\\n",
       "\t-Bruce Bochte & 407      & 104      &  6       &  57      &  43      & 65       & 12       & 5233     & 1478     & 100      &  643     &  658     & 653      & A        & W        &  912     &  88      &  9       &       NA & A       \\\\\n",
       "\t-Bruce Bochy & 127      &  32      &  8       &  16      &  22      & 14       &  8       &  727     &  180     &  24      &   67     &   82     &  56      & N        & W        &  202     &  22      &  2       &  135.000 & N       \\\\\n",
       "\t-Barry Bonds & 413      &  92      & 16       &  72      &  48      & 65       &  1       &  413     &   92     &  16      &   72     &   48     &  65      & N        & E        &  280     &   9      &  5       &  100.000 & N       \\\\\n",
       "\t-Bobby Bonilla & 426      & 109      &  3       &  55      &  43      & 62       &  1       &  426     &  109     &   3      &   55     &   43     &  62      & A        & W        &  361     &  22      &  2       &  115.000 & N       \\\\\n",
       "\t-Bob Boone &  22      &  10      &  1       &   4      &   2      &  1       &  6       &   84     &   26     &   2      &    9     &    9     &   3      & A        & W        &  812     &  84      & 11       &       NA & A       \\\\\n",
       "\t-Bob Brenly & 472      & 116      & 16       &  60      &  62      & 74       &  6       & 1924     &  489     &  67      &  242     &  251     & 240      & N        & W        &  518     &  55      &  3       &  600.000 & N       \\\\\n",
       "\t-Bill Buckner & 629      & 168      & 18       &  73      & 102      & 40       & 18       & 8424     & 2464     & 164      & 1008     & 1072     & 402      & A        & E        & 1067     & 157      & 14       &  776.667 & A       \\\\\n",
       "\t-Brett Butler & 587      & 163      &  4       &  92      &  51      & 70       &  6       & 2695     &  747     &  17      &  442     &  198     & 317      & A        & E        &  434     &   9      &  3       &  765.000 & A       \\\\\n",
       "\t-Bob Dernier & 324      &  73      &  4       &  32      &  18      & 22       &  7       & 1931     &  491     &  13      &  291     &  108     & 180      & N        & E        &  222     &   3      &  3       &  708.333 & N       \\\\\n",
       "\t-Bo Diaz & 474      & 129      & 10       &  50      &  56      & 40       & 10       & 2331     &  604     &  61      &  246     &  327     & 166      & N        & W        &  732     &  83      & 13       &  750.000 & N       \\\\\n",
       "\t-Bill Doran & 550      & 152      &  6       &  92      &  37      & 81       &  5       & 2308     &  633     &  32      &  349     &  182     & 308      & N        & W        &  262     & 329      & 16       &  625.000 & N       \\\\\n",
       "\t-Brian Downing & 513      & 137      & 20       &  90      &  95      & 90       & 14       & 5201     & 1382     & 166      &  763     &  734     & 784      & A        & W        &  267     &   5      &  3       &  900.000 & A       \\\\\n",
       "\t... & ... & ... & ... & ... & ... & ... & ... & ... & ... & ... & ... & ... & ... & ... & ... & ... & ... & ... & ... & ...\\\\\n",
       "\t-Toby Harrah & 289      &  63      &  7       &  36      &  41      &  44      & 17       & 7402     & 1954     & 195      & 1115     &  919     & 1153     & A        & W        &  166     & 211      &  7       &       NA & A       \\\\\n",
       "\t-Tommy Herr & 559      & 141      &  2       &  48      &  61      &  73      &  8       & 3162     &  874     &  16      &  421     &  349     &  359     & N        & E        &  352     & 414      &  9       &  925.000 & N       \\\\\n",
       "\t-Tim Hulett & 520      & 120      & 17       &  53      &  44      &  21      &  4       &  927     &  227     &  22      &  106     &   80     &   52     & A        & W        &   70     & 144      & 11       &  185.000 & A       \\\\\n",
       "\t-Terry Kennedy &  19      &   4      &  1       &   2      &   3      &   1      &  1       &   19     &    4     &   1      &    2     &    3     &    1     & N        & W        &  692     &  70      &  8       &  920.000 & A       \\\\\n",
       "\t-Tito Landrum & 205      &  43      &  2       &  24      &  17      &  20      &  7       &  854     &  219     &  12      &  105     &   99     &   71     & N        & E        &  131     &   6      &  1       &  286.667 & N       \\\\\n",
       "\t-Tim Laudner & 193      &  47      & 10       &  21      &  29      &  24      &  6       & 1136     &  256     &  42      &  129     &  139     &  106     & A        & W        &  299     &  13      &  5       &  245.000 & A       \\\\\n",
       "\t-Tom O'Malley & 181      &  46      &  1       &  19      &  18      &  17      &  5       &  937     &  238     &   9      &   88     &   95     &  104     & A        & E        &   37     &  98      &  9       &       NA & A       \\\\\n",
       "\t-Tom Paciorek & 213      &  61      &  4       &  17      &  22      &   3      & 17       & 4061     & 1145     &  83      &  488     &  491     &  244     & A        & W        &  178     &  45      &  4       &  235.000 & A       \\\\\n",
       "\t-Tony Pena & 510      & 147      & 10       &  56      &  52      &  53      &  7       & 2872     &  821     &  63      &  307     &  340     &  174     & N        & E        &  810     &  99      & 18       & 1150.000 & N       \\\\\n",
       "\t-Terry Pendleton & 578      & 138      &  1       &  56      &  59      &  34      &  3       & 1399     &  357     &   7      &  149     &  161     &   87     & N        & E        &  133     & 371      & 20       &  160.000 & N       \\\\\n",
       "\t-Tony Perez & 200      &  51      &  2       &  14      &  29      &  25      & 23       & 9778     & 2732     & 379      & 1272     & 1652     &  925     & N        & W        &  398     &  29      &  7       &       NA & N       \\\\\n",
       "\t-Tony Phillips & 441      & 113      &  5       &  76      &  52      &  76      &  5       & 1546     &  397     &  17      &  226     &  149     &  191     & A        & W        &  160     & 290      & 11       &  425.000 & A       \\\\\n",
       "\t-Terry Puhl & 172      &  42      &  3       &  17      &  14      &  15      & 10       & 4086     & 1150     &  57      &  579     &  363     &  406     & N        & W        &   65     &   0      &  0       &  900.000 & N       \\\\\n",
       "\t-Tim Raines & 580      & 194      &  9       &  91      &  62      &  78      &  8       & 3372     & 1028     &  48      &  604     &  314     &  469     & N        & E        &  270     &  13      &  6       &       NA & N       \\\\\n",
       "\t-Ted Simmons & 127      &  32      &  4       &  14      &  25      &  12      & 19       & 8396     & 2402     & 242      & 1048     & 1348     &  819     & N        & W        &  167     &  18      &  6       &  500.000 & N       \\\\\n",
       "\t-Tim Teufel & 279      &  69      &  4       &  35      &  31      &  32      &  4       & 1359     &  355     &  31      &  180     &  148     &  158     & N        & E        &  133     & 173      &  9       &  277.500 & N       \\\\\n",
       "\t-Tim Wallach & 480      & 112      & 18       &  50      &  71      &  44      &  7       & 3031     &  771     & 110      &  338     &  406     &  239     & N        & E        &   94     & 270      & 16       &  750.000 & N       \\\\\n",
       "\t-Vince Coleman & 600      & 139      &  0       &  94      &  29      &  60      &  2       & 1236     &  309     &   1      &  201     &   69     &  110     & N        & E        &  300     &  12      &  9       &  160.000 & N       \\\\\n",
       "\t-Von Hayes & 610      & 186      & 19       & 107      &  98      &  74      &  6       & 2728     &  753     &  69      &  399     &  366     &  286     & N        & E        & 1182     &  96      & 13       & 1300.000 & N       \\\\\n",
       "\t-Vance Law & 360      &  81      &  5       &  37      &  44      &  37      &  7       & 2268     &  566     &  41      &  279     &  257     &  246     & N        & E        &  170     & 284      &  3       &  525.000 & N       \\\\\n",
       "\t-Wally Backman & 387      & 124      &  1       &  67      &  27      &  36      &  7       & 1775     &  506     &   6      &  272     &  125     &  194     & N        & E        &  186     & 290      & 17       &  550.000 & N       \\\\\n",
       "\t-Wade Boggs & 580      & 207      &  8       & 107      &  71      & 105      &  5       & 2778     &  978     &  32      &  474     &  322     &  417     & A        & E        &  121     & 267      & 19       & 1600.000 & A       \\\\\n",
       "\t-Will Clark & 408      & 117      & 11       &  66      &  41      &  34      &  1       &  408     &  117     &  11      &   66     &   41     &   34     & N        & W        &  942     &  72      & 11       &  120.000 & N       \\\\\n",
       "\t-Wally Joyner & 593      & 172      & 22       &  82      & 100      &  57      &  1       &  593     &  172     &  22      &   82     &  100     &   57     & A        & W        & 1222     & 139      & 15       &  165.000 & A       \\\\\n",
       "\t-Wayne Krenchicki & 221      &  53      &  2       &  21      &  23      &  22      &  8       & 1063     &  283     &  15      &  107     &  124     &  106     & N        & E        &  325     &  58      &  6       &       NA & N       \\\\\n",
       "\t-Willie McGee & 497      & 127      &  7       &  65      &  48      &  37      &  5       & 2703     &  806     &  32      &  379     &  311     &  138     & N        & E        &  325     &   9      &  3       &  700.000 & N       \\\\\n",
       "\t-Willie Randolph & 492      & 136      &  5       &  76      &  50      &  94      & 12       & 5511     & 1511     &  39      &  897     &  451     &  875     & A        & E        &  313     & 381      & 20       &  875.000 & A       \\\\\n",
       "\t-Wayne Tolleson & 475      & 126      &  3       &  61      &  43      &  52      &  6       & 1700     &  433     &   7      &  217     &   93     &  146     & A        & W        &   37     & 113      &  7       &  385.000 & A       \\\\\n",
       "\t-Willie Upshaw & 573      & 144      &  9       &  85      &  60      &  78      &  8       & 3198     &  857     &  97      &  470     &  420     &  332     & A        & E        & 1314     & 131      & 12       &  960.000 & A       \\\\\n",
       "\t-Willie Wilson & 631      & 170      &  9       &  77      &  44      &  31      & 11       & 4908     & 1457     &  30      &  775     &  357     &  249     & A        & W        &  408     &   4      &  3       & 1000.000 & A       \\\\\n",
       "\\end{tabular}\n"
      ],
      "text/markdown": [
       "\n",
       "| <!--/--> | AtBat | Hits | HmRun | Runs | RBI | Walks | Years | CAtBat | CHits | CHmRun | CRuns | CRBI | CWalks | League | Division | PutOuts | Assists | Errors | Salary | NewLeague |\n",
       "|---|---|---|---|---|---|---|---|---|---|---|---|---|---|---|---|---|---|---|---|---|\n",
       "| -Andy Allanson | 293      |  66      |  1       |  30      |  29      | 14       |  1       |  293     |   66     |   1      |   30     |   29     |  14      | A        | E        |  446     |  33      | 20       |       NA | A        |\n",
       "| -Alan Ashby | 315      |  81      |  7       |  24      |  38      | 39       | 14       | 3449     |  835     |  69      |  321     |  414     | 375      | N        | W        |  632     |  43      | 10       |  475.000 | N        |\n",
       "| -Alvin Davis | 479      | 130      | 18       |  66      |  72      | 76       |  3       | 1624     |  457     |  63      |  224     |  266     | 263      | A        | W        |  880     |  82      | 14       |  480.000 | A        |\n",
       "| -Andre Dawson | 496      | 141      | 20       |  65      |  78      | 37       | 11       | 5628     | 1575     | 225      |  828     |  838     | 354      | N        | E        |  200     |  11      |  3       |  500.000 | N        |\n",
       "| -Andres Galarraga | 321      |  87      | 10       |  39      |  42      | 30       |  2       |  396     |  101     |  12      |   48     |   46     |  33      | N        | E        |  805     |  40      |  4       |   91.500 | N        |\n",
       "| -Alfredo Griffin | 594      | 169      |  4       |  74      |  51      | 35       | 11       | 4408     | 1133     |  19      |  501     |  336     | 194      | A        | W        |  282     | 421      | 25       |  750.000 | A        |\n",
       "| -Al Newman | 185      |  37      |  1       |  23      |   8      | 21       |  2       |  214     |   42     |   1      |   30     |    9     |  24      | N        | E        |   76     | 127      |  7       |   70.000 | A        |\n",
       "| -Argenis Salazar | 298      |  73      |  0       |  24      |  24      |  7       |  3       |  509     |  108     |   0      |   41     |   37     |  12      | A        | W        |  121     | 283      |  9       |  100.000 | A        |\n",
       "| -Andres Thomas | 323      |  81      |  6       |  26      |  32      |  8       |  2       |  341     |   86     |   6      |   32     |   34     |   8      | N        | W        |  143     | 290      | 19       |   75.000 | N        |\n",
       "| -Andre Thornton | 401      |  92      | 17       |  49      |  66      | 65       | 13       | 5206     | 1332     | 253      |  784     |  890     | 866      | A        | E        |    0     |   0      |  0       | 1100.000 | A        |\n",
       "| -Alan Trammell | 574      | 159      | 21       | 107      |  75      | 59       | 10       | 4631     | 1300     |  90      |  702     |  504     | 488      | A        | E        |  238     | 445      | 22       |  517.143 | A        |\n",
       "| -Alex Trevino | 202      |  53      |  4       |  31      |  26      | 27       |  9       | 1876     |  467     |  15      |  192     |  186     | 161      | N        | W        |  304     |  45      | 11       |  512.500 | N        |\n",
       "| -Andy VanSlyke | 418      | 113      | 13       |  48      |  61      | 47       |  4       | 1512     |  392     |  41      |  205     |  204     | 203      | N        | E        |  211     |  11      |  7       |  550.000 | N        |\n",
       "| -Alan Wiggins | 239      |  60      |  0       |  30      |  11      | 22       |  6       | 1941     |  510     |   4      |  309     |  103     | 207      | A        | E        |  121     | 151      |  6       |  700.000 | A        |\n",
       "| -Bill Almon | 196      |  43      |  7       |  29      |  27      | 30       | 13       | 3231     |  825     |  36      |  376     |  290     | 238      | N        | E        |   80     |  45      |  8       |  240.000 | N        |\n",
       "| -Billy Beane | 183      |  39      |  3       |  20      |  15      | 11       |  3       |  201     |   42     |   3      |   20     |   16     |  11      | A        | W        |  118     |   0      |  0       |       NA | A        |\n",
       "| -Buddy Bell | 568      | 158      | 20       |  89      |  75      | 73       | 15       | 8068     | 2273     | 177      | 1045     |  993     | 732      | N        | W        |  105     | 290      | 10       |  775.000 | N        |\n",
       "| -Buddy Biancalana | 190      |  46      |  2       |  24      |   8      | 15       |  5       |  479     |  102     |   5      |   65     |   23     |  39      | A        | W        |  102     | 177      | 16       |  175.000 | A        |\n",
       "| -Bruce Bochte | 407      | 104      |  6       |  57      |  43      | 65       | 12       | 5233     | 1478     | 100      |  643     |  658     | 653      | A        | W        |  912     |  88      |  9       |       NA | A        |\n",
       "| -Bruce Bochy | 127      |  32      |  8       |  16      |  22      | 14       |  8       |  727     |  180     |  24      |   67     |   82     |  56      | N        | W        |  202     |  22      |  2       |  135.000 | N        |\n",
       "| -Barry Bonds | 413      |  92      | 16       |  72      |  48      | 65       |  1       |  413     |   92     |  16      |   72     |   48     |  65      | N        | E        |  280     |   9      |  5       |  100.000 | N        |\n",
       "| -Bobby Bonilla | 426      | 109      |  3       |  55      |  43      | 62       |  1       |  426     |  109     |   3      |   55     |   43     |  62      | A        | W        |  361     |  22      |  2       |  115.000 | N        |\n",
       "| -Bob Boone |  22      |  10      |  1       |   4      |   2      |  1       |  6       |   84     |   26     |   2      |    9     |    9     |   3      | A        | W        |  812     |  84      | 11       |       NA | A        |\n",
       "| -Bob Brenly | 472      | 116      | 16       |  60      |  62      | 74       |  6       | 1924     |  489     |  67      |  242     |  251     | 240      | N        | W        |  518     |  55      |  3       |  600.000 | N        |\n",
       "| -Bill Buckner | 629      | 168      | 18       |  73      | 102      | 40       | 18       | 8424     | 2464     | 164      | 1008     | 1072     | 402      | A        | E        | 1067     | 157      | 14       |  776.667 | A        |\n",
       "| -Brett Butler | 587      | 163      |  4       |  92      |  51      | 70       |  6       | 2695     |  747     |  17      |  442     |  198     | 317      | A        | E        |  434     |   9      |  3       |  765.000 | A        |\n",
       "| -Bob Dernier | 324      |  73      |  4       |  32      |  18      | 22       |  7       | 1931     |  491     |  13      |  291     |  108     | 180      | N        | E        |  222     |   3      |  3       |  708.333 | N        |\n",
       "| -Bo Diaz | 474      | 129      | 10       |  50      |  56      | 40       | 10       | 2331     |  604     |  61      |  246     |  327     | 166      | N        | W        |  732     |  83      | 13       |  750.000 | N        |\n",
       "| -Bill Doran | 550      | 152      |  6       |  92      |  37      | 81       |  5       | 2308     |  633     |  32      |  349     |  182     | 308      | N        | W        |  262     | 329      | 16       |  625.000 | N        |\n",
       "| -Brian Downing | 513      | 137      | 20       |  90      |  95      | 90       | 14       | 5201     | 1382     | 166      |  763     |  734     | 784      | A        | W        |  267     |   5      |  3       |  900.000 | A        |\n",
       "| ... | ... | ... | ... | ... | ... | ... | ... | ... | ... | ... | ... | ... | ... | ... | ... | ... | ... | ... | ... | ... |\n",
       "| -Toby Harrah | 289      |  63      |  7       |  36      |  41      |  44      | 17       | 7402     | 1954     | 195      | 1115     |  919     | 1153     | A        | W        |  166     | 211      |  7       |       NA | A        |\n",
       "| -Tommy Herr | 559      | 141      |  2       |  48      |  61      |  73      |  8       | 3162     |  874     |  16      |  421     |  349     |  359     | N        | E        |  352     | 414      |  9       |  925.000 | N        |\n",
       "| -Tim Hulett | 520      | 120      | 17       |  53      |  44      |  21      |  4       |  927     |  227     |  22      |  106     |   80     |   52     | A        | W        |   70     | 144      | 11       |  185.000 | A        |\n",
       "| -Terry Kennedy |  19      |   4      |  1       |   2      |   3      |   1      |  1       |   19     |    4     |   1      |    2     |    3     |    1     | N        | W        |  692     |  70      |  8       |  920.000 | A        |\n",
       "| -Tito Landrum | 205      |  43      |  2       |  24      |  17      |  20      |  7       |  854     |  219     |  12      |  105     |   99     |   71     | N        | E        |  131     |   6      |  1       |  286.667 | N        |\n",
       "| -Tim Laudner | 193      |  47      | 10       |  21      |  29      |  24      |  6       | 1136     |  256     |  42      |  129     |  139     |  106     | A        | W        |  299     |  13      |  5       |  245.000 | A        |\n",
       "| -Tom O'Malley | 181      |  46      |  1       |  19      |  18      |  17      |  5       |  937     |  238     |   9      |   88     |   95     |  104     | A        | E        |   37     |  98      |  9       |       NA | A        |\n",
       "| -Tom Paciorek | 213      |  61      |  4       |  17      |  22      |   3      | 17       | 4061     | 1145     |  83      |  488     |  491     |  244     | A        | W        |  178     |  45      |  4       |  235.000 | A        |\n",
       "| -Tony Pena | 510      | 147      | 10       |  56      |  52      |  53      |  7       | 2872     |  821     |  63      |  307     |  340     |  174     | N        | E        |  810     |  99      | 18       | 1150.000 | N        |\n",
       "| -Terry Pendleton | 578      | 138      |  1       |  56      |  59      |  34      |  3       | 1399     |  357     |   7      |  149     |  161     |   87     | N        | E        |  133     | 371      | 20       |  160.000 | N        |\n",
       "| -Tony Perez | 200      |  51      |  2       |  14      |  29      |  25      | 23       | 9778     | 2732     | 379      | 1272     | 1652     |  925     | N        | W        |  398     |  29      |  7       |       NA | N        |\n",
       "| -Tony Phillips | 441      | 113      |  5       |  76      |  52      |  76      |  5       | 1546     |  397     |  17      |  226     |  149     |  191     | A        | W        |  160     | 290      | 11       |  425.000 | A        |\n",
       "| -Terry Puhl | 172      |  42      |  3       |  17      |  14      |  15      | 10       | 4086     | 1150     |  57      |  579     |  363     |  406     | N        | W        |   65     |   0      |  0       |  900.000 | N        |\n",
       "| -Tim Raines | 580      | 194      |  9       |  91      |  62      |  78      |  8       | 3372     | 1028     |  48      |  604     |  314     |  469     | N        | E        |  270     |  13      |  6       |       NA | N        |\n",
       "| -Ted Simmons | 127      |  32      |  4       |  14      |  25      |  12      | 19       | 8396     | 2402     | 242      | 1048     | 1348     |  819     | N        | W        |  167     |  18      |  6       |  500.000 | N        |\n",
       "| -Tim Teufel | 279      |  69      |  4       |  35      |  31      |  32      |  4       | 1359     |  355     |  31      |  180     |  148     |  158     | N        | E        |  133     | 173      |  9       |  277.500 | N        |\n",
       "| -Tim Wallach | 480      | 112      | 18       |  50      |  71      |  44      |  7       | 3031     |  771     | 110      |  338     |  406     |  239     | N        | E        |   94     | 270      | 16       |  750.000 | N        |\n",
       "| -Vince Coleman | 600      | 139      |  0       |  94      |  29      |  60      |  2       | 1236     |  309     |   1      |  201     |   69     |  110     | N        | E        |  300     |  12      |  9       |  160.000 | N        |\n",
       "| -Von Hayes | 610      | 186      | 19       | 107      |  98      |  74      |  6       | 2728     |  753     |  69      |  399     |  366     |  286     | N        | E        | 1182     |  96      | 13       | 1300.000 | N        |\n",
       "| -Vance Law | 360      |  81      |  5       |  37      |  44      |  37      |  7       | 2268     |  566     |  41      |  279     |  257     |  246     | N        | E        |  170     | 284      |  3       |  525.000 | N        |\n",
       "| -Wally Backman | 387      | 124      |  1       |  67      |  27      |  36      |  7       | 1775     |  506     |   6      |  272     |  125     |  194     | N        | E        |  186     | 290      | 17       |  550.000 | N        |\n",
       "| -Wade Boggs | 580      | 207      |  8       | 107      |  71      | 105      |  5       | 2778     |  978     |  32      |  474     |  322     |  417     | A        | E        |  121     | 267      | 19       | 1600.000 | A        |\n",
       "| -Will Clark | 408      | 117      | 11       |  66      |  41      |  34      |  1       |  408     |  117     |  11      |   66     |   41     |   34     | N        | W        |  942     |  72      | 11       |  120.000 | N        |\n",
       "| -Wally Joyner | 593      | 172      | 22       |  82      | 100      |  57      |  1       |  593     |  172     |  22      |   82     |  100     |   57     | A        | W        | 1222     | 139      | 15       |  165.000 | A        |\n",
       "| -Wayne Krenchicki | 221      |  53      |  2       |  21      |  23      |  22      |  8       | 1063     |  283     |  15      |  107     |  124     |  106     | N        | E        |  325     |  58      |  6       |       NA | N        |\n",
       "| -Willie McGee | 497      | 127      |  7       |  65      |  48      |  37      |  5       | 2703     |  806     |  32      |  379     |  311     |  138     | N        | E        |  325     |   9      |  3       |  700.000 | N        |\n",
       "| -Willie Randolph | 492      | 136      |  5       |  76      |  50      |  94      | 12       | 5511     | 1511     |  39      |  897     |  451     |  875     | A        | E        |  313     | 381      | 20       |  875.000 | A        |\n",
       "| -Wayne Tolleson | 475      | 126      |  3       |  61      |  43      |  52      |  6       | 1700     |  433     |   7      |  217     |   93     |  146     | A        | W        |   37     | 113      |  7       |  385.000 | A        |\n",
       "| -Willie Upshaw | 573      | 144      |  9       |  85      |  60      |  78      |  8       | 3198     |  857     |  97      |  470     |  420     |  332     | A        | E        | 1314     | 131      | 12       |  960.000 | A        |\n",
       "| -Willie Wilson | 631      | 170      |  9       |  77      |  44      |  31      | 11       | 4908     | 1457     |  30      |  775     |  357     |  249     | A        | W        |  408     |   4      |  3       | 1000.000 | A        |\n",
       "\n"
      ],
      "text/plain": [
       "                  AtBat Hits HmRun Runs RBI Walks Years CAtBat CHits CHmRun\n",
       "-Andy Allanson    293    66   1     30   29 14     1     293     66    1   \n",
       "-Alan Ashby       315    81   7     24   38 39    14    3449    835   69   \n",
       "-Alvin Davis      479   130  18     66   72 76     3    1624    457   63   \n",
       "-Andre Dawson     496   141  20     65   78 37    11    5628   1575  225   \n",
       "-Andres Galarraga 321    87  10     39   42 30     2     396    101   12   \n",
       "-Alfredo Griffin  594   169   4     74   51 35    11    4408   1133   19   \n",
       "-Al Newman        185    37   1     23    8 21     2     214     42    1   \n",
       "-Argenis Salazar  298    73   0     24   24  7     3     509    108    0   \n",
       "-Andres Thomas    323    81   6     26   32  8     2     341     86    6   \n",
       "-Andre Thornton   401    92  17     49   66 65    13    5206   1332  253   \n",
       "-Alan Trammell    574   159  21    107   75 59    10    4631   1300   90   \n",
       "-Alex Trevino     202    53   4     31   26 27     9    1876    467   15   \n",
       "-Andy VanSlyke    418   113  13     48   61 47     4    1512    392   41   \n",
       "-Alan Wiggins     239    60   0     30   11 22     6    1941    510    4   \n",
       "-Bill Almon       196    43   7     29   27 30    13    3231    825   36   \n",
       "-Billy Beane      183    39   3     20   15 11     3     201     42    3   \n",
       "-Buddy Bell       568   158  20     89   75 73    15    8068   2273  177   \n",
       "-Buddy Biancalana 190    46   2     24    8 15     5     479    102    5   \n",
       "-Bruce Bochte     407   104   6     57   43 65    12    5233   1478  100   \n",
       "-Bruce Bochy      127    32   8     16   22 14     8     727    180   24   \n",
       "-Barry Bonds      413    92  16     72   48 65     1     413     92   16   \n",
       "-Bobby Bonilla    426   109   3     55   43 62     1     426    109    3   \n",
       "-Bob Boone         22    10   1      4    2  1     6      84     26    2   \n",
       "-Bob Brenly       472   116  16     60   62 74     6    1924    489   67   \n",
       "-Bill Buckner     629   168  18     73  102 40    18    8424   2464  164   \n",
       "-Brett Butler     587   163   4     92   51 70     6    2695    747   17   \n",
       "-Bob Dernier      324    73   4     32   18 22     7    1931    491   13   \n",
       "-Bo Diaz          474   129  10     50   56 40    10    2331    604   61   \n",
       "-Bill Doran       550   152   6     92   37 81     5    2308    633   32   \n",
       "-Brian Downing    513   137  20     90   95 90    14    5201   1382  166   \n",
       "...               ...   ...  ...   ...  ... ...   ...   ...    ...   ...   \n",
       "-Toby Harrah      289    63   7     36   41  44   17    7402   1954  195   \n",
       "-Tommy Herr       559   141   2     48   61  73    8    3162    874   16   \n",
       "-Tim Hulett       520   120  17     53   44  21    4     927    227   22   \n",
       "-Terry Kennedy     19     4   1      2    3   1    1      19      4    1   \n",
       "-Tito Landrum     205    43   2     24   17  20    7     854    219   12   \n",
       "-Tim Laudner      193    47  10     21   29  24    6    1136    256   42   \n",
       "-Tom O'Malley     181    46   1     19   18  17    5     937    238    9   \n",
       "-Tom Paciorek     213    61   4     17   22   3   17    4061   1145   83   \n",
       "-Tony Pena        510   147  10     56   52  53    7    2872    821   63   \n",
       "-Terry Pendleton  578   138   1     56   59  34    3    1399    357    7   \n",
       "-Tony Perez       200    51   2     14   29  25   23    9778   2732  379   \n",
       "-Tony Phillips    441   113   5     76   52  76    5    1546    397   17   \n",
       "-Terry Puhl       172    42   3     17   14  15   10    4086   1150   57   \n",
       "-Tim Raines       580   194   9     91   62  78    8    3372   1028   48   \n",
       "-Ted Simmons      127    32   4     14   25  12   19    8396   2402  242   \n",
       "-Tim Teufel       279    69   4     35   31  32    4    1359    355   31   \n",
       "-Tim Wallach      480   112  18     50   71  44    7    3031    771  110   \n",
       "-Vince Coleman    600   139   0     94   29  60    2    1236    309    1   \n",
       "-Von Hayes        610   186  19    107   98  74    6    2728    753   69   \n",
       "-Vance Law        360    81   5     37   44  37    7    2268    566   41   \n",
       "-Wally Backman    387   124   1     67   27  36    7    1775    506    6   \n",
       "-Wade Boggs       580   207   8    107   71 105    5    2778    978   32   \n",
       "-Will Clark       408   117  11     66   41  34    1     408    117   11   \n",
       "-Wally Joyner     593   172  22     82  100  57    1     593    172   22   \n",
       "-Wayne Krenchicki 221    53   2     21   23  22    8    1063    283   15   \n",
       "-Willie McGee     497   127   7     65   48  37    5    2703    806   32   \n",
       "-Willie Randolph  492   136   5     76   50  94   12    5511   1511   39   \n",
       "-Wayne Tolleson   475   126   3     61   43  52    6    1700    433    7   \n",
       "-Willie Upshaw    573   144   9     85   60  78    8    3198    857   97   \n",
       "-Willie Wilson    631   170   9     77   44  31   11    4908   1457   30   \n",
       "                  CRuns CRBI CWalks League Division PutOuts Assists Errors\n",
       "-Andy Allanson      30    29  14    A      E         446     33     20    \n",
       "-Alan Ashby        321   414 375    N      W         632     43     10    \n",
       "-Alvin Davis       224   266 263    A      W         880     82     14    \n",
       "-Andre Dawson      828   838 354    N      E         200     11      3    \n",
       "-Andres Galarraga   48    46  33    N      E         805     40      4    \n",
       "-Alfredo Griffin   501   336 194    A      W         282    421     25    \n",
       "-Al Newman          30     9  24    N      E          76    127      7    \n",
       "-Argenis Salazar    41    37  12    A      W         121    283      9    \n",
       "-Andres Thomas      32    34   8    N      W         143    290     19    \n",
       "-Andre Thornton    784   890 866    A      E           0      0      0    \n",
       "-Alan Trammell     702   504 488    A      E         238    445     22    \n",
       "-Alex Trevino      192   186 161    N      W         304     45     11    \n",
       "-Andy VanSlyke     205   204 203    N      E         211     11      7    \n",
       "-Alan Wiggins      309   103 207    A      E         121    151      6    \n",
       "-Bill Almon        376   290 238    N      E          80     45      8    \n",
       "-Billy Beane        20    16  11    A      W         118      0      0    \n",
       "-Buddy Bell       1045   993 732    N      W         105    290     10    \n",
       "-Buddy Biancalana   65    23  39    A      W         102    177     16    \n",
       "-Bruce Bochte      643   658 653    A      W         912     88      9    \n",
       "-Bruce Bochy        67    82  56    N      W         202     22      2    \n",
       "-Barry Bonds        72    48  65    N      E         280      9      5    \n",
       "-Bobby Bonilla      55    43  62    A      W         361     22      2    \n",
       "-Bob Boone           9     9   3    A      W         812     84     11    \n",
       "-Bob Brenly        242   251 240    N      W         518     55      3    \n",
       "-Bill Buckner     1008  1072 402    A      E        1067    157     14    \n",
       "-Brett Butler      442   198 317    A      E         434      9      3    \n",
       "-Bob Dernier       291   108 180    N      E         222      3      3    \n",
       "-Bo Diaz           246   327 166    N      W         732     83     13    \n",
       "-Bill Doran        349   182 308    N      W         262    329     16    \n",
       "-Brian Downing     763   734 784    A      W         267      5      3    \n",
       "...               ...   ...  ...    ...    ...      ...     ...     ...   \n",
       "-Toby Harrah      1115   919 1153   A      W         166    211      7    \n",
       "-Tommy Herr        421   349  359   N      E         352    414      9    \n",
       "-Tim Hulett        106    80   52   A      W          70    144     11    \n",
       "-Terry Kennedy       2     3    1   N      W         692     70      8    \n",
       "-Tito Landrum      105    99   71   N      E         131      6      1    \n",
       "-Tim Laudner       129   139  106   A      W         299     13      5    \n",
       "-Tom O'Malley       88    95  104   A      E          37     98      9    \n",
       "-Tom Paciorek      488   491  244   A      W         178     45      4    \n",
       "-Tony Pena         307   340  174   N      E         810     99     18    \n",
       "-Terry Pendleton   149   161   87   N      E         133    371     20    \n",
       "-Tony Perez       1272  1652  925   N      W         398     29      7    \n",
       "-Tony Phillips     226   149  191   A      W         160    290     11    \n",
       "-Terry Puhl        579   363  406   N      W          65      0      0    \n",
       "-Tim Raines        604   314  469   N      E         270     13      6    \n",
       "-Ted Simmons      1048  1348  819   N      W         167     18      6    \n",
       "-Tim Teufel        180   148  158   N      E         133    173      9    \n",
       "-Tim Wallach       338   406  239   N      E          94    270     16    \n",
       "-Vince Coleman     201    69  110   N      E         300     12      9    \n",
       "-Von Hayes         399   366  286   N      E        1182     96     13    \n",
       "-Vance Law         279   257  246   N      E         170    284      3    \n",
       "-Wally Backman     272   125  194   N      E         186    290     17    \n",
       "-Wade Boggs        474   322  417   A      E         121    267     19    \n",
       "-Will Clark         66    41   34   N      W         942     72     11    \n",
       "-Wally Joyner       82   100   57   A      W        1222    139     15    \n",
       "-Wayne Krenchicki  107   124  106   N      E         325     58      6    \n",
       "-Willie McGee      379   311  138   N      E         325      9      3    \n",
       "-Willie Randolph   897   451  875   A      E         313    381     20    \n",
       "-Wayne Tolleson    217    93  146   A      W          37    113      7    \n",
       "-Willie Upshaw     470   420  332   A      E        1314    131     12    \n",
       "-Willie Wilson     775   357  249   A      W         408      4      3    \n",
       "                  Salary   NewLeague\n",
       "-Andy Allanson          NA A        \n",
       "-Alan Ashby        475.000 N        \n",
       "-Alvin Davis       480.000 A        \n",
       "-Andre Dawson      500.000 N        \n",
       "-Andres Galarraga   91.500 N        \n",
       "-Alfredo Griffin   750.000 A        \n",
       "-Al Newman          70.000 A        \n",
       "-Argenis Salazar   100.000 A        \n",
       "-Andres Thomas      75.000 N        \n",
       "-Andre Thornton   1100.000 A        \n",
       "-Alan Trammell     517.143 A        \n",
       "-Alex Trevino      512.500 N        \n",
       "-Andy VanSlyke     550.000 N        \n",
       "-Alan Wiggins      700.000 A        \n",
       "-Bill Almon        240.000 N        \n",
       "-Billy Beane            NA A        \n",
       "-Buddy Bell        775.000 N        \n",
       "-Buddy Biancalana  175.000 A        \n",
       "-Bruce Bochte           NA A        \n",
       "-Bruce Bochy       135.000 N        \n",
       "-Barry Bonds       100.000 N        \n",
       "-Bobby Bonilla     115.000 N        \n",
       "-Bob Boone              NA A        \n",
       "-Bob Brenly        600.000 N        \n",
       "-Bill Buckner      776.667 A        \n",
       "-Brett Butler      765.000 A        \n",
       "-Bob Dernier       708.333 N        \n",
       "-Bo Diaz           750.000 N        \n",
       "-Bill Doran        625.000 N        \n",
       "-Brian Downing     900.000 A        \n",
       "...               ...      ...      \n",
       "-Toby Harrah            NA A        \n",
       "-Tommy Herr        925.000 N        \n",
       "-Tim Hulett        185.000 A        \n",
       "-Terry Kennedy     920.000 A        \n",
       "-Tito Landrum      286.667 N        \n",
       "-Tim Laudner       245.000 A        \n",
       "-Tom O'Malley           NA A        \n",
       "-Tom Paciorek      235.000 A        \n",
       "-Tony Pena        1150.000 N        \n",
       "-Terry Pendleton   160.000 N        \n",
       "-Tony Perez             NA N        \n",
       "-Tony Phillips     425.000 A        \n",
       "-Terry Puhl        900.000 N        \n",
       "-Tim Raines             NA N        \n",
       "-Ted Simmons       500.000 N        \n",
       "-Tim Teufel        277.500 N        \n",
       "-Tim Wallach       750.000 N        \n",
       "-Vince Coleman     160.000 N        \n",
       "-Von Hayes        1300.000 N        \n",
       "-Vance Law         525.000 N        \n",
       "-Wally Backman     550.000 N        \n",
       "-Wade Boggs       1600.000 A        \n",
       "-Will Clark        120.000 N        \n",
       "-Wally Joyner      165.000 A        \n",
       "-Wayne Krenchicki       NA N        \n",
       "-Willie McGee      700.000 N        \n",
       "-Willie Randolph   875.000 A        \n",
       "-Wayne Tolleson    385.000 A        \n",
       "-Willie Upshaw     960.000 A        \n",
       "-Willie Wilson    1000.000 A        "
      ]
     },
     "metadata": {},
     "output_type": "display_data"
    }
   ],
   "source": [
    "Hitters"
   ]
  },
  {
   "cell_type": "markdown",
   "metadata": {},
   "source": [
    "(a) Remove the observations for whom the salary information is unknown, and then log-transform the salaries."
   ]
  },
  {
   "cell_type": "code",
   "execution_count": 34,
   "metadata": {},
   "outputs": [],
   "source": [
    "Hitters <- na.omit(Hitters)\n",
    "Hitters$Salary <- log(Hitters$Salary)"
   ]
  },
  {
   "cell_type": "markdown",
   "metadata": {},
   "source": [
    "(b) Create a training set consisting of the first 200 observations, and a test set consisting of the remaining observations."
   ]
  },
  {
   "cell_type": "code",
   "execution_count": 58,
   "metadata": {},
   "outputs": [],
   "source": [
    "train <- 1:200\n",
    "Hitters.train <- Hitters[train, ]\n",
    "Hitters.test <- Hitters[-train, ]"
   ]
  },
  {
   "cell_type": "markdown",
   "metadata": {},
   "source": [
    "(c) Perform boosting on the training set with 1000 trees for a range of values of the shrinkage parameter λ. Produce a plot with different shrinkage values on the x-axis and the corresponding training set MSE on the y-axis."
   ]
  },
  {
   "cell_type": "code",
   "execution_count": 37,
   "metadata": {},
   "outputs": [
    {
     "name": "stderr",
     "output_type": "stream",
     "text": [
      "Warning message:\n",
      "\"package 'gbm' is in use and will not be installed\""
     ]
    },
    {
     "ename": "ERROR",
     "evalue": "Error in eval(expr, envir, enclos): object 'pows' not found\n",
     "output_type": "error",
     "traceback": [
      "Error in eval(expr, envir, enclos): object 'pows' not found\nTraceback:\n"
     ]
    }
   ],
   "source": [
    "install.packages(\"gbm\")\n",
    "library(gbm)\n",
    "set.seed(21)\n",
    "power <- seq(-10, -0.2, by = 0.1)\n",
    "lambdas <- 10^pows\n",
    "errors <- rep(NA, length(lambdas))\n",
    "for (i in 1:length(lambdas)) {\n",
    "    boost.hitters <- gbm(Salary ~ ., data = Hitters.train, distribution = \"gaussian\", n.trees = 1000, shrinkage = lambdas[i])\n",
    "    pred.train <- predict(boost.hitters, Hitters.train, n.trees = 1000)\n",
    "    errors[i] <- mean((pred.train - Hitters.train$Salary)^2)\n",
    "}\n",
    "plot(lambdas, errors, type = \"b\", xlab = \"Shrinkage\", ylab = \"Training Errors\")"
   ]
  },
  {
   "cell_type": "markdown",
   "metadata": {},
   "source": [
    "(d) Produce a plot with different shrinkage values on the x-axis and the corresponding test set MSE on the y-axis."
   ]
  },
  {
   "cell_type": "code",
   "execution_count": 62,
   "metadata": {},
   "outputs": [
    {
     "data": {
      "image/png": "[encoded data removed]",
      "text/plain": [
       "plot without title"
      ]
     },
     "metadata": {},
     "output_type": "display_data"
    }
   ],
   "source": [
    "set.seed(1)\n",
    "pows <- seq(-10, -0.2, by = 0.1)\n",
    "lambdas <- 10^pows\n",
    "errors <- rep(NA, length(lambdas))\n",
    "for (i in 1:length(lambdas)) {\n",
    "    boost.hitters <- gbm(Salary ~ ., data = Hitters.train, distribution = \"gaussian\", n.trees = 1000, shrinkage = lambdas[i])\n",
    "    yhat <- predict(boost.hitters, Hitters.test, n.trees = 1000)\n",
    "    errors[i] <- mean((yhat - Hitters.test$Salary)^2)\n",
    "}\n",
    "plot(lambdas, errors, type = \"b\", xlab = \"Shrinkage values\", ylab = \"Test MSE\")"
   ]
  },
  {
   "cell_type": "code",
   "execution_count": 63,
   "metadata": {},
   "outputs": [
    {
     "data": {
      "text/html": [
       "0.254026510444201"
      ],
      "text/latex": [
       "0.254026510444201"
      ],
      "text/markdown": [
       "0.254026510444201"
      ],
      "text/plain": [
       "[1] 0.2540265"
      ]
     },
     "metadata": {},
     "output_type": "display_data"
    }
   ],
   "source": [
    "min(errors)"
   ]
  },
  {
   "cell_type": "code",
   "execution_count": 64,
   "metadata": {},
   "outputs": [
    {
     "data": {
      "text/html": [
       "0.0794328234724282"
      ],
      "text/latex": [
       "0.0794328234724282"
      ],
      "text/markdown": [
       "0.0794328234724282"
      ],
      "text/plain": [
       "[1] 0.07943282"
      ]
     },
     "metadata": {},
     "output_type": "display_data"
    }
   ],
   "source": [
    "lambdas[which.min(errors)]"
   ]
  },
  {
   "cell_type": "raw",
   "metadata": {},
   "source": [
    "The minimum test MSE is 0.079 and is obtained for a value of shrinkage λ=0.079."
   ]
  },
  {
   "cell_type": "markdown",
   "metadata": {},
   "source": [
    "(e) Compare the test MSE of boosting to the test MSE that results from applying two of the regression approaches seen in Chapters 3 and 6."
   ]
  },
  {
   "cell_type": "code",
   "execution_count": 51,
   "metadata": {},
   "outputs": [
    {
     "name": "stderr",
     "output_type": "stream",
     "text": [
      "Warning message:\n",
      "\"package 'glmnet' was built under R version 3.6.3\"Loading required package: Matrix\n",
      "Warning message:\n",
      "\"package 'Matrix' was built under R version 3.6.3\"Loaded glmnet 4.1\n"
     ]
    }
   ],
   "source": [
    "library(glmnet)"
   ]
  },
  {
   "cell_type": "code",
   "execution_count": 52,
   "metadata": {},
   "outputs": [
    {
     "data": {
      "text/html": [
       "0.491795937545494"
      ],
      "text/latex": [
       "0.491795937545494"
      ],
      "text/markdown": [
       "0.491795937545494"
      ],
      "text/plain": [
       "[1] 0.4917959"
      ]
     },
     "metadata": {},
     "output_type": "display_data"
    }
   ],
   "source": [
    "# Linear regression\n",
    "reg <- lm(Salary ~ ., data = Hitters.train)\n",
    "pred1 <- predict(reg, Hitters.test)\n",
    "mean((pred1 - Hitters.test$Salary)^2)"
   ]
  },
  {
   "cell_type": "code",
   "execution_count": 53,
   "metadata": {},
   "outputs": [
    {
     "data": {
      "text/html": [
       "0.457028250141243"
      ],
      "text/latex": [
       "0.457028250141243"
      ],
      "text/markdown": [
       "0.457028250141243"
      ],
      "text/plain": [
       "[1] 0.4570283"
      ]
     },
     "metadata": {},
     "output_type": "display_data"
    }
   ],
   "source": [
    "# Ridge regression\n",
    "x = model.matrix(Salary ~ ., data = Hitters.train)\n",
    "x.test = model.matrix(Salary ~ ., data = Hitters.test)\n",
    "y = Hitters.train$Salary\n",
    "ridge = glmnet(x, y, alpha = 0)\n",
    "pred2 = predict(ridge, s = 0.01, newx = x.test)\n",
    "mean((pred2 - Hitters.test$Salary)^2)"
   ]
  },
  {
   "cell_type": "raw",
   "metadata": {},
   "source": [
    "The boosting method perfroms better than the regession and the ridge method in terms of train errors."
   ]
  },
  {
   "cell_type": "markdown",
   "metadata": {},
   "source": [
    "(f) Which variables appear to be the most important predictors in the boosted model?"
   ]
  },
  {
   "cell_type": "code",
   "execution_count": 56,
   "metadata": {},
   "outputs": [
    {
     "data": {
      "text/html": [
       "<table>\n",
       "<thead><tr><th></th><th scope=col>var</th><th scope=col>rel.inf</th></tr></thead>\n",
       "<tbody>\n",
       "\t<tr><th scope=row>CAtBat</th><td>CAtBat   </td><td>73.177078</td></tr>\n",
       "\t<tr><th scope=row>CHits</th><td>CHits    </td><td> 9.548383</td></tr>\n",
       "\t<tr><th scope=row>CRuns</th><td>CRuns    </td><td> 6.987957</td></tr>\n",
       "\t<tr><th scope=row>CWalks</th><td>CWalks   </td><td> 5.694491</td></tr>\n",
       "\t<tr><th scope=row>CRBI</th><td>CRBI     </td><td> 4.592092</td></tr>\n",
       "\t<tr><th scope=row>AtBat</th><td>AtBat    </td><td> 0.000000</td></tr>\n",
       "\t<tr><th scope=row>Hits</th><td>Hits     </td><td> 0.000000</td></tr>\n",
       "\t<tr><th scope=row>HmRun</th><td>HmRun    </td><td> 0.000000</td></tr>\n",
       "\t<tr><th scope=row>Runs</th><td>Runs     </td><td> 0.000000</td></tr>\n",
       "\t<tr><th scope=row>RBI</th><td>RBI      </td><td> 0.000000</td></tr>\n",
       "\t<tr><th scope=row>Walks</th><td>Walks    </td><td> 0.000000</td></tr>\n",
       "\t<tr><th scope=row>Years</th><td>Years    </td><td> 0.000000</td></tr>\n",
       "\t<tr><th scope=row>CHmRun</th><td>CHmRun   </td><td> 0.000000</td></tr>\n",
       "\t<tr><th scope=row>League</th><td>League   </td><td> 0.000000</td></tr>\n",
       "\t<tr><th scope=row>Division</th><td>Division </td><td> 0.000000</td></tr>\n",
       "\t<tr><th scope=row>PutOuts</th><td>PutOuts  </td><td> 0.000000</td></tr>\n",
       "\t<tr><th scope=row>Assists</th><td>Assists  </td><td> 0.000000</td></tr>\n",
       "\t<tr><th scope=row>Errors</th><td>Errors   </td><td> 0.000000</td></tr>\n",
       "\t<tr><th scope=row>NewLeague</th><td>NewLeague</td><td> 0.000000</td></tr>\n",
       "</tbody>\n",
       "</table>\n"
      ],
      "text/latex": [
       "\\begin{tabular}{r|ll}\n",
       "  & var & rel.inf\\\\\n",
       "\\hline\n",
       "\tCAtBat & CAtBat    & 73.177078\\\\\n",
       "\tCHits & CHits     &  9.548383\\\\\n",
       "\tCRuns & CRuns     &  6.987957\\\\\n",
       "\tCWalks & CWalks    &  5.694491\\\\\n",
       "\tCRBI & CRBI      &  4.592092\\\\\n",
       "\tAtBat & AtBat     &  0.000000\\\\\n",
       "\tHits & Hits      &  0.000000\\\\\n",
       "\tHmRun & HmRun     &  0.000000\\\\\n",
       "\tRuns & Runs      &  0.000000\\\\\n",
       "\tRBI & RBI       &  0.000000\\\\\n",
       "\tWalks & Walks     &  0.000000\\\\\n",
       "\tYears & Years     &  0.000000\\\\\n",
       "\tCHmRun & CHmRun    &  0.000000\\\\\n",
       "\tLeague & League    &  0.000000\\\\\n",
       "\tDivision & Division  &  0.000000\\\\\n",
       "\tPutOuts & PutOuts   &  0.000000\\\\\n",
       "\tAssists & Assists   &  0.000000\\\\\n",
       "\tErrors & Errors    &  0.000000\\\\\n",
       "\tNewLeague & NewLeague &  0.000000\\\\\n",
       "\\end{tabular}\n"
      ],
      "text/markdown": [
       "\n",
       "| <!--/--> | var | rel.inf |\n",
       "|---|---|---|\n",
       "| CAtBat | CAtBat    | 73.177078 |\n",
       "| CHits | CHits     |  9.548383 |\n",
       "| CRuns | CRuns     |  6.987957 |\n",
       "| CWalks | CWalks    |  5.694491 |\n",
       "| CRBI | CRBI      |  4.592092 |\n",
       "| AtBat | AtBat     |  0.000000 |\n",
       "| Hits | Hits      |  0.000000 |\n",
       "| HmRun | HmRun     |  0.000000 |\n",
       "| Runs | Runs      |  0.000000 |\n",
       "| RBI | RBI       |  0.000000 |\n",
       "| Walks | Walks     |  0.000000 |\n",
       "| Years | Years     |  0.000000 |\n",
       "| CHmRun | CHmRun    |  0.000000 |\n",
       "| League | League    |  0.000000 |\n",
       "| Division | Division  |  0.000000 |\n",
       "| PutOuts | PutOuts   |  0.000000 |\n",
       "| Assists | Assists   |  0.000000 |\n",
       "| Errors | Errors    |  0.000000 |\n",
       "| NewLeague | NewLeague |  0.000000 |\n",
       "\n"
      ],
      "text/plain": [
       "          var       rel.inf  \n",
       "CAtBat    CAtBat    73.177078\n",
       "CHits     CHits      9.548383\n",
       "CRuns     CRuns      6.987957\n",
       "CWalks    CWalks     5.694491\n",
       "CRBI      CRBI       4.592092\n",
       "AtBat     AtBat      0.000000\n",
       "Hits      Hits       0.000000\n",
       "HmRun     HmRun      0.000000\n",
       "Runs      Runs       0.000000\n",
       "RBI       RBI        0.000000\n",
       "Walks     Walks      0.000000\n",
       "Years     Years      0.000000\n",
       "CHmRun    CHmRun     0.000000\n",
       "League    League     0.000000\n",
       "Division  Division   0.000000\n",
       "PutOuts   PutOuts    0.000000\n",
       "Assists   Assists    0.000000\n",
       "Errors    Errors     0.000000\n",
       "NewLeague NewLeague  0.000000"
      ]
     },
     "metadata": {},
     "output_type": "display_data"
    },
    {
     "data": {
      "image/png": "[encoded data removed]",
      "text/plain": [
       "plot without title"
      ]
     },
     "metadata": {},
     "output_type": "display_data"
    }
   ],
   "source": [
    "boost.hitters <- gbm(Salary ~ ., data = Hitters.train, distribution = \"gaussian\", n.trees = 1000, shrinkage = lambdas[which.min(errors)])\n",
    "summary(boost.hitters)"
   ]
  },
  {
   "cell_type": "raw",
   "metadata": {},
   "source": [
    "The most important variable is CAtBat"
   ]
  },
  {
   "cell_type": "markdown",
   "metadata": {},
   "source": [
    "(g) Now apply bagging to the training set. What is the test set MSE for this approach ?"
   ]
  },
  {
   "cell_type": "code",
   "execution_count": 61,
   "metadata": {},
   "outputs": [
    {
     "data": {
      "text/html": [
       "0.22993242086693"
      ],
      "text/latex": [
       "0.22993242086693"
      ],
      "text/markdown": [
       "0.22993242086693"
      ],
      "text/plain": [
       "[1] 0.2299324"
      ]
     },
     "metadata": {},
     "output_type": "display_data"
    }
   ],
   "source": [
    "set.seed(1)\n",
    "bag.hitters <- randomForest(Salary ~ ., data = Hitters.train, mtry = 19, ntree = 500)\n",
    "yhat.bag <- predict(bag.hitters, newdata = Hitters.test)\n",
    "mean((yhat.bag - Hitters.test$Salary)^2)"
   ]
  },
  {
   "cell_type": "code",
   "execution_count": null,
   "metadata": {},
   "outputs": [],
   "source": [
    "The test set error is 0.2299"
   ]
  }
 ],
 "metadata": {
  "kernelspec": {
   "display_name": "R",
   "language": "R",
   "name": "ir"
  },
  "language_info": {
   "codemirror_mode": "r",
   "file_extension": ".r",
   "mimetype": "text/x-r-source",
   "name": "R",
   "pygments_lexer": "r",
   "version": "3.6.1"
  }
 },
 "nbformat": 4,
 "nbformat_minor": 4
}
